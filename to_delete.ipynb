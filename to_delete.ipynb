{
 "cells": [
  {
   "metadata": {
    "ExecuteTime": {
     "end_time": "2025-08-30T20:59:04.801631Z",
     "start_time": "2025-08-30T20:59:04.145317Z"
    }
   },
   "cell_type": "code",
   "source": [
    "import numpy as np\n",
    "\n",
    "from src.turbofan import Turbofan\n",
    "\n",
    "config_ex22 = {\n",
    "        \"mach\": 0.85,\n",
    "        \"t_a\": 216.7,\n",
    "        \"p_a\": 18.75,\n",
    "\n",
    "        # Eficiências e Gammas\n",
    "        \"eta_inlet\": 0.97,\n",
    "        \"gamma_inlet\": 1.4,\n",
    "        \"eta_fan\": 0.85,\n",
    "        \"gamma_fan\": 1.4,\n",
    "        \"eta_compressor\": 0.85,\n",
    "        \"gamma_compressor\": 1.37,\n",
    "        \"eta_camara\": 1,\n",
    "        \"gamma_camara\": 1.35,\n",
    "        \"eta_turbina_compressor\": 0.9,\n",
    "        \"gamma_turbina_compressor\": 1.33,\n",
    "        \"eta_turbina_fan\": 0.9,\n",
    "        \"gamma_turbina_fan\": 1.33,\n",
    "        \"eta_bocal_quente\": 0.98,\n",
    "        \"gamma_bocal_quente\": 1.36,\n",
    "        \"eta_bocal_fan\": 0.98,\n",
    "        \"gamma_bocal_fan\": 1.4,\n",
    "\n",
    "        # Dados operacionais\n",
    "        \"bpr\": 5,\n",
    "        \"prf\": 1.5,\n",
    "        \"prc\": 20,\n",
    "        \"hydrogen_fraction\": 0.0,\n",
    "        \"pressure_loss_factor\": 1.0,\n",
    "        \"kerosene_PCI\": 45e3,  # kJ/kg\n",
    "        \"hydrogen_PCI\": 120e3,  # kJ/kg\n",
    "        \"mean_R_air\": 288.3,  # (m^2 / (s^2*K))\n",
    "        \"Cp\": 1.11,  # (kJ / (kg*K))\n",
    "        \"T04\": 1600,  # (K)\n",
    "    }\n",
    "\n",
    "config_andre = {\n",
    "        \"mach\": 0.0,\n",
    "        \"altitude\": 0.0,\n",
    "        \"t_a\": 288.15,\n",
    "        \"p_a\": 101.33,\n",
    "\n",
    "        # Eficiências e Gammas\n",
    "        \"eta_inlet\": 0.97,\n",
    "        \"gamma_inlet\": 1.4,\n",
    "        \"eta_fan\": 0.85,\n",
    "        \"gamma_fan\": 1.4,\n",
    "        \"eta_compressor\": 0.85,\n",
    "        \"gamma_compressor\": 1.37,\n",
    "        \"eta_camara\": 1,\n",
    "        \"gamma_camara\": 1.35,\n",
    "        \"eta_turbina_compressor\": 0.9,\n",
    "        \"gamma_turbina_compressor\": 1.33,\n",
    "        \"eta_turbina_fan\": 0.9,\n",
    "        \"gamma_turbina_fan\": 1.33,\n",
    "        \"eta_bocal_quente\": 0.98,\n",
    "        \"gamma_bocal_quente\": 1.36,\n",
    "        \"eta_bocal_fan\": 0.98,\n",
    "        \"gamma_bocal_fan\": 1.4,\n",
    "\n",
    "        # Dados operacionais\n",
    "        \"bpr\": 5.0,\n",
    "        \"prf\": 1.5,\n",
    "        \"prc\": 19.0867,\n",
    "        \"hydrogen_fraction\": 0.0,\n",
    "        \"pressure_loss_factor\": 1.0,\n",
    "        \"kerosene_PCI\": 45e3,  # kJ/kg\n",
    "        \"hydrogen_PCI\": 120e3,  # kJ/kg\n",
    "        \"mean_R_air\": 288.3,  # (m^2 / (s^2*K))\n",
    "        \"Cp\": 1.11,  # (kJ / (kg*K))\n",
    "        \"T04\": 1750,  # (K)\n",
    "    }\n",
    "\n",
    "config_teste1 = {\n",
    "        \"mach\": 0.0,\n",
    "        \"t_a\": 288.15,\n",
    "        \"p_a\": 101.63,\n",
    "\n",
    "        # Eficiências e Gammas\n",
    "        \"eta_inlet\": 0.97,\n",
    "        \"gamma_inlet\": 1.4,\n",
    "        \"eta_fan\": 0.92,\n",
    "        \"gamma_fan\": 1.4,\n",
    "        \"eta_compressor\": 0.9,\n",
    "        \"gamma_compressor\": 1.37,\n",
    "        \"eta_camara\": 1,\n",
    "        \"gamma_camara\": 1.35,\n",
    "        \"eta_turbina_compressor\": 0.93,\n",
    "        \"gamma_turbina_compressor\": 1.33,\n",
    "        \"eta_turbina_fan\": 0.93,\n",
    "        \"gamma_turbina_fan\": 1.33,\n",
    "        \"eta_bocal_quente\": 0.98,\n",
    "        \"gamma_bocal_quente\": 1.36,\n",
    "        \"eta_bocal_fan\": 0.98,\n",
    "        \"gamma_bocal_fan\": 1.4,\n",
    "\n",
    "        # Dados operacionais\n",
    "        \"bpr\": 10.5,\n",
    "        \"prf\": 1.5,\n",
    "        \"prc\": 25.5,\n",
    "        \"hydrogen_fraction\": 0.0,\n",
    "        \"pressure_loss_factor\": 1.0,\n",
    "        \"kerosene_PCI\": 45e3,  # kJ/kg\n",
    "        \"hydrogen_PCI\": 120e3,  # kJ/kg\n",
    "        \"mean_R_air\": 288.3,  # (m^2 / (s^2*K))\n",
    "        \"Cp\": 1.11,  # (kJ / (kg*K))\n",
    "        \"T04\": 1750,  # (K)\n",
    "    }"
   ],
   "id": "2988f25fb091c5c5",
   "outputs": [],
   "execution_count": 1
  },
  {
   "metadata": {},
   "cell_type": "markdown",
   "source": "### Validação 1: Exemplo 2.2",
   "id": "90a17f4a6e1c6d3b"
  },
  {
   "metadata": {
    "ExecuteTime": {
     "end_time": "2025-08-30T20:59:04.814617Z",
     "start_time": "2025-08-30T20:59:04.806955Z"
    }
   },
   "cell_type": "code",
   "source": [
    "turbofan = Turbofan(config_ex22)\n",
    "turbofan.set_air_flow(533)\n",
    "turbofan.print_outputs()"
   ],
   "id": "2dc678b7456b8eea",
   "outputs": [
    {
     "name": "stdout",
     "output_type": "stream",
     "text": [
      "--- Resultados da Simulação do Motor ---\n",
      "\n",
      "[ Estações do Motor ]\n",
      "Estação         | Temp. Total (K)      | Pressão Total (kPa) \n",
      "-------------------------------------------------------------\n",
      "2 (Inlet)       | 248.013              | 29.675              \n",
      "8 (Fan)         | 283.851              | 44.512              \n",
      "3 (Compressor)  | 699.879              | 890.245             \n",
      "4 (Câmara)      | 1600.000             | 890.245             \n",
      "5 (Turbina Comp.) | 1183.971             | 225.281             \n",
      "6 (Turbina Fan) | 968.945              | 90.828              \n",
      "\n",
      "[ Velocidades de Saída ]\n",
      "Velocidade de Voo (u_0)         : 251.382 m/s\n",
      "Velocidade Bocal Quente (u_core): 840.335 m/s\n",
      "Velocidade Bocal Frio (u_fan)   : 350.532 m/s\n",
      "\n",
      "[ Performance Geral ]\n",
      "Razão Combustível/Ar (f)        : 0.02312\n",
      "Empuxo Específico               : 1.104 kN/(kg/s)\n",
      "Consumo Específico (TSFC)       : 20.93535 kg/(s*kN)\n",
      "Empuxo Total                    : 98.083 kN\n",
      "Consumo de Combustível          : 2.053 kg/s\n",
      "\n",
      "-------------------------------------------------------------\n"
     ]
    }
   ],
   "execution_count": 2
  },
  {
   "metadata": {},
   "cell_type": "markdown",
   "source": "### Teste 1 de PRP-38",
   "id": "743d75be05e84819"
  },
  {
   "metadata": {
    "ExecuteTime": {
     "end_time": "2025-08-30T20:59:04.829012Z",
     "start_time": "2025-08-30T20:59:04.825155Z"
    }
   },
   "cell_type": "code",
   "source": [
    "turbofan = Turbofan(config_teste1)\n",
    "turbofan.set_air_flow(533)\n",
    "turbofan.print_outputs()"
   ],
   "id": "2d0fa9f33e4ccb33",
   "outputs": [
    {
     "name": "stdout",
     "output_type": "stream",
     "text": [
      "--- Resultados da Simulação do Motor ---\n",
      "\n",
      "[ Estações do Motor ]\n",
      "Estação         | Temp. Total (K)      | Pressão Total (kPa) \n",
      "-------------------------------------------------------------\n",
      "2 (Inlet)       | 288.150              | 101.630             \n",
      "8 (Fan)         | 326.619              | 152.445             \n",
      "3 (Compressor)  | 834.007              | 3887.347            \n",
      "4 (Câmara)      | 1750.000             | 3887.347            \n",
      "5 (Turbina Comp.) | 1242.613             | 862.381             \n",
      "6 (Turbina Fan) | 800.215              | 123.309             \n",
      "\n",
      "[ Velocidades de Saída ]\n",
      "Velocidade de Voo (u_0)         : 0.000 m/s\n",
      "Velocidade Bocal Quente (u_core): 291.946 m/s\n",
      "Velocidade Bocal Frio (u_fan)   : 265.822 m/s\n",
      "\n",
      "[ Performance Geral ]\n",
      "Razão Combustível/Ar (f)        : 0.02361\n",
      "Empuxo Específico               : 3.090 kN/(kg/s)\n",
      "Consumo Específico (TSFC)       : 7.64208 kg/(s*kN)\n",
      "Empuxo Total                    : 143.214 kN\n",
      "Consumo de Combustível          : 1.094 kg/s\n",
      "\n",
      "-------------------------------------------------------------\n"
     ]
    }
   ],
   "execution_count": 3
  },
  {
   "metadata": {},
   "cell_type": "markdown",
   "source": "### TG: CFM56-7B27",
   "id": "5f381b547efaf96"
  },
  {
   "metadata": {
    "ExecuteTime": {
     "end_time": "2025-08-30T20:59:05.256867Z",
     "start_time": "2025-08-30T20:59:04.850875Z"
    }
   },
   "cell_type": "code",
   "source": [
    "turbofan = Turbofan(config_andre)\n",
    "turbofan.set_air_flow(100)\n",
    "rated_thrust = 121.4  # kN\n",
    "fuel_flow = 1.293  # kg/s\n",
    "optimization_status = turbofan.calibrate_turbofan(rated_thrust, fuel_flow)\n",
    "turbofan.print_config()\n",
    "turbofan.plot_calibration_result(fuel_flow / rated_thrust)\n",
    "optimization_status"
   ],
   "id": "ec4a46427e370e6d",
   "outputs": [
    {
     "name": "stdout",
     "output_type": "stream",
     "text": [
      "--- Configuração do Motor Turbofan ---\n",
      "\n",
      "[ Condições de Voo e Ambiente ]\n",
      "Mach de voo                 : 0.000\n",
      "Altitude                    : 0.000 ft\n",
      "Temperatura Ambiente (T_a)  : 288.150 K\n",
      "Pressão Ambiente (P_a)      : 101.330 kPa\n",
      "\n",
      "[ Parâmetros Operacionais ]\n",
      "Bypass Ratio (BPR)          : 5.000\n",
      "Razão de Pressão - Fan (Prf): 1.500\n",
      "Razão de Pressão - Comp. (Prc): 19.087\n",
      "Temp. Entrada Turbina (T04) : 1556.359 K\n",
      "Vazão de Ar Total           : 401.035 kg/s\n",
      "\n",
      "[ Propriedades dos Componentes ]\n",
      "Componente                | Eficiência (eta)     | Gamma          \n",
      "------------------------------------------------------------------\n",
      "Inlet                     | 0.970                | 1.400          \n",
      "Fan                       | 0.850                | 1.400          \n",
      "Compressor                | 0.850                | 1.370          \n",
      "Câmara de Combustão       | 1.000                | 1.350          \n",
      "Turbina do Compressor     | 0.900                | 1.330          \n",
      "Turbina do Fan            | 0.900                | 1.330          \n",
      "Bocal Quente              | 0.980                | 1.360          \n",
      "Bocal Frio (Fan)          | 0.980                | 1.400          \n",
      "\n",
      "------------------------------------------------------------------\n",
      "Calculando TSFC para visualização...\n"
     ]
    },
    {
     "data": {
      "application/vnd.plotly.v1+json": {
       "data": [
        {
         "hovertemplate": "T04 (K)=%{x}<br>TSFC (kg/s/kN)=%{y}<extra></extra>",
         "legendgroup": "",
         "line": {
          "color": "#636efa",
          "dash": "solid"
         },
         "marker": {
          "symbol": "circle"
         },
         "mode": "lines",
         "name": "",
         "orientation": "v",
         "showlegend": false,
         "x": {
          "dtype": "i4",
          "bdata": "sAQAALoEAADEBAAAzgQAANgEAADiBAAA7AQAAPYEAAAABQAACgUAABQFAAAeBQAAKAUAADIFAAA8BQAARgUAAFAFAABaBQAAZAUAAG4FAAB4BQAAggUAAIwFAACWBQAAoAUAAKoFAAC0BQAAvgUAAMgFAADSBQAA3AUAAOYFAADwBQAA+gUAAAQGAAAOBgAAGAYAACIGAAAsBgAANgYAAEAGAABKBgAAVAYAAF4GAABoBgAAcgYAAHwGAACGBgAAkAYAAJoGAACkBgAArgYAALgGAADCBgAAzAYAANYGAADgBgAA6gYAAPQGAAD+BgAACAcAABIHAAAcBwAAJgcAADAHAAA6BwAARAcAAE4HAABYBwAAYgcAAGwHAAB2BwAAgAcAAIoHAACUBwAAngcAAKgHAACyBwAAvAcAAMYHAAA="
         },
         "xaxis": "x",
         "y": {
          "dtype": "f8",
          "bdata": "QEK6qcACfz97w3IXZcx/P79KYeMRS4A/MnNlXv6vgD84HVf/9xSBPz02yMj+eYE/NldLvRLfgT/KxHPfM0SCP51v1TFiqYI/e/QEt50Ogz+VnJdx5nODP7JdI2Q82YM/ddo+kZ8+hD+LYoH7D6SEP+bygqWNCYU/9jXckRhvhT/igybDsNSFP7/i+ztWOoY/zQb3/gighj+tUrMOyQWHP5WuyySIu4U/Z9DgLYxMhT+9xCbanheFP0Dbpn+x/IQ/5tMv8P7whD+BvUJjZu+EP2rSurYD9YQ/iEGQcggAhT/8hzK2Pg+FP2RSZQ/MIYU/Z45+bhA3hT8PJUbrkk6FP1urHur1Z4U/BFH3dO+ChT+BKAEaRJ+FPwq/El/DvIU/EED5O0XbhT826PNEqPqFP+1mZE7QGoY/05fXZaU7hj9lhWIIE12GP00k34UHf4Y/WA2HhXOhhj8xf7qjScSGPyIiBSN+54Y/BN8ErAYLhz9s7vMY2i6HP9+0Y0rwUoc/i8JKA0J3hz/H6/XKyJuHP0gnvtN+wIc/CHSi5V7lhz+Z5hNMZAqIP+T+ZcaKL4g/nExxes5UiD+pMwzpK3qIP1LIDuSfn4g/pVOkhSfFiD/66bcowOqIP+IzUmJnEIk/sJPF+xo2iT+9iYvt2FuJP6zkulqfgYk/6iACjWyniT+AgxTxPs2JP7EbexMV84k/SAS9ne0Yij+0ENRTxz6KP7CY5BGhZIo/Tl8wynmKij9ZqD2DULCKP6F7LFYk1oo/Md40bfT7ij/4dUkCwCGLPxye2l2GR4s/hnG21UZtiz8ZvQLMAJOLPxkpTq6zuIs/pTq29F7eiz9SFCAhAgSMPw=="
         },
         "yaxis": "y",
         "type": "scatter"
        }
       ],
       "layout": {
        "template": {
         "data": {
          "histogram2dcontour": [
           {
            "type": "histogram2dcontour",
            "colorbar": {
             "outlinewidth": 0,
             "ticks": ""
            },
            "colorscale": [
             [
              0.0,
              "#0d0887"
             ],
             [
              0.1111111111111111,
              "#46039f"
             ],
             [
              0.2222222222222222,
              "#7201a8"
             ],
             [
              0.3333333333333333,
              "#9c179e"
             ],
             [
              0.4444444444444444,
              "#bd3786"
             ],
             [
              0.5555555555555556,
              "#d8576b"
             ],
             [
              0.6666666666666666,
              "#ed7953"
             ],
             [
              0.7777777777777778,
              "#fb9f3a"
             ],
             [
              0.8888888888888888,
              "#fdca26"
             ],
             [
              1.0,
              "#f0f921"
             ]
            ]
           }
          ],
          "choropleth": [
           {
            "type": "choropleth",
            "colorbar": {
             "outlinewidth": 0,
             "ticks": ""
            }
           }
          ],
          "histogram2d": [
           {
            "type": "histogram2d",
            "colorbar": {
             "outlinewidth": 0,
             "ticks": ""
            },
            "colorscale": [
             [
              0.0,
              "#0d0887"
             ],
             [
              0.1111111111111111,
              "#46039f"
             ],
             [
              0.2222222222222222,
              "#7201a8"
             ],
             [
              0.3333333333333333,
              "#9c179e"
             ],
             [
              0.4444444444444444,
              "#bd3786"
             ],
             [
              0.5555555555555556,
              "#d8576b"
             ],
             [
              0.6666666666666666,
              "#ed7953"
             ],
             [
              0.7777777777777778,
              "#fb9f3a"
             ],
             [
              0.8888888888888888,
              "#fdca26"
             ],
             [
              1.0,
              "#f0f921"
             ]
            ]
           }
          ],
          "heatmap": [
           {
            "type": "heatmap",
            "colorbar": {
             "outlinewidth": 0,
             "ticks": ""
            },
            "colorscale": [
             [
              0.0,
              "#0d0887"
             ],
             [
              0.1111111111111111,
              "#46039f"
             ],
             [
              0.2222222222222222,
              "#7201a8"
             ],
             [
              0.3333333333333333,
              "#9c179e"
             ],
             [
              0.4444444444444444,
              "#bd3786"
             ],
             [
              0.5555555555555556,
              "#d8576b"
             ],
             [
              0.6666666666666666,
              "#ed7953"
             ],
             [
              0.7777777777777778,
              "#fb9f3a"
             ],
             [
              0.8888888888888888,
              "#fdca26"
             ],
             [
              1.0,
              "#f0f921"
             ]
            ]
           }
          ],
          "contourcarpet": [
           {
            "type": "contourcarpet",
            "colorbar": {
             "outlinewidth": 0,
             "ticks": ""
            }
           }
          ],
          "contour": [
           {
            "type": "contour",
            "colorbar": {
             "outlinewidth": 0,
             "ticks": ""
            },
            "colorscale": [
             [
              0.0,
              "#0d0887"
             ],
             [
              0.1111111111111111,
              "#46039f"
             ],
             [
              0.2222222222222222,
              "#7201a8"
             ],
             [
              0.3333333333333333,
              "#9c179e"
             ],
             [
              0.4444444444444444,
              "#bd3786"
             ],
             [
              0.5555555555555556,
              "#d8576b"
             ],
             [
              0.6666666666666666,
              "#ed7953"
             ],
             [
              0.7777777777777778,
              "#fb9f3a"
             ],
             [
              0.8888888888888888,
              "#fdca26"
             ],
             [
              1.0,
              "#f0f921"
             ]
            ]
           }
          ],
          "surface": [
           {
            "type": "surface",
            "colorbar": {
             "outlinewidth": 0,
             "ticks": ""
            },
            "colorscale": [
             [
              0.0,
              "#0d0887"
             ],
             [
              0.1111111111111111,
              "#46039f"
             ],
             [
              0.2222222222222222,
              "#7201a8"
             ],
             [
              0.3333333333333333,
              "#9c179e"
             ],
             [
              0.4444444444444444,
              "#bd3786"
             ],
             [
              0.5555555555555556,
              "#d8576b"
             ],
             [
              0.6666666666666666,
              "#ed7953"
             ],
             [
              0.7777777777777778,
              "#fb9f3a"
             ],
             [
              0.8888888888888888,
              "#fdca26"
             ],
             [
              1.0,
              "#f0f921"
             ]
            ]
           }
          ],
          "mesh3d": [
           {
            "type": "mesh3d",
            "colorbar": {
             "outlinewidth": 0,
             "ticks": ""
            }
           }
          ],
          "scatter": [
           {
            "fillpattern": {
             "fillmode": "overlay",
             "size": 10,
             "solidity": 0.2
            },
            "type": "scatter"
           }
          ],
          "parcoords": [
           {
            "type": "parcoords",
            "line": {
             "colorbar": {
              "outlinewidth": 0,
              "ticks": ""
             }
            }
           }
          ],
          "scatterpolargl": [
           {
            "type": "scatterpolargl",
            "marker": {
             "colorbar": {
              "outlinewidth": 0,
              "ticks": ""
             }
            }
           }
          ],
          "bar": [
           {
            "error_x": {
             "color": "#2a3f5f"
            },
            "error_y": {
             "color": "#2a3f5f"
            },
            "marker": {
             "line": {
              "color": "#E5ECF6",
              "width": 0.5
             },
             "pattern": {
              "fillmode": "overlay",
              "size": 10,
              "solidity": 0.2
             }
            },
            "type": "bar"
           }
          ],
          "scattergeo": [
           {
            "type": "scattergeo",
            "marker": {
             "colorbar": {
              "outlinewidth": 0,
              "ticks": ""
             }
            }
           }
          ],
          "scatterpolar": [
           {
            "type": "scatterpolar",
            "marker": {
             "colorbar": {
              "outlinewidth": 0,
              "ticks": ""
             }
            }
           }
          ],
          "histogram": [
           {
            "marker": {
             "pattern": {
              "fillmode": "overlay",
              "size": 10,
              "solidity": 0.2
             }
            },
            "type": "histogram"
           }
          ],
          "scattergl": [
           {
            "type": "scattergl",
            "marker": {
             "colorbar": {
              "outlinewidth": 0,
              "ticks": ""
             }
            }
           }
          ],
          "scatter3d": [
           {
            "type": "scatter3d",
            "line": {
             "colorbar": {
              "outlinewidth": 0,
              "ticks": ""
             }
            },
            "marker": {
             "colorbar": {
              "outlinewidth": 0,
              "ticks": ""
             }
            }
           }
          ],
          "scattermap": [
           {
            "type": "scattermap",
            "marker": {
             "colorbar": {
              "outlinewidth": 0,
              "ticks": ""
             }
            }
           }
          ],
          "scattermapbox": [
           {
            "type": "scattermapbox",
            "marker": {
             "colorbar": {
              "outlinewidth": 0,
              "ticks": ""
             }
            }
           }
          ],
          "scatterternary": [
           {
            "type": "scatterternary",
            "marker": {
             "colorbar": {
              "outlinewidth": 0,
              "ticks": ""
             }
            }
           }
          ],
          "scattercarpet": [
           {
            "type": "scattercarpet",
            "marker": {
             "colorbar": {
              "outlinewidth": 0,
              "ticks": ""
             }
            }
           }
          ],
          "carpet": [
           {
            "aaxis": {
             "endlinecolor": "#2a3f5f",
             "gridcolor": "white",
             "linecolor": "white",
             "minorgridcolor": "white",
             "startlinecolor": "#2a3f5f"
            },
            "baxis": {
             "endlinecolor": "#2a3f5f",
             "gridcolor": "white",
             "linecolor": "white",
             "minorgridcolor": "white",
             "startlinecolor": "#2a3f5f"
            },
            "type": "carpet"
           }
          ],
          "table": [
           {
            "cells": {
             "fill": {
              "color": "#EBF0F8"
             },
             "line": {
              "color": "white"
             }
            },
            "header": {
             "fill": {
              "color": "#C8D4E3"
             },
             "line": {
              "color": "white"
             }
            },
            "type": "table"
           }
          ],
          "barpolar": [
           {
            "marker": {
             "line": {
              "color": "#E5ECF6",
              "width": 0.5
             },
             "pattern": {
              "fillmode": "overlay",
              "size": 10,
              "solidity": 0.2
             }
            },
            "type": "barpolar"
           }
          ],
          "pie": [
           {
            "automargin": true,
            "type": "pie"
           }
          ]
         },
         "layout": {
          "autotypenumbers": "strict",
          "colorway": [
           "#636efa",
           "#EF553B",
           "#00cc96",
           "#ab63fa",
           "#FFA15A",
           "#19d3f3",
           "#FF6692",
           "#B6E880",
           "#FF97FF",
           "#FECB52"
          ],
          "font": {
           "color": "#2a3f5f"
          },
          "hovermode": "closest",
          "hoverlabel": {
           "align": "left"
          },
          "paper_bgcolor": "white",
          "plot_bgcolor": "#E5ECF6",
          "polar": {
           "bgcolor": "#E5ECF6",
           "angularaxis": {
            "gridcolor": "white",
            "linecolor": "white",
            "ticks": ""
           },
           "radialaxis": {
            "gridcolor": "white",
            "linecolor": "white",
            "ticks": ""
           }
          },
          "ternary": {
           "bgcolor": "#E5ECF6",
           "aaxis": {
            "gridcolor": "white",
            "linecolor": "white",
            "ticks": ""
           },
           "baxis": {
            "gridcolor": "white",
            "linecolor": "white",
            "ticks": ""
           },
           "caxis": {
            "gridcolor": "white",
            "linecolor": "white",
            "ticks": ""
           }
          },
          "coloraxis": {
           "colorbar": {
            "outlinewidth": 0,
            "ticks": ""
           }
          },
          "colorscale": {
           "sequential": [
            [
             0.0,
             "#0d0887"
            ],
            [
             0.1111111111111111,
             "#46039f"
            ],
            [
             0.2222222222222222,
             "#7201a8"
            ],
            [
             0.3333333333333333,
             "#9c179e"
            ],
            [
             0.4444444444444444,
             "#bd3786"
            ],
            [
             0.5555555555555556,
             "#d8576b"
            ],
            [
             0.6666666666666666,
             "#ed7953"
            ],
            [
             0.7777777777777778,
             "#fb9f3a"
            ],
            [
             0.8888888888888888,
             "#fdca26"
            ],
            [
             1.0,
             "#f0f921"
            ]
           ],
           "sequentialminus": [
            [
             0.0,
             "#0d0887"
            ],
            [
             0.1111111111111111,
             "#46039f"
            ],
            [
             0.2222222222222222,
             "#7201a8"
            ],
            [
             0.3333333333333333,
             "#9c179e"
            ],
            [
             0.4444444444444444,
             "#bd3786"
            ],
            [
             0.5555555555555556,
             "#d8576b"
            ],
            [
             0.6666666666666666,
             "#ed7953"
            ],
            [
             0.7777777777777778,
             "#fb9f3a"
            ],
            [
             0.8888888888888888,
             "#fdca26"
            ],
            [
             1.0,
             "#f0f921"
            ]
           ],
           "diverging": [
            [
             0,
             "#8e0152"
            ],
            [
             0.1,
             "#c51b7d"
            ],
            [
             0.2,
             "#de77ae"
            ],
            [
             0.3,
             "#f1b6da"
            ],
            [
             0.4,
             "#fde0ef"
            ],
            [
             0.5,
             "#f7f7f7"
            ],
            [
             0.6,
             "#e6f5d0"
            ],
            [
             0.7,
             "#b8e186"
            ],
            [
             0.8,
             "#7fbc41"
            ],
            [
             0.9,
             "#4d9221"
            ],
            [
             1,
             "#276419"
            ]
           ]
          },
          "xaxis": {
           "gridcolor": "white",
           "linecolor": "white",
           "ticks": "",
           "title": {
            "standoff": 15
           },
           "zerolinecolor": "white",
           "automargin": true,
           "zerolinewidth": 2
          },
          "yaxis": {
           "gridcolor": "white",
           "linecolor": "white",
           "ticks": "",
           "title": {
            "standoff": 15
           },
           "zerolinecolor": "white",
           "automargin": true,
           "zerolinewidth": 2
          },
          "scene": {
           "xaxis": {
            "backgroundcolor": "#E5ECF6",
            "gridcolor": "white",
            "linecolor": "white",
            "showbackground": true,
            "ticks": "",
            "zerolinecolor": "white",
            "gridwidth": 2
           },
           "yaxis": {
            "backgroundcolor": "#E5ECF6",
            "gridcolor": "white",
            "linecolor": "white",
            "showbackground": true,
            "ticks": "",
            "zerolinecolor": "white",
            "gridwidth": 2
           },
           "zaxis": {
            "backgroundcolor": "#E5ECF6",
            "gridcolor": "white",
            "linecolor": "white",
            "showbackground": true,
            "ticks": "",
            "zerolinecolor": "white",
            "gridwidth": 2
           }
          },
          "shapedefaults": {
           "line": {
            "color": "#2a3f5f"
           }
          },
          "annotationdefaults": {
           "arrowcolor": "#2a3f5f",
           "arrowhead": 0,
           "arrowwidth": 1
          },
          "geo": {
           "bgcolor": "white",
           "landcolor": "#E5ECF6",
           "subunitcolor": "white",
           "showland": true,
           "showlakes": true,
           "lakecolor": "white"
          },
          "title": {
           "x": 0.05
          },
          "mapbox": {
           "style": "light"
          }
         }
        },
        "xaxis": {
         "anchor": "y",
         "domain": [
          0.0,
          1.0
         ],
         "title": {
          "text": "Temperatura de Entrada da Turbina (T04)"
         }
        },
        "yaxis": {
         "anchor": "x",
         "domain": [
          0.0,
          1.0
         ],
         "title": {
          "text": "Consumo Específico (TSFC)"
         }
        },
        "legend": {
         "tracegroupgap": 0
        },
        "title": {
         "text": "Análise da Relação TSFC vs. T04"
        },
        "shapes": [
         {
          "line": {
           "dash": "dash"
          },
          "type": "line",
          "x0": 0,
          "x1": 1,
          "xref": "x domain",
          "y0": 0.010650741350906094,
          "y1": 0.010650741350906094,
          "yref": "y"
         }
        ],
        "annotations": [
         {
          "showarrow": false,
          "text": "TSFC Alvo",
          "x": 1,
          "xanchor": "right",
          "xref": "x domain",
          "y": 0.010650741350906094,
          "yanchor": "top",
          "yref": "y"
         }
        ]
       },
       "config": {
        "plotlyServerURL": "https://plot.ly"
       }
      }
     },
     "metadata": {},
     "output_type": "display_data"
    },
    {
     "data": {
      "text/plain": [
       "{'success': True,\n",
       " 'stage_sequence': ['tsfc_then_thrust'],\n",
       " 'message_t04': 'Solution found.',\n",
       " 'message_mdot': 'Solution found.',\n",
       " 'optimal_t04': 1556.359,\n",
       " 'optimal_mass_flow_rate': 401.035,\n",
       " 'final_thrust_kN': 121.4,\n",
       " 'final_tsfc': 0.01065}"
      ]
     },
     "execution_count": 4,
     "metadata": {},
     "output_type": "execute_result"
    }
   ],
   "execution_count": 4
  },
  {
   "metadata": {},
   "cell_type": "markdown",
   "source": "### Turbofan fora do ponto de projeto",
   "id": "fa771276a2625511"
  },
  {
   "metadata": {},
   "cell_type": "code",
   "outputs": [],
   "execution_count": null,
   "source": "",
   "id": "34b946dab3ae8497"
  }
 ],
 "metadata": {
  "kernelspec": {
   "display_name": "Python 3",
   "language": "python",
   "name": "python3"
  },
  "language_info": {
   "codemirror_mode": {
    "name": "ipython",
    "version": 3
   },
   "file_extension": ".py",
   "mimetype": "text/x-python",
   "name": "python",
   "nbconvert_exporter": "python",
   "pygments_lexer": "ipython3",
   "version": "3.11.3"
  }
 },
 "nbformat": 4,
 "nbformat_minor": 5
}
