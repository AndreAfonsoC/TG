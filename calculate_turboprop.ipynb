{
 "cells": [
  {
   "metadata": {
    "ExecuteTime": {
     "end_time": "2025-09-15T00:43:04.047166Z",
     "start_time": "2025-09-15T00:43:03.333861Z"
    }
   },
   "cell_type": "code",
   "source": [
    "import numpy as np\n",
    "\n",
    "from src.turboprop import Turboprop\n",
    "\n",
    "import plotly.express as px\n",
    "\n",
    "config_ex71 = {\n",
    "        \"mach\": 0.0,\n",
    "        \"t_a\": 288.15,\n",
    "        \"p_a\": 101.3,\n",
    "\n",
    "        # Eficiências e Gammas\n",
    "        \"eta_inlet\": 0.85,\n",
    "        \"gamma_inlet\": 1.4,\n",
    "        \"eta_compressor\": 0.75,\n",
    "        \"gamma_compressor\": 1.37,\n",
    "        \"eta_camara\": 1,\n",
    "        \"gamma_camara\": 1.35,\n",
    "        \"eta_turbina_compressor\": 0.9,\n",
    "        \"gamma_turbina_compressor\": 1.33,\n",
    "        \"eta_turbina_livre\": 0.9,\n",
    "        \"gamma_turbina_livre\": 1.33,\n",
    "        \"eta_bocal_quente\": 0.98,\n",
    "        \"gamma_bocal_quente\": 1.36,\n",
    "        \"eta_propeler\": 0.85,\n",
    "\n",
    "        # Dados operacionais\n",
    "        \"max_gearbox_power\": 2050,  # kW\n",
    "        \"prc\": 15.77,\n",
    "        # Ajusta-se pr_tl para se atingir a potência termodinâmica informada pelo fabricante\n",
    "        \"pr_tl\": 2.87,\n",
    "        \"hydrogen_fraction\": 0.0,\n",
    "        \"pressure_loss_factor\": 1.0,\n",
    "        \"kerosene_PCI\": 45e3,  # kJ/kg\n",
    "        \"hydrogen_PCI\": 120e3,  # kJ/kg\n",
    "        \"mean_R_air\": 288.3,  # (m^2 / (s^2*K))\n",
    "        \"Cp\": 1.11,  # (kJ / (kg*K))\n",
    "        \"Cp_tl\": 1.16,  # (kJ / (kg*K))\n",
    "        \"T04\": 1600,  # (K)\n",
    "        \"power_ratio_gear_to_tl\": 0.98,\n",
    "    }"
   ],
   "id": "43f4da168ca063e1",
   "outputs": [],
   "execution_count": 1
  },
  {
   "metadata": {
    "ExecuteTime": {
     "end_time": "2025-09-15T00:43:04.984798Z",
     "start_time": "2025-09-15T00:43:04.972989Z"
    }
   },
   "cell_type": "code",
   "source": [
    "turboprop = Turboprop(config_ex71)\n",
    "turboprop.set_air_flow(8.49)"
   ],
   "id": "d31945aa7ac2d291",
   "outputs": [],
   "execution_count": 2
  },
  {
   "metadata": {
    "ExecuteTime": {
     "end_time": "2025-09-15T00:44:37.153771Z",
     "start_time": "2025-09-15T00:44:37.134867Z"
    }
   },
   "cell_type": "code",
   "source": "turboprop.u_core",
   "id": "cdcb4b4dee5e0170",
   "outputs": [
    {
     "data": {
      "text/plain": [
       "385.96659273323127"
      ]
     },
     "execution_count": 7,
     "metadata": {},
     "output_type": "execute_result"
    }
   ],
   "execution_count": 7
  },
  {
   "metadata": {},
   "cell_type": "code",
   "outputs": [],
   "execution_count": null,
   "source": "",
   "id": "d90f5ff9423e040"
  }
 ],
 "metadata": {
  "kernelspec": {
   "display_name": "Python 3",
   "language": "python",
   "name": "python3"
  },
  "language_info": {
   "codemirror_mode": {
    "name": "ipython",
    "version": 3
   },
   "file_extension": ".py",
   "mimetype": "text/x-python",
   "name": "python",
   "nbconvert_exporter": "python",
   "pygments_lexer": "ipython3",
   "version": "3.11.3"
  }
 },
 "nbformat": 4,
 "nbformat_minor": 5
}
