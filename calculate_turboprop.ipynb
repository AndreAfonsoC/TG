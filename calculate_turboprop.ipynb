{
 "cells": [
  {
   "metadata": {
    "ExecuteTime": {
     "end_time": "2025-10-06T01:03:54.417958Z",
     "start_time": "2025-10-06T01:03:53.762707Z"
    }
   },
   "cell_type": "code",
   "source": [
    "from src.turbofan import Turbofan\n",
    "from src.turboprop import Turboprop\n",
    "from utils.configs import (\n",
    "    config_ex71,\n",
    "    config_ex72,\n",
    "    config_ex73,\n",
    ")"
   ],
   "id": "b29c3e586d53fa7",
   "outputs": [],
   "execution_count": 1
  },
  {
   "metadata": {
    "ExecuteTime": {
     "end_time": "2025-10-06T01:03:54.433927Z",
     "start_time": "2025-10-06T01:03:54.417958Z"
    }
   },
   "cell_type": "code",
   "source": [
    "turboprop = Turboprop(config_ex71)\n",
    "turboprop.set_sea_level_air_flow(8.49)\n",
    "turboprop.print_outputs()\n",
    "turboprop.calibrate_pot_th()\n",
    "turboprop.print_outputs()"
   ],
   "id": "2ca5f23cb8930468",
   "outputs": [
    {
     "name": "stdout",
     "output_type": "stream",
     "text": [
      "--- Resultados da Simulação do Motor ---\n",
      "\n",
      "[ Estações do Motor ]\n",
      "Estação              | Temp. Total (K)      | Pressão Total (kPa) \n",
      "------------------------------------------------------------------\n",
      "2 (Inlet)            | 288.150              | 101.300             \n",
      "3 (Compressor)       | 713.156              | 1597.501            \n",
      "4 (Câmara)           | 1600.000             | 1597.501            \n",
      "5 (Turbina Comp.)    | 1174.994             | 390.159             \n",
      "6 (Turbina Livre)    | 931.033              | 135.575             \n",
      "\n",
      "[ Dados da Turbina Livre ]\n",
      "Razão de expansão na tl            : 2.878\n",
      "Pressão total na saída da tl       : 135.58 kPa\n",
      "Temperatura Isentrópica Total      : 903.93 K\n",
      "Temperatura Total                  : 931.03 K\n",
      "Cp_tl                              : 1.16\n",
      "Trabalho Isentrópico               : 314.44 kJ/kg\n",
      "Trabalho Real                      : 282.99 kJ/kg\n",
      "Vazão na turbina                   : 8.68 kg/s\n",
      "Potência na Turbina Livre          : 2457.33 kW\n",
      "Potência na Gearbox                : 2408.19 kW\n",
      "\n",
      "[ Empuxo ]\n",
      "Empuxo específico do Bocal         : 0.393 kN.s/kg\n",
      "Empuxo do Bocal                    : 3.336 kN\n",
      "\n",
      "[ Performance Geral ]\n",
      "Razão Combustível/Ar (f)           : 0.02277\n",
      "Velocidade Bocal Quente (u_core): 384.137 m/s\n",
      "Velocidade de Voo (u_0)         : 0.000 m/s\n",
      "Consumo Esp. no eixo (BSFC)        : 7.87 kg/(s*kW) * 10^-5\n",
      "Consumo Esp. Equivalente (EBSFC)   : 7.87 kg/(s*kW) * 10^-5\n",
      "Consumo de Combustível             : 0.193 kg/s\n",
      "\n",
      "-------------------------------------------------------------\n",
      "--- Resultados da Simulação do Motor ---\n",
      "\n",
      "[ Estações do Motor ]\n",
      "Estação              | Temp. Total (K)      | Pressão Total (kPa) \n",
      "------------------------------------------------------------------\n",
      "2 (Inlet)            | 288.150              | 101.300             \n",
      "3 (Compressor)       | 688.109              | 1446.515            \n",
      "4 (Câmara)           | 1491.475             | 1446.515            \n",
      "5 (Turbina Comp.)    | 1091.515             | 343.483             \n",
      "6 (Turbina Livre)    | 863.293              | 119.357             \n",
      "\n",
      "[ Dados da Turbina Livre ]\n",
      "Razão de expansão na tl            : 2.878\n",
      "N2                                 : 0.941\n",
      "Pressão total na saída da tl       : 119.36 kPa\n",
      "Temperatura Isentrópica Total      : 839.71 K\n",
      "Temperatura Total                  : 863.29 K\n",
      "Cp_tl                              : 1.16\n",
      "Trabalho Isentrópico               : 292.10 kJ/kg\n",
      "Trabalho Real                      : 264.74 kJ/kg\n",
      "Vazão na turbina                   : 7.74 kg/s\n",
      "Potência na Turbina Livre          : 2049.99 kW\n",
      "Potência na Gearbox                : 2008.99 kW\n",
      "\n",
      "[ Empuxo ]\n",
      "Empuxo específico do Bocal         : 0.286 kN.s/kg\n",
      "Empuxo do Bocal                    : 2.167 kN\n",
      "\n",
      "[ Performance Geral ]\n",
      "Razão Combustível/Ar (f)           : 0.02060\n",
      "Velocidade Bocal Quente (u_core): 279.834 m/s\n",
      "Velocidade de Voo (u_0)         : 0.000 m/s\n",
      "Consumo Esp. no eixo (BSFC)        : 7.63 kg/(s*kW) * 10^-5\n",
      "Consumo Esp. Equivalente (EBSFC)   : 7.63 kg/(s*kW) * 10^-5\n",
      "Consumo de Combustível             : 0.156 kg/s\n",
      "\n",
      "-------------------------------------------------------------\n"
     ]
    }
   ],
   "execution_count": 2
  },
  {
   "metadata": {},
   "cell_type": "markdown",
   "source": "### Exemplo 7.2",
   "id": "3c4a1518a900c772"
  },
  {
   "metadata": {
    "ExecuteTime": {
     "end_time": "2025-10-06T01:03:54.443606Z",
     "start_time": "2025-10-06T01:03:54.438675Z"
    }
   },
   "cell_type": "code",
   "source": [
    "turboprop.update_final_config(config_ex72)\n",
    "turboprop.update_from_N2(0.85)\n",
    "turboprop.print_outputs()"
   ],
   "id": "bc8a71f5fa23448a",
   "outputs": [
    {
     "name": "stdout",
     "output_type": "stream",
     "text": [
      "--- Resultados da Simulação do Motor ---\n",
      "\n",
      "[ Estações do Motor ]\n",
      "Estação              | Temp. Total (K)      | Pressão Total (kPa) \n",
      "------------------------------------------------------------------\n",
      "2 (Inlet)            | 256.535              | 46.156              \n",
      "3 (Compressor)       | 577.216              | 534.552             \n",
      "4 (Câmara)           | 1310.669             | 534.552             \n",
      "5 (Turbina Comp.)    | 989.988              | 144.472             \n",
      "6 (Turbina Livre)    | 798.312              | 55.727              \n",
      "\n",
      "[ Dados da Turbina Livre ]\n",
      "Razão de expansão na tl            : 2.593\n",
      "N2                                 : 0.850\n",
      "Pressão total na saída da tl       : 55.73 kPa\n",
      "Temperatura Isentrópica Total      : 781.59 K\n",
      "Temperatura Total                  : 798.31 K\n",
      "Cp_tl                              : 1.16\n",
      "Trabalho Isentrópico               : 241.74 kJ/kg\n",
      "Trabalho Real                      : 222.34 kJ/kg\n",
      "Vazão na turbina                   : 2.85 kg/s\n",
      "Potência na Turbina Livre          : 634.61 kW\n",
      "Potência na Gearbox                : 621.92 kW\n",
      "\n",
      "[ Empuxo ]\n",
      "Empuxo específico do Bocal         : 0.230 kN.s/kg\n",
      "Empuxo do Bocal                    : 0.643 kN\n",
      "Empuxo da Hélice                   : 3.724 kN\n",
      "Empuxo Total                       : 4.367 kN\n",
      "Consumo Esp. / empuxo (TSFC)       : 0.012 kg/(s*kN)\n",
      "\n",
      "[ Performance Geral ]\n",
      "Razão Combustível/Ar (f)           : 0.01873\n",
      "Velocidade Bocal Quente (u_core): 364.641 m/s\n",
      "Velocidade de Voo (u_0)         : 141.955 m/s\n",
      "Consumo Esp. no eixo (BSFC)        : 8.27 kg/(s*kW) * 10^-5\n",
      "Consumo Esp. Equivalente (EBSFC)   : 7.23 kg/(s*kW) * 10^-5\n",
      "Consumo de Combustível             : 0.052 kg/s\n",
      "\n",
      "-------------------------------------------------------------\n"
     ]
    }
   ],
   "execution_count": 3
  },
  {
   "metadata": {
    "ExecuteTime": {
     "end_time": "2025-10-06T01:03:54.457469Z",
     "start_time": "2025-10-06T01:03:54.443606Z"
    }
   },
   "cell_type": "code",
   "source": "turboprop.print_config()",
   "id": "6ec240e2457e10c8",
   "outputs": [
    {
     "name": "stdout",
     "output_type": "stream",
     "text": [
      "\n",
      "--- Configuração do Motor Turboprop ---\n",
      "\n",
      "[Condições de Voo e Ambiente]\n",
      "mach                    : 0.450\n",
      "altitude                : 0.000\n",
      "t_a                     : 246.550\n",
      "p_a                     : 41.000\n",
      "\n",
      "[Eficiências]\n",
      "eta_inlet               : 0.850\n",
      "eta_compressor          : 0.750\n",
      "eta_camara              : 1.000\n",
      "eta_turbina_compressor  : 0.900\n",
      "eta_turbina_livre       : 0.900\n",
      "eta_bocal_quente        : 0.980\n",
      "\n",
      "[Gammas]\n",
      "gamma_inlet             : 1.400\n",
      "gamma_compressor        : 1.370\n",
      "gamma_camara            : 1.350\n",
      "gamma_turbina_compressor: 1.330\n",
      "gamma_turbina_livre     : 1.330\n",
      "gamma_bocal_quente      : 1.360\n",
      "\n",
      "[Dados Operacionais]\n",
      "prc                     : 15.770\n",
      "pr_tl                   : 2.878\n",
      "hydrogen_fraction       : 0.000\n",
      "pressure_loss           : 0.000\n",
      "kerosene_PCI            : 45000.000\n",
      "hydrogen_PCI            : 120000.000\n",
      "mean_R_air              : 288.300\n",
      "Cp                      : 1.110\n",
      "Cp_tl                   : 1.160\n",
      "T04                     : 1600.000\n",
      "\n",
      "[Dados da Gearbox e Hélice]\n",
      "gearbox_efficiency      : 0.980\n",
      "propeller_efficiency    : 0.850\n",
      "max_gearbox_power       : 2050.000\n",
      "ref_pot_th              : 2457.000\n",
      "\n",
      "----------------------------------\n"
     ]
    }
   ],
   "execution_count": 4
  },
  {
   "metadata": {
    "ExecuteTime": {
     "end_time": "2025-10-06T01:03:54.482269Z",
     "start_time": "2025-10-06T01:03:54.474938Z"
    }
   },
   "cell_type": "code",
   "source": "turboprop.final_config",
   "id": "dd8552d15dcffda4",
   "outputs": [
    {
     "data": {
      "text/plain": [
       "{'mach': 0.45,\n",
       " 'altitude': 0.0,\n",
       " 'eta_inlet': 0.85,\n",
       " 'gamma_inlet': 1.4,\n",
       " 'eta_compressor': 0.75,\n",
       " 'gamma_compressor': 1.37,\n",
       " 'eta_camara': 1,\n",
       " 'gamma_camara': 1.35,\n",
       " 'eta_turbina_compressor': 0.9,\n",
       " 'gamma_turbina_compressor': 1.33,\n",
       " 'eta_turbina_livre': 0.9,\n",
       " 'gamma_turbina_livre': 1.33,\n",
       " 'eta_bocal_quente': 0.98,\n",
       " 'gamma_bocal_quente': 1.36,\n",
       " 'prc': 15.77,\n",
       " 'pr_tl': 2.8778,\n",
       " 'hydrogen_fraction': 0.0,\n",
       " 'pressure_loss': 0.0,\n",
       " 'kerosene_PCI': 45000.0,\n",
       " 'hydrogen_PCI': 120000.0,\n",
       " 'mean_R_air': 288.3,\n",
       " 'Cp': 1.11,\n",
       " 'Cp_tl': 1.16,\n",
       " 'T04': 1600,\n",
       " 'gearbox_efficiency': 0.98,\n",
       " 'propeller_efficiency': 0.85,\n",
       " 'max_gearbox_power': 2050,\n",
       " 'ref_pot_th': 2457,\n",
       " 't_a': 246.55,\n",
       " 'p_a': 41}"
      ]
     },
     "execution_count": 5,
     "metadata": {},
     "output_type": "execute_result"
    }
   ],
   "execution_count": 5
  },
  {
   "metadata": {},
   "cell_type": "markdown",
   "source": "### Exemplo 7.3",
   "id": "e854eb66d5d11846"
  },
  {
   "metadata": {
    "ExecuteTime": {
     "end_time": "2025-10-06T01:03:54.504164Z",
     "start_time": "2025-10-06T01:03:54.499Z"
    }
   },
   "cell_type": "code",
   "source": [
    "turbofan = Turbofan(config_ex73)\n",
    "turbofan.set_sea_level_air_flow(88.42)\n",
    "turbofan.save_design_point()\n",
    "turbofan.update_from_N2(0.85)\n",
    "turbofan.print_outputs()"
   ],
   "id": "88f7a668474823df",
   "outputs": [
    {
     "name": "stdout",
     "output_type": "stream",
     "text": [
      "Salvando ponto de projeto...\n",
      "--- Resultados da Simulação do Motor ---\n",
      "\n",
      "[ Estações do Motor ]\n",
      "Estação         | Temp. Total (K)      | Pressão Total (kPa) \n",
      "-------------------------------------------------------------\n",
      "2 (Inlet)       | 256.535              | 46.920              \n",
      "8 (Fan)         | 278.681              | 61.318              \n",
      "3 (Compressor)  | 513.065              | 375.112             \n",
      "4 (Câmara)      | 1269.711             | 375.112             \n",
      "5 (Turbina Comp.) | 1035.326             | 145.702             \n",
      "6 (Turbina Fan) | 901.123              | 76.415              \n",
      "\n",
      "[ Velocidades de Saída ]\n",
      "Velocidade de Voo (u_0)         : 141.955 m/s\n",
      "Velocidade Bocal Quente (u_core): 540.634 m/s\n",
      "Velocidade Bocal Frio (u_fan)   : 244.693 m/s\n",
      "\n",
      "[ Performance Geral ]\n",
      "Razão Combustível/Ar (f)        : 0.01932\n",
      "Empuxo Específico               : 0.92898 kN.s/kg\n",
      "Consumo Específico (TSFC)       : 0.02079 kg/(kN.s)\n",
      "Empuxo Total                    : 4.473 kN\n",
      "Consumo de Combustível          : 0.093 kg/s\n",
      "\n",
      "-------------------------------------------------------------\n"
     ]
    }
   ],
   "execution_count": 6
  },
  {
   "metadata": {
    "ExecuteTime": {
     "end_time": "2025-10-06T01:03:54.512938Z",
     "start_time": "2025-10-06T01:03:54.504164Z"
    }
   },
   "cell_type": "code",
   "source": "",
   "id": "109d8a73d34b41c5",
   "outputs": [],
   "execution_count": null
  }
 ],
 "metadata": {
  "kernelspec": {
   "display_name": "Python 3",
   "language": "python",
   "name": "python3"
  },
  "language_info": {
   "codemirror_mode": {
    "name": "ipython",
    "version": 3
   },
   "file_extension": ".py",
   "mimetype": "text/x-python",
   "name": "python",
   "nbconvert_exporter": "python",
   "pygments_lexer": "ipython3",
   "version": "3.11.3"
  }
 },
 "nbformat": 4,
 "nbformat_minor": 5
}
