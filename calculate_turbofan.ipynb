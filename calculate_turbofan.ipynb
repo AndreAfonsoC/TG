{
 "cells": [
  {
   "metadata": {
    "ExecuteTime": {
     "end_time": "2025-10-13T01:35:45.714815Z",
     "start_time": "2025-10-13T01:35:45.096878Z"
    }
   },
   "cell_type": "code",
   "source": [
    "import numpy as np\n",
    "import plotly.express as px\n",
    "import plotly.io as pio\n",
    "\n",
    "from src.turbofan import Turbofan\n",
    "from utils.configs import (\n",
    "    config_ex22,\n",
    "    config_ex23,\n",
    "    config_teste1,\n",
    "    config_teste2,\n",
    "    config_turbofan,\n",
    ")\n",
    "\n",
    "pio.templates.default = \"plotly\""
   ],
   "id": "2988f25fb091c5c5",
   "outputs": [],
   "execution_count": 1
  },
  {
   "metadata": {},
   "cell_type": "markdown",
   "source": "### Validação 1: Exemplo 2.2",
   "id": "90a17f4a6e1c6d3b"
  },
  {
   "metadata": {
    "ExecuteTime": {
     "end_time": "2025-10-13T01:35:45.722964Z",
     "start_time": "2025-10-13T01:35:45.714815Z"
    }
   },
   "cell_type": "code",
   "source": [
    "# turbofan = Turbofan(config_ex22)\n",
    "# turbofan.set_air_flow(533)\n",
    "# turbofan.print_outputs()"
   ],
   "id": "2dc678b7456b8eea",
   "outputs": [],
   "execution_count": 2
  },
  {
   "metadata": {},
   "cell_type": "markdown",
   "source": "### Teste 1 de PRP-38",
   "id": "743d75be05e84819"
  },
  {
   "metadata": {
    "ExecuteTime": {
     "end_time": "2025-10-13T01:35:45.730215Z",
     "start_time": "2025-10-13T01:35:45.726737Z"
    }
   },
   "cell_type": "code",
   "source": [
    "# turbofan = Turbofan(config_teste1)\n",
    "# turbofan.set_air_flow(533)\n",
    "# turbofan.print_outputs()"
   ],
   "id": "2d0fa9f33e4ccb33",
   "outputs": [],
   "execution_count": 3
  },
  {
   "metadata": {},
   "cell_type": "markdown",
   "source": "### TG: CFM56-7B27",
   "id": "5f381b547efaf96"
  },
  {
   "metadata": {
    "ExecuteTime": {
     "end_time": "2025-10-13T01:45:42.989446Z",
     "start_time": "2025-10-13T01:45:42.838488Z"
    }
   },
   "cell_type": "code",
   "source": [
    "turbofan = Turbofan(config_turbofan)\n",
    "turbofan.set_air_flow(100)\n",
    "rated_thrust = 121.4  # kN\n",
    "fuel_flow = 1.293  # kg/s\n",
    "optimization_status = turbofan.calibrate_turbofan(rated_thrust, fuel_flow)\n",
    "turbofan.plot_calibration_result(fuel_flow / rated_thrust, np.arange(1200,2000, 0.1))\n",
    "optimization_status"
   ],
   "id": "ec4a46427e370e6d",
   "outputs": [
    {
     "name": "stdout",
     "output_type": "stream",
     "text": [
      "Salvando ponto de projeto...\n",
      "Calculando TSFC para visualização...\n",
      "WARNING: A pressão ambiente (101.33) é maior que a pressão total de entrada do bocal (41.18), por isso retornou-se velocidade nula no bocal!!!\n",
      "WARNING: A pressão ambiente (101.33) é maior que a pressão total de entrada do bocal (41.20), por isso retornou-se velocidade nula no bocal!!!\n",
      "WARNING: A pressão ambiente (101.33) é maior que a pressão total de entrada do bocal (41.23), por isso retornou-se velocidade nula no bocal!!!\n",
      "WARNING: A pressão ambiente (101.33) é maior que a pressão total de entrada do bocal (41.25), por isso retornou-se velocidade nula no bocal!!!\n",
      "WARNING: A pressão ambiente (101.33) é maior que a pressão total de entrada do bocal (41.28), por isso retornou-se velocidade nula no bocal!!!\n",
      "WARNING: A pressão ambiente (101.33) é maior que a pressão total de entrada do bocal (41.30), por isso retornou-se velocidade nula no bocal!!!\n",
      "WARNING: A pressão ambiente (101.33) é maior que a pressão total de entrada do bocal (41.33), por isso retornou-se velocidade nula no bocal!!!\n",
      "WARNING: A pressão ambiente (101.33) é maior que a pressão total de entrada do bocal (41.35), por isso retornou-se velocidade nula no bocal!!!\n",
      "WARNING: A pressão ambiente (101.33) é maior que a pressão total de entrada do bocal (41.38), por isso retornou-se velocidade nula no bocal!!!\n",
      "WARNING: A pressão ambiente (101.33) é maior que a pressão total de entrada do bocal (41.40), por isso retornou-se velocidade nula no bocal!!!\n",
      "WARNING: A pressão ambiente (101.33) é maior que a pressão total de entrada do bocal (41.43), por isso retornou-se velocidade nula no bocal!!!\n",
      "WARNING: A pressão ambiente (101.33) é maior que a pressão total de entrada do bocal (41.45), por isso retornou-se velocidade nula no bocal!!!\n",
      "WARNING: A pressão ambiente (101.33) é maior que a pressão total de entrada do bocal (41.48), por isso retornou-se velocidade nula no bocal!!!\n",
      "WARNING: A pressão ambiente (101.33) é maior que a pressão total de entrada do bocal (41.50), por isso retornou-se velocidade nula no bocal!!!\n",
      "WARNING: A pressão ambiente (101.33) é maior que a pressão total de entrada do bocal (41.53), por isso retornou-se velocidade nula no bocal!!!\n",
      "WARNING: A pressão ambiente (101.33) é maior que a pressão total de entrada do bocal (41.55), por isso retornou-se velocidade nula no bocal!!!\n",
      "WARNING: A pressão ambiente (101.33) é maior que a pressão total de entrada do bocal (41.58), por isso retornou-se velocidade nula no bocal!!!\n",
      "WARNING: A pressão ambiente (101.33) é maior que a pressão total de entrada do bocal (41.60), por isso retornou-se velocidade nula no bocal!!!\n",
      "WARNING: A pressão ambiente (101.33) é maior que a pressão total de entrada do bocal (41.63), por isso retornou-se velocidade nula no bocal!!!\n",
      "WARNING: A pressão ambiente (101.33) é maior que a pressão total de entrada do bocal (41.65), por isso retornou-se velocidade nula no bocal!!!\n",
      "WARNING: A pressão ambiente (101.33) é maior que a pressão total de entrada do bocal (41.68), por isso retornou-se velocidade nula no bocal!!!\n",
      "WARNING: A pressão ambiente (101.33) é maior que a pressão total de entrada do bocal (41.70), por isso retornou-se velocidade nula no bocal!!!\n",
      "WARNING: A pressão ambiente (101.33) é maior que a pressão total de entrada do bocal (41.73), por isso retornou-se velocidade nula no bocal!!!\n",
      "WARNING: A pressão ambiente (101.33) é maior que a pressão total de entrada do bocal (41.75), por isso retornou-se velocidade nula no bocal!!!\n",
      "WARNING: A pressão ambiente (101.33) é maior que a pressão total de entrada do bocal (41.78), por isso retornou-se velocidade nula no bocal!!!\n",
      "WARNING: A pressão ambiente (101.33) é maior que a pressão total de entrada do bocal (41.80), por isso retornou-se velocidade nula no bocal!!!\n",
      "WARNING: A pressão ambiente (101.33) é maior que a pressão total de entrada do bocal (41.83), por isso retornou-se velocidade nula no bocal!!!\n",
      "WARNING: A pressão ambiente (101.33) é maior que a pressão total de entrada do bocal (41.85), por isso retornou-se velocidade nula no bocal!!!\n",
      "WARNING: A pressão ambiente (101.33) é maior que a pressão total de entrada do bocal (41.88), por isso retornou-se velocidade nula no bocal!!!\n",
      "WARNING: A pressão ambiente (101.33) é maior que a pressão total de entrada do bocal (41.90), por isso retornou-se velocidade nula no bocal!!!\n",
      "WARNING: A pressão ambiente (101.33) é maior que a pressão total de entrada do bocal (41.93), por isso retornou-se velocidade nula no bocal!!!\n",
      "WARNING: A pressão ambiente (101.33) é maior que a pressão total de entrada do bocal (41.95), por isso retornou-se velocidade nula no bocal!!!\n",
      "WARNING: A pressão ambiente (101.33) é maior que a pressão total de entrada do bocal (41.98), por isso retornou-se velocidade nula no bocal!!!\n",
      "WARNING: A pressão ambiente (101.33) é maior que a pressão total de entrada do bocal (42.00), por isso retornou-se velocidade nula no bocal!!!\n",
      "WARNING: A pressão ambiente (101.33) é maior que a pressão total de entrada do bocal (42.03), por isso retornou-se velocidade nula no bocal!!!\n",
      "WARNING: A pressão ambiente (101.33) é maior que a pressão total de entrada do bocal (42.05), por isso retornou-se velocidade nula no bocal!!!\n",
      "WARNING: A pressão ambiente (101.33) é maior que a pressão total de entrada do bocal (42.08), por isso retornou-se velocidade nula no bocal!!!\n",
      "WARNING: A pressão ambiente (101.33) é maior que a pressão total de entrada do bocal (42.10), por isso retornou-se velocidade nula no bocal!!!\n",
      "WARNING: A pressão ambiente (101.33) é maior que a pressão total de entrada do bocal (42.13), por isso retornou-se velocidade nula no bocal!!!\n",
      "WARNING: A pressão ambiente (101.33) é maior que a pressão total de entrada do bocal (42.15), por isso retornou-se velocidade nula no bocal!!!\n",
      "WARNING: A pressão ambiente (101.33) é maior que a pressão total de entrada do bocal (42.18), por isso retornou-se velocidade nula no bocal!!!\n",
      "WARNING: A pressão ambiente (101.33) é maior que a pressão total de entrada do bocal (42.20), por isso retornou-se velocidade nula no bocal!!!\n",
      "WARNING: A pressão ambiente (101.33) é maior que a pressão total de entrada do bocal (42.23), por isso retornou-se velocidade nula no bocal!!!\n",
      "WARNING: A pressão ambiente (101.33) é maior que a pressão total de entrada do bocal (42.25), por isso retornou-se velocidade nula no bocal!!!\n",
      "WARNING: A pressão ambiente (101.33) é maior que a pressão total de entrada do bocal (42.28), por isso retornou-se velocidade nula no bocal!!!\n",
      "WARNING: A pressão ambiente (101.33) é maior que a pressão total de entrada do bocal (42.30), por isso retornou-se velocidade nula no bocal!!!\n",
      "WARNING: A pressão ambiente (101.33) é maior que a pressão total de entrada do bocal (42.33), por isso retornou-se velocidade nula no bocal!!!\n",
      "WARNING: A pressão ambiente (101.33) é maior que a pressão total de entrada do bocal (42.35), por isso retornou-se velocidade nula no bocal!!!\n",
      "WARNING: A pressão ambiente (101.33) é maior que a pressão total de entrada do bocal (42.38), por isso retornou-se velocidade nula no bocal!!!\n",
      "WARNING: A pressão ambiente (101.33) é maior que a pressão total de entrada do bocal (42.40), por isso retornou-se velocidade nula no bocal!!!\n",
      "WARNING: A pressão ambiente (101.33) é maior que a pressão total de entrada do bocal (42.43), por isso retornou-se velocidade nula no bocal!!!\n",
      "WARNING: A pressão ambiente (101.33) é maior que a pressão total de entrada do bocal (42.45), por isso retornou-se velocidade nula no bocal!!!\n",
      "WARNING: A pressão ambiente (101.33) é maior que a pressão total de entrada do bocal (42.48), por isso retornou-se velocidade nula no bocal!!!\n",
      "WARNING: A pressão ambiente (101.33) é maior que a pressão total de entrada do bocal (42.51), por isso retornou-se velocidade nula no bocal!!!\n",
      "WARNING: A pressão ambiente (101.33) é maior que a pressão total de entrada do bocal (42.53), por isso retornou-se velocidade nula no bocal!!!\n",
      "WARNING: A pressão ambiente (101.33) é maior que a pressão total de entrada do bocal (42.56), por isso retornou-se velocidade nula no bocal!!!\n",
      "WARNING: A pressão ambiente (101.33) é maior que a pressão total de entrada do bocal (42.58), por isso retornou-se velocidade nula no bocal!!!\n",
      "WARNING: A pressão ambiente (101.33) é maior que a pressão total de entrada do bocal (42.61), por isso retornou-se velocidade nula no bocal!!!\n",
      "WARNING: A pressão ambiente (101.33) é maior que a pressão total de entrada do bocal (42.63), por isso retornou-se velocidade nula no bocal!!!\n",
      "WARNING: A pressão ambiente (101.33) é maior que a pressão total de entrada do bocal (42.66), por isso retornou-se velocidade nula no bocal!!!\n",
      "WARNING: A pressão ambiente (101.33) é maior que a pressão total de entrada do bocal (42.68), por isso retornou-se velocidade nula no bocal!!!\n",
      "WARNING: A pressão ambiente (101.33) é maior que a pressão total de entrada do bocal (42.71), por isso retornou-se velocidade nula no bocal!!!\n",
      "WARNING: A pressão ambiente (101.33) é maior que a pressão total de entrada do bocal (42.73), por isso retornou-se velocidade nula no bocal!!!\n",
      "WARNING: A pressão ambiente (101.33) é maior que a pressão total de entrada do bocal (42.76), por isso retornou-se velocidade nula no bocal!!!\n",
      "WARNING: A pressão ambiente (101.33) é maior que a pressão total de entrada do bocal (42.78), por isso retornou-se velocidade nula no bocal!!!\n",
      "WARNING: A pressão ambiente (101.33) é maior que a pressão total de entrada do bocal (42.81), por isso retornou-se velocidade nula no bocal!!!\n",
      "WARNING: A pressão ambiente (101.33) é maior que a pressão total de entrada do bocal (42.83), por isso retornou-se velocidade nula no bocal!!!\n",
      "WARNING: A pressão ambiente (101.33) é maior que a pressão total de entrada do bocal (42.86), por isso retornou-se velocidade nula no bocal!!!\n",
      "WARNING: A pressão ambiente (101.33) é maior que a pressão total de entrada do bocal (42.88), por isso retornou-se velocidade nula no bocal!!!\n",
      "WARNING: A pressão ambiente (101.33) é maior que a pressão total de entrada do bocal (42.91), por isso retornou-se velocidade nula no bocal!!!\n",
      "WARNING: A pressão ambiente (101.33) é maior que a pressão total de entrada do bocal (42.93), por isso retornou-se velocidade nula no bocal!!!\n",
      "WARNING: A pressão ambiente (101.33) é maior que a pressão total de entrada do bocal (42.96), por isso retornou-se velocidade nula no bocal!!!\n",
      "WARNING: A pressão ambiente (101.33) é maior que a pressão total de entrada do bocal (42.99), por isso retornou-se velocidade nula no bocal!!!\n",
      "WARNING: A pressão ambiente (101.33) é maior que a pressão total de entrada do bocal (43.01), por isso retornou-se velocidade nula no bocal!!!\n",
      "WARNING: A pressão ambiente (101.33) é maior que a pressão total de entrada do bocal (43.04), por isso retornou-se velocidade nula no bocal!!!\n",
      "WARNING: A pressão ambiente (101.33) é maior que a pressão total de entrada do bocal (43.06), por isso retornou-se velocidade nula no bocal!!!\n",
      "WARNING: A pressão ambiente (101.33) é maior que a pressão total de entrada do bocal (43.09), por isso retornou-se velocidade nula no bocal!!!\n",
      "WARNING: A pressão ambiente (101.33) é maior que a pressão total de entrada do bocal (43.11), por isso retornou-se velocidade nula no bocal!!!\n",
      "WARNING: A pressão ambiente (101.33) é maior que a pressão total de entrada do bocal (43.14), por isso retornou-se velocidade nula no bocal!!!\n",
      "WARNING: A pressão ambiente (101.33) é maior que a pressão total de entrada do bocal (43.16), por isso retornou-se velocidade nula no bocal!!!\n",
      "WARNING: A pressão ambiente (101.33) é maior que a pressão total de entrada do bocal (43.19), por isso retornou-se velocidade nula no bocal!!!\n",
      "WARNING: A pressão ambiente (101.33) é maior que a pressão total de entrada do bocal (43.21), por isso retornou-se velocidade nula no bocal!!!\n",
      "WARNING: A pressão ambiente (101.33) é maior que a pressão total de entrada do bocal (43.24), por isso retornou-se velocidade nula no bocal!!!\n",
      "WARNING: A pressão ambiente (101.33) é maior que a pressão total de entrada do bocal (43.26), por isso retornou-se velocidade nula no bocal!!!\n",
      "WARNING: A pressão ambiente (101.33) é maior que a pressão total de entrada do bocal (43.29), por isso retornou-se velocidade nula no bocal!!!\n",
      "WARNING: A pressão ambiente (101.33) é maior que a pressão total de entrada do bocal (43.32), por isso retornou-se velocidade nula no bocal!!!\n",
      "WARNING: A pressão ambiente (101.33) é maior que a pressão total de entrada do bocal (43.34), por isso retornou-se velocidade nula no bocal!!!\n",
      "WARNING: A pressão ambiente (101.33) é maior que a pressão total de entrada do bocal (43.37), por isso retornou-se velocidade nula no bocal!!!\n",
      "WARNING: A pressão ambiente (101.33) é maior que a pressão total de entrada do bocal (43.39), por isso retornou-se velocidade nula no bocal!!!\n",
      "WARNING: A pressão ambiente (101.33) é maior que a pressão total de entrada do bocal (43.42), por isso retornou-se velocidade nula no bocal!!!\n",
      "WARNING: A pressão ambiente (101.33) é maior que a pressão total de entrada do bocal (43.44), por isso retornou-se velocidade nula no bocal!!!\n",
      "WARNING: A pressão ambiente (101.33) é maior que a pressão total de entrada do bocal (43.47), por isso retornou-se velocidade nula no bocal!!!\n",
      "WARNING: A pressão ambiente (101.33) é maior que a pressão total de entrada do bocal (43.49), por isso retornou-se velocidade nula no bocal!!!\n",
      "WARNING: A pressão ambiente (101.33) é maior que a pressão total de entrada do bocal (43.52), por isso retornou-se velocidade nula no bocal!!!\n",
      "WARNING: A pressão ambiente (101.33) é maior que a pressão total de entrada do bocal (43.55), por isso retornou-se velocidade nula no bocal!!!\n",
      "WARNING: A pressão ambiente (101.33) é maior que a pressão total de entrada do bocal (43.57), por isso retornou-se velocidade nula no bocal!!!\n",
      "WARNING: A pressão ambiente (101.33) é maior que a pressão total de entrada do bocal (43.60), por isso retornou-se velocidade nula no bocal!!!\n",
      "WARNING: A pressão ambiente (101.33) é maior que a pressão total de entrada do bocal (43.62), por isso retornou-se velocidade nula no bocal!!!\n",
      "WARNING: A pressão ambiente (101.33) é maior que a pressão total de entrada do bocal (43.65), por isso retornou-se velocidade nula no bocal!!!\n",
      "WARNING: A pressão ambiente (101.33) é maior que a pressão total de entrada do bocal (43.67), por isso retornou-se velocidade nula no bocal!!!\n",
      "WARNING: A pressão ambiente (101.33) é maior que a pressão total de entrada do bocal (43.70), por isso retornou-se velocidade nula no bocal!!!\n",
      "WARNING: A pressão ambiente (101.33) é maior que a pressão total de entrada do bocal (43.72), por isso retornou-se velocidade nula no bocal!!!\n",
      "WARNING: A pressão ambiente (101.33) é maior que a pressão total de entrada do bocal (43.75), por isso retornou-se velocidade nula no bocal!!!\n",
      "WARNING: A pressão ambiente (101.33) é maior que a pressão total de entrada do bocal (43.78), por isso retornou-se velocidade nula no bocal!!!\n",
      "WARNING: A pressão ambiente (101.33) é maior que a pressão total de entrada do bocal (43.80), por isso retornou-se velocidade nula no bocal!!!\n",
      "WARNING: A pressão ambiente (101.33) é maior que a pressão total de entrada do bocal (43.83), por isso retornou-se velocidade nula no bocal!!!\n",
      "WARNING: A pressão ambiente (101.33) é maior que a pressão total de entrada do bocal (43.85), por isso retornou-se velocidade nula no bocal!!!\n",
      "WARNING: A pressão ambiente (101.33) é maior que a pressão total de entrada do bocal (43.88), por isso retornou-se velocidade nula no bocal!!!\n",
      "WARNING: A pressão ambiente (101.33) é maior que a pressão total de entrada do bocal (43.90), por isso retornou-se velocidade nula no bocal!!!\n",
      "WARNING: A pressão ambiente (101.33) é maior que a pressão total de entrada do bocal (43.93), por isso retornou-se velocidade nula no bocal!!!\n",
      "WARNING: A pressão ambiente (101.33) é maior que a pressão total de entrada do bocal (43.95), por isso retornou-se velocidade nula no bocal!!!\n",
      "WARNING: A pressão ambiente (101.33) é maior que a pressão total de entrada do bocal (43.98), por isso retornou-se velocidade nula no bocal!!!\n",
      "WARNING: A pressão ambiente (101.33) é maior que a pressão total de entrada do bocal (44.01), por isso retornou-se velocidade nula no bocal!!!\n",
      "WARNING: A pressão ambiente (101.33) é maior que a pressão total de entrada do bocal (44.03), por isso retornou-se velocidade nula no bocal!!!\n",
      "WARNING: A pressão ambiente (101.33) é maior que a pressão total de entrada do bocal (44.06), por isso retornou-se velocidade nula no bocal!!!\n",
      "WARNING: A pressão ambiente (101.33) é maior que a pressão total de entrada do bocal (44.08), por isso retornou-se velocidade nula no bocal!!!\n",
      "WARNING: A pressão ambiente (101.33) é maior que a pressão total de entrada do bocal (44.11), por isso retornou-se velocidade nula no bocal!!!\n",
      "WARNING: A pressão ambiente (101.33) é maior que a pressão total de entrada do bocal (44.13), por isso retornou-se velocidade nula no bocal!!!\n",
      "WARNING: A pressão ambiente (101.33) é maior que a pressão total de entrada do bocal (44.16), por isso retornou-se velocidade nula no bocal!!!\n",
      "WARNING: A pressão ambiente (101.33) é maior que a pressão total de entrada do bocal (44.19), por isso retornou-se velocidade nula no bocal!!!\n",
      "WARNING: A pressão ambiente (101.33) é maior que a pressão total de entrada do bocal (44.21), por isso retornou-se velocidade nula no bocal!!!\n",
      "WARNING: A pressão ambiente (101.33) é maior que a pressão total de entrada do bocal (44.24), por isso retornou-se velocidade nula no bocal!!!\n",
      "WARNING: A pressão ambiente (101.33) é maior que a pressão total de entrada do bocal (44.26), por isso retornou-se velocidade nula no bocal!!!\n",
      "WARNING: A pressão ambiente (101.33) é maior que a pressão total de entrada do bocal (44.29), por isso retornou-se velocidade nula no bocal!!!\n",
      "WARNING: A pressão ambiente (101.33) é maior que a pressão total de entrada do bocal (44.31), por isso retornou-se velocidade nula no bocal!!!\n",
      "WARNING: A pressão ambiente (101.33) é maior que a pressão total de entrada do bocal (44.34), por isso retornou-se velocidade nula no bocal!!!\n",
      "WARNING: A pressão ambiente (101.33) é maior que a pressão total de entrada do bocal (44.37), por isso retornou-se velocidade nula no bocal!!!\n",
      "WARNING: A pressão ambiente (101.33) é maior que a pressão total de entrada do bocal (44.39), por isso retornou-se velocidade nula no bocal!!!\n",
      "WARNING: A pressão ambiente (101.33) é maior que a pressão total de entrada do bocal (44.42), por isso retornou-se velocidade nula no bocal!!!\n",
      "WARNING: A pressão ambiente (101.33) é maior que a pressão total de entrada do bocal (44.44), por isso retornou-se velocidade nula no bocal!!!\n",
      "WARNING: A pressão ambiente (101.33) é maior que a pressão total de entrada do bocal (44.47), por isso retornou-se velocidade nula no bocal!!!\n",
      "WARNING: A pressão ambiente (101.33) é maior que a pressão total de entrada do bocal (44.49), por isso retornou-se velocidade nula no bocal!!!\n",
      "WARNING: A pressão ambiente (101.33) é maior que a pressão total de entrada do bocal (44.52), por isso retornou-se velocidade nula no bocal!!!\n",
      "WARNING: A pressão ambiente (101.33) é maior que a pressão total de entrada do bocal (44.55), por isso retornou-se velocidade nula no bocal!!!\n",
      "WARNING: A pressão ambiente (101.33) é maior que a pressão total de entrada do bocal (44.57), por isso retornou-se velocidade nula no bocal!!!\n",
      "WARNING: A pressão ambiente (101.33) é maior que a pressão total de entrada do bocal (44.60), por isso retornou-se velocidade nula no bocal!!!\n",
      "WARNING: A pressão ambiente (101.33) é maior que a pressão total de entrada do bocal (44.62), por isso retornou-se velocidade nula no bocal!!!\n",
      "WARNING: A pressão ambiente (101.33) é maior que a pressão total de entrada do bocal (44.65), por isso retornou-se velocidade nula no bocal!!!\n",
      "WARNING: A pressão ambiente (101.33) é maior que a pressão total de entrada do bocal (44.68), por isso retornou-se velocidade nula no bocal!!!\n",
      "WARNING: A pressão ambiente (101.33) é maior que a pressão total de entrada do bocal (44.70), por isso retornou-se velocidade nula no bocal!!!\n",
      "WARNING: A pressão ambiente (101.33) é maior que a pressão total de entrada do bocal (44.73), por isso retornou-se velocidade nula no bocal!!!\n",
      "WARNING: A pressão ambiente (101.33) é maior que a pressão total de entrada do bocal (44.75), por isso retornou-se velocidade nula no bocal!!!\n",
      "WARNING: A pressão ambiente (101.33) é maior que a pressão total de entrada do bocal (44.78), por isso retornou-se velocidade nula no bocal!!!\n",
      "WARNING: A pressão ambiente (101.33) é maior que a pressão total de entrada do bocal (44.80), por isso retornou-se velocidade nula no bocal!!!\n",
      "WARNING: A pressão ambiente (101.33) é maior que a pressão total de entrada do bocal (44.83), por isso retornou-se velocidade nula no bocal!!!\n",
      "WARNING: A pressão ambiente (101.33) é maior que a pressão total de entrada do bocal (44.86), por isso retornou-se velocidade nula no bocal!!!\n",
      "WARNING: A pressão ambiente (101.33) é maior que a pressão total de entrada do bocal (44.88), por isso retornou-se velocidade nula no bocal!!!\n",
      "WARNING: A pressão ambiente (101.33) é maior que a pressão total de entrada do bocal (44.91), por isso retornou-se velocidade nula no bocal!!!\n",
      "WARNING: A pressão ambiente (101.33) é maior que a pressão total de entrada do bocal (44.93), por isso retornou-se velocidade nula no bocal!!!\n",
      "WARNING: A pressão ambiente (101.33) é maior que a pressão total de entrada do bocal (44.96), por isso retornou-se velocidade nula no bocal!!!\n",
      "WARNING: A pressão ambiente (101.33) é maior que a pressão total de entrada do bocal (44.99), por isso retornou-se velocidade nula no bocal!!!\n",
      "WARNING: A pressão ambiente (101.33) é maior que a pressão total de entrada do bocal (45.01), por isso retornou-se velocidade nula no bocal!!!\n",
      "WARNING: A pressão ambiente (101.33) é maior que a pressão total de entrada do bocal (45.04), por isso retornou-se velocidade nula no bocal!!!\n",
      "WARNING: A pressão ambiente (101.33) é maior que a pressão total de entrada do bocal (45.06), por isso retornou-se velocidade nula no bocal!!!\n",
      "WARNING: A pressão ambiente (101.33) é maior que a pressão total de entrada do bocal (45.09), por isso retornou-se velocidade nula no bocal!!!\n",
      "WARNING: A pressão ambiente (101.33) é maior que a pressão total de entrada do bocal (45.12), por isso retornou-se velocidade nula no bocal!!!\n",
      "WARNING: A pressão ambiente (101.33) é maior que a pressão total de entrada do bocal (45.14), por isso retornou-se velocidade nula no bocal!!!\n",
      "WARNING: A pressão ambiente (101.33) é maior que a pressão total de entrada do bocal (45.17), por isso retornou-se velocidade nula no bocal!!!\n",
      "WARNING: A pressão ambiente (101.33) é maior que a pressão total de entrada do bocal (45.19), por isso retornou-se velocidade nula no bocal!!!\n",
      "WARNING: A pressão ambiente (101.33) é maior que a pressão total de entrada do bocal (45.22), por isso retornou-se velocidade nula no bocal!!!\n",
      "WARNING: A pressão ambiente (101.33) é maior que a pressão total de entrada do bocal (45.25), por isso retornou-se velocidade nula no bocal!!!\n",
      "WARNING: A pressão ambiente (101.33) é maior que a pressão total de entrada do bocal (45.27), por isso retornou-se velocidade nula no bocal!!!\n",
      "WARNING: A pressão ambiente (101.33) é maior que a pressão total de entrada do bocal (45.30), por isso retornou-se velocidade nula no bocal!!!\n",
      "WARNING: A pressão ambiente (101.33) é maior que a pressão total de entrada do bocal (45.32), por isso retornou-se velocidade nula no bocal!!!\n",
      "WARNING: A pressão ambiente (101.33) é maior que a pressão total de entrada do bocal (45.35), por isso retornou-se velocidade nula no bocal!!!\n",
      "WARNING: A pressão ambiente (101.33) é maior que a pressão total de entrada do bocal (45.38), por isso retornou-se velocidade nula no bocal!!!\n",
      "WARNING: A pressão ambiente (101.33) é maior que a pressão total de entrada do bocal (45.40), por isso retornou-se velocidade nula no bocal!!!\n",
      "WARNING: A pressão ambiente (101.33) é maior que a pressão total de entrada do bocal (45.43), por isso retornou-se velocidade nula no bocal!!!\n",
      "WARNING: A pressão ambiente (101.33) é maior que a pressão total de entrada do bocal (45.45), por isso retornou-se velocidade nula no bocal!!!\n",
      "WARNING: A pressão ambiente (101.33) é maior que a pressão total de entrada do bocal (45.48), por isso retornou-se velocidade nula no bocal!!!\n",
      "WARNING: A pressão ambiente (101.33) é maior que a pressão total de entrada do bocal (45.51), por isso retornou-se velocidade nula no bocal!!!\n",
      "WARNING: A pressão ambiente (101.33) é maior que a pressão total de entrada do bocal (45.53), por isso retornou-se velocidade nula no bocal!!!\n",
      "WARNING: A pressão ambiente (101.33) é maior que a pressão total de entrada do bocal (45.56), por isso retornou-se velocidade nula no bocal!!!\n",
      "WARNING: A pressão ambiente (101.33) é maior que a pressão total de entrada do bocal (45.58), por isso retornou-se velocidade nula no bocal!!!\n",
      "WARNING: A pressão ambiente (101.33) é maior que a pressão total de entrada do bocal (45.61), por isso retornou-se velocidade nula no bocal!!!\n",
      "WARNING: A pressão ambiente (101.33) é maior que a pressão total de entrada do bocal (45.64), por isso retornou-se velocidade nula no bocal!!!\n",
      "WARNING: A pressão ambiente (101.33) é maior que a pressão total de entrada do bocal (45.66), por isso retornou-se velocidade nula no bocal!!!\n",
      "WARNING: A pressão ambiente (101.33) é maior que a pressão total de entrada do bocal (45.69), por isso retornou-se velocidade nula no bocal!!!\n",
      "WARNING: A pressão ambiente (101.33) é maior que a pressão total de entrada do bocal (45.71), por isso retornou-se velocidade nula no bocal!!!\n",
      "WARNING: A pressão ambiente (101.33) é maior que a pressão total de entrada do bocal (45.74), por isso retornou-se velocidade nula no bocal!!!\n",
      "WARNING: A pressão ambiente (101.33) é maior que a pressão total de entrada do bocal (45.77), por isso retornou-se velocidade nula no bocal!!!\n",
      "WARNING: A pressão ambiente (101.33) é maior que a pressão total de entrada do bocal (45.79), por isso retornou-se velocidade nula no bocal!!!\n",
      "WARNING: A pressão ambiente (101.33) é maior que a pressão total de entrada do bocal (45.82), por isso retornou-se velocidade nula no bocal!!!\n",
      "WARNING: A pressão ambiente (101.33) é maior que a pressão total de entrada do bocal (45.85), por isso retornou-se velocidade nula no bocal!!!\n",
      "WARNING: A pressão ambiente (101.33) é maior que a pressão total de entrada do bocal (45.87), por isso retornou-se velocidade nula no bocal!!!\n",
      "WARNING: A pressão ambiente (101.33) é maior que a pressão total de entrada do bocal (45.90), por isso retornou-se velocidade nula no bocal!!!\n",
      "WARNING: A pressão ambiente (101.33) é maior que a pressão total de entrada do bocal (45.92), por isso retornou-se velocidade nula no bocal!!!\n",
      "WARNING: A pressão ambiente (101.33) é maior que a pressão total de entrada do bocal (45.95), por isso retornou-se velocidade nula no bocal!!!\n",
      "WARNING: A pressão ambiente (101.33) é maior que a pressão total de entrada do bocal (45.98), por isso retornou-se velocidade nula no bocal!!!\n",
      "WARNING: A pressão ambiente (101.33) é maior que a pressão total de entrada do bocal (46.00), por isso retornou-se velocidade nula no bocal!!!\n",
      "WARNING: A pressão ambiente (101.33) é maior que a pressão total de entrada do bocal (46.03), por isso retornou-se velocidade nula no bocal!!!\n",
      "WARNING: A pressão ambiente (101.33) é maior que a pressão total de entrada do bocal (46.05), por isso retornou-se velocidade nula no bocal!!!\n",
      "WARNING: A pressão ambiente (101.33) é maior que a pressão total de entrada do bocal (46.08), por isso retornou-se velocidade nula no bocal!!!\n",
      "WARNING: A pressão ambiente (101.33) é maior que a pressão total de entrada do bocal (46.11), por isso retornou-se velocidade nula no bocal!!!\n",
      "WARNING: A pressão ambiente (101.33) é maior que a pressão total de entrada do bocal (46.13), por isso retornou-se velocidade nula no bocal!!!\n",
      "WARNING: A pressão ambiente (101.33) é maior que a pressão total de entrada do bocal (46.16), por isso retornou-se velocidade nula no bocal!!!\n",
      "WARNING: A pressão ambiente (101.33) é maior que a pressão total de entrada do bocal (46.19), por isso retornou-se velocidade nula no bocal!!!\n",
      "WARNING: A pressão ambiente (101.33) é maior que a pressão total de entrada do bocal (46.21), por isso retornou-se velocidade nula no bocal!!!\n",
      "WARNING: A pressão ambiente (101.33) é maior que a pressão total de entrada do bocal (46.24), por isso retornou-se velocidade nula no bocal!!!\n",
      "WARNING: A pressão ambiente (101.33) é maior que a pressão total de entrada do bocal (46.26), por isso retornou-se velocidade nula no bocal!!!\n",
      "WARNING: A pressão ambiente (101.33) é maior que a pressão total de entrada do bocal (46.29), por isso retornou-se velocidade nula no bocal!!!\n",
      "WARNING: A pressão ambiente (101.33) é maior que a pressão total de entrada do bocal (46.32), por isso retornou-se velocidade nula no bocal!!!\n",
      "WARNING: A pressão ambiente (101.33) é maior que a pressão total de entrada do bocal (46.34), por isso retornou-se velocidade nula no bocal!!!\n",
      "WARNING: A pressão ambiente (101.33) é maior que a pressão total de entrada do bocal (46.37), por isso retornou-se velocidade nula no bocal!!!\n",
      "WARNING: A pressão ambiente (101.33) é maior que a pressão total de entrada do bocal (46.40), por isso retornou-se velocidade nula no bocal!!!\n",
      "WARNING: A pressão ambiente (101.33) é maior que a pressão total de entrada do bocal (46.42), por isso retornou-se velocidade nula no bocal!!!\n",
      "WARNING: A pressão ambiente (101.33) é maior que a pressão total de entrada do bocal (46.45), por isso retornou-se velocidade nula no bocal!!!\n",
      "WARNING: A pressão ambiente (101.33) é maior que a pressão total de entrada do bocal (46.48), por isso retornou-se velocidade nula no bocal!!!\n",
      "WARNING: A pressão ambiente (101.33) é maior que a pressão total de entrada do bocal (46.50), por isso retornou-se velocidade nula no bocal!!!\n",
      "WARNING: A pressão ambiente (101.33) é maior que a pressão total de entrada do bocal (46.53), por isso retornou-se velocidade nula no bocal!!!\n",
      "WARNING: A pressão ambiente (101.33) é maior que a pressão total de entrada do bocal (46.55), por isso retornou-se velocidade nula no bocal!!!\n",
      "WARNING: A pressão ambiente (101.33) é maior que a pressão total de entrada do bocal (46.58), por isso retornou-se velocidade nula no bocal!!!\n",
      "WARNING: A pressão ambiente (101.33) é maior que a pressão total de entrada do bocal (46.61), por isso retornou-se velocidade nula no bocal!!!\n",
      "WARNING: A pressão ambiente (101.33) é maior que a pressão total de entrada do bocal (46.63), por isso retornou-se velocidade nula no bocal!!!\n",
      "WARNING: A pressão ambiente (101.33) é maior que a pressão total de entrada do bocal (46.66), por isso retornou-se velocidade nula no bocal!!!\n",
      "WARNING: A pressão ambiente (101.33) é maior que a pressão total de entrada do bocal (46.69), por isso retornou-se velocidade nula no bocal!!!\n",
      "WARNING: A pressão ambiente (101.33) é maior que a pressão total de entrada do bocal (46.71), por isso retornou-se velocidade nula no bocal!!!\n",
      "WARNING: A pressão ambiente (101.33) é maior que a pressão total de entrada do bocal (46.74), por isso retornou-se velocidade nula no bocal!!!\n",
      "WARNING: A pressão ambiente (101.33) é maior que a pressão total de entrada do bocal (46.77), por isso retornou-se velocidade nula no bocal!!!\n",
      "WARNING: A pressão ambiente (101.33) é maior que a pressão total de entrada do bocal (46.79), por isso retornou-se velocidade nula no bocal!!!\n",
      "WARNING: A pressão ambiente (101.33) é maior que a pressão total de entrada do bocal (46.82), por isso retornou-se velocidade nula no bocal!!!\n",
      "WARNING: A pressão ambiente (101.33) é maior que a pressão total de entrada do bocal (46.84), por isso retornou-se velocidade nula no bocal!!!\n",
      "WARNING: A pressão ambiente (101.33) é maior que a pressão total de entrada do bocal (46.87), por isso retornou-se velocidade nula no bocal!!!\n",
      "WARNING: A pressão ambiente (101.33) é maior que a pressão total de entrada do bocal (46.90), por isso retornou-se velocidade nula no bocal!!!\n",
      "WARNING: A pressão ambiente (101.33) é maior que a pressão total de entrada do bocal (46.92), por isso retornou-se velocidade nula no bocal!!!\n",
      "WARNING: A pressão ambiente (101.33) é maior que a pressão total de entrada do bocal (46.95), por isso retornou-se velocidade nula no bocal!!!\n",
      "WARNING: A pressão ambiente (101.33) é maior que a pressão total de entrada do bocal (46.98), por isso retornou-se velocidade nula no bocal!!!\n",
      "WARNING: A pressão ambiente (101.33) é maior que a pressão total de entrada do bocal (47.00), por isso retornou-se velocidade nula no bocal!!!\n",
      "WARNING: A pressão ambiente (101.33) é maior que a pressão total de entrada do bocal (47.03), por isso retornou-se velocidade nula no bocal!!!\n",
      "WARNING: A pressão ambiente (101.33) é maior que a pressão total de entrada do bocal (47.06), por isso retornou-se velocidade nula no bocal!!!\n",
      "WARNING: A pressão ambiente (101.33) é maior que a pressão total de entrada do bocal (47.08), por isso retornou-se velocidade nula no bocal!!!\n",
      "WARNING: A pressão ambiente (101.33) é maior que a pressão total de entrada do bocal (47.11), por isso retornou-se velocidade nula no bocal!!!\n",
      "WARNING: A pressão ambiente (101.33) é maior que a pressão total de entrada do bocal (47.14), por isso retornou-se velocidade nula no bocal!!!\n",
      "WARNING: A pressão ambiente (101.33) é maior que a pressão total de entrada do bocal (47.16), por isso retornou-se velocidade nula no bocal!!!\n",
      "WARNING: A pressão ambiente (101.33) é maior que a pressão total de entrada do bocal (47.19), por isso retornou-se velocidade nula no bocal!!!\n",
      "WARNING: A pressão ambiente (101.33) é maior que a pressão total de entrada do bocal (47.22), por isso retornou-se velocidade nula no bocal!!!\n",
      "WARNING: A pressão ambiente (101.33) é maior que a pressão total de entrada do bocal (47.24), por isso retornou-se velocidade nula no bocal!!!\n",
      "WARNING: A pressão ambiente (101.33) é maior que a pressão total de entrada do bocal (47.27), por isso retornou-se velocidade nula no bocal!!!\n",
      "WARNING: A pressão ambiente (101.33) é maior que a pressão total de entrada do bocal (47.30), por isso retornou-se velocidade nula no bocal!!!\n",
      "WARNING: A pressão ambiente (101.33) é maior que a pressão total de entrada do bocal (47.32), por isso retornou-se velocidade nula no bocal!!!\n",
      "WARNING: A pressão ambiente (101.33) é maior que a pressão total de entrada do bocal (47.35), por isso retornou-se velocidade nula no bocal!!!\n",
      "WARNING: A pressão ambiente (101.33) é maior que a pressão total de entrada do bocal (47.37), por isso retornou-se velocidade nula no bocal!!!\n",
      "WARNING: A pressão ambiente (101.33) é maior que a pressão total de entrada do bocal (47.40), por isso retornou-se velocidade nula no bocal!!!\n",
      "WARNING: A pressão ambiente (101.33) é maior que a pressão total de entrada do bocal (47.43), por isso retornou-se velocidade nula no bocal!!!\n",
      "WARNING: A pressão ambiente (101.33) é maior que a pressão total de entrada do bocal (47.45), por isso retornou-se velocidade nula no bocal!!!\n",
      "WARNING: A pressão ambiente (101.33) é maior que a pressão total de entrada do bocal (47.48), por isso retornou-se velocidade nula no bocal!!!\n",
      "WARNING: A pressão ambiente (101.33) é maior que a pressão total de entrada do bocal (47.51), por isso retornou-se velocidade nula no bocal!!!\n",
      "WARNING: A pressão ambiente (101.33) é maior que a pressão total de entrada do bocal (47.53), por isso retornou-se velocidade nula no bocal!!!\n",
      "WARNING: A pressão ambiente (101.33) é maior que a pressão total de entrada do bocal (47.56), por isso retornou-se velocidade nula no bocal!!!\n",
      "WARNING: A pressão ambiente (101.33) é maior que a pressão total de entrada do bocal (47.59), por isso retornou-se velocidade nula no bocal!!!\n",
      "WARNING: A pressão ambiente (101.33) é maior que a pressão total de entrada do bocal (47.61), por isso retornou-se velocidade nula no bocal!!!\n",
      "WARNING: A pressão ambiente (101.33) é maior que a pressão total de entrada do bocal (47.64), por isso retornou-se velocidade nula no bocal!!!\n",
      "WARNING: A pressão ambiente (101.33) é maior que a pressão total de entrada do bocal (47.67), por isso retornou-se velocidade nula no bocal!!!\n",
      "WARNING: A pressão ambiente (101.33) é maior que a pressão total de entrada do bocal (47.69), por isso retornou-se velocidade nula no bocal!!!\n",
      "WARNING: A pressão ambiente (101.33) é maior que a pressão total de entrada do bocal (47.72), por isso retornou-se velocidade nula no bocal!!!\n",
      "WARNING: A pressão ambiente (101.33) é maior que a pressão total de entrada do bocal (47.75), por isso retornou-se velocidade nula no bocal!!!\n",
      "WARNING: A pressão ambiente (101.33) é maior que a pressão total de entrada do bocal (47.77), por isso retornou-se velocidade nula no bocal!!!\n",
      "WARNING: A pressão ambiente (101.33) é maior que a pressão total de entrada do bocal (47.80), por isso retornou-se velocidade nula no bocal!!!\n",
      "WARNING: A pressão ambiente (101.33) é maior que a pressão total de entrada do bocal (47.83), por isso retornou-se velocidade nula no bocal!!!\n",
      "WARNING: A pressão ambiente (101.33) é maior que a pressão total de entrada do bocal (47.85), por isso retornou-se velocidade nula no bocal!!!\n",
      "WARNING: A pressão ambiente (101.33) é maior que a pressão total de entrada do bocal (47.88), por isso retornou-se velocidade nula no bocal!!!\n",
      "WARNING: A pressão ambiente (101.33) é maior que a pressão total de entrada do bocal (47.91), por isso retornou-se velocidade nula no bocal!!!\n",
      "WARNING: A pressão ambiente (101.33) é maior que a pressão total de entrada do bocal (47.93), por isso retornou-se velocidade nula no bocal!!!\n",
      "WARNING: A pressão ambiente (101.33) é maior que a pressão total de entrada do bocal (47.96), por isso retornou-se velocidade nula no bocal!!!\n",
      "WARNING: A pressão ambiente (101.33) é maior que a pressão total de entrada do bocal (47.99), por isso retornou-se velocidade nula no bocal!!!\n",
      "WARNING: A pressão ambiente (101.33) é maior que a pressão total de entrada do bocal (48.01), por isso retornou-se velocidade nula no bocal!!!\n",
      "WARNING: A pressão ambiente (101.33) é maior que a pressão total de entrada do bocal (48.04), por isso retornou-se velocidade nula no bocal!!!\n",
      "WARNING: A pressão ambiente (101.33) é maior que a pressão total de entrada do bocal (48.07), por isso retornou-se velocidade nula no bocal!!!\n",
      "WARNING: A pressão ambiente (101.33) é maior que a pressão total de entrada do bocal (48.10), por isso retornou-se velocidade nula no bocal!!!\n",
      "WARNING: A pressão ambiente (101.33) é maior que a pressão total de entrada do bocal (48.12), por isso retornou-se velocidade nula no bocal!!!\n",
      "WARNING: A pressão ambiente (101.33) é maior que a pressão total de entrada do bocal (48.15), por isso retornou-se velocidade nula no bocal!!!\n",
      "WARNING: A pressão ambiente (101.33) é maior que a pressão total de entrada do bocal (48.18), por isso retornou-se velocidade nula no bocal!!!\n",
      "WARNING: A pressão ambiente (101.33) é maior que a pressão total de entrada do bocal (48.20), por isso retornou-se velocidade nula no bocal!!!\n",
      "WARNING: A pressão ambiente (101.33) é maior que a pressão total de entrada do bocal (48.23), por isso retornou-se velocidade nula no bocal!!!\n",
      "WARNING: A pressão ambiente (101.33) é maior que a pressão total de entrada do bocal (48.26), por isso retornou-se velocidade nula no bocal!!!\n",
      "WARNING: A pressão ambiente (101.33) é maior que a pressão total de entrada do bocal (48.28), por isso retornou-se velocidade nula no bocal!!!\n",
      "WARNING: A pressão ambiente (101.33) é maior que a pressão total de entrada do bocal (48.31), por isso retornou-se velocidade nula no bocal!!!\n",
      "WARNING: A pressão ambiente (101.33) é maior que a pressão total de entrada do bocal (48.34), por isso retornou-se velocidade nula no bocal!!!\n",
      "WARNING: A pressão ambiente (101.33) é maior que a pressão total de entrada do bocal (48.36), por isso retornou-se velocidade nula no bocal!!!\n",
      "WARNING: A pressão ambiente (101.33) é maior que a pressão total de entrada do bocal (48.39), por isso retornou-se velocidade nula no bocal!!!\n",
      "WARNING: A pressão ambiente (101.33) é maior que a pressão total de entrada do bocal (48.42), por isso retornou-se velocidade nula no bocal!!!\n",
      "WARNING: A pressão ambiente (101.33) é maior que a pressão total de entrada do bocal (48.44), por isso retornou-se velocidade nula no bocal!!!\n",
      "WARNING: A pressão ambiente (101.33) é maior que a pressão total de entrada do bocal (48.47), por isso retornou-se velocidade nula no bocal!!!\n",
      "WARNING: A pressão ambiente (101.33) é maior que a pressão total de entrada do bocal (48.50), por isso retornou-se velocidade nula no bocal!!!\n",
      "WARNING: A pressão ambiente (101.33) é maior que a pressão total de entrada do bocal (48.52), por isso retornou-se velocidade nula no bocal!!!\n",
      "WARNING: A pressão ambiente (101.33) é maior que a pressão total de entrada do bocal (48.55), por isso retornou-se velocidade nula no bocal!!!\n",
      "WARNING: A pressão ambiente (101.33) é maior que a pressão total de entrada do bocal (48.58), por isso retornou-se velocidade nula no bocal!!!\n",
      "WARNING: A pressão ambiente (101.33) é maior que a pressão total de entrada do bocal (48.61), por isso retornou-se velocidade nula no bocal!!!\n",
      "WARNING: A pressão ambiente (101.33) é maior que a pressão total de entrada do bocal (48.63), por isso retornou-se velocidade nula no bocal!!!\n",
      "WARNING: A pressão ambiente (101.33) é maior que a pressão total de entrada do bocal (48.66), por isso retornou-se velocidade nula no bocal!!!\n",
      "WARNING: A pressão ambiente (101.33) é maior que a pressão total de entrada do bocal (48.69), por isso retornou-se velocidade nula no bocal!!!\n",
      "WARNING: A pressão ambiente (101.33) é maior que a pressão total de entrada do bocal (48.71), por isso retornou-se velocidade nula no bocal!!!\n",
      "WARNING: A pressão ambiente (101.33) é maior que a pressão total de entrada do bocal (48.74), por isso retornou-se velocidade nula no bocal!!!\n",
      "WARNING: A pressão ambiente (101.33) é maior que a pressão total de entrada do bocal (48.77), por isso retornou-se velocidade nula no bocal!!!\n",
      "WARNING: A pressão ambiente (101.33) é maior que a pressão total de entrada do bocal (48.79), por isso retornou-se velocidade nula no bocal!!!\n",
      "WARNING: A pressão ambiente (101.33) é maior que a pressão total de entrada do bocal (48.82), por isso retornou-se velocidade nula no bocal!!!\n",
      "WARNING: A pressão ambiente (101.33) é maior que a pressão total de entrada do bocal (48.85), por isso retornou-se velocidade nula no bocal!!!\n",
      "WARNING: A pressão ambiente (101.33) é maior que a pressão total de entrada do bocal (48.87), por isso retornou-se velocidade nula no bocal!!!\n",
      "WARNING: A pressão ambiente (101.33) é maior que a pressão total de entrada do bocal (48.90), por isso retornou-se velocidade nula no bocal!!!\n",
      "WARNING: A pressão ambiente (101.33) é maior que a pressão total de entrada do bocal (48.93), por isso retornou-se velocidade nula no bocal!!!\n",
      "WARNING: A pressão ambiente (101.33) é maior que a pressão total de entrada do bocal (48.96), por isso retornou-se velocidade nula no bocal!!!\n",
      "WARNING: A pressão ambiente (101.33) é maior que a pressão total de entrada do bocal (48.98), por isso retornou-se velocidade nula no bocal!!!\n",
      "WARNING: A pressão ambiente (101.33) é maior que a pressão total de entrada do bocal (49.01), por isso retornou-se velocidade nula no bocal!!!\n",
      "WARNING: A pressão ambiente (101.33) é maior que a pressão total de entrada do bocal (49.04), por isso retornou-se velocidade nula no bocal!!!\n",
      "WARNING: A pressão ambiente (101.33) é maior que a pressão total de entrada do bocal (49.06), por isso retornou-se velocidade nula no bocal!!!\n",
      "WARNING: A pressão ambiente (101.33) é maior que a pressão total de entrada do bocal (49.09), por isso retornou-se velocidade nula no bocal!!!\n",
      "WARNING: A pressão ambiente (101.33) é maior que a pressão total de entrada do bocal (49.12), por isso retornou-se velocidade nula no bocal!!!\n",
      "WARNING: A pressão ambiente (101.33) é maior que a pressão total de entrada do bocal (49.14), por isso retornou-se velocidade nula no bocal!!!\n",
      "WARNING: A pressão ambiente (101.33) é maior que a pressão total de entrada do bocal (49.17), por isso retornou-se velocidade nula no bocal!!!\n",
      "WARNING: A pressão ambiente (101.33) é maior que a pressão total de entrada do bocal (49.20), por isso retornou-se velocidade nula no bocal!!!\n",
      "WARNING: A pressão ambiente (101.33) é maior que a pressão total de entrada do bocal (49.23), por isso retornou-se velocidade nula no bocal!!!\n",
      "WARNING: A pressão ambiente (101.33) é maior que a pressão total de entrada do bocal (49.25), por isso retornou-se velocidade nula no bocal!!!\n",
      "WARNING: A pressão ambiente (101.33) é maior que a pressão total de entrada do bocal (49.28), por isso retornou-se velocidade nula no bocal!!!\n",
      "WARNING: A pressão ambiente (101.33) é maior que a pressão total de entrada do bocal (49.31), por isso retornou-se velocidade nula no bocal!!!\n",
      "WARNING: A pressão ambiente (101.33) é maior que a pressão total de entrada do bocal (49.33), por isso retornou-se velocidade nula no bocal!!!\n",
      "WARNING: A pressão ambiente (101.33) é maior que a pressão total de entrada do bocal (49.36), por isso retornou-se velocidade nula no bocal!!!\n",
      "WARNING: A pressão ambiente (101.33) é maior que a pressão total de entrada do bocal (49.39), por isso retornou-se velocidade nula no bocal!!!\n",
      "WARNING: A pressão ambiente (101.33) é maior que a pressão total de entrada do bocal (49.42), por isso retornou-se velocidade nula no bocal!!!\n",
      "WARNING: A pressão ambiente (101.33) é maior que a pressão total de entrada do bocal (49.44), por isso retornou-se velocidade nula no bocal!!!\n",
      "WARNING: A pressão ambiente (101.33) é maior que a pressão total de entrada do bocal (49.47), por isso retornou-se velocidade nula no bocal!!!\n",
      "WARNING: A pressão ambiente (101.33) é maior que a pressão total de entrada do bocal (49.50), por isso retornou-se velocidade nula no bocal!!!\n",
      "WARNING: A pressão ambiente (101.33) é maior que a pressão total de entrada do bocal (49.52), por isso retornou-se velocidade nula no bocal!!!\n",
      "WARNING: A pressão ambiente (101.33) é maior que a pressão total de entrada do bocal (49.55), por isso retornou-se velocidade nula no bocal!!!\n",
      "WARNING: A pressão ambiente (101.33) é maior que a pressão total de entrada do bocal (49.58), por isso retornou-se velocidade nula no bocal!!!\n",
      "WARNING: A pressão ambiente (101.33) é maior que a pressão total de entrada do bocal (49.61), por isso retornou-se velocidade nula no bocal!!!\n",
      "WARNING: A pressão ambiente (101.33) é maior que a pressão total de entrada do bocal (49.63), por isso retornou-se velocidade nula no bocal!!!\n",
      "WARNING: A pressão ambiente (101.33) é maior que a pressão total de entrada do bocal (49.66), por isso retornou-se velocidade nula no bocal!!!\n",
      "WARNING: A pressão ambiente (101.33) é maior que a pressão total de entrada do bocal (49.69), por isso retornou-se velocidade nula no bocal!!!\n",
      "WARNING: A pressão ambiente (101.33) é maior que a pressão total de entrada do bocal (49.71), por isso retornou-se velocidade nula no bocal!!!\n",
      "WARNING: A pressão ambiente (101.33) é maior que a pressão total de entrada do bocal (49.74), por isso retornou-se velocidade nula no bocal!!!\n",
      "WARNING: A pressão ambiente (101.33) é maior que a pressão total de entrada do bocal (49.77), por isso retornou-se velocidade nula no bocal!!!\n",
      "WARNING: A pressão ambiente (101.33) é maior que a pressão total de entrada do bocal (49.80), por isso retornou-se velocidade nula no bocal!!!\n",
      "WARNING: A pressão ambiente (101.33) é maior que a pressão total de entrada do bocal (49.82), por isso retornou-se velocidade nula no bocal!!!\n",
      "WARNING: A pressão ambiente (101.33) é maior que a pressão total de entrada do bocal (49.85), por isso retornou-se velocidade nula no bocal!!!\n",
      "WARNING: A pressão ambiente (101.33) é maior que a pressão total de entrada do bocal (49.88), por isso retornou-se velocidade nula no bocal!!!\n",
      "WARNING: A pressão ambiente (101.33) é maior que a pressão total de entrada do bocal (49.91), por isso retornou-se velocidade nula no bocal!!!\n",
      "WARNING: A pressão ambiente (101.33) é maior que a pressão total de entrada do bocal (49.93), por isso retornou-se velocidade nula no bocal!!!\n",
      "WARNING: A pressão ambiente (101.33) é maior que a pressão total de entrada do bocal (49.96), por isso retornou-se velocidade nula no bocal!!!\n",
      "WARNING: A pressão ambiente (101.33) é maior que a pressão total de entrada do bocal (49.99), por isso retornou-se velocidade nula no bocal!!!\n",
      "WARNING: A pressão ambiente (101.33) é maior que a pressão total de entrada do bocal (50.01), por isso retornou-se velocidade nula no bocal!!!\n",
      "WARNING: A pressão ambiente (101.33) é maior que a pressão total de entrada do bocal (50.04), por isso retornou-se velocidade nula no bocal!!!\n",
      "WARNING: A pressão ambiente (101.33) é maior que a pressão total de entrada do bocal (50.07), por isso retornou-se velocidade nula no bocal!!!\n",
      "WARNING: A pressão ambiente (101.33) é maior que a pressão total de entrada do bocal (50.10), por isso retornou-se velocidade nula no bocal!!!\n",
      "WARNING: A pressão ambiente (101.33) é maior que a pressão total de entrada do bocal (50.12), por isso retornou-se velocidade nula no bocal!!!\n",
      "WARNING: A pressão ambiente (101.33) é maior que a pressão total de entrada do bocal (50.15), por isso retornou-se velocidade nula no bocal!!!\n",
      "WARNING: A pressão ambiente (101.33) é maior que a pressão total de entrada do bocal (50.18), por isso retornou-se velocidade nula no bocal!!!\n",
      "WARNING: A pressão ambiente (101.33) é maior que a pressão total de entrada do bocal (50.21), por isso retornou-se velocidade nula no bocal!!!\n",
      "WARNING: A pressão ambiente (101.33) é maior que a pressão total de entrada do bocal (50.23), por isso retornou-se velocidade nula no bocal!!!\n",
      "WARNING: A pressão ambiente (101.33) é maior que a pressão total de entrada do bocal (50.26), por isso retornou-se velocidade nula no bocal!!!\n",
      "WARNING: A pressão ambiente (101.33) é maior que a pressão total de entrada do bocal (50.29), por isso retornou-se velocidade nula no bocal!!!\n",
      "WARNING: A pressão ambiente (101.33) é maior que a pressão total de entrada do bocal (50.31), por isso retornou-se velocidade nula no bocal!!!\n",
      "WARNING: A pressão ambiente (101.33) é maior que a pressão total de entrada do bocal (50.34), por isso retornou-se velocidade nula no bocal!!!\n",
      "WARNING: A pressão ambiente (101.33) é maior que a pressão total de entrada do bocal (50.37), por isso retornou-se velocidade nula no bocal!!!\n",
      "WARNING: A pressão ambiente (101.33) é maior que a pressão total de entrada do bocal (50.40), por isso retornou-se velocidade nula no bocal!!!\n",
      "WARNING: A pressão ambiente (101.33) é maior que a pressão total de entrada do bocal (50.42), por isso retornou-se velocidade nula no bocal!!!\n",
      "WARNING: A pressão ambiente (101.33) é maior que a pressão total de entrada do bocal (50.45), por isso retornou-se velocidade nula no bocal!!!\n",
      "WARNING: A pressão ambiente (101.33) é maior que a pressão total de entrada do bocal (50.48), por isso retornou-se velocidade nula no bocal!!!\n",
      "WARNING: A pressão ambiente (101.33) é maior que a pressão total de entrada do bocal (50.51), por isso retornou-se velocidade nula no bocal!!!\n",
      "WARNING: A pressão ambiente (101.33) é maior que a pressão total de entrada do bocal (50.53), por isso retornou-se velocidade nula no bocal!!!\n",
      "WARNING: A pressão ambiente (101.33) é maior que a pressão total de entrada do bocal (50.56), por isso retornou-se velocidade nula no bocal!!!\n",
      "WARNING: A pressão ambiente (101.33) é maior que a pressão total de entrada do bocal (50.59), por isso retornou-se velocidade nula no bocal!!!\n",
      "WARNING: A pressão ambiente (101.33) é maior que a pressão total de entrada do bocal (50.62), por isso retornou-se velocidade nula no bocal!!!\n",
      "WARNING: A pressão ambiente (101.33) é maior que a pressão total de entrada do bocal (50.64), por isso retornou-se velocidade nula no bocal!!!\n",
      "WARNING: A pressão ambiente (101.33) é maior que a pressão total de entrada do bocal (50.67), por isso retornou-se velocidade nula no bocal!!!\n",
      "WARNING: A pressão ambiente (101.33) é maior que a pressão total de entrada do bocal (50.70), por isso retornou-se velocidade nula no bocal!!!\n",
      "WARNING: A pressão ambiente (101.33) é maior que a pressão total de entrada do bocal (50.73), por isso retornou-se velocidade nula no bocal!!!\n",
      "WARNING: A pressão ambiente (101.33) é maior que a pressão total de entrada do bocal (50.75), por isso retornou-se velocidade nula no bocal!!!\n",
      "WARNING: A pressão ambiente (101.33) é maior que a pressão total de entrada do bocal (50.78), por isso retornou-se velocidade nula no bocal!!!\n",
      "WARNING: A pressão ambiente (101.33) é maior que a pressão total de entrada do bocal (50.81), por isso retornou-se velocidade nula no bocal!!!\n",
      "WARNING: A pressão ambiente (101.33) é maior que a pressão total de entrada do bocal (50.84), por isso retornou-se velocidade nula no bocal!!!\n",
      "WARNING: A pressão ambiente (101.33) é maior que a pressão total de entrada do bocal (50.86), por isso retornou-se velocidade nula no bocal!!!\n",
      "WARNING: A pressão ambiente (101.33) é maior que a pressão total de entrada do bocal (50.89), por isso retornou-se velocidade nula no bocal!!!\n",
      "WARNING: A pressão ambiente (101.33) é maior que a pressão total de entrada do bocal (50.92), por isso retornou-se velocidade nula no bocal!!!\n",
      "WARNING: A pressão ambiente (101.33) é maior que a pressão total de entrada do bocal (50.95), por isso retornou-se velocidade nula no bocal!!!\n",
      "WARNING: A pressão ambiente (101.33) é maior que a pressão total de entrada do bocal (50.97), por isso retornou-se velocidade nula no bocal!!!\n",
      "WARNING: A pressão ambiente (101.33) é maior que a pressão total de entrada do bocal (51.00), por isso retornou-se velocidade nula no bocal!!!\n",
      "WARNING: A pressão ambiente (101.33) é maior que a pressão total de entrada do bocal (51.03), por isso retornou-se velocidade nula no bocal!!!\n",
      "WARNING: A pressão ambiente (101.33) é maior que a pressão total de entrada do bocal (51.06), por isso retornou-se velocidade nula no bocal!!!\n",
      "WARNING: A pressão ambiente (101.33) é maior que a pressão total de entrada do bocal (51.08), por isso retornou-se velocidade nula no bocal!!!\n",
      "WARNING: A pressão ambiente (101.33) é maior que a pressão total de entrada do bocal (51.11), por isso retornou-se velocidade nula no bocal!!!\n",
      "WARNING: A pressão ambiente (101.33) é maior que a pressão total de entrada do bocal (51.14), por isso retornou-se velocidade nula no bocal!!!\n",
      "WARNING: A pressão ambiente (101.33) é maior que a pressão total de entrada do bocal (51.17), por isso retornou-se velocidade nula no bocal!!!\n",
      "WARNING: A pressão ambiente (101.33) é maior que a pressão total de entrada do bocal (51.19), por isso retornou-se velocidade nula no bocal!!!\n",
      "WARNING: A pressão ambiente (101.33) é maior que a pressão total de entrada do bocal (51.22), por isso retornou-se velocidade nula no bocal!!!\n",
      "WARNING: A pressão ambiente (101.33) é maior que a pressão total de entrada do bocal (51.25), por isso retornou-se velocidade nula no bocal!!!\n",
      "WARNING: A pressão ambiente (101.33) é maior que a pressão total de entrada do bocal (51.28), por isso retornou-se velocidade nula no bocal!!!\n",
      "WARNING: A pressão ambiente (101.33) é maior que a pressão total de entrada do bocal (51.30), por isso retornou-se velocidade nula no bocal!!!\n",
      "WARNING: A pressão ambiente (101.33) é maior que a pressão total de entrada do bocal (51.33), por isso retornou-se velocidade nula no bocal!!!\n",
      "WARNING: A pressão ambiente (101.33) é maior que a pressão total de entrada do bocal (51.36), por isso retornou-se velocidade nula no bocal!!!\n",
      "WARNING: A pressão ambiente (101.33) é maior que a pressão total de entrada do bocal (51.39), por isso retornou-se velocidade nula no bocal!!!\n",
      "WARNING: A pressão ambiente (101.33) é maior que a pressão total de entrada do bocal (51.41), por isso retornou-se velocidade nula no bocal!!!\n",
      "WARNING: A pressão ambiente (101.33) é maior que a pressão total de entrada do bocal (51.44), por isso retornou-se velocidade nula no bocal!!!\n",
      "WARNING: A pressão ambiente (101.33) é maior que a pressão total de entrada do bocal (51.47), por isso retornou-se velocidade nula no bocal!!!\n",
      "WARNING: A pressão ambiente (101.33) é maior que a pressão total de entrada do bocal (51.50), por isso retornou-se velocidade nula no bocal!!!\n",
      "WARNING: A pressão ambiente (101.33) é maior que a pressão total de entrada do bocal (51.53), por isso retornou-se velocidade nula no bocal!!!\n",
      "WARNING: A pressão ambiente (101.33) é maior que a pressão total de entrada do bocal (51.55), por isso retornou-se velocidade nula no bocal!!!\n",
      "WARNING: A pressão ambiente (101.33) é maior que a pressão total de entrada do bocal (51.58), por isso retornou-se velocidade nula no bocal!!!\n",
      "WARNING: A pressão ambiente (101.33) é maior que a pressão total de entrada do bocal (51.61), por isso retornou-se velocidade nula no bocal!!!\n",
      "WARNING: A pressão ambiente (101.33) é maior que a pressão total de entrada do bocal (51.64), por isso retornou-se velocidade nula no bocal!!!\n",
      "WARNING: A pressão ambiente (101.33) é maior que a pressão total de entrada do bocal (51.66), por isso retornou-se velocidade nula no bocal!!!\n",
      "WARNING: A pressão ambiente (101.33) é maior que a pressão total de entrada do bocal (51.69), por isso retornou-se velocidade nula no bocal!!!\n",
      "WARNING: A pressão ambiente (101.33) é maior que a pressão total de entrada do bocal (51.72), por isso retornou-se velocidade nula no bocal!!!\n",
      "WARNING: A pressão ambiente (101.33) é maior que a pressão total de entrada do bocal (51.75), por isso retornou-se velocidade nula no bocal!!!\n",
      "WARNING: A pressão ambiente (101.33) é maior que a pressão total de entrada do bocal (51.77), por isso retornou-se velocidade nula no bocal!!!\n",
      "WARNING: A pressão ambiente (101.33) é maior que a pressão total de entrada do bocal (51.80), por isso retornou-se velocidade nula no bocal!!!\n",
      "WARNING: A pressão ambiente (101.33) é maior que a pressão total de entrada do bocal (51.83), por isso retornou-se velocidade nula no bocal!!!\n",
      "WARNING: A pressão ambiente (101.33) é maior que a pressão total de entrada do bocal (51.86), por isso retornou-se velocidade nula no bocal!!!\n",
      "WARNING: A pressão ambiente (101.33) é maior que a pressão total de entrada do bocal (51.89), por isso retornou-se velocidade nula no bocal!!!\n",
      "WARNING: A pressão ambiente (101.33) é maior que a pressão total de entrada do bocal (51.91), por isso retornou-se velocidade nula no bocal!!!\n",
      "WARNING: A pressão ambiente (101.33) é maior que a pressão total de entrada do bocal (51.94), por isso retornou-se velocidade nula no bocal!!!\n",
      "WARNING: A pressão ambiente (101.33) é maior que a pressão total de entrada do bocal (51.97), por isso retornou-se velocidade nula no bocal!!!\n",
      "WARNING: A pressão ambiente (101.33) é maior que a pressão total de entrada do bocal (52.00), por isso retornou-se velocidade nula no bocal!!!\n",
      "WARNING: A pressão ambiente (101.33) é maior que a pressão total de entrada do bocal (52.02), por isso retornou-se velocidade nula no bocal!!!\n",
      "WARNING: A pressão ambiente (101.33) é maior que a pressão total de entrada do bocal (52.05), por isso retornou-se velocidade nula no bocal!!!\n",
      "WARNING: A pressão ambiente (101.33) é maior que a pressão total de entrada do bocal (52.08), por isso retornou-se velocidade nula no bocal!!!\n",
      "WARNING: A pressão ambiente (101.33) é maior que a pressão total de entrada do bocal (52.11), por isso retornou-se velocidade nula no bocal!!!\n",
      "WARNING: A pressão ambiente (101.33) é maior que a pressão total de entrada do bocal (52.14), por isso retornou-se velocidade nula no bocal!!!\n",
      "WARNING: A pressão ambiente (101.33) é maior que a pressão total de entrada do bocal (52.16), por isso retornou-se velocidade nula no bocal!!!\n",
      "WARNING: A pressão ambiente (101.33) é maior que a pressão total de entrada do bocal (52.19), por isso retornou-se velocidade nula no bocal!!!\n",
      "WARNING: A pressão ambiente (101.33) é maior que a pressão total de entrada do bocal (52.22), por isso retornou-se velocidade nula no bocal!!!\n",
      "WARNING: A pressão ambiente (101.33) é maior que a pressão total de entrada do bocal (52.25), por isso retornou-se velocidade nula no bocal!!!\n",
      "WARNING: A pressão ambiente (101.33) é maior que a pressão total de entrada do bocal (52.27), por isso retornou-se velocidade nula no bocal!!!\n",
      "WARNING: A pressão ambiente (101.33) é maior que a pressão total de entrada do bocal (52.30), por isso retornou-se velocidade nula no bocal!!!\n",
      "WARNING: A pressão ambiente (101.33) é maior que a pressão total de entrada do bocal (52.33), por isso retornou-se velocidade nula no bocal!!!\n",
      "WARNING: A pressão ambiente (101.33) é maior que a pressão total de entrada do bocal (52.36), por isso retornou-se velocidade nula no bocal!!!\n",
      "WARNING: A pressão ambiente (101.33) é maior que a pressão total de entrada do bocal (52.39), por isso retornou-se velocidade nula no bocal!!!\n",
      "WARNING: A pressão ambiente (101.33) é maior que a pressão total de entrada do bocal (52.41), por isso retornou-se velocidade nula no bocal!!!\n",
      "WARNING: A pressão ambiente (101.33) é maior que a pressão total de entrada do bocal (52.44), por isso retornou-se velocidade nula no bocal!!!\n",
      "WARNING: A pressão ambiente (101.33) é maior que a pressão total de entrada do bocal (52.47), por isso retornou-se velocidade nula no bocal!!!\n",
      "WARNING: A pressão ambiente (101.33) é maior que a pressão total de entrada do bocal (52.50), por isso retornou-se velocidade nula no bocal!!!\n",
      "WARNING: A pressão ambiente (101.33) é maior que a pressão total de entrada do bocal (52.53), por isso retornou-se velocidade nula no bocal!!!\n",
      "WARNING: A pressão ambiente (101.33) é maior que a pressão total de entrada do bocal (52.55), por isso retornou-se velocidade nula no bocal!!!\n",
      "WARNING: A pressão ambiente (101.33) é maior que a pressão total de entrada do bocal (52.58), por isso retornou-se velocidade nula no bocal!!!\n",
      "WARNING: A pressão ambiente (101.33) é maior que a pressão total de entrada do bocal (52.61), por isso retornou-se velocidade nula no bocal!!!\n",
      "WARNING: A pressão ambiente (101.33) é maior que a pressão total de entrada do bocal (52.64), por isso retornou-se velocidade nula no bocal!!!\n",
      "WARNING: A pressão ambiente (101.33) é maior que a pressão total de entrada do bocal (52.67), por isso retornou-se velocidade nula no bocal!!!\n",
      "WARNING: A pressão ambiente (101.33) é maior que a pressão total de entrada do bocal (52.69), por isso retornou-se velocidade nula no bocal!!!\n",
      "WARNING: A pressão ambiente (101.33) é maior que a pressão total de entrada do bocal (52.72), por isso retornou-se velocidade nula no bocal!!!\n",
      "WARNING: A pressão ambiente (101.33) é maior que a pressão total de entrada do bocal (52.75), por isso retornou-se velocidade nula no bocal!!!\n",
      "WARNING: A pressão ambiente (101.33) é maior que a pressão total de entrada do bocal (52.78), por isso retornou-se velocidade nula no bocal!!!\n",
      "WARNING: A pressão ambiente (101.33) é maior que a pressão total de entrada do bocal (52.81), por isso retornou-se velocidade nula no bocal!!!\n",
      "WARNING: A pressão ambiente (101.33) é maior que a pressão total de entrada do bocal (52.83), por isso retornou-se velocidade nula no bocal!!!\n",
      "WARNING: A pressão ambiente (101.33) é maior que a pressão total de entrada do bocal (52.86), por isso retornou-se velocidade nula no bocal!!!\n",
      "WARNING: A pressão ambiente (101.33) é maior que a pressão total de entrada do bocal (52.89), por isso retornou-se velocidade nula no bocal!!!\n",
      "WARNING: A pressão ambiente (101.33) é maior que a pressão total de entrada do bocal (52.92), por isso retornou-se velocidade nula no bocal!!!\n",
      "WARNING: A pressão ambiente (101.33) é maior que a pressão total de entrada do bocal (52.95), por isso retornou-se velocidade nula no bocal!!!\n",
      "WARNING: A pressão ambiente (101.33) é maior que a pressão total de entrada do bocal (52.97), por isso retornou-se velocidade nula no bocal!!!\n",
      "WARNING: A pressão ambiente (101.33) é maior que a pressão total de entrada do bocal (53.00), por isso retornou-se velocidade nula no bocal!!!\n",
      "WARNING: A pressão ambiente (101.33) é maior que a pressão total de entrada do bocal (53.03), por isso retornou-se velocidade nula no bocal!!!\n",
      "WARNING: A pressão ambiente (101.33) é maior que a pressão total de entrada do bocal (53.06), por isso retornou-se velocidade nula no bocal!!!\n",
      "WARNING: A pressão ambiente (101.33) é maior que a pressão total de entrada do bocal (53.09), por isso retornou-se velocidade nula no bocal!!!\n",
      "WARNING: A pressão ambiente (101.33) é maior que a pressão total de entrada do bocal (53.11), por isso retornou-se velocidade nula no bocal!!!\n",
      "WARNING: A pressão ambiente (101.33) é maior que a pressão total de entrada do bocal (53.14), por isso retornou-se velocidade nula no bocal!!!\n",
      "WARNING: A pressão ambiente (101.33) é maior que a pressão total de entrada do bocal (53.17), por isso retornou-se velocidade nula no bocal!!!\n",
      "WARNING: A pressão ambiente (101.33) é maior que a pressão total de entrada do bocal (53.20), por isso retornou-se velocidade nula no bocal!!!\n",
      "WARNING: A pressão ambiente (101.33) é maior que a pressão total de entrada do bocal (53.23), por isso retornou-se velocidade nula no bocal!!!\n",
      "WARNING: A pressão ambiente (101.33) é maior que a pressão total de entrada do bocal (53.25), por isso retornou-se velocidade nula no bocal!!!\n",
      "WARNING: A pressão ambiente (101.33) é maior que a pressão total de entrada do bocal (53.28), por isso retornou-se velocidade nula no bocal!!!\n",
      "WARNING: A pressão ambiente (101.33) é maior que a pressão total de entrada do bocal (53.31), por isso retornou-se velocidade nula no bocal!!!\n",
      "WARNING: A pressão ambiente (101.33) é maior que a pressão total de entrada do bocal (53.34), por isso retornou-se velocidade nula no bocal!!!\n",
      "WARNING: A pressão ambiente (101.33) é maior que a pressão total de entrada do bocal (53.37), por isso retornou-se velocidade nula no bocal!!!\n",
      "WARNING: A pressão ambiente (101.33) é maior que a pressão total de entrada do bocal (53.39), por isso retornou-se velocidade nula no bocal!!!\n",
      "WARNING: A pressão ambiente (101.33) é maior que a pressão total de entrada do bocal (53.42), por isso retornou-se velocidade nula no bocal!!!\n",
      "WARNING: A pressão ambiente (101.33) é maior que a pressão total de entrada do bocal (53.45), por isso retornou-se velocidade nula no bocal!!!\n",
      "WARNING: A pressão ambiente (101.33) é maior que a pressão total de entrada do bocal (53.48), por isso retornou-se velocidade nula no bocal!!!\n",
      "WARNING: A pressão ambiente (101.33) é maior que a pressão total de entrada do bocal (53.51), por isso retornou-se velocidade nula no bocal!!!\n",
      "WARNING: A pressão ambiente (101.33) é maior que a pressão total de entrada do bocal (53.54), por isso retornou-se velocidade nula no bocal!!!\n",
      "WARNING: A pressão ambiente (101.33) é maior que a pressão total de entrada do bocal (53.56), por isso retornou-se velocidade nula no bocal!!!\n",
      "WARNING: A pressão ambiente (101.33) é maior que a pressão total de entrada do bocal (53.59), por isso retornou-se velocidade nula no bocal!!!\n",
      "WARNING: A pressão ambiente (101.33) é maior que a pressão total de entrada do bocal (53.62), por isso retornou-se velocidade nula no bocal!!!\n",
      "WARNING: A pressão ambiente (101.33) é maior que a pressão total de entrada do bocal (53.65), por isso retornou-se velocidade nula no bocal!!!\n",
      "WARNING: A pressão ambiente (101.33) é maior que a pressão total de entrada do bocal (53.68), por isso retornou-se velocidade nula no bocal!!!\n",
      "WARNING: A pressão ambiente (101.33) é maior que a pressão total de entrada do bocal (53.70), por isso retornou-se velocidade nula no bocal!!!\n",
      "WARNING: A pressão ambiente (101.33) é maior que a pressão total de entrada do bocal (53.73), por isso retornou-se velocidade nula no bocal!!!\n",
      "WARNING: A pressão ambiente (101.33) é maior que a pressão total de entrada do bocal (53.76), por isso retornou-se velocidade nula no bocal!!!\n",
      "WARNING: A pressão ambiente (101.33) é maior que a pressão total de entrada do bocal (53.79), por isso retornou-se velocidade nula no bocal!!!\n",
      "WARNING: A pressão ambiente (101.33) é maior que a pressão total de entrada do bocal (53.82), por isso retornou-se velocidade nula no bocal!!!\n",
      "WARNING: A pressão ambiente (101.33) é maior que a pressão total de entrada do bocal (53.85), por isso retornou-se velocidade nula no bocal!!!\n",
      "WARNING: A pressão ambiente (101.33) é maior que a pressão total de entrada do bocal (53.87), por isso retornou-se velocidade nula no bocal!!!\n",
      "WARNING: A pressão ambiente (101.33) é maior que a pressão total de entrada do bocal (53.90), por isso retornou-se velocidade nula no bocal!!!\n",
      "WARNING: A pressão ambiente (101.33) é maior que a pressão total de entrada do bocal (53.93), por isso retornou-se velocidade nula no bocal!!!\n",
      "WARNING: A pressão ambiente (101.33) é maior que a pressão total de entrada do bocal (53.96), por isso retornou-se velocidade nula no bocal!!!\n",
      "WARNING: A pressão ambiente (101.33) é maior que a pressão total de entrada do bocal (53.99), por isso retornou-se velocidade nula no bocal!!!\n",
      "WARNING: A pressão ambiente (101.33) é maior que a pressão total de entrada do bocal (54.02), por isso retornou-se velocidade nula no bocal!!!\n",
      "WARNING: A pressão ambiente (101.33) é maior que a pressão total de entrada do bocal (54.04), por isso retornou-se velocidade nula no bocal!!!\n",
      "WARNING: A pressão ambiente (101.33) é maior que a pressão total de entrada do bocal (54.07), por isso retornou-se velocidade nula no bocal!!!\n",
      "WARNING: A pressão ambiente (101.33) é maior que a pressão total de entrada do bocal (54.10), por isso retornou-se velocidade nula no bocal!!!\n",
      "WARNING: A pressão ambiente (101.33) é maior que a pressão total de entrada do bocal (54.13), por isso retornou-se velocidade nula no bocal!!!\n",
      "WARNING: A pressão ambiente (101.33) é maior que a pressão total de entrada do bocal (54.16), por isso retornou-se velocidade nula no bocal!!!\n",
      "WARNING: A pressão ambiente (101.33) é maior que a pressão total de entrada do bocal (54.19), por isso retornou-se velocidade nula no bocal!!!\n",
      "WARNING: A pressão ambiente (101.33) é maior que a pressão total de entrada do bocal (54.21), por isso retornou-se velocidade nula no bocal!!!\n",
      "WARNING: A pressão ambiente (101.33) é maior que a pressão total de entrada do bocal (54.24), por isso retornou-se velocidade nula no bocal!!!\n",
      "WARNING: A pressão ambiente (101.33) é maior que a pressão total de entrada do bocal (54.27), por isso retornou-se velocidade nula no bocal!!!\n",
      "WARNING: A pressão ambiente (101.33) é maior que a pressão total de entrada do bocal (54.30), por isso retornou-se velocidade nula no bocal!!!\n",
      "WARNING: A pressão ambiente (101.33) é maior que a pressão total de entrada do bocal (54.33), por isso retornou-se velocidade nula no bocal!!!\n",
      "WARNING: A pressão ambiente (101.33) é maior que a pressão total de entrada do bocal (54.36), por isso retornou-se velocidade nula no bocal!!!\n",
      "WARNING: A pressão ambiente (101.33) é maior que a pressão total de entrada do bocal (54.38), por isso retornou-se velocidade nula no bocal!!!\n",
      "WARNING: A pressão ambiente (101.33) é maior que a pressão total de entrada do bocal (54.41), por isso retornou-se velocidade nula no bocal!!!\n",
      "WARNING: A pressão ambiente (101.33) é maior que a pressão total de entrada do bocal (54.44), por isso retornou-se velocidade nula no bocal!!!\n",
      "WARNING: A pressão ambiente (101.33) é maior que a pressão total de entrada do bocal (54.47), por isso retornou-se velocidade nula no bocal!!!\n",
      "WARNING: A pressão ambiente (101.33) é maior que a pressão total de entrada do bocal (54.50), por isso retornou-se velocidade nula no bocal!!!\n",
      "WARNING: A pressão ambiente (101.33) é maior que a pressão total de entrada do bocal (54.53), por isso retornou-se velocidade nula no bocal!!!\n",
      "WARNING: A pressão ambiente (101.33) é maior que a pressão total de entrada do bocal (54.55), por isso retornou-se velocidade nula no bocal!!!\n",
      "WARNING: A pressão ambiente (101.33) é maior que a pressão total de entrada do bocal (54.58), por isso retornou-se velocidade nula no bocal!!!\n",
      "WARNING: A pressão ambiente (101.33) é maior que a pressão total de entrada do bocal (54.61), por isso retornou-se velocidade nula no bocal!!!\n",
      "WARNING: A pressão ambiente (101.33) é maior que a pressão total de entrada do bocal (54.64), por isso retornou-se velocidade nula no bocal!!!\n",
      "WARNING: A pressão ambiente (101.33) é maior que a pressão total de entrada do bocal (54.67), por isso retornou-se velocidade nula no bocal!!!\n",
      "WARNING: A pressão ambiente (101.33) é maior que a pressão total de entrada do bocal (54.70), por isso retornou-se velocidade nula no bocal!!!\n",
      "WARNING: A pressão ambiente (101.33) é maior que a pressão total de entrada do bocal (54.72), por isso retornou-se velocidade nula no bocal!!!\n",
      "WARNING: A pressão ambiente (101.33) é maior que a pressão total de entrada do bocal (54.75), por isso retornou-se velocidade nula no bocal!!!\n",
      "WARNING: A pressão ambiente (101.33) é maior que a pressão total de entrada do bocal (54.78), por isso retornou-se velocidade nula no bocal!!!\n",
      "WARNING: A pressão ambiente (101.33) é maior que a pressão total de entrada do bocal (54.81), por isso retornou-se velocidade nula no bocal!!!\n",
      "WARNING: A pressão ambiente (101.33) é maior que a pressão total de entrada do bocal (54.84), por isso retornou-se velocidade nula no bocal!!!\n",
      "WARNING: A pressão ambiente (101.33) é maior que a pressão total de entrada do bocal (54.87), por isso retornou-se velocidade nula no bocal!!!\n",
      "WARNING: A pressão ambiente (101.33) é maior que a pressão total de entrada do bocal (54.90), por isso retornou-se velocidade nula no bocal!!!\n",
      "WARNING: A pressão ambiente (101.33) é maior que a pressão total de entrada do bocal (54.92), por isso retornou-se velocidade nula no bocal!!!\n",
      "WARNING: A pressão ambiente (101.33) é maior que a pressão total de entrada do bocal (54.95), por isso retornou-se velocidade nula no bocal!!!\n",
      "WARNING: A pressão ambiente (101.33) é maior que a pressão total de entrada do bocal (54.98), por isso retornou-se velocidade nula no bocal!!!\n",
      "WARNING: A pressão ambiente (101.33) é maior que a pressão total de entrada do bocal (55.01), por isso retornou-se velocidade nula no bocal!!!\n",
      "WARNING: A pressão ambiente (101.33) é maior que a pressão total de entrada do bocal (55.04), por isso retornou-se velocidade nula no bocal!!!\n",
      "WARNING: A pressão ambiente (101.33) é maior que a pressão total de entrada do bocal (55.07), por isso retornou-se velocidade nula no bocal!!!\n",
      "WARNING: A pressão ambiente (101.33) é maior que a pressão total de entrada do bocal (55.10), por isso retornou-se velocidade nula no bocal!!!\n",
      "WARNING: A pressão ambiente (101.33) é maior que a pressão total de entrada do bocal (55.12), por isso retornou-se velocidade nula no bocal!!!\n",
      "WARNING: A pressão ambiente (101.33) é maior que a pressão total de entrada do bocal (55.15), por isso retornou-se velocidade nula no bocal!!!\n",
      "WARNING: A pressão ambiente (101.33) é maior que a pressão total de entrada do bocal (55.18), por isso retornou-se velocidade nula no bocal!!!\n",
      "WARNING: A pressão ambiente (101.33) é maior que a pressão total de entrada do bocal (55.21), por isso retornou-se velocidade nula no bocal!!!\n",
      "WARNING: A pressão ambiente (101.33) é maior que a pressão total de entrada do bocal (55.24), por isso retornou-se velocidade nula no bocal!!!\n",
      "WARNING: A pressão ambiente (101.33) é maior que a pressão total de entrada do bocal (55.27), por isso retornou-se velocidade nula no bocal!!!\n",
      "WARNING: A pressão ambiente (101.33) é maior que a pressão total de entrada do bocal (55.30), por isso retornou-se velocidade nula no bocal!!!\n",
      "WARNING: A pressão ambiente (101.33) é maior que a pressão total de entrada do bocal (55.32), por isso retornou-se velocidade nula no bocal!!!\n",
      "WARNING: A pressão ambiente (101.33) é maior que a pressão total de entrada do bocal (55.35), por isso retornou-se velocidade nula no bocal!!!\n",
      "WARNING: A pressão ambiente (101.33) é maior que a pressão total de entrada do bocal (55.38), por isso retornou-se velocidade nula no bocal!!!\n",
      "WARNING: A pressão ambiente (101.33) é maior que a pressão total de entrada do bocal (55.41), por isso retornou-se velocidade nula no bocal!!!\n",
      "WARNING: A pressão ambiente (101.33) é maior que a pressão total de entrada do bocal (55.44), por isso retornou-se velocidade nula no bocal!!!\n",
      "WARNING: A pressão ambiente (101.33) é maior que a pressão total de entrada do bocal (55.47), por isso retornou-se velocidade nula no bocal!!!\n",
      "WARNING: A pressão ambiente (101.33) é maior que a pressão total de entrada do bocal (55.50), por isso retornou-se velocidade nula no bocal!!!\n",
      "WARNING: A pressão ambiente (101.33) é maior que a pressão total de entrada do bocal (55.52), por isso retornou-se velocidade nula no bocal!!!\n",
      "WARNING: A pressão ambiente (101.33) é maior que a pressão total de entrada do bocal (55.55), por isso retornou-se velocidade nula no bocal!!!\n",
      "WARNING: A pressão ambiente (101.33) é maior que a pressão total de entrada do bocal (55.58), por isso retornou-se velocidade nula no bocal!!!\n",
      "WARNING: A pressão ambiente (101.33) é maior que a pressão total de entrada do bocal (55.61), por isso retornou-se velocidade nula no bocal!!!\n",
      "WARNING: A pressão ambiente (101.33) é maior que a pressão total de entrada do bocal (55.64), por isso retornou-se velocidade nula no bocal!!!\n",
      "WARNING: A pressão ambiente (101.33) é maior que a pressão total de entrada do bocal (55.67), por isso retornou-se velocidade nula no bocal!!!\n",
      "WARNING: A pressão ambiente (101.33) é maior que a pressão total de entrada do bocal (55.70), por isso retornou-se velocidade nula no bocal!!!\n",
      "WARNING: A pressão ambiente (101.33) é maior que a pressão total de entrada do bocal (55.72), por isso retornou-se velocidade nula no bocal!!!\n",
      "WARNING: A pressão ambiente (101.33) é maior que a pressão total de entrada do bocal (55.75), por isso retornou-se velocidade nula no bocal!!!\n",
      "WARNING: A pressão ambiente (101.33) é maior que a pressão total de entrada do bocal (55.78), por isso retornou-se velocidade nula no bocal!!!\n",
      "WARNING: A pressão ambiente (101.33) é maior que a pressão total de entrada do bocal (55.81), por isso retornou-se velocidade nula no bocal!!!\n",
      "WARNING: A pressão ambiente (101.33) é maior que a pressão total de entrada do bocal (55.84), por isso retornou-se velocidade nula no bocal!!!\n",
      "WARNING: A pressão ambiente (101.33) é maior que a pressão total de entrada do bocal (55.87), por isso retornou-se velocidade nula no bocal!!!\n",
      "WARNING: A pressão ambiente (101.33) é maior que a pressão total de entrada do bocal (55.90), por isso retornou-se velocidade nula no bocal!!!\n",
      "WARNING: A pressão ambiente (101.33) é maior que a pressão total de entrada do bocal (55.93), por isso retornou-se velocidade nula no bocal!!!\n",
      "WARNING: A pressão ambiente (101.33) é maior que a pressão total de entrada do bocal (55.95), por isso retornou-se velocidade nula no bocal!!!\n",
      "WARNING: A pressão ambiente (101.33) é maior que a pressão total de entrada do bocal (55.98), por isso retornou-se velocidade nula no bocal!!!\n",
      "WARNING: A pressão ambiente (101.33) é maior que a pressão total de entrada do bocal (56.01), por isso retornou-se velocidade nula no bocal!!!\n",
      "WARNING: A pressão ambiente (101.33) é maior que a pressão total de entrada do bocal (56.04), por isso retornou-se velocidade nula no bocal!!!\n",
      "WARNING: A pressão ambiente (101.33) é maior que a pressão total de entrada do bocal (56.07), por isso retornou-se velocidade nula no bocal!!!\n",
      "WARNING: A pressão ambiente (101.33) é maior que a pressão total de entrada do bocal (56.10), por isso retornou-se velocidade nula no bocal!!!\n",
      "WARNING: A pressão ambiente (101.33) é maior que a pressão total de entrada do bocal (56.13), por isso retornou-se velocidade nula no bocal!!!\n",
      "WARNING: A pressão ambiente (101.33) é maior que a pressão total de entrada do bocal (56.16), por isso retornou-se velocidade nula no bocal!!!\n",
      "WARNING: A pressão ambiente (101.33) é maior que a pressão total de entrada do bocal (56.18), por isso retornou-se velocidade nula no bocal!!!\n",
      "WARNING: A pressão ambiente (101.33) é maior que a pressão total de entrada do bocal (56.21), por isso retornou-se velocidade nula no bocal!!!\n",
      "WARNING: A pressão ambiente (101.33) é maior que a pressão total de entrada do bocal (56.24), por isso retornou-se velocidade nula no bocal!!!\n",
      "WARNING: A pressão ambiente (101.33) é maior que a pressão total de entrada do bocal (56.27), por isso retornou-se velocidade nula no bocal!!!\n",
      "WARNING: A pressão ambiente (101.33) é maior que a pressão total de entrada do bocal (56.30), por isso retornou-se velocidade nula no bocal!!!\n",
      "WARNING: A pressão ambiente (101.33) é maior que a pressão total de entrada do bocal (56.33), por isso retornou-se velocidade nula no bocal!!!\n",
      "WARNING: A pressão ambiente (101.33) é maior que a pressão total de entrada do bocal (56.36), por isso retornou-se velocidade nula no bocal!!!\n",
      "WARNING: A pressão ambiente (101.33) é maior que a pressão total de entrada do bocal (56.39), por isso retornou-se velocidade nula no bocal!!!\n",
      "WARNING: A pressão ambiente (101.33) é maior que a pressão total de entrada do bocal (56.42), por isso retornou-se velocidade nula no bocal!!!\n",
      "WARNING: A pressão ambiente (101.33) é maior que a pressão total de entrada do bocal (56.44), por isso retornou-se velocidade nula no bocal!!!\n",
      "WARNING: A pressão ambiente (101.33) é maior que a pressão total de entrada do bocal (56.47), por isso retornou-se velocidade nula no bocal!!!\n",
      "WARNING: A pressão ambiente (101.33) é maior que a pressão total de entrada do bocal (56.50), por isso retornou-se velocidade nula no bocal!!!\n",
      "WARNING: A pressão ambiente (101.33) é maior que a pressão total de entrada do bocal (56.53), por isso retornou-se velocidade nula no bocal!!!\n",
      "WARNING: A pressão ambiente (101.33) é maior que a pressão total de entrada do bocal (56.56), por isso retornou-se velocidade nula no bocal!!!\n",
      "WARNING: A pressão ambiente (101.33) é maior que a pressão total de entrada do bocal (56.59), por isso retornou-se velocidade nula no bocal!!!\n",
      "WARNING: A pressão ambiente (101.33) é maior que a pressão total de entrada do bocal (56.62), por isso retornou-se velocidade nula no bocal!!!\n",
      "WARNING: A pressão ambiente (101.33) é maior que a pressão total de entrada do bocal (56.65), por isso retornou-se velocidade nula no bocal!!!\n",
      "WARNING: A pressão ambiente (101.33) é maior que a pressão total de entrada do bocal (56.68), por isso retornou-se velocidade nula no bocal!!!\n",
      "WARNING: A pressão ambiente (101.33) é maior que a pressão total de entrada do bocal (56.70), por isso retornou-se velocidade nula no bocal!!!\n",
      "WARNING: A pressão ambiente (101.33) é maior que a pressão total de entrada do bocal (56.73), por isso retornou-se velocidade nula no bocal!!!\n",
      "WARNING: A pressão ambiente (101.33) é maior que a pressão total de entrada do bocal (56.76), por isso retornou-se velocidade nula no bocal!!!\n",
      "WARNING: A pressão ambiente (101.33) é maior que a pressão total de entrada do bocal (56.79), por isso retornou-se velocidade nula no bocal!!!\n",
      "WARNING: A pressão ambiente (101.33) é maior que a pressão total de entrada do bocal (56.82), por isso retornou-se velocidade nula no bocal!!!\n",
      "WARNING: A pressão ambiente (101.33) é maior que a pressão total de entrada do bocal (56.85), por isso retornou-se velocidade nula no bocal!!!\n",
      "WARNING: A pressão ambiente (101.33) é maior que a pressão total de entrada do bocal (56.88), por isso retornou-se velocidade nula no bocal!!!\n",
      "WARNING: A pressão ambiente (101.33) é maior que a pressão total de entrada do bocal (56.91), por isso retornou-se velocidade nula no bocal!!!\n",
      "WARNING: A pressão ambiente (101.33) é maior que a pressão total de entrada do bocal (56.94), por isso retornou-se velocidade nula no bocal!!!\n",
      "WARNING: A pressão ambiente (101.33) é maior que a pressão total de entrada do bocal (56.97), por isso retornou-se velocidade nula no bocal!!!\n",
      "WARNING: A pressão ambiente (101.33) é maior que a pressão total de entrada do bocal (56.99), por isso retornou-se velocidade nula no bocal!!!\n",
      "WARNING: A pressão ambiente (101.33) é maior que a pressão total de entrada do bocal (57.02), por isso retornou-se velocidade nula no bocal!!!\n",
      "WARNING: A pressão ambiente (101.33) é maior que a pressão total de entrada do bocal (57.05), por isso retornou-se velocidade nula no bocal!!!\n",
      "WARNING: A pressão ambiente (101.33) é maior que a pressão total de entrada do bocal (57.08), por isso retornou-se velocidade nula no bocal!!!\n",
      "WARNING: A pressão ambiente (101.33) é maior que a pressão total de entrada do bocal (57.11), por isso retornou-se velocidade nula no bocal!!!\n",
      "WARNING: A pressão ambiente (101.33) é maior que a pressão total de entrada do bocal (57.14), por isso retornou-se velocidade nula no bocal!!!\n",
      "WARNING: A pressão ambiente (101.33) é maior que a pressão total de entrada do bocal (57.17), por isso retornou-se velocidade nula no bocal!!!\n",
      "WARNING: A pressão ambiente (101.33) é maior que a pressão total de entrada do bocal (57.20), por isso retornou-se velocidade nula no bocal!!!\n",
      "WARNING: A pressão ambiente (101.33) é maior que a pressão total de entrada do bocal (57.23), por isso retornou-se velocidade nula no bocal!!!\n",
      "WARNING: A pressão ambiente (101.33) é maior que a pressão total de entrada do bocal (57.26), por isso retornou-se velocidade nula no bocal!!!\n",
      "WARNING: A pressão ambiente (101.33) é maior que a pressão total de entrada do bocal (57.28), por isso retornou-se velocidade nula no bocal!!!\n",
      "WARNING: A pressão ambiente (101.33) é maior que a pressão total de entrada do bocal (57.31), por isso retornou-se velocidade nula no bocal!!!\n",
      "WARNING: A pressão ambiente (101.33) é maior que a pressão total de entrada do bocal (57.34), por isso retornou-se velocidade nula no bocal!!!\n",
      "WARNING: A pressão ambiente (101.33) é maior que a pressão total de entrada do bocal (57.37), por isso retornou-se velocidade nula no bocal!!!\n",
      "WARNING: A pressão ambiente (101.33) é maior que a pressão total de entrada do bocal (57.40), por isso retornou-se velocidade nula no bocal!!!\n",
      "WARNING: A pressão ambiente (101.33) é maior que a pressão total de entrada do bocal (57.43), por isso retornou-se velocidade nula no bocal!!!\n",
      "WARNING: A pressão ambiente (101.33) é maior que a pressão total de entrada do bocal (57.46), por isso retornou-se velocidade nula no bocal!!!\n",
      "WARNING: A pressão ambiente (101.33) é maior que a pressão total de entrada do bocal (57.49), por isso retornou-se velocidade nula no bocal!!!\n",
      "WARNING: A pressão ambiente (101.33) é maior que a pressão total de entrada do bocal (57.52), por isso retornou-se velocidade nula no bocal!!!\n",
      "WARNING: A pressão ambiente (101.33) é maior que a pressão total de entrada do bocal (57.55), por isso retornou-se velocidade nula no bocal!!!\n",
      "WARNING: A pressão ambiente (101.33) é maior que a pressão total de entrada do bocal (57.58), por isso retornou-se velocidade nula no bocal!!!\n",
      "WARNING: A pressão ambiente (101.33) é maior que a pressão total de entrada do bocal (57.60), por isso retornou-se velocidade nula no bocal!!!\n",
      "WARNING: A pressão ambiente (101.33) é maior que a pressão total de entrada do bocal (57.63), por isso retornou-se velocidade nula no bocal!!!\n",
      "WARNING: A pressão ambiente (101.33) é maior que a pressão total de entrada do bocal (57.66), por isso retornou-se velocidade nula no bocal!!!\n",
      "WARNING: A pressão ambiente (101.33) é maior que a pressão total de entrada do bocal (57.69), por isso retornou-se velocidade nula no bocal!!!\n",
      "WARNING: A pressão ambiente (101.33) é maior que a pressão total de entrada do bocal (57.72), por isso retornou-se velocidade nula no bocal!!!\n",
      "WARNING: A pressão ambiente (101.33) é maior que a pressão total de entrada do bocal (57.75), por isso retornou-se velocidade nula no bocal!!!\n",
      "WARNING: A pressão ambiente (101.33) é maior que a pressão total de entrada do bocal (57.78), por isso retornou-se velocidade nula no bocal!!!\n",
      "WARNING: A pressão ambiente (101.33) é maior que a pressão total de entrada do bocal (57.81), por isso retornou-se velocidade nula no bocal!!!\n",
      "WARNING: A pressão ambiente (101.33) é maior que a pressão total de entrada do bocal (57.84), por isso retornou-se velocidade nula no bocal!!!\n",
      "WARNING: A pressão ambiente (101.33) é maior que a pressão total de entrada do bocal (57.87), por isso retornou-se velocidade nula no bocal!!!\n",
      "WARNING: A pressão ambiente (101.33) é maior que a pressão total de entrada do bocal (57.90), por isso retornou-se velocidade nula no bocal!!!\n",
      "WARNING: A pressão ambiente (101.33) é maior que a pressão total de entrada do bocal (57.93), por isso retornou-se velocidade nula no bocal!!!\n",
      "WARNING: A pressão ambiente (101.33) é maior que a pressão total de entrada do bocal (57.95), por isso retornou-se velocidade nula no bocal!!!\n",
      "WARNING: A pressão ambiente (101.33) é maior que a pressão total de entrada do bocal (57.98), por isso retornou-se velocidade nula no bocal!!!\n",
      "WARNING: A pressão ambiente (101.33) é maior que a pressão total de entrada do bocal (58.01), por isso retornou-se velocidade nula no bocal!!!\n",
      "WARNING: A pressão ambiente (101.33) é maior que a pressão total de entrada do bocal (58.04), por isso retornou-se velocidade nula no bocal!!!\n",
      "WARNING: A pressão ambiente (101.33) é maior que a pressão total de entrada do bocal (58.07), por isso retornou-se velocidade nula no bocal!!!\n",
      "WARNING: A pressão ambiente (101.33) é maior que a pressão total de entrada do bocal (58.10), por isso retornou-se velocidade nula no bocal!!!\n",
      "WARNING: A pressão ambiente (101.33) é maior que a pressão total de entrada do bocal (58.13), por isso retornou-se velocidade nula no bocal!!!\n",
      "WARNING: A pressão ambiente (101.33) é maior que a pressão total de entrada do bocal (58.16), por isso retornou-se velocidade nula no bocal!!!\n",
      "WARNING: A pressão ambiente (101.33) é maior que a pressão total de entrada do bocal (58.19), por isso retornou-se velocidade nula no bocal!!!\n",
      "WARNING: A pressão ambiente (101.33) é maior que a pressão total de entrada do bocal (58.22), por isso retornou-se velocidade nula no bocal!!!\n",
      "WARNING: A pressão ambiente (101.33) é maior que a pressão total de entrada do bocal (58.25), por isso retornou-se velocidade nula no bocal!!!\n",
      "WARNING: A pressão ambiente (101.33) é maior que a pressão total de entrada do bocal (58.28), por isso retornou-se velocidade nula no bocal!!!\n",
      "WARNING: A pressão ambiente (101.33) é maior que a pressão total de entrada do bocal (58.31), por isso retornou-se velocidade nula no bocal!!!\n",
      "WARNING: A pressão ambiente (101.33) é maior que a pressão total de entrada do bocal (58.33), por isso retornou-se velocidade nula no bocal!!!\n",
      "WARNING: A pressão ambiente (101.33) é maior que a pressão total de entrada do bocal (58.36), por isso retornou-se velocidade nula no bocal!!!\n",
      "WARNING: A pressão ambiente (101.33) é maior que a pressão total de entrada do bocal (58.39), por isso retornou-se velocidade nula no bocal!!!\n",
      "WARNING: A pressão ambiente (101.33) é maior que a pressão total de entrada do bocal (58.42), por isso retornou-se velocidade nula no bocal!!!\n",
      "WARNING: A pressão ambiente (101.33) é maior que a pressão total de entrada do bocal (58.45), por isso retornou-se velocidade nula no bocal!!!\n",
      "WARNING: A pressão ambiente (101.33) é maior que a pressão total de entrada do bocal (58.48), por isso retornou-se velocidade nula no bocal!!!\n",
      "WARNING: A pressão ambiente (101.33) é maior que a pressão total de entrada do bocal (58.51), por isso retornou-se velocidade nula no bocal!!!\n",
      "WARNING: A pressão ambiente (101.33) é maior que a pressão total de entrada do bocal (58.54), por isso retornou-se velocidade nula no bocal!!!\n",
      "WARNING: A pressão ambiente (101.33) é maior que a pressão total de entrada do bocal (58.57), por isso retornou-se velocidade nula no bocal!!!\n",
      "WARNING: A pressão ambiente (101.33) é maior que a pressão total de entrada do bocal (58.60), por isso retornou-se velocidade nula no bocal!!!\n",
      "WARNING: A pressão ambiente (101.33) é maior que a pressão total de entrada do bocal (58.63), por isso retornou-se velocidade nula no bocal!!!\n",
      "WARNING: A pressão ambiente (101.33) é maior que a pressão total de entrada do bocal (58.66), por isso retornou-se velocidade nula no bocal!!!\n",
      "WARNING: A pressão ambiente (101.33) é maior que a pressão total de entrada do bocal (58.69), por isso retornou-se velocidade nula no bocal!!!\n",
      "WARNING: A pressão ambiente (101.33) é maior que a pressão total de entrada do bocal (58.72), por isso retornou-se velocidade nula no bocal!!!\n",
      "WARNING: A pressão ambiente (101.33) é maior que a pressão total de entrada do bocal (58.75), por isso retornou-se velocidade nula no bocal!!!\n",
      "WARNING: A pressão ambiente (101.33) é maior que a pressão total de entrada do bocal (58.78), por isso retornou-se velocidade nula no bocal!!!\n",
      "WARNING: A pressão ambiente (101.33) é maior que a pressão total de entrada do bocal (58.80), por isso retornou-se velocidade nula no bocal!!!\n",
      "WARNING: A pressão ambiente (101.33) é maior que a pressão total de entrada do bocal (58.83), por isso retornou-se velocidade nula no bocal!!!\n",
      "WARNING: A pressão ambiente (101.33) é maior que a pressão total de entrada do bocal (58.86), por isso retornou-se velocidade nula no bocal!!!\n",
      "WARNING: A pressão ambiente (101.33) é maior que a pressão total de entrada do bocal (58.89), por isso retornou-se velocidade nula no bocal!!!\n",
      "WARNING: A pressão ambiente (101.33) é maior que a pressão total de entrada do bocal (58.92), por isso retornou-se velocidade nula no bocal!!!\n",
      "WARNING: A pressão ambiente (101.33) é maior que a pressão total de entrada do bocal (58.95), por isso retornou-se velocidade nula no bocal!!!\n",
      "WARNING: A pressão ambiente (101.33) é maior que a pressão total de entrada do bocal (58.98), por isso retornou-se velocidade nula no bocal!!!\n",
      "WARNING: A pressão ambiente (101.33) é maior que a pressão total de entrada do bocal (59.01), por isso retornou-se velocidade nula no bocal!!!\n",
      "WARNING: A pressão ambiente (101.33) é maior que a pressão total de entrada do bocal (59.04), por isso retornou-se velocidade nula no bocal!!!\n",
      "WARNING: A pressão ambiente (101.33) é maior que a pressão total de entrada do bocal (59.07), por isso retornou-se velocidade nula no bocal!!!\n",
      "WARNING: A pressão ambiente (101.33) é maior que a pressão total de entrada do bocal (59.10), por isso retornou-se velocidade nula no bocal!!!\n",
      "WARNING: A pressão ambiente (101.33) é maior que a pressão total de entrada do bocal (59.13), por isso retornou-se velocidade nula no bocal!!!\n",
      "WARNING: A pressão ambiente (101.33) é maior que a pressão total de entrada do bocal (59.16), por isso retornou-se velocidade nula no bocal!!!\n",
      "WARNING: A pressão ambiente (101.33) é maior que a pressão total de entrada do bocal (59.19), por isso retornou-se velocidade nula no bocal!!!\n",
      "WARNING: A pressão ambiente (101.33) é maior que a pressão total de entrada do bocal (59.22), por isso retornou-se velocidade nula no bocal!!!\n",
      "WARNING: A pressão ambiente (101.33) é maior que a pressão total de entrada do bocal (59.25), por isso retornou-se velocidade nula no bocal!!!\n",
      "WARNING: A pressão ambiente (101.33) é maior que a pressão total de entrada do bocal (59.28), por isso retornou-se velocidade nula no bocal!!!\n",
      "WARNING: A pressão ambiente (101.33) é maior que a pressão total de entrada do bocal (59.31), por isso retornou-se velocidade nula no bocal!!!\n",
      "WARNING: A pressão ambiente (101.33) é maior que a pressão total de entrada do bocal (59.34), por isso retornou-se velocidade nula no bocal!!!\n",
      "WARNING: A pressão ambiente (101.33) é maior que a pressão total de entrada do bocal (59.36), por isso retornou-se velocidade nula no bocal!!!\n",
      "WARNING: A pressão ambiente (101.33) é maior que a pressão total de entrada do bocal (59.39), por isso retornou-se velocidade nula no bocal!!!\n",
      "WARNING: A pressão ambiente (101.33) é maior que a pressão total de entrada do bocal (59.42), por isso retornou-se velocidade nula no bocal!!!\n",
      "WARNING: A pressão ambiente (101.33) é maior que a pressão total de entrada do bocal (59.45), por isso retornou-se velocidade nula no bocal!!!\n",
      "WARNING: A pressão ambiente (101.33) é maior que a pressão total de entrada do bocal (59.48), por isso retornou-se velocidade nula no bocal!!!\n",
      "WARNING: A pressão ambiente (101.33) é maior que a pressão total de entrada do bocal (59.51), por isso retornou-se velocidade nula no bocal!!!\n",
      "WARNING: A pressão ambiente (101.33) é maior que a pressão total de entrada do bocal (59.54), por isso retornou-se velocidade nula no bocal!!!\n",
      "WARNING: A pressão ambiente (101.33) é maior que a pressão total de entrada do bocal (59.57), por isso retornou-se velocidade nula no bocal!!!\n",
      "WARNING: A pressão ambiente (101.33) é maior que a pressão total de entrada do bocal (59.60), por isso retornou-se velocidade nula no bocal!!!\n",
      "WARNING: A pressão ambiente (101.33) é maior que a pressão total de entrada do bocal (59.63), por isso retornou-se velocidade nula no bocal!!!\n",
      "WARNING: A pressão ambiente (101.33) é maior que a pressão total de entrada do bocal (59.66), por isso retornou-se velocidade nula no bocal!!!\n",
      "WARNING: A pressão ambiente (101.33) é maior que a pressão total de entrada do bocal (59.69), por isso retornou-se velocidade nula no bocal!!!\n",
      "WARNING: A pressão ambiente (101.33) é maior que a pressão total de entrada do bocal (59.72), por isso retornou-se velocidade nula no bocal!!!\n",
      "WARNING: A pressão ambiente (101.33) é maior que a pressão total de entrada do bocal (59.75), por isso retornou-se velocidade nula no bocal!!!\n",
      "WARNING: A pressão ambiente (101.33) é maior que a pressão total de entrada do bocal (59.78), por isso retornou-se velocidade nula no bocal!!!\n",
      "WARNING: A pressão ambiente (101.33) é maior que a pressão total de entrada do bocal (59.81), por isso retornou-se velocidade nula no bocal!!!\n",
      "WARNING: A pressão ambiente (101.33) é maior que a pressão total de entrada do bocal (59.84), por isso retornou-se velocidade nula no bocal!!!\n",
      "WARNING: A pressão ambiente (101.33) é maior que a pressão total de entrada do bocal (59.87), por isso retornou-se velocidade nula no bocal!!!\n",
      "WARNING: A pressão ambiente (101.33) é maior que a pressão total de entrada do bocal (59.90), por isso retornou-se velocidade nula no bocal!!!\n",
      "WARNING: A pressão ambiente (101.33) é maior que a pressão total de entrada do bocal (59.93), por isso retornou-se velocidade nula no bocal!!!\n",
      "WARNING: A pressão ambiente (101.33) é maior que a pressão total de entrada do bocal (59.96), por isso retornou-se velocidade nula no bocal!!!\n",
      "WARNING: A pressão ambiente (101.33) é maior que a pressão total de entrada do bocal (59.99), por isso retornou-se velocidade nula no bocal!!!\n",
      "WARNING: A pressão ambiente (101.33) é maior que a pressão total de entrada do bocal (60.02), por isso retornou-se velocidade nula no bocal!!!\n",
      "WARNING: A pressão ambiente (101.33) é maior que a pressão total de entrada do bocal (60.05), por isso retornou-se velocidade nula no bocal!!!\n",
      "WARNING: A pressão ambiente (101.33) é maior que a pressão total de entrada do bocal (60.08), por isso retornou-se velocidade nula no bocal!!!\n",
      "WARNING: A pressão ambiente (101.33) é maior que a pressão total de entrada do bocal (60.11), por isso retornou-se velocidade nula no bocal!!!\n",
      "WARNING: A pressão ambiente (101.33) é maior que a pressão total de entrada do bocal (60.14), por isso retornou-se velocidade nula no bocal!!!\n",
      "WARNING: A pressão ambiente (101.33) é maior que a pressão total de entrada do bocal (60.16), por isso retornou-se velocidade nula no bocal!!!\n",
      "WARNING: A pressão ambiente (101.33) é maior que a pressão total de entrada do bocal (60.19), por isso retornou-se velocidade nula no bocal!!!\n",
      "WARNING: A pressão ambiente (101.33) é maior que a pressão total de entrada do bocal (60.22), por isso retornou-se velocidade nula no bocal!!!\n",
      "WARNING: A pressão ambiente (101.33) é maior que a pressão total de entrada do bocal (60.25), por isso retornou-se velocidade nula no bocal!!!\n",
      "WARNING: A pressão ambiente (101.33) é maior que a pressão total de entrada do bocal (60.28), por isso retornou-se velocidade nula no bocal!!!\n",
      "WARNING: A pressão ambiente (101.33) é maior que a pressão total de entrada do bocal (60.31), por isso retornou-se velocidade nula no bocal!!!\n",
      "WARNING: A pressão ambiente (101.33) é maior que a pressão total de entrada do bocal (60.34), por isso retornou-se velocidade nula no bocal!!!\n",
      "WARNING: A pressão ambiente (101.33) é maior que a pressão total de entrada do bocal (60.37), por isso retornou-se velocidade nula no bocal!!!\n",
      "WARNING: A pressão ambiente (101.33) é maior que a pressão total de entrada do bocal (60.40), por isso retornou-se velocidade nula no bocal!!!\n",
      "WARNING: A pressão ambiente (101.33) é maior que a pressão total de entrada do bocal (60.43), por isso retornou-se velocidade nula no bocal!!!\n",
      "WARNING: A pressão ambiente (101.33) é maior que a pressão total de entrada do bocal (60.46), por isso retornou-se velocidade nula no bocal!!!\n",
      "WARNING: A pressão ambiente (101.33) é maior que a pressão total de entrada do bocal (60.49), por isso retornou-se velocidade nula no bocal!!!\n",
      "WARNING: A pressão ambiente (101.33) é maior que a pressão total de entrada do bocal (60.52), por isso retornou-se velocidade nula no bocal!!!\n",
      "WARNING: A pressão ambiente (101.33) é maior que a pressão total de entrada do bocal (60.55), por isso retornou-se velocidade nula no bocal!!!\n",
      "WARNING: A pressão ambiente (101.33) é maior que a pressão total de entrada do bocal (60.58), por isso retornou-se velocidade nula no bocal!!!\n",
      "WARNING: A pressão ambiente (101.33) é maior que a pressão total de entrada do bocal (60.61), por isso retornou-se velocidade nula no bocal!!!\n",
      "WARNING: A pressão ambiente (101.33) é maior que a pressão total de entrada do bocal (60.64), por isso retornou-se velocidade nula no bocal!!!\n",
      "WARNING: A pressão ambiente (101.33) é maior que a pressão total de entrada do bocal (60.67), por isso retornou-se velocidade nula no bocal!!!\n",
      "WARNING: A pressão ambiente (101.33) é maior que a pressão total de entrada do bocal (60.70), por isso retornou-se velocidade nula no bocal!!!\n",
      "WARNING: A pressão ambiente (101.33) é maior que a pressão total de entrada do bocal (60.73), por isso retornou-se velocidade nula no bocal!!!\n",
      "WARNING: A pressão ambiente (101.33) é maior que a pressão total de entrada do bocal (60.76), por isso retornou-se velocidade nula no bocal!!!\n",
      "WARNING: A pressão ambiente (101.33) é maior que a pressão total de entrada do bocal (60.79), por isso retornou-se velocidade nula no bocal!!!\n",
      "WARNING: A pressão ambiente (101.33) é maior que a pressão total de entrada do bocal (60.82), por isso retornou-se velocidade nula no bocal!!!\n",
      "WARNING: A pressão ambiente (101.33) é maior que a pressão total de entrada do bocal (60.85), por isso retornou-se velocidade nula no bocal!!!\n",
      "WARNING: A pressão ambiente (101.33) é maior que a pressão total de entrada do bocal (60.88), por isso retornou-se velocidade nula no bocal!!!\n",
      "WARNING: A pressão ambiente (101.33) é maior que a pressão total de entrada do bocal (60.91), por isso retornou-se velocidade nula no bocal!!!\n",
      "WARNING: A pressão ambiente (101.33) é maior que a pressão total de entrada do bocal (60.94), por isso retornou-se velocidade nula no bocal!!!\n",
      "WARNING: A pressão ambiente (101.33) é maior que a pressão total de entrada do bocal (60.97), por isso retornou-se velocidade nula no bocal!!!\n",
      "WARNING: A pressão ambiente (101.33) é maior que a pressão total de entrada do bocal (61.00), por isso retornou-se velocidade nula no bocal!!!\n",
      "WARNING: A pressão ambiente (101.33) é maior que a pressão total de entrada do bocal (61.03), por isso retornou-se velocidade nula no bocal!!!\n",
      "WARNING: A pressão ambiente (101.33) é maior que a pressão total de entrada do bocal (61.06), por isso retornou-se velocidade nula no bocal!!!\n",
      "WARNING: A pressão ambiente (101.33) é maior que a pressão total de entrada do bocal (61.09), por isso retornou-se velocidade nula no bocal!!!\n",
      "WARNING: A pressão ambiente (101.33) é maior que a pressão total de entrada do bocal (61.12), por isso retornou-se velocidade nula no bocal!!!\n",
      "WARNING: A pressão ambiente (101.33) é maior que a pressão total de entrada do bocal (61.15), por isso retornou-se velocidade nula no bocal!!!\n",
      "WARNING: A pressão ambiente (101.33) é maior que a pressão total de entrada do bocal (61.18), por isso retornou-se velocidade nula no bocal!!!\n",
      "WARNING: A pressão ambiente (101.33) é maior que a pressão total de entrada do bocal (61.21), por isso retornou-se velocidade nula no bocal!!!\n",
      "WARNING: A pressão ambiente (101.33) é maior que a pressão total de entrada do bocal (61.24), por isso retornou-se velocidade nula no bocal!!!\n",
      "WARNING: A pressão ambiente (101.33) é maior que a pressão total de entrada do bocal (61.27), por isso retornou-se velocidade nula no bocal!!!\n",
      "WARNING: A pressão ambiente (101.33) é maior que a pressão total de entrada do bocal (61.30), por isso retornou-se velocidade nula no bocal!!!\n",
      "WARNING: A pressão ambiente (101.33) é maior que a pressão total de entrada do bocal (61.33), por isso retornou-se velocidade nula no bocal!!!\n",
      "WARNING: A pressão ambiente (101.33) é maior que a pressão total de entrada do bocal (61.36), por isso retornou-se velocidade nula no bocal!!!\n",
      "WARNING: A pressão ambiente (101.33) é maior que a pressão total de entrada do bocal (61.39), por isso retornou-se velocidade nula no bocal!!!\n",
      "WARNING: A pressão ambiente (101.33) é maior que a pressão total de entrada do bocal (61.42), por isso retornou-se velocidade nula no bocal!!!\n",
      "WARNING: A pressão ambiente (101.33) é maior que a pressão total de entrada do bocal (61.45), por isso retornou-se velocidade nula no bocal!!!\n",
      "WARNING: A pressão ambiente (101.33) é maior que a pressão total de entrada do bocal (61.48), por isso retornou-se velocidade nula no bocal!!!\n",
      "WARNING: A pressão ambiente (101.33) é maior que a pressão total de entrada do bocal (61.51), por isso retornou-se velocidade nula no bocal!!!\n",
      "WARNING: A pressão ambiente (101.33) é maior que a pressão total de entrada do bocal (61.54), por isso retornou-se velocidade nula no bocal!!!\n",
      "WARNING: A pressão ambiente (101.33) é maior que a pressão total de entrada do bocal (61.57), por isso retornou-se velocidade nula no bocal!!!\n",
      "WARNING: A pressão ambiente (101.33) é maior que a pressão total de entrada do bocal (61.60), por isso retornou-se velocidade nula no bocal!!!\n",
      "WARNING: A pressão ambiente (101.33) é maior que a pressão total de entrada do bocal (61.63), por isso retornou-se velocidade nula no bocal!!!\n",
      "WARNING: A pressão ambiente (101.33) é maior que a pressão total de entrada do bocal (61.66), por isso retornou-se velocidade nula no bocal!!!\n",
      "WARNING: A pressão ambiente (101.33) é maior que a pressão total de entrada do bocal (61.69), por isso retornou-se velocidade nula no bocal!!!\n",
      "WARNING: A pressão ambiente (101.33) é maior que a pressão total de entrada do bocal (61.72), por isso retornou-se velocidade nula no bocal!!!\n",
      "WARNING: A pressão ambiente (101.33) é maior que a pressão total de entrada do bocal (61.75), por isso retornou-se velocidade nula no bocal!!!\n",
      "WARNING: A pressão ambiente (101.33) é maior que a pressão total de entrada do bocal (61.78), por isso retornou-se velocidade nula no bocal!!!\n",
      "WARNING: A pressão ambiente (101.33) é maior que a pressão total de entrada do bocal (61.81), por isso retornou-se velocidade nula no bocal!!!\n",
      "WARNING: A pressão ambiente (101.33) é maior que a pressão total de entrada do bocal (61.84), por isso retornou-se velocidade nula no bocal!!!\n",
      "WARNING: A pressão ambiente (101.33) é maior que a pressão total de entrada do bocal (61.87), por isso retornou-se velocidade nula no bocal!!!\n",
      "WARNING: A pressão ambiente (101.33) é maior que a pressão total de entrada do bocal (61.90), por isso retornou-se velocidade nula no bocal!!!\n",
      "WARNING: A pressão ambiente (101.33) é maior que a pressão total de entrada do bocal (61.93), por isso retornou-se velocidade nula no bocal!!!\n",
      "WARNING: A pressão ambiente (101.33) é maior que a pressão total de entrada do bocal (61.96), por isso retornou-se velocidade nula no bocal!!!\n",
      "WARNING: A pressão ambiente (101.33) é maior que a pressão total de entrada do bocal (61.99), por isso retornou-se velocidade nula no bocal!!!\n",
      "WARNING: A pressão ambiente (101.33) é maior que a pressão total de entrada do bocal (62.02), por isso retornou-se velocidade nula no bocal!!!\n",
      "WARNING: A pressão ambiente (101.33) é maior que a pressão total de entrada do bocal (62.05), por isso retornou-se velocidade nula no bocal!!!\n",
      "WARNING: A pressão ambiente (101.33) é maior que a pressão total de entrada do bocal (62.08), por isso retornou-se velocidade nula no bocal!!!\n",
      "WARNING: A pressão ambiente (101.33) é maior que a pressão total de entrada do bocal (62.11), por isso retornou-se velocidade nula no bocal!!!\n",
      "WARNING: A pressão ambiente (101.33) é maior que a pressão total de entrada do bocal (62.14), por isso retornou-se velocidade nula no bocal!!!\n",
      "WARNING: A pressão ambiente (101.33) é maior que a pressão total de entrada do bocal (62.17), por isso retornou-se velocidade nula no bocal!!!\n",
      "WARNING: A pressão ambiente (101.33) é maior que a pressão total de entrada do bocal (62.20), por isso retornou-se velocidade nula no bocal!!!\n",
      "WARNING: A pressão ambiente (101.33) é maior que a pressão total de entrada do bocal (62.23), por isso retornou-se velocidade nula no bocal!!!\n",
      "WARNING: A pressão ambiente (101.33) é maior que a pressão total de entrada do bocal (62.26), por isso retornou-se velocidade nula no bocal!!!\n",
      "WARNING: A pressão ambiente (101.33) é maior que a pressão total de entrada do bocal (62.29), por isso retornou-se velocidade nula no bocal!!!\n",
      "WARNING: A pressão ambiente (101.33) é maior que a pressão total de entrada do bocal (62.32), por isso retornou-se velocidade nula no bocal!!!\n",
      "WARNING: A pressão ambiente (101.33) é maior que a pressão total de entrada do bocal (62.35), por isso retornou-se velocidade nula no bocal!!!\n",
      "WARNING: A pressão ambiente (101.33) é maior que a pressão total de entrada do bocal (62.38), por isso retornou-se velocidade nula no bocal!!!\n",
      "WARNING: A pressão ambiente (101.33) é maior que a pressão total de entrada do bocal (62.41), por isso retornou-se velocidade nula no bocal!!!\n",
      "WARNING: A pressão ambiente (101.33) é maior que a pressão total de entrada do bocal (62.44), por isso retornou-se velocidade nula no bocal!!!\n",
      "WARNING: A pressão ambiente (101.33) é maior que a pressão total de entrada do bocal (62.47), por isso retornou-se velocidade nula no bocal!!!\n",
      "WARNING: A pressão ambiente (101.33) é maior que a pressão total de entrada do bocal (62.50), por isso retornou-se velocidade nula no bocal!!!\n",
      "WARNING: A pressão ambiente (101.33) é maior que a pressão total de entrada do bocal (62.53), por isso retornou-se velocidade nula no bocal!!!\n",
      "WARNING: A pressão ambiente (101.33) é maior que a pressão total de entrada do bocal (62.56), por isso retornou-se velocidade nula no bocal!!!\n",
      "WARNING: A pressão ambiente (101.33) é maior que a pressão total de entrada do bocal (62.59), por isso retornou-se velocidade nula no bocal!!!\n",
      "WARNING: A pressão ambiente (101.33) é maior que a pressão total de entrada do bocal (62.62), por isso retornou-se velocidade nula no bocal!!!\n",
      "WARNING: A pressão ambiente (101.33) é maior que a pressão total de entrada do bocal (62.65), por isso retornou-se velocidade nula no bocal!!!\n",
      "WARNING: A pressão ambiente (101.33) é maior que a pressão total de entrada do bocal (62.68), por isso retornou-se velocidade nula no bocal!!!\n",
      "WARNING: A pressão ambiente (101.33) é maior que a pressão total de entrada do bocal (62.72), por isso retornou-se velocidade nula no bocal!!!\n",
      "WARNING: A pressão ambiente (101.33) é maior que a pressão total de entrada do bocal (62.75), por isso retornou-se velocidade nula no bocal!!!\n",
      "WARNING: A pressão ambiente (101.33) é maior que a pressão total de entrada do bocal (62.78), por isso retornou-se velocidade nula no bocal!!!\n",
      "WARNING: A pressão ambiente (101.33) é maior que a pressão total de entrada do bocal (62.81), por isso retornou-se velocidade nula no bocal!!!\n",
      "WARNING: A pressão ambiente (101.33) é maior que a pressão total de entrada do bocal (62.84), por isso retornou-se velocidade nula no bocal!!!\n",
      "WARNING: A pressão ambiente (101.33) é maior que a pressão total de entrada do bocal (62.87), por isso retornou-se velocidade nula no bocal!!!\n",
      "WARNING: A pressão ambiente (101.33) é maior que a pressão total de entrada do bocal (62.90), por isso retornou-se velocidade nula no bocal!!!\n",
      "WARNING: A pressão ambiente (101.33) é maior que a pressão total de entrada do bocal (62.93), por isso retornou-se velocidade nula no bocal!!!\n",
      "WARNING: A pressão ambiente (101.33) é maior que a pressão total de entrada do bocal (62.96), por isso retornou-se velocidade nula no bocal!!!\n",
      "WARNING: A pressão ambiente (101.33) é maior que a pressão total de entrada do bocal (62.99), por isso retornou-se velocidade nula no bocal!!!\n",
      "WARNING: A pressão ambiente (101.33) é maior que a pressão total de entrada do bocal (63.02), por isso retornou-se velocidade nula no bocal!!!\n",
      "WARNING: A pressão ambiente (101.33) é maior que a pressão total de entrada do bocal (63.05), por isso retornou-se velocidade nula no bocal!!!\n",
      "WARNING: A pressão ambiente (101.33) é maior que a pressão total de entrada do bocal (63.08), por isso retornou-se velocidade nula no bocal!!!\n",
      "WARNING: A pressão ambiente (101.33) é maior que a pressão total de entrada do bocal (63.11), por isso retornou-se velocidade nula no bocal!!!\n",
      "WARNING: A pressão ambiente (101.33) é maior que a pressão total de entrada do bocal (63.14), por isso retornou-se velocidade nula no bocal!!!\n",
      "WARNING: A pressão ambiente (101.33) é maior que a pressão total de entrada do bocal (63.17), por isso retornou-se velocidade nula no bocal!!!\n",
      "WARNING: A pressão ambiente (101.33) é maior que a pressão total de entrada do bocal (63.20), por isso retornou-se velocidade nula no bocal!!!\n",
      "WARNING: A pressão ambiente (101.33) é maior que a pressão total de entrada do bocal (63.23), por isso retornou-se velocidade nula no bocal!!!\n",
      "WARNING: A pressão ambiente (101.33) é maior que a pressão total de entrada do bocal (63.26), por isso retornou-se velocidade nula no bocal!!!\n",
      "WARNING: A pressão ambiente (101.33) é maior que a pressão total de entrada do bocal (63.29), por isso retornou-se velocidade nula no bocal!!!\n",
      "WARNING: A pressão ambiente (101.33) é maior que a pressão total de entrada do bocal (63.32), por isso retornou-se velocidade nula no bocal!!!\n",
      "WARNING: A pressão ambiente (101.33) é maior que a pressão total de entrada do bocal (63.35), por isso retornou-se velocidade nula no bocal!!!\n",
      "WARNING: A pressão ambiente (101.33) é maior que a pressão total de entrada do bocal (63.38), por isso retornou-se velocidade nula no bocal!!!\n",
      "WARNING: A pressão ambiente (101.33) é maior que a pressão total de entrada do bocal (63.41), por isso retornou-se velocidade nula no bocal!!!\n",
      "WARNING: A pressão ambiente (101.33) é maior que a pressão total de entrada do bocal (63.44), por isso retornou-se velocidade nula no bocal!!!\n",
      "WARNING: A pressão ambiente (101.33) é maior que a pressão total de entrada do bocal (63.47), por isso retornou-se velocidade nula no bocal!!!\n",
      "WARNING: A pressão ambiente (101.33) é maior que a pressão total de entrada do bocal (63.50), por isso retornou-se velocidade nula no bocal!!!\n",
      "WARNING: A pressão ambiente (101.33) é maior que a pressão total de entrada do bocal (63.53), por isso retornou-se velocidade nula no bocal!!!\n",
      "WARNING: A pressão ambiente (101.33) é maior que a pressão total de entrada do bocal (63.57), por isso retornou-se velocidade nula no bocal!!!\n",
      "WARNING: A pressão ambiente (101.33) é maior que a pressão total de entrada do bocal (63.60), por isso retornou-se velocidade nula no bocal!!!\n",
      "WARNING: A pressão ambiente (101.33) é maior que a pressão total de entrada do bocal (63.63), por isso retornou-se velocidade nula no bocal!!!\n",
      "WARNING: A pressão ambiente (101.33) é maior que a pressão total de entrada do bocal (63.66), por isso retornou-se velocidade nula no bocal!!!\n",
      "WARNING: A pressão ambiente (101.33) é maior que a pressão total de entrada do bocal (63.69), por isso retornou-se velocidade nula no bocal!!!\n",
      "WARNING: A pressão ambiente (101.33) é maior que a pressão total de entrada do bocal (63.72), por isso retornou-se velocidade nula no bocal!!!\n",
      "WARNING: A pressão ambiente (101.33) é maior que a pressão total de entrada do bocal (63.75), por isso retornou-se velocidade nula no bocal!!!\n",
      "WARNING: A pressão ambiente (101.33) é maior que a pressão total de entrada do bocal (63.78), por isso retornou-se velocidade nula no bocal!!!\n",
      "WARNING: A pressão ambiente (101.33) é maior que a pressão total de entrada do bocal (63.81), por isso retornou-se velocidade nula no bocal!!!\n",
      "WARNING: A pressão ambiente (101.33) é maior que a pressão total de entrada do bocal (63.84), por isso retornou-se velocidade nula no bocal!!!\n",
      "WARNING: A pressão ambiente (101.33) é maior que a pressão total de entrada do bocal (63.87), por isso retornou-se velocidade nula no bocal!!!\n",
      "WARNING: A pressão ambiente (101.33) é maior que a pressão total de entrada do bocal (63.90), por isso retornou-se velocidade nula no bocal!!!\n",
      "WARNING: A pressão ambiente (101.33) é maior que a pressão total de entrada do bocal (63.93), por isso retornou-se velocidade nula no bocal!!!\n",
      "WARNING: A pressão ambiente (101.33) é maior que a pressão total de entrada do bocal (63.96), por isso retornou-se velocidade nula no bocal!!!\n",
      "WARNING: A pressão ambiente (101.33) é maior que a pressão total de entrada do bocal (63.99), por isso retornou-se velocidade nula no bocal!!!\n",
      "WARNING: A pressão ambiente (101.33) é maior que a pressão total de entrada do bocal (64.02), por isso retornou-se velocidade nula no bocal!!!\n",
      "WARNING: A pressão ambiente (101.33) é maior que a pressão total de entrada do bocal (64.05), por isso retornou-se velocidade nula no bocal!!!\n",
      "WARNING: A pressão ambiente (101.33) é maior que a pressão total de entrada do bocal (64.08), por isso retornou-se velocidade nula no bocal!!!\n",
      "WARNING: A pressão ambiente (101.33) é maior que a pressão total de entrada do bocal (64.11), por isso retornou-se velocidade nula no bocal!!!\n",
      "WARNING: A pressão ambiente (101.33) é maior que a pressão total de entrada do bocal (64.15), por isso retornou-se velocidade nula no bocal!!!\n",
      "WARNING: A pressão ambiente (101.33) é maior que a pressão total de entrada do bocal (64.18), por isso retornou-se velocidade nula no bocal!!!\n",
      "WARNING: A pressão ambiente (101.33) é maior que a pressão total de entrada do bocal (64.21), por isso retornou-se velocidade nula no bocal!!!\n",
      "WARNING: A pressão ambiente (101.33) é maior que a pressão total de entrada do bocal (64.24), por isso retornou-se velocidade nula no bocal!!!\n",
      "WARNING: A pressão ambiente (101.33) é maior que a pressão total de entrada do bocal (64.27), por isso retornou-se velocidade nula no bocal!!!\n",
      "WARNING: A pressão ambiente (101.33) é maior que a pressão total de entrada do bocal (64.30), por isso retornou-se velocidade nula no bocal!!!\n",
      "WARNING: A pressão ambiente (101.33) é maior que a pressão total de entrada do bocal (64.33), por isso retornou-se velocidade nula no bocal!!!\n",
      "WARNING: A pressão ambiente (101.33) é maior que a pressão total de entrada do bocal (64.36), por isso retornou-se velocidade nula no bocal!!!\n",
      "WARNING: A pressão ambiente (101.33) é maior que a pressão total de entrada do bocal (64.39), por isso retornou-se velocidade nula no bocal!!!\n",
      "WARNING: A pressão ambiente (101.33) é maior que a pressão total de entrada do bocal (64.42), por isso retornou-se velocidade nula no bocal!!!\n",
      "WARNING: A pressão ambiente (101.33) é maior que a pressão total de entrada do bocal (64.45), por isso retornou-se velocidade nula no bocal!!!\n",
      "WARNING: A pressão ambiente (101.33) é maior que a pressão total de entrada do bocal (64.48), por isso retornou-se velocidade nula no bocal!!!\n",
      "WARNING: A pressão ambiente (101.33) é maior que a pressão total de entrada do bocal (64.51), por isso retornou-se velocidade nula no bocal!!!\n",
      "WARNING: A pressão ambiente (101.33) é maior que a pressão total de entrada do bocal (64.54), por isso retornou-se velocidade nula no bocal!!!\n",
      "WARNING: A pressão ambiente (101.33) é maior que a pressão total de entrada do bocal (64.57), por isso retornou-se velocidade nula no bocal!!!\n",
      "WARNING: A pressão ambiente (101.33) é maior que a pressão total de entrada do bocal (64.60), por isso retornou-se velocidade nula no bocal!!!\n",
      "WARNING: A pressão ambiente (101.33) é maior que a pressão total de entrada do bocal (64.64), por isso retornou-se velocidade nula no bocal!!!\n",
      "WARNING: A pressão ambiente (101.33) é maior que a pressão total de entrada do bocal (64.67), por isso retornou-se velocidade nula no bocal!!!\n",
      "WARNING: A pressão ambiente (101.33) é maior que a pressão total de entrada do bocal (64.70), por isso retornou-se velocidade nula no bocal!!!\n",
      "WARNING: A pressão ambiente (101.33) é maior que a pressão total de entrada do bocal (64.73), por isso retornou-se velocidade nula no bocal!!!\n",
      "WARNING: A pressão ambiente (101.33) é maior que a pressão total de entrada do bocal (64.76), por isso retornou-se velocidade nula no bocal!!!\n",
      "WARNING: A pressão ambiente (101.33) é maior que a pressão total de entrada do bocal (64.79), por isso retornou-se velocidade nula no bocal!!!\n",
      "WARNING: A pressão ambiente (101.33) é maior que a pressão total de entrada do bocal (64.82), por isso retornou-se velocidade nula no bocal!!!\n",
      "WARNING: A pressão ambiente (101.33) é maior que a pressão total de entrada do bocal (64.85), por isso retornou-se velocidade nula no bocal!!!\n",
      "WARNING: A pressão ambiente (101.33) é maior que a pressão total de entrada do bocal (64.88), por isso retornou-se velocidade nula no bocal!!!\n",
      "WARNING: A pressão ambiente (101.33) é maior que a pressão total de entrada do bocal (64.91), por isso retornou-se velocidade nula no bocal!!!\n",
      "WARNING: A pressão ambiente (101.33) é maior que a pressão total de entrada do bocal (64.94), por isso retornou-se velocidade nula no bocal!!!\n",
      "WARNING: A pressão ambiente (101.33) é maior que a pressão total de entrada do bocal (64.97), por isso retornou-se velocidade nula no bocal!!!\n",
      "WARNING: A pressão ambiente (101.33) é maior que a pressão total de entrada do bocal (65.00), por isso retornou-se velocidade nula no bocal!!!\n",
      "WARNING: A pressão ambiente (101.33) é maior que a pressão total de entrada do bocal (65.04), por isso retornou-se velocidade nula no bocal!!!\n",
      "WARNING: A pressão ambiente (101.33) é maior que a pressão total de entrada do bocal (65.07), por isso retornou-se velocidade nula no bocal!!!\n",
      "WARNING: A pressão ambiente (101.33) é maior que a pressão total de entrada do bocal (65.10), por isso retornou-se velocidade nula no bocal!!!\n",
      "WARNING: A pressão ambiente (101.33) é maior que a pressão total de entrada do bocal (65.13), por isso retornou-se velocidade nula no bocal!!!\n",
      "WARNING: A pressão ambiente (101.33) é maior que a pressão total de entrada do bocal (65.16), por isso retornou-se velocidade nula no bocal!!!\n",
      "WARNING: A pressão ambiente (101.33) é maior que a pressão total de entrada do bocal (65.19), por isso retornou-se velocidade nula no bocal!!!\n",
      "WARNING: A pressão ambiente (101.33) é maior que a pressão total de entrada do bocal (65.22), por isso retornou-se velocidade nula no bocal!!!\n",
      "WARNING: A pressão ambiente (101.33) é maior que a pressão total de entrada do bocal (65.25), por isso retornou-se velocidade nula no bocal!!!\n",
      "WARNING: A pressão ambiente (101.33) é maior que a pressão total de entrada do bocal (65.28), por isso retornou-se velocidade nula no bocal!!!\n",
      "WARNING: A pressão ambiente (101.33) é maior que a pressão total de entrada do bocal (65.31), por isso retornou-se velocidade nula no bocal!!!\n",
      "WARNING: A pressão ambiente (101.33) é maior que a pressão total de entrada do bocal (65.34), por isso retornou-se velocidade nula no bocal!!!\n",
      "WARNING: A pressão ambiente (101.33) é maior que a pressão total de entrada do bocal (65.37), por isso retornou-se velocidade nula no bocal!!!\n",
      "WARNING: A pressão ambiente (101.33) é maior que a pressão total de entrada do bocal (65.40), por isso retornou-se velocidade nula no bocal!!!\n",
      "WARNING: A pressão ambiente (101.33) é maior que a pressão total de entrada do bocal (65.44), por isso retornou-se velocidade nula no bocal!!!\n",
      "WARNING: A pressão ambiente (101.33) é maior que a pressão total de entrada do bocal (65.47), por isso retornou-se velocidade nula no bocal!!!\n",
      "WARNING: A pressão ambiente (101.33) é maior que a pressão total de entrada do bocal (65.50), por isso retornou-se velocidade nula no bocal!!!\n",
      "WARNING: A pressão ambiente (101.33) é maior que a pressão total de entrada do bocal (65.53), por isso retornou-se velocidade nula no bocal!!!\n",
      "WARNING: A pressão ambiente (101.33) é maior que a pressão total de entrada do bocal (65.56), por isso retornou-se velocidade nula no bocal!!!\n",
      "WARNING: A pressão ambiente (101.33) é maior que a pressão total de entrada do bocal (65.59), por isso retornou-se velocidade nula no bocal!!!\n",
      "WARNING: A pressão ambiente (101.33) é maior que a pressão total de entrada do bocal (65.62), por isso retornou-se velocidade nula no bocal!!!\n",
      "WARNING: A pressão ambiente (101.33) é maior que a pressão total de entrada do bocal (65.65), por isso retornou-se velocidade nula no bocal!!!\n",
      "WARNING: A pressão ambiente (101.33) é maior que a pressão total de entrada do bocal (65.68), por isso retornou-se velocidade nula no bocal!!!\n",
      "WARNING: A pressão ambiente (101.33) é maior que a pressão total de entrada do bocal (65.71), por isso retornou-se velocidade nula no bocal!!!\n",
      "WARNING: A pressão ambiente (101.33) é maior que a pressão total de entrada do bocal (65.74), por isso retornou-se velocidade nula no bocal!!!\n",
      "WARNING: A pressão ambiente (101.33) é maior que a pressão total de entrada do bocal (65.78), por isso retornou-se velocidade nula no bocal!!!\n",
      "WARNING: A pressão ambiente (101.33) é maior que a pressão total de entrada do bocal (65.81), por isso retornou-se velocidade nula no bocal!!!\n",
      "WARNING: A pressão ambiente (101.33) é maior que a pressão total de entrada do bocal (65.84), por isso retornou-se velocidade nula no bocal!!!\n",
      "WARNING: A pressão ambiente (101.33) é maior que a pressão total de entrada do bocal (65.87), por isso retornou-se velocidade nula no bocal!!!\n",
      "WARNING: A pressão ambiente (101.33) é maior que a pressão total de entrada do bocal (65.90), por isso retornou-se velocidade nula no bocal!!!\n",
      "WARNING: A pressão ambiente (101.33) é maior que a pressão total de entrada do bocal (65.93), por isso retornou-se velocidade nula no bocal!!!\n",
      "WARNING: A pressão ambiente (101.33) é maior que a pressão total de entrada do bocal (65.96), por isso retornou-se velocidade nula no bocal!!!\n",
      "WARNING: A pressão ambiente (101.33) é maior que a pressão total de entrada do bocal (65.99), por isso retornou-se velocidade nula no bocal!!!\n",
      "WARNING: A pressão ambiente (101.33) é maior que a pressão total de entrada do bocal (66.02), por isso retornou-se velocidade nula no bocal!!!\n",
      "WARNING: A pressão ambiente (101.33) é maior que a pressão total de entrada do bocal (66.05), por isso retornou-se velocidade nula no bocal!!!\n",
      "WARNING: A pressão ambiente (101.33) é maior que a pressão total de entrada do bocal (66.09), por isso retornou-se velocidade nula no bocal!!!\n",
      "WARNING: A pressão ambiente (101.33) é maior que a pressão total de entrada do bocal (66.12), por isso retornou-se velocidade nula no bocal!!!\n",
      "WARNING: A pressão ambiente (101.33) é maior que a pressão total de entrada do bocal (66.15), por isso retornou-se velocidade nula no bocal!!!\n",
      "WARNING: A pressão ambiente (101.33) é maior que a pressão total de entrada do bocal (66.18), por isso retornou-se velocidade nula no bocal!!!\n",
      "WARNING: A pressão ambiente (101.33) é maior que a pressão total de entrada do bocal (66.21), por isso retornou-se velocidade nula no bocal!!!\n",
      "WARNING: A pressão ambiente (101.33) é maior que a pressão total de entrada do bocal (66.24), por isso retornou-se velocidade nula no bocal!!!\n",
      "WARNING: A pressão ambiente (101.33) é maior que a pressão total de entrada do bocal (66.27), por isso retornou-se velocidade nula no bocal!!!\n",
      "WARNING: A pressão ambiente (101.33) é maior que a pressão total de entrada do bocal (66.30), por isso retornou-se velocidade nula no bocal!!!\n",
      "WARNING: A pressão ambiente (101.33) é maior que a pressão total de entrada do bocal (66.33), por isso retornou-se velocidade nula no bocal!!!\n",
      "WARNING: A pressão ambiente (101.33) é maior que a pressão total de entrada do bocal (66.36), por isso retornou-se velocidade nula no bocal!!!\n",
      "WARNING: A pressão ambiente (101.33) é maior que a pressão total de entrada do bocal (66.40), por isso retornou-se velocidade nula no bocal!!!\n",
      "WARNING: A pressão ambiente (101.33) é maior que a pressão total de entrada do bocal (66.43), por isso retornou-se velocidade nula no bocal!!!\n",
      "WARNING: A pressão ambiente (101.33) é maior que a pressão total de entrada do bocal (66.46), por isso retornou-se velocidade nula no bocal!!!\n",
      "WARNING: A pressão ambiente (101.33) é maior que a pressão total de entrada do bocal (66.49), por isso retornou-se velocidade nula no bocal!!!\n",
      "WARNING: A pressão ambiente (101.33) é maior que a pressão total de entrada do bocal (66.52), por isso retornou-se velocidade nula no bocal!!!\n",
      "WARNING: A pressão ambiente (101.33) é maior que a pressão total de entrada do bocal (66.55), por isso retornou-se velocidade nula no bocal!!!\n",
      "WARNING: A pressão ambiente (101.33) é maior que a pressão total de entrada do bocal (66.58), por isso retornou-se velocidade nula no bocal!!!\n",
      "WARNING: A pressão ambiente (101.33) é maior que a pressão total de entrada do bocal (66.61), por isso retornou-se velocidade nula no bocal!!!\n",
      "WARNING: A pressão ambiente (101.33) é maior que a pressão total de entrada do bocal (66.64), por isso retornou-se velocidade nula no bocal!!!\n",
      "WARNING: A pressão ambiente (101.33) é maior que a pressão total de entrada do bocal (66.68), por isso retornou-se velocidade nula no bocal!!!\n",
      "WARNING: A pressão ambiente (101.33) é maior que a pressão total de entrada do bocal (66.71), por isso retornou-se velocidade nula no bocal!!!\n",
      "WARNING: A pressão ambiente (101.33) é maior que a pressão total de entrada do bocal (66.74), por isso retornou-se velocidade nula no bocal!!!\n",
      "WARNING: A pressão ambiente (101.33) é maior que a pressão total de entrada do bocal (66.77), por isso retornou-se velocidade nula no bocal!!!\n",
      "WARNING: A pressão ambiente (101.33) é maior que a pressão total de entrada do bocal (66.80), por isso retornou-se velocidade nula no bocal!!!\n",
      "WARNING: A pressão ambiente (101.33) é maior que a pressão total de entrada do bocal (66.83), por isso retornou-se velocidade nula no bocal!!!\n",
      "WARNING: A pressão ambiente (101.33) é maior que a pressão total de entrada do bocal (66.86), por isso retornou-se velocidade nula no bocal!!!\n",
      "WARNING: A pressão ambiente (101.33) é maior que a pressão total de entrada do bocal (66.89), por isso retornou-se velocidade nula no bocal!!!\n",
      "WARNING: A pressão ambiente (101.33) é maior que a pressão total de entrada do bocal (66.92), por isso retornou-se velocidade nula no bocal!!!\n",
      "WARNING: A pressão ambiente (101.33) é maior que a pressão total de entrada do bocal (66.96), por isso retornou-se velocidade nula no bocal!!!\n",
      "WARNING: A pressão ambiente (101.33) é maior que a pressão total de entrada do bocal (66.99), por isso retornou-se velocidade nula no bocal!!!\n",
      "WARNING: A pressão ambiente (101.33) é maior que a pressão total de entrada do bocal (67.02), por isso retornou-se velocidade nula no bocal!!!\n",
      "WARNING: A pressão ambiente (101.33) é maior que a pressão total de entrada do bocal (67.05), por isso retornou-se velocidade nula no bocal!!!\n",
      "WARNING: A pressão ambiente (101.33) é maior que a pressão total de entrada do bocal (67.08), por isso retornou-se velocidade nula no bocal!!!\n",
      "WARNING: A pressão ambiente (101.33) é maior que a pressão total de entrada do bocal (67.11), por isso retornou-se velocidade nula no bocal!!!\n",
      "WARNING: A pressão ambiente (101.33) é maior que a pressão total de entrada do bocal (67.14), por isso retornou-se velocidade nula no bocal!!!\n",
      "WARNING: A pressão ambiente (101.33) é maior que a pressão total de entrada do bocal (67.17), por isso retornou-se velocidade nula no bocal!!!\n",
      "WARNING: A pressão ambiente (101.33) é maior que a pressão total de entrada do bocal (67.21), por isso retornou-se velocidade nula no bocal!!!\n",
      "WARNING: A pressão ambiente (101.33) é maior que a pressão total de entrada do bocal (67.24), por isso retornou-se velocidade nula no bocal!!!\n",
      "WARNING: A pressão ambiente (101.33) é maior que a pressão total de entrada do bocal (67.27), por isso retornou-se velocidade nula no bocal!!!\n",
      "WARNING: A pressão ambiente (101.33) é maior que a pressão total de entrada do bocal (67.30), por isso retornou-se velocidade nula no bocal!!!\n",
      "WARNING: A pressão ambiente (101.33) é maior que a pressão total de entrada do bocal (67.33), por isso retornou-se velocidade nula no bocal!!!\n",
      "WARNING: A pressão ambiente (101.33) é maior que a pressão total de entrada do bocal (67.36), por isso retornou-se velocidade nula no bocal!!!\n",
      "WARNING: A pressão ambiente (101.33) é maior que a pressão total de entrada do bocal (67.39), por isso retornou-se velocidade nula no bocal!!!\n",
      "WARNING: A pressão ambiente (101.33) é maior que a pressão total de entrada do bocal (67.42), por isso retornou-se velocidade nula no bocal!!!\n",
      "WARNING: A pressão ambiente (101.33) é maior que a pressão total de entrada do bocal (67.46), por isso retornou-se velocidade nula no bocal!!!\n",
      "WARNING: A pressão ambiente (101.33) é maior que a pressão total de entrada do bocal (67.49), por isso retornou-se velocidade nula no bocal!!!\n",
      "WARNING: A pressão ambiente (101.33) é maior que a pressão total de entrada do bocal (67.52), por isso retornou-se velocidade nula no bocal!!!\n",
      "WARNING: A pressão ambiente (101.33) é maior que a pressão total de entrada do bocal (67.55), por isso retornou-se velocidade nula no bocal!!!\n",
      "WARNING: A pressão ambiente (101.33) é maior que a pressão total de entrada do bocal (67.58), por isso retornou-se velocidade nula no bocal!!!\n",
      "WARNING: A pressão ambiente (101.33) é maior que a pressão total de entrada do bocal (67.61), por isso retornou-se velocidade nula no bocal!!!\n",
      "WARNING: A pressão ambiente (101.33) é maior que a pressão total de entrada do bocal (67.64), por isso retornou-se velocidade nula no bocal!!!\n",
      "WARNING: A pressão ambiente (101.33) é maior que a pressão total de entrada do bocal (67.67), por isso retornou-se velocidade nula no bocal!!!\n",
      "WARNING: A pressão ambiente (101.33) é maior que a pressão total de entrada do bocal (67.71), por isso retornou-se velocidade nula no bocal!!!\n",
      "WARNING: A pressão ambiente (101.33) é maior que a pressão total de entrada do bocal (67.74), por isso retornou-se velocidade nula no bocal!!!\n",
      "WARNING: A pressão ambiente (101.33) é maior que a pressão total de entrada do bocal (67.77), por isso retornou-se velocidade nula no bocal!!!\n",
      "WARNING: A pressão ambiente (101.33) é maior que a pressão total de entrada do bocal (67.80), por isso retornou-se velocidade nula no bocal!!!\n",
      "WARNING: A pressão ambiente (101.33) é maior que a pressão total de entrada do bocal (67.83), por isso retornou-se velocidade nula no bocal!!!\n",
      "WARNING: A pressão ambiente (101.33) é maior que a pressão total de entrada do bocal (67.86), por isso retornou-se velocidade nula no bocal!!!\n",
      "WARNING: A pressão ambiente (101.33) é maior que a pressão total de entrada do bocal (67.89), por isso retornou-se velocidade nula no bocal!!!\n",
      "WARNING: A pressão ambiente (101.33) é maior que a pressão total de entrada do bocal (67.92), por isso retornou-se velocidade nula no bocal!!!\n",
      "WARNING: A pressão ambiente (101.33) é maior que a pressão total de entrada do bocal (67.96), por isso retornou-se velocidade nula no bocal!!!\n",
      "WARNING: A pressão ambiente (101.33) é maior que a pressão total de entrada do bocal (67.99), por isso retornou-se velocidade nula no bocal!!!\n",
      "WARNING: A pressão ambiente (101.33) é maior que a pressão total de entrada do bocal (68.02), por isso retornou-se velocidade nula no bocal!!!\n",
      "WARNING: A pressão ambiente (101.33) é maior que a pressão total de entrada do bocal (68.05), por isso retornou-se velocidade nula no bocal!!!\n",
      "WARNING: A pressão ambiente (101.33) é maior que a pressão total de entrada do bocal (68.08), por isso retornou-se velocidade nula no bocal!!!\n",
      "WARNING: A pressão ambiente (101.33) é maior que a pressão total de entrada do bocal (68.11), por isso retornou-se velocidade nula no bocal!!!\n",
      "WARNING: A pressão ambiente (101.33) é maior que a pressão total de entrada do bocal (68.14), por isso retornou-se velocidade nula no bocal!!!\n",
      "WARNING: A pressão ambiente (101.33) é maior que a pressão total de entrada do bocal (68.18), por isso retornou-se velocidade nula no bocal!!!\n",
      "WARNING: A pressão ambiente (101.33) é maior que a pressão total de entrada do bocal (68.21), por isso retornou-se velocidade nula no bocal!!!\n",
      "WARNING: A pressão ambiente (101.33) é maior que a pressão total de entrada do bocal (68.24), por isso retornou-se velocidade nula no bocal!!!\n",
      "WARNING: A pressão ambiente (101.33) é maior que a pressão total de entrada do bocal (68.27), por isso retornou-se velocidade nula no bocal!!!\n",
      "WARNING: A pressão ambiente (101.33) é maior que a pressão total de entrada do bocal (68.30), por isso retornou-se velocidade nula no bocal!!!\n",
      "WARNING: A pressão ambiente (101.33) é maior que a pressão total de entrada do bocal (68.33), por isso retornou-se velocidade nula no bocal!!!\n",
      "WARNING: A pressão ambiente (101.33) é maior que a pressão total de entrada do bocal (68.36), por isso retornou-se velocidade nula no bocal!!!\n",
      "WARNING: A pressão ambiente (101.33) é maior que a pressão total de entrada do bocal (68.40), por isso retornou-se velocidade nula no bocal!!!\n",
      "WARNING: A pressão ambiente (101.33) é maior que a pressão total de entrada do bocal (68.43), por isso retornou-se velocidade nula no bocal!!!\n",
      "WARNING: A pressão ambiente (101.33) é maior que a pressão total de entrada do bocal (68.46), por isso retornou-se velocidade nula no bocal!!!\n",
      "WARNING: A pressão ambiente (101.33) é maior que a pressão total de entrada do bocal (68.49), por isso retornou-se velocidade nula no bocal!!!\n",
      "WARNING: A pressão ambiente (101.33) é maior que a pressão total de entrada do bocal (68.52), por isso retornou-se velocidade nula no bocal!!!\n",
      "WARNING: A pressão ambiente (101.33) é maior que a pressão total de entrada do bocal (68.55), por isso retornou-se velocidade nula no bocal!!!\n",
      "WARNING: A pressão ambiente (101.33) é maior que a pressão total de entrada do bocal (68.59), por isso retornou-se velocidade nula no bocal!!!\n",
      "WARNING: A pressão ambiente (101.33) é maior que a pressão total de entrada do bocal (68.62), por isso retornou-se velocidade nula no bocal!!!\n",
      "WARNING: A pressão ambiente (101.33) é maior que a pressão total de entrada do bocal (68.65), por isso retornou-se velocidade nula no bocal!!!\n",
      "WARNING: A pressão ambiente (101.33) é maior que a pressão total de entrada do bocal (68.68), por isso retornou-se velocidade nula no bocal!!!\n",
      "WARNING: A pressão ambiente (101.33) é maior que a pressão total de entrada do bocal (68.71), por isso retornou-se velocidade nula no bocal!!!\n",
      "WARNING: A pressão ambiente (101.33) é maior que a pressão total de entrada do bocal (68.74), por isso retornou-se velocidade nula no bocal!!!\n",
      "WARNING: A pressão ambiente (101.33) é maior que a pressão total de entrada do bocal (68.77), por isso retornou-se velocidade nula no bocal!!!\n",
      "WARNING: A pressão ambiente (101.33) é maior que a pressão total de entrada do bocal (68.81), por isso retornou-se velocidade nula no bocal!!!\n",
      "WARNING: A pressão ambiente (101.33) é maior que a pressão total de entrada do bocal (68.84), por isso retornou-se velocidade nula no bocal!!!\n",
      "WARNING: A pressão ambiente (101.33) é maior que a pressão total de entrada do bocal (68.87), por isso retornou-se velocidade nula no bocal!!!\n",
      "WARNING: A pressão ambiente (101.33) é maior que a pressão total de entrada do bocal (68.90), por isso retornou-se velocidade nula no bocal!!!\n",
      "WARNING: A pressão ambiente (101.33) é maior que a pressão total de entrada do bocal (68.93), por isso retornou-se velocidade nula no bocal!!!\n",
      "WARNING: A pressão ambiente (101.33) é maior que a pressão total de entrada do bocal (68.96), por isso retornou-se velocidade nula no bocal!!!\n",
      "WARNING: A pressão ambiente (101.33) é maior que a pressão total de entrada do bocal (69.00), por isso retornou-se velocidade nula no bocal!!!\n",
      "WARNING: A pressão ambiente (101.33) é maior que a pressão total de entrada do bocal (69.03), por isso retornou-se velocidade nula no bocal!!!\n",
      "WARNING: A pressão ambiente (101.33) é maior que a pressão total de entrada do bocal (69.06), por isso retornou-se velocidade nula no bocal!!!\n",
      "WARNING: A pressão ambiente (101.33) é maior que a pressão total de entrada do bocal (69.09), por isso retornou-se velocidade nula no bocal!!!\n",
      "WARNING: A pressão ambiente (101.33) é maior que a pressão total de entrada do bocal (69.12), por isso retornou-se velocidade nula no bocal!!!\n",
      "WARNING: A pressão ambiente (101.33) é maior que a pressão total de entrada do bocal (69.15), por isso retornou-se velocidade nula no bocal!!!\n",
      "WARNING: A pressão ambiente (101.33) é maior que a pressão total de entrada do bocal (69.18), por isso retornou-se velocidade nula no bocal!!!\n",
      "WARNING: A pressão ambiente (101.33) é maior que a pressão total de entrada do bocal (69.22), por isso retornou-se velocidade nula no bocal!!!\n",
      "WARNING: A pressão ambiente (101.33) é maior que a pressão total de entrada do bocal (69.25), por isso retornou-se velocidade nula no bocal!!!\n",
      "WARNING: A pressão ambiente (101.33) é maior que a pressão total de entrada do bocal (69.28), por isso retornou-se velocidade nula no bocal!!!\n",
      "WARNING: A pressão ambiente (101.33) é maior que a pressão total de entrada do bocal (69.31), por isso retornou-se velocidade nula no bocal!!!\n",
      "WARNING: A pressão ambiente (101.33) é maior que a pressão total de entrada do bocal (69.34), por isso retornou-se velocidade nula no bocal!!!\n",
      "WARNING: A pressão ambiente (101.33) é maior que a pressão total de entrada do bocal (69.37), por isso retornou-se velocidade nula no bocal!!!\n",
      "WARNING: A pressão ambiente (101.33) é maior que a pressão total de entrada do bocal (69.41), por isso retornou-se velocidade nula no bocal!!!\n",
      "WARNING: A pressão ambiente (101.33) é maior que a pressão total de entrada do bocal (69.44), por isso retornou-se velocidade nula no bocal!!!\n",
      "WARNING: A pressão ambiente (101.33) é maior que a pressão total de entrada do bocal (69.47), por isso retornou-se velocidade nula no bocal!!!\n",
      "WARNING: A pressão ambiente (101.33) é maior que a pressão total de entrada do bocal (69.50), por isso retornou-se velocidade nula no bocal!!!\n",
      "WARNING: A pressão ambiente (101.33) é maior que a pressão total de entrada do bocal (69.53), por isso retornou-se velocidade nula no bocal!!!\n",
      "WARNING: A pressão ambiente (101.33) é maior que a pressão total de entrada do bocal (69.56), por isso retornou-se velocidade nula no bocal!!!\n",
      "WARNING: A pressão ambiente (101.33) é maior que a pressão total de entrada do bocal (69.60), por isso retornou-se velocidade nula no bocal!!!\n",
      "WARNING: A pressão ambiente (101.33) é maior que a pressão total de entrada do bocal (69.63), por isso retornou-se velocidade nula no bocal!!!\n",
      "WARNING: A pressão ambiente (101.33) é maior que a pressão total de entrada do bocal (69.66), por isso retornou-se velocidade nula no bocal!!!\n",
      "WARNING: A pressão ambiente (101.33) é maior que a pressão total de entrada do bocal (69.69), por isso retornou-se velocidade nula no bocal!!!\n",
      "WARNING: A pressão ambiente (101.33) é maior que a pressão total de entrada do bocal (69.72), por isso retornou-se velocidade nula no bocal!!!\n",
      "WARNING: A pressão ambiente (101.33) é maior que a pressão total de entrada do bocal (69.75), por isso retornou-se velocidade nula no bocal!!!\n",
      "WARNING: A pressão ambiente (101.33) é maior que a pressão total de entrada do bocal (69.79), por isso retornou-se velocidade nula no bocal!!!\n",
      "WARNING: A pressão ambiente (101.33) é maior que a pressão total de entrada do bocal (69.82), por isso retornou-se velocidade nula no bocal!!!\n",
      "WARNING: A pressão ambiente (101.33) é maior que a pressão total de entrada do bocal (69.85), por isso retornou-se velocidade nula no bocal!!!\n",
      "WARNING: A pressão ambiente (101.33) é maior que a pressão total de entrada do bocal (69.88), por isso retornou-se velocidade nula no bocal!!!\n",
      "WARNING: A pressão ambiente (101.33) é maior que a pressão total de entrada do bocal (69.91), por isso retornou-se velocidade nula no bocal!!!\n",
      "WARNING: A pressão ambiente (101.33) é maior que a pressão total de entrada do bocal (69.95), por isso retornou-se velocidade nula no bocal!!!\n",
      "WARNING: A pressão ambiente (101.33) é maior que a pressão total de entrada do bocal (69.98), por isso retornou-se velocidade nula no bocal!!!\n",
      "WARNING: A pressão ambiente (101.33) é maior que a pressão total de entrada do bocal (70.01), por isso retornou-se velocidade nula no bocal!!!\n",
      "WARNING: A pressão ambiente (101.33) é maior que a pressão total de entrada do bocal (70.04), por isso retornou-se velocidade nula no bocal!!!\n",
      "WARNING: A pressão ambiente (101.33) é maior que a pressão total de entrada do bocal (70.07), por isso retornou-se velocidade nula no bocal!!!\n",
      "WARNING: A pressão ambiente (101.33) é maior que a pressão total de entrada do bocal (70.10), por isso retornou-se velocidade nula no bocal!!!\n",
      "WARNING: A pressão ambiente (101.33) é maior que a pressão total de entrada do bocal (70.14), por isso retornou-se velocidade nula no bocal!!!\n",
      "WARNING: A pressão ambiente (101.33) é maior que a pressão total de entrada do bocal (70.17), por isso retornou-se velocidade nula no bocal!!!\n",
      "WARNING: A pressão ambiente (101.33) é maior que a pressão total de entrada do bocal (70.20), por isso retornou-se velocidade nula no bocal!!!\n",
      "WARNING: A pressão ambiente (101.33) é maior que a pressão total de entrada do bocal (70.23), por isso retornou-se velocidade nula no bocal!!!\n",
      "WARNING: A pressão ambiente (101.33) é maior que a pressão total de entrada do bocal (70.26), por isso retornou-se velocidade nula no bocal!!!\n",
      "WARNING: A pressão ambiente (101.33) é maior que a pressão total de entrada do bocal (70.30), por isso retornou-se velocidade nula no bocal!!!\n",
      "WARNING: A pressão ambiente (101.33) é maior que a pressão total de entrada do bocal (70.33), por isso retornou-se velocidade nula no bocal!!!\n",
      "WARNING: A pressão ambiente (101.33) é maior que a pressão total de entrada do bocal (70.36), por isso retornou-se velocidade nula no bocal!!!\n",
      "WARNING: A pressão ambiente (101.33) é maior que a pressão total de entrada do bocal (70.39), por isso retornou-se velocidade nula no bocal!!!\n",
      "WARNING: A pressão ambiente (101.33) é maior que a pressão total de entrada do bocal (70.42), por isso retornou-se velocidade nula no bocal!!!\n",
      "WARNING: A pressão ambiente (101.33) é maior que a pressão total de entrada do bocal (70.45), por isso retornou-se velocidade nula no bocal!!!\n",
      "WARNING: A pressão ambiente (101.33) é maior que a pressão total de entrada do bocal (70.49), por isso retornou-se velocidade nula no bocal!!!\n",
      "WARNING: A pressão ambiente (101.33) é maior que a pressão total de entrada do bocal (70.52), por isso retornou-se velocidade nula no bocal!!!\n",
      "WARNING: A pressão ambiente (101.33) é maior que a pressão total de entrada do bocal (70.55), por isso retornou-se velocidade nula no bocal!!!\n",
      "WARNING: A pressão ambiente (101.33) é maior que a pressão total de entrada do bocal (70.58), por isso retornou-se velocidade nula no bocal!!!\n",
      "WARNING: A pressão ambiente (101.33) é maior que a pressão total de entrada do bocal (70.61), por isso retornou-se velocidade nula no bocal!!!\n",
      "WARNING: A pressão ambiente (101.33) é maior que a pressão total de entrada do bocal (70.65), por isso retornou-se velocidade nula no bocal!!!\n",
      "WARNING: A pressão ambiente (101.33) é maior que a pressão total de entrada do bocal (70.68), por isso retornou-se velocidade nula no bocal!!!\n",
      "WARNING: A pressão ambiente (101.33) é maior que a pressão total de entrada do bocal (70.71), por isso retornou-se velocidade nula no bocal!!!\n",
      "WARNING: A pressão ambiente (101.33) é maior que a pressão total de entrada do bocal (70.74), por isso retornou-se velocidade nula no bocal!!!\n",
      "WARNING: A pressão ambiente (101.33) é maior que a pressão total de entrada do bocal (70.77), por isso retornou-se velocidade nula no bocal!!!\n",
      "WARNING: A pressão ambiente (101.33) é maior que a pressão total de entrada do bocal (70.81), por isso retornou-se velocidade nula no bocal!!!\n",
      "WARNING: A pressão ambiente (101.33) é maior que a pressão total de entrada do bocal (70.84), por isso retornou-se velocidade nula no bocal!!!\n",
      "WARNING: A pressão ambiente (101.33) é maior que a pressão total de entrada do bocal (70.87), por isso retornou-se velocidade nula no bocal!!!\n",
      "WARNING: A pressão ambiente (101.33) é maior que a pressão total de entrada do bocal (70.90), por isso retornou-se velocidade nula no bocal!!!\n",
      "WARNING: A pressão ambiente (101.33) é maior que a pressão total de entrada do bocal (70.93), por isso retornou-se velocidade nula no bocal!!!\n",
      "WARNING: A pressão ambiente (101.33) é maior que a pressão total de entrada do bocal (70.97), por isso retornou-se velocidade nula no bocal!!!\n",
      "WARNING: A pressão ambiente (101.33) é maior que a pressão total de entrada do bocal (71.00), por isso retornou-se velocidade nula no bocal!!!\n",
      "WARNING: A pressão ambiente (101.33) é maior que a pressão total de entrada do bocal (71.03), por isso retornou-se velocidade nula no bocal!!!\n",
      "WARNING: A pressão ambiente (101.33) é maior que a pressão total de entrada do bocal (71.06), por isso retornou-se velocidade nula no bocal!!!\n",
      "WARNING: A pressão ambiente (101.33) é maior que a pressão total de entrada do bocal (71.09), por isso retornou-se velocidade nula no bocal!!!\n",
      "WARNING: A pressão ambiente (101.33) é maior que a pressão total de entrada do bocal (71.13), por isso retornou-se velocidade nula no bocal!!!\n",
      "WARNING: A pressão ambiente (101.33) é maior que a pressão total de entrada do bocal (71.16), por isso retornou-se velocidade nula no bocal!!!\n",
      "WARNING: A pressão ambiente (101.33) é maior que a pressão total de entrada do bocal (71.19), por isso retornou-se velocidade nula no bocal!!!\n",
      "WARNING: A pressão ambiente (101.33) é maior que a pressão total de entrada do bocal (71.22), por isso retornou-se velocidade nula no bocal!!!\n",
      "WARNING: A pressão ambiente (101.33) é maior que a pressão total de entrada do bocal (71.25), por isso retornou-se velocidade nula no bocal!!!\n",
      "WARNING: A pressão ambiente (101.33) é maior que a pressão total de entrada do bocal (71.29), por isso retornou-se velocidade nula no bocal!!!\n",
      "WARNING: A pressão ambiente (101.33) é maior que a pressão total de entrada do bocal (71.32), por isso retornou-se velocidade nula no bocal!!!\n",
      "WARNING: A pressão ambiente (101.33) é maior que a pressão total de entrada do bocal (71.35), por isso retornou-se velocidade nula no bocal!!!\n",
      "WARNING: A pressão ambiente (101.33) é maior que a pressão total de entrada do bocal (71.38), por isso retornou-se velocidade nula no bocal!!!\n",
      "WARNING: A pressão ambiente (101.33) é maior que a pressão total de entrada do bocal (71.41), por isso retornou-se velocidade nula no bocal!!!\n",
      "WARNING: A pressão ambiente (101.33) é maior que a pressão total de entrada do bocal (71.45), por isso retornou-se velocidade nula no bocal!!!\n",
      "WARNING: A pressão ambiente (101.33) é maior que a pressão total de entrada do bocal (71.48), por isso retornou-se velocidade nula no bocal!!!\n",
      "WARNING: A pressão ambiente (101.33) é maior que a pressão total de entrada do bocal (71.51), por isso retornou-se velocidade nula no bocal!!!\n",
      "WARNING: A pressão ambiente (101.33) é maior que a pressão total de entrada do bocal (71.54), por isso retornou-se velocidade nula no bocal!!!\n",
      "WARNING: A pressão ambiente (101.33) é maior que a pressão total de entrada do bocal (71.57), por isso retornou-se velocidade nula no bocal!!!\n",
      "WARNING: A pressão ambiente (101.33) é maior que a pressão total de entrada do bocal (71.61), por isso retornou-se velocidade nula no bocal!!!\n",
      "WARNING: A pressão ambiente (101.33) é maior que a pressão total de entrada do bocal (71.64), por isso retornou-se velocidade nula no bocal!!!\n",
      "WARNING: A pressão ambiente (101.33) é maior que a pressão total de entrada do bocal (71.67), por isso retornou-se velocidade nula no bocal!!!\n",
      "WARNING: A pressão ambiente (101.33) é maior que a pressão total de entrada do bocal (71.70), por isso retornou-se velocidade nula no bocal!!!\n",
      "WARNING: A pressão ambiente (101.33) é maior que a pressão total de entrada do bocal (71.73), por isso retornou-se velocidade nula no bocal!!!\n",
      "WARNING: A pressão ambiente (101.33) é maior que a pressão total de entrada do bocal (71.77), por isso retornou-se velocidade nula no bocal!!!\n",
      "WARNING: A pressão ambiente (101.33) é maior que a pressão total de entrada do bocal (71.80), por isso retornou-se velocidade nula no bocal!!!\n",
      "WARNING: A pressão ambiente (101.33) é maior que a pressão total de entrada do bocal (71.83), por isso retornou-se velocidade nula no bocal!!!\n",
      "WARNING: A pressão ambiente (101.33) é maior que a pressão total de entrada do bocal (71.86), por isso retornou-se velocidade nula no bocal!!!\n",
      "WARNING: A pressão ambiente (101.33) é maior que a pressão total de entrada do bocal (71.90), por isso retornou-se velocidade nula no bocal!!!\n",
      "WARNING: A pressão ambiente (101.33) é maior que a pressão total de entrada do bocal (71.93), por isso retornou-se velocidade nula no bocal!!!\n",
      "WARNING: A pressão ambiente (101.33) é maior que a pressão total de entrada do bocal (71.96), por isso retornou-se velocidade nula no bocal!!!\n",
      "WARNING: A pressão ambiente (101.33) é maior que a pressão total de entrada do bocal (71.99), por isso retornou-se velocidade nula no bocal!!!\n",
      "WARNING: A pressão ambiente (101.33) é maior que a pressão total de entrada do bocal (72.02), por isso retornou-se velocidade nula no bocal!!!\n",
      "WARNING: A pressão ambiente (101.33) é maior que a pressão total de entrada do bocal (72.06), por isso retornou-se velocidade nula no bocal!!!\n",
      "WARNING: A pressão ambiente (101.33) é maior que a pressão total de entrada do bocal (72.09), por isso retornou-se velocidade nula no bocal!!!\n",
      "WARNING: A pressão ambiente (101.33) é maior que a pressão total de entrada do bocal (72.12), por isso retornou-se velocidade nula no bocal!!!\n",
      "WARNING: A pressão ambiente (101.33) é maior que a pressão total de entrada do bocal (72.15), por isso retornou-se velocidade nula no bocal!!!\n",
      "WARNING: A pressão ambiente (101.33) é maior que a pressão total de entrada do bocal (72.18), por isso retornou-se velocidade nula no bocal!!!\n",
      "WARNING: A pressão ambiente (101.33) é maior que a pressão total de entrada do bocal (72.22), por isso retornou-se velocidade nula no bocal!!!\n",
      "WARNING: A pressão ambiente (101.33) é maior que a pressão total de entrada do bocal (72.25), por isso retornou-se velocidade nula no bocal!!!\n",
      "WARNING: A pressão ambiente (101.33) é maior que a pressão total de entrada do bocal (72.28), por isso retornou-se velocidade nula no bocal!!!\n",
      "WARNING: A pressão ambiente (101.33) é maior que a pressão total de entrada do bocal (72.31), por isso retornou-se velocidade nula no bocal!!!\n",
      "WARNING: A pressão ambiente (101.33) é maior que a pressão total de entrada do bocal (72.35), por isso retornou-se velocidade nula no bocal!!!\n",
      "WARNING: A pressão ambiente (101.33) é maior que a pressão total de entrada do bocal (72.38), por isso retornou-se velocidade nula no bocal!!!\n",
      "WARNING: A pressão ambiente (101.33) é maior que a pressão total de entrada do bocal (72.41), por isso retornou-se velocidade nula no bocal!!!\n",
      "WARNING: A pressão ambiente (101.33) é maior que a pressão total de entrada do bocal (72.44), por isso retornou-se velocidade nula no bocal!!!\n",
      "WARNING: A pressão ambiente (101.33) é maior que a pressão total de entrada do bocal (72.47), por isso retornou-se velocidade nula no bocal!!!\n",
      "WARNING: A pressão ambiente (101.33) é maior que a pressão total de entrada do bocal (72.51), por isso retornou-se velocidade nula no bocal!!!\n",
      "WARNING: A pressão ambiente (101.33) é maior que a pressão total de entrada do bocal (72.54), por isso retornou-se velocidade nula no bocal!!!\n",
      "WARNING: A pressão ambiente (101.33) é maior que a pressão total de entrada do bocal (72.57), por isso retornou-se velocidade nula no bocal!!!\n",
      "WARNING: A pressão ambiente (101.33) é maior que a pressão total de entrada do bocal (72.60), por isso retornou-se velocidade nula no bocal!!!\n",
      "WARNING: A pressão ambiente (101.33) é maior que a pressão total de entrada do bocal (72.64), por isso retornou-se velocidade nula no bocal!!!\n",
      "WARNING: A pressão ambiente (101.33) é maior que a pressão total de entrada do bocal (72.67), por isso retornou-se velocidade nula no bocal!!!\n",
      "WARNING: A pressão ambiente (101.33) é maior que a pressão total de entrada do bocal (72.70), por isso retornou-se velocidade nula no bocal!!!\n",
      "WARNING: A pressão ambiente (101.33) é maior que a pressão total de entrada do bocal (72.73), por isso retornou-se velocidade nula no bocal!!!\n",
      "WARNING: A pressão ambiente (101.33) é maior que a pressão total de entrada do bocal (72.77), por isso retornou-se velocidade nula no bocal!!!\n",
      "WARNING: A pressão ambiente (101.33) é maior que a pressão total de entrada do bocal (72.80), por isso retornou-se velocidade nula no bocal!!!\n",
      "WARNING: A pressão ambiente (101.33) é maior que a pressão total de entrada do bocal (72.83), por isso retornou-se velocidade nula no bocal!!!\n",
      "WARNING: A pressão ambiente (101.33) é maior que a pressão total de entrada do bocal (72.86), por isso retornou-se velocidade nula no bocal!!!\n",
      "WARNING: A pressão ambiente (101.33) é maior que a pressão total de entrada do bocal (72.89), por isso retornou-se velocidade nula no bocal!!!\n",
      "WARNING: A pressão ambiente (101.33) é maior que a pressão total de entrada do bocal (72.93), por isso retornou-se velocidade nula no bocal!!!\n",
      "WARNING: A pressão ambiente (101.33) é maior que a pressão total de entrada do bocal (72.96), por isso retornou-se velocidade nula no bocal!!!\n",
      "WARNING: A pressão ambiente (101.33) é maior que a pressão total de entrada do bocal (72.99), por isso retornou-se velocidade nula no bocal!!!\n",
      "WARNING: A pressão ambiente (101.33) é maior que a pressão total de entrada do bocal (73.02), por isso retornou-se velocidade nula no bocal!!!\n",
      "WARNING: A pressão ambiente (101.33) é maior que a pressão total de entrada do bocal (73.06), por isso retornou-se velocidade nula no bocal!!!\n",
      "WARNING: A pressão ambiente (101.33) é maior que a pressão total de entrada do bocal (73.09), por isso retornou-se velocidade nula no bocal!!!\n",
      "WARNING: A pressão ambiente (101.33) é maior que a pressão total de entrada do bocal (73.12), por isso retornou-se velocidade nula no bocal!!!\n",
      "WARNING: A pressão ambiente (101.33) é maior que a pressão total de entrada do bocal (73.15), por isso retornou-se velocidade nula no bocal!!!\n",
      "WARNING: A pressão ambiente (101.33) é maior que a pressão total de entrada do bocal (73.19), por isso retornou-se velocidade nula no bocal!!!\n",
      "WARNING: A pressão ambiente (101.33) é maior que a pressão total de entrada do bocal (73.22), por isso retornou-se velocidade nula no bocal!!!\n",
      "WARNING: A pressão ambiente (101.33) é maior que a pressão total de entrada do bocal (73.25), por isso retornou-se velocidade nula no bocal!!!\n",
      "WARNING: A pressão ambiente (101.33) é maior que a pressão total de entrada do bocal (73.28), por isso retornou-se velocidade nula no bocal!!!\n",
      "WARNING: A pressão ambiente (101.33) é maior que a pressão total de entrada do bocal (73.32), por isso retornou-se velocidade nula no bocal!!!\n",
      "WARNING: A pressão ambiente (101.33) é maior que a pressão total de entrada do bocal (73.35), por isso retornou-se velocidade nula no bocal!!!\n",
      "WARNING: A pressão ambiente (101.33) é maior que a pressão total de entrada do bocal (73.38), por isso retornou-se velocidade nula no bocal!!!\n",
      "WARNING: A pressão ambiente (101.33) é maior que a pressão total de entrada do bocal (73.41), por isso retornou-se velocidade nula no bocal!!!\n",
      "WARNING: A pressão ambiente (101.33) é maior que a pressão total de entrada do bocal (73.45), por isso retornou-se velocidade nula no bocal!!!\n",
      "WARNING: A pressão ambiente (101.33) é maior que a pressão total de entrada do bocal (73.48), por isso retornou-se velocidade nula no bocal!!!\n",
      "WARNING: A pressão ambiente (101.33) é maior que a pressão total de entrada do bocal (73.51), por isso retornou-se velocidade nula no bocal!!!\n",
      "WARNING: A pressão ambiente (101.33) é maior que a pressão total de entrada do bocal (73.54), por isso retornou-se velocidade nula no bocal!!!\n",
      "WARNING: A pressão ambiente (101.33) é maior que a pressão total de entrada do bocal (73.58), por isso retornou-se velocidade nula no bocal!!!\n",
      "WARNING: A pressão ambiente (101.33) é maior que a pressão total de entrada do bocal (73.61), por isso retornou-se velocidade nula no bocal!!!\n",
      "WARNING: A pressão ambiente (101.33) é maior que a pressão total de entrada do bocal (73.64), por isso retornou-se velocidade nula no bocal!!!\n",
      "WARNING: A pressão ambiente (101.33) é maior que a pressão total de entrada do bocal (73.67), por isso retornou-se velocidade nula no bocal!!!\n",
      "WARNING: A pressão ambiente (101.33) é maior que a pressão total de entrada do bocal (73.71), por isso retornou-se velocidade nula no bocal!!!\n",
      "WARNING: A pressão ambiente (101.33) é maior que a pressão total de entrada do bocal (73.74), por isso retornou-se velocidade nula no bocal!!!\n",
      "WARNING: A pressão ambiente (101.33) é maior que a pressão total de entrada do bocal (73.77), por isso retornou-se velocidade nula no bocal!!!\n",
      "WARNING: A pressão ambiente (101.33) é maior que a pressão total de entrada do bocal (73.80), por isso retornou-se velocidade nula no bocal!!!\n",
      "WARNING: A pressão ambiente (101.33) é maior que a pressão total de entrada do bocal (73.84), por isso retornou-se velocidade nula no bocal!!!\n",
      "WARNING: A pressão ambiente (101.33) é maior que a pressão total de entrada do bocal (73.87), por isso retornou-se velocidade nula no bocal!!!\n",
      "WARNING: A pressão ambiente (101.33) é maior que a pressão total de entrada do bocal (73.90), por isso retornou-se velocidade nula no bocal!!!\n",
      "WARNING: A pressão ambiente (101.33) é maior que a pressão total de entrada do bocal (73.93), por isso retornou-se velocidade nula no bocal!!!\n",
      "WARNING: A pressão ambiente (101.33) é maior que a pressão total de entrada do bocal (73.97), por isso retornou-se velocidade nula no bocal!!!\n",
      "WARNING: A pressão ambiente (101.33) é maior que a pressão total de entrada do bocal (74.00), por isso retornou-se velocidade nula no bocal!!!\n",
      "WARNING: A pressão ambiente (101.33) é maior que a pressão total de entrada do bocal (74.03), por isso retornou-se velocidade nula no bocal!!!\n",
      "WARNING: A pressão ambiente (101.33) é maior que a pressão total de entrada do bocal (74.06), por isso retornou-se velocidade nula no bocal!!!\n",
      "WARNING: A pressão ambiente (101.33) é maior que a pressão total de entrada do bocal (74.10), por isso retornou-se velocidade nula no bocal!!!\n",
      "WARNING: A pressão ambiente (101.33) é maior que a pressão total de entrada do bocal (74.13), por isso retornou-se velocidade nula no bocal!!!\n",
      "WARNING: A pressão ambiente (101.33) é maior que a pressão total de entrada do bocal (74.16), por isso retornou-se velocidade nula no bocal!!!\n",
      "WARNING: A pressão ambiente (101.33) é maior que a pressão total de entrada do bocal (74.19), por isso retornou-se velocidade nula no bocal!!!\n",
      "WARNING: A pressão ambiente (101.33) é maior que a pressão total de entrada do bocal (74.23), por isso retornou-se velocidade nula no bocal!!!\n",
      "WARNING: A pressão ambiente (101.33) é maior que a pressão total de entrada do bocal (74.26), por isso retornou-se velocidade nula no bocal!!!\n",
      "WARNING: A pressão ambiente (101.33) é maior que a pressão total de entrada do bocal (74.29), por isso retornou-se velocidade nula no bocal!!!\n",
      "WARNING: A pressão ambiente (101.33) é maior que a pressão total de entrada do bocal (74.32), por isso retornou-se velocidade nula no bocal!!!\n",
      "WARNING: A pressão ambiente (101.33) é maior que a pressão total de entrada do bocal (74.36), por isso retornou-se velocidade nula no bocal!!!\n",
      "WARNING: A pressão ambiente (101.33) é maior que a pressão total de entrada do bocal (74.39), por isso retornou-se velocidade nula no bocal!!!\n",
      "WARNING: A pressão ambiente (101.33) é maior que a pressão total de entrada do bocal (74.42), por isso retornou-se velocidade nula no bocal!!!\n",
      "WARNING: A pressão ambiente (101.33) é maior que a pressão total de entrada do bocal (74.45), por isso retornou-se velocidade nula no bocal!!!\n",
      "WARNING: A pressão ambiente (101.33) é maior que a pressão total de entrada do bocal (74.49), por isso retornou-se velocidade nula no bocal!!!\n",
      "WARNING: A pressão ambiente (101.33) é maior que a pressão total de entrada do bocal (74.52), por isso retornou-se velocidade nula no bocal!!!\n",
      "WARNING: A pressão ambiente (101.33) é maior que a pressão total de entrada do bocal (74.55), por isso retornou-se velocidade nula no bocal!!!\n",
      "WARNING: A pressão ambiente (101.33) é maior que a pressão total de entrada do bocal (74.58), por isso retornou-se velocidade nula no bocal!!!\n",
      "WARNING: A pressão ambiente (101.33) é maior que a pressão total de entrada do bocal (74.62), por isso retornou-se velocidade nula no bocal!!!\n",
      "WARNING: A pressão ambiente (101.33) é maior que a pressão total de entrada do bocal (74.65), por isso retornou-se velocidade nula no bocal!!!\n",
      "WARNING: A pressão ambiente (101.33) é maior que a pressão total de entrada do bocal (74.68), por isso retornou-se velocidade nula no bocal!!!\n",
      "WARNING: A pressão ambiente (101.33) é maior que a pressão total de entrada do bocal (74.72), por isso retornou-se velocidade nula no bocal!!!\n",
      "WARNING: A pressão ambiente (101.33) é maior que a pressão total de entrada do bocal (74.75), por isso retornou-se velocidade nula no bocal!!!\n",
      "WARNING: A pressão ambiente (101.33) é maior que a pressão total de entrada do bocal (74.78), por isso retornou-se velocidade nula no bocal!!!\n",
      "WARNING: A pressão ambiente (101.33) é maior que a pressão total de entrada do bocal (74.81), por isso retornou-se velocidade nula no bocal!!!\n",
      "WARNING: A pressão ambiente (101.33) é maior que a pressão total de entrada do bocal (74.85), por isso retornou-se velocidade nula no bocal!!!\n",
      "WARNING: A pressão ambiente (101.33) é maior que a pressão total de entrada do bocal (74.88), por isso retornou-se velocidade nula no bocal!!!\n",
      "WARNING: A pressão ambiente (101.33) é maior que a pressão total de entrada do bocal (74.91), por isso retornou-se velocidade nula no bocal!!!\n",
      "WARNING: A pressão ambiente (101.33) é maior que a pressão total de entrada do bocal (74.94), por isso retornou-se velocidade nula no bocal!!!\n",
      "WARNING: A pressão ambiente (101.33) é maior que a pressão total de entrada do bocal (74.98), por isso retornou-se velocidade nula no bocal!!!\n",
      "WARNING: A pressão ambiente (101.33) é maior que a pressão total de entrada do bocal (75.01), por isso retornou-se velocidade nula no bocal!!!\n",
      "WARNING: A pressão ambiente (101.33) é maior que a pressão total de entrada do bocal (75.04), por isso retornou-se velocidade nula no bocal!!!\n",
      "WARNING: A pressão ambiente (101.33) é maior que a pressão total de entrada do bocal (75.08), por isso retornou-se velocidade nula no bocal!!!\n",
      "WARNING: A pressão ambiente (101.33) é maior que a pressão total de entrada do bocal (75.11), por isso retornou-se velocidade nula no bocal!!!\n",
      "WARNING: A pressão ambiente (101.33) é maior que a pressão total de entrada do bocal (75.14), por isso retornou-se velocidade nula no bocal!!!\n",
      "WARNING: A pressão ambiente (101.33) é maior que a pressão total de entrada do bocal (75.17), por isso retornou-se velocidade nula no bocal!!!\n",
      "WARNING: A pressão ambiente (101.33) é maior que a pressão total de entrada do bocal (75.21), por isso retornou-se velocidade nula no bocal!!!\n",
      "WARNING: A pressão ambiente (101.33) é maior que a pressão total de entrada do bocal (75.24), por isso retornou-se velocidade nula no bocal!!!\n",
      "WARNING: A pressão ambiente (101.33) é maior que a pressão total de entrada do bocal (75.27), por isso retornou-se velocidade nula no bocal!!!\n",
      "WARNING: A pressão ambiente (101.33) é maior que a pressão total de entrada do bocal (75.30), por isso retornou-se velocidade nula no bocal!!!\n",
      "WARNING: A pressão ambiente (101.33) é maior que a pressão total de entrada do bocal (75.34), por isso retornou-se velocidade nula no bocal!!!\n",
      "WARNING: A pressão ambiente (101.33) é maior que a pressão total de entrada do bocal (75.37), por isso retornou-se velocidade nula no bocal!!!\n",
      "WARNING: A pressão ambiente (101.33) é maior que a pressão total de entrada do bocal (75.40), por isso retornou-se velocidade nula no bocal!!!\n",
      "WARNING: A pressão ambiente (101.33) é maior que a pressão total de entrada do bocal (75.44), por isso retornou-se velocidade nula no bocal!!!\n",
      "WARNING: A pressão ambiente (101.33) é maior que a pressão total de entrada do bocal (75.47), por isso retornou-se velocidade nula no bocal!!!\n",
      "WARNING: A pressão ambiente (101.33) é maior que a pressão total de entrada do bocal (75.50), por isso retornou-se velocidade nula no bocal!!!\n",
      "WARNING: A pressão ambiente (101.33) é maior que a pressão total de entrada do bocal (75.53), por isso retornou-se velocidade nula no bocal!!!\n",
      "WARNING: A pressão ambiente (101.33) é maior que a pressão total de entrada do bocal (75.57), por isso retornou-se velocidade nula no bocal!!!\n",
      "WARNING: A pressão ambiente (101.33) é maior que a pressão total de entrada do bocal (75.60), por isso retornou-se velocidade nula no bocal!!!\n",
      "WARNING: A pressão ambiente (101.33) é maior que a pressão total de entrada do bocal (75.63), por isso retornou-se velocidade nula no bocal!!!\n",
      "WARNING: A pressão ambiente (101.33) é maior que a pressão total de entrada do bocal (75.67), por isso retornou-se velocidade nula no bocal!!!\n",
      "WARNING: A pressão ambiente (101.33) é maior que a pressão total de entrada do bocal (75.70), por isso retornou-se velocidade nula no bocal!!!\n",
      "WARNING: A pressão ambiente (101.33) é maior que a pressão total de entrada do bocal (75.73), por isso retornou-se velocidade nula no bocal!!!\n",
      "WARNING: A pressão ambiente (101.33) é maior que a pressão total de entrada do bocal (75.76), por isso retornou-se velocidade nula no bocal!!!\n",
      "WARNING: A pressão ambiente (101.33) é maior que a pressão total de entrada do bocal (75.80), por isso retornou-se velocidade nula no bocal!!!\n",
      "WARNING: A pressão ambiente (101.33) é maior que a pressão total de entrada do bocal (75.83), por isso retornou-se velocidade nula no bocal!!!\n",
      "WARNING: A pressão ambiente (101.33) é maior que a pressão total de entrada do bocal (75.86), por isso retornou-se velocidade nula no bocal!!!\n",
      "WARNING: A pressão ambiente (101.33) é maior que a pressão total de entrada do bocal (75.90), por isso retornou-se velocidade nula no bocal!!!\n",
      "WARNING: A pressão ambiente (101.33) é maior que a pressão total de entrada do bocal (75.93), por isso retornou-se velocidade nula no bocal!!!\n",
      "WARNING: A pressão ambiente (101.33) é maior que a pressão total de entrada do bocal (75.96), por isso retornou-se velocidade nula no bocal!!!\n",
      "WARNING: A pressão ambiente (101.33) é maior que a pressão total de entrada do bocal (75.99), por isso retornou-se velocidade nula no bocal!!!\n",
      "WARNING: A pressão ambiente (101.33) é maior que a pressão total de entrada do bocal (76.03), por isso retornou-se velocidade nula no bocal!!!\n",
      "WARNING: A pressão ambiente (101.33) é maior que a pressão total de entrada do bocal (76.06), por isso retornou-se velocidade nula no bocal!!!\n",
      "WARNING: A pressão ambiente (101.33) é maior que a pressão total de entrada do bocal (76.09), por isso retornou-se velocidade nula no bocal!!!\n",
      "WARNING: A pressão ambiente (101.33) é maior que a pressão total de entrada do bocal (76.13), por isso retornou-se velocidade nula no bocal!!!\n",
      "WARNING: A pressão ambiente (101.33) é maior que a pressão total de entrada do bocal (76.16), por isso retornou-se velocidade nula no bocal!!!\n",
      "WARNING: A pressão ambiente (101.33) é maior que a pressão total de entrada do bocal (76.19), por isso retornou-se velocidade nula no bocal!!!\n",
      "WARNING: A pressão ambiente (101.33) é maior que a pressão total de entrada do bocal (76.23), por isso retornou-se velocidade nula no bocal!!!\n",
      "WARNING: A pressão ambiente (101.33) é maior que a pressão total de entrada do bocal (76.26), por isso retornou-se velocidade nula no bocal!!!\n",
      "WARNING: A pressão ambiente (101.33) é maior que a pressão total de entrada do bocal (76.29), por isso retornou-se velocidade nula no bocal!!!\n",
      "WARNING: A pressão ambiente (101.33) é maior que a pressão total de entrada do bocal (76.32), por isso retornou-se velocidade nula no bocal!!!\n",
      "WARNING: A pressão ambiente (101.33) é maior que a pressão total de entrada do bocal (76.36), por isso retornou-se velocidade nula no bocal!!!\n",
      "WARNING: A pressão ambiente (101.33) é maior que a pressão total de entrada do bocal (76.39), por isso retornou-se velocidade nula no bocal!!!\n",
      "WARNING: A pressão ambiente (101.33) é maior que a pressão total de entrada do bocal (76.42), por isso retornou-se velocidade nula no bocal!!!\n",
      "WARNING: A pressão ambiente (101.33) é maior que a pressão total de entrada do bocal (76.46), por isso retornou-se velocidade nula no bocal!!!\n",
      "WARNING: A pressão ambiente (101.33) é maior que a pressão total de entrada do bocal (76.49), por isso retornou-se velocidade nula no bocal!!!\n",
      "WARNING: A pressão ambiente (101.33) é maior que a pressão total de entrada do bocal (76.52), por isso retornou-se velocidade nula no bocal!!!\n",
      "WARNING: A pressão ambiente (101.33) é maior que a pressão total de entrada do bocal (76.55), por isso retornou-se velocidade nula no bocal!!!\n",
      "WARNING: A pressão ambiente (101.33) é maior que a pressão total de entrada do bocal (76.59), por isso retornou-se velocidade nula no bocal!!!\n",
      "WARNING: A pressão ambiente (101.33) é maior que a pressão total de entrada do bocal (76.62), por isso retornou-se velocidade nula no bocal!!!\n",
      "WARNING: A pressão ambiente (101.33) é maior que a pressão total de entrada do bocal (76.65), por isso retornou-se velocidade nula no bocal!!!\n",
      "WARNING: A pressão ambiente (101.33) é maior que a pressão total de entrada do bocal (76.69), por isso retornou-se velocidade nula no bocal!!!\n",
      "WARNING: A pressão ambiente (101.33) é maior que a pressão total de entrada do bocal (76.72), por isso retornou-se velocidade nula no bocal!!!\n",
      "WARNING: A pressão ambiente (101.33) é maior que a pressão total de entrada do bocal (76.75), por isso retornou-se velocidade nula no bocal!!!\n",
      "WARNING: A pressão ambiente (101.33) é maior que a pressão total de entrada do bocal (76.79), por isso retornou-se velocidade nula no bocal!!!\n",
      "WARNING: A pressão ambiente (101.33) é maior que a pressão total de entrada do bocal (76.82), por isso retornou-se velocidade nula no bocal!!!\n",
      "WARNING: A pressão ambiente (101.33) é maior que a pressão total de entrada do bocal (76.85), por isso retornou-se velocidade nula no bocal!!!\n",
      "WARNING: A pressão ambiente (101.33) é maior que a pressão total de entrada do bocal (76.89), por isso retornou-se velocidade nula no bocal!!!\n",
      "WARNING: A pressão ambiente (101.33) é maior que a pressão total de entrada do bocal (76.92), por isso retornou-se velocidade nula no bocal!!!\n",
      "WARNING: A pressão ambiente (101.33) é maior que a pressão total de entrada do bocal (76.95), por isso retornou-se velocidade nula no bocal!!!\n",
      "WARNING: A pressão ambiente (101.33) é maior que a pressão total de entrada do bocal (76.98), por isso retornou-se velocidade nula no bocal!!!\n",
      "WARNING: A pressão ambiente (101.33) é maior que a pressão total de entrada do bocal (77.02), por isso retornou-se velocidade nula no bocal!!!\n",
      "WARNING: A pressão ambiente (101.33) é maior que a pressão total de entrada do bocal (77.05), por isso retornou-se velocidade nula no bocal!!!\n",
      "WARNING: A pressão ambiente (101.33) é maior que a pressão total de entrada do bocal (77.08), por isso retornou-se velocidade nula no bocal!!!\n",
      "WARNING: A pressão ambiente (101.33) é maior que a pressão total de entrada do bocal (77.12), por isso retornou-se velocidade nula no bocal!!!\n",
      "WARNING: A pressão ambiente (101.33) é maior que a pressão total de entrada do bocal (77.15), por isso retornou-se velocidade nula no bocal!!!\n",
      "WARNING: A pressão ambiente (101.33) é maior que a pressão total de entrada do bocal (77.18), por isso retornou-se velocidade nula no bocal!!!\n",
      "WARNING: A pressão ambiente (101.33) é maior que a pressão total de entrada do bocal (77.22), por isso retornou-se velocidade nula no bocal!!!\n",
      "WARNING: A pressão ambiente (101.33) é maior que a pressão total de entrada do bocal (77.25), por isso retornou-se velocidade nula no bocal!!!\n",
      "WARNING: A pressão ambiente (101.33) é maior que a pressão total de entrada do bocal (77.28), por isso retornou-se velocidade nula no bocal!!!\n",
      "WARNING: A pressão ambiente (101.33) é maior que a pressão total de entrada do bocal (77.32), por isso retornou-se velocidade nula no bocal!!!\n",
      "WARNING: A pressão ambiente (101.33) é maior que a pressão total de entrada do bocal (77.35), por isso retornou-se velocidade nula no bocal!!!\n",
      "WARNING: A pressão ambiente (101.33) é maior que a pressão total de entrada do bocal (77.38), por isso retornou-se velocidade nula no bocal!!!\n",
      "WARNING: A pressão ambiente (101.33) é maior que a pressão total de entrada do bocal (77.42), por isso retornou-se velocidade nula no bocal!!!\n",
      "WARNING: A pressão ambiente (101.33) é maior que a pressão total de entrada do bocal (77.45), por isso retornou-se velocidade nula no bocal!!!\n",
      "WARNING: A pressão ambiente (101.33) é maior que a pressão total de entrada do bocal (77.48), por isso retornou-se velocidade nula no bocal!!!\n",
      "WARNING: A pressão ambiente (101.33) é maior que a pressão total de entrada do bocal (77.51), por isso retornou-se velocidade nula no bocal!!!\n",
      "WARNING: A pressão ambiente (101.33) é maior que a pressão total de entrada do bocal (77.55), por isso retornou-se velocidade nula no bocal!!!\n",
      "WARNING: A pressão ambiente (101.33) é maior que a pressão total de entrada do bocal (77.58), por isso retornou-se velocidade nula no bocal!!!\n",
      "WARNING: A pressão ambiente (101.33) é maior que a pressão total de entrada do bocal (77.61), por isso retornou-se velocidade nula no bocal!!!\n",
      "WARNING: A pressão ambiente (101.33) é maior que a pressão total de entrada do bocal (77.65), por isso retornou-se velocidade nula no bocal!!!\n",
      "WARNING: A pressão ambiente (101.33) é maior que a pressão total de entrada do bocal (77.68), por isso retornou-se velocidade nula no bocal!!!\n",
      "WARNING: A pressão ambiente (101.33) é maior que a pressão total de entrada do bocal (77.71), por isso retornou-se velocidade nula no bocal!!!\n",
      "WARNING: A pressão ambiente (101.33) é maior que a pressão total de entrada do bocal (77.75), por isso retornou-se velocidade nula no bocal!!!\n",
      "WARNING: A pressão ambiente (101.33) é maior que a pressão total de entrada do bocal (77.78), por isso retornou-se velocidade nula no bocal!!!\n",
      "WARNING: A pressão ambiente (101.33) é maior que a pressão total de entrada do bocal (77.81), por isso retornou-se velocidade nula no bocal!!!\n",
      "WARNING: A pressão ambiente (101.33) é maior que a pressão total de entrada do bocal (77.85), por isso retornou-se velocidade nula no bocal!!!\n",
      "WARNING: A pressão ambiente (101.33) é maior que a pressão total de entrada do bocal (77.88), por isso retornou-se velocidade nula no bocal!!!\n",
      "WARNING: A pressão ambiente (101.33) é maior que a pressão total de entrada do bocal (77.91), por isso retornou-se velocidade nula no bocal!!!\n",
      "WARNING: A pressão ambiente (101.33) é maior que a pressão total de entrada do bocal (77.95), por isso retornou-se velocidade nula no bocal!!!\n",
      "WARNING: A pressão ambiente (101.33) é maior que a pressão total de entrada do bocal (77.98), por isso retornou-se velocidade nula no bocal!!!\n",
      "WARNING: A pressão ambiente (101.33) é maior que a pressão total de entrada do bocal (78.01), por isso retornou-se velocidade nula no bocal!!!\n",
      "WARNING: A pressão ambiente (101.33) é maior que a pressão total de entrada do bocal (78.05), por isso retornou-se velocidade nula no bocal!!!\n",
      "WARNING: A pressão ambiente (101.33) é maior que a pressão total de entrada do bocal (78.08), por isso retornou-se velocidade nula no bocal!!!\n",
      "WARNING: A pressão ambiente (101.33) é maior que a pressão total de entrada do bocal (78.11), por isso retornou-se velocidade nula no bocal!!!\n",
      "WARNING: A pressão ambiente (101.33) é maior que a pressão total de entrada do bocal (78.15), por isso retornou-se velocidade nula no bocal!!!\n",
      "WARNING: A pressão ambiente (101.33) é maior que a pressão total de entrada do bocal (78.18), por isso retornou-se velocidade nula no bocal!!!\n",
      "WARNING: A pressão ambiente (101.33) é maior que a pressão total de entrada do bocal (78.21), por isso retornou-se velocidade nula no bocal!!!\n",
      "WARNING: A pressão ambiente (101.33) é maior que a pressão total de entrada do bocal (78.25), por isso retornou-se velocidade nula no bocal!!!\n",
      "WARNING: A pressão ambiente (101.33) é maior que a pressão total de entrada do bocal (78.28), por isso retornou-se velocidade nula no bocal!!!\n",
      "WARNING: A pressão ambiente (101.33) é maior que a pressão total de entrada do bocal (78.31), por isso retornou-se velocidade nula no bocal!!!\n",
      "WARNING: A pressão ambiente (101.33) é maior que a pressão total de entrada do bocal (78.35), por isso retornou-se velocidade nula no bocal!!!\n",
      "WARNING: A pressão ambiente (101.33) é maior que a pressão total de entrada do bocal (78.38), por isso retornou-se velocidade nula no bocal!!!\n",
      "WARNING: A pressão ambiente (101.33) é maior que a pressão total de entrada do bocal (78.41), por isso retornou-se velocidade nula no bocal!!!\n",
      "WARNING: A pressão ambiente (101.33) é maior que a pressão total de entrada do bocal (78.45), por isso retornou-se velocidade nula no bocal!!!\n",
      "WARNING: A pressão ambiente (101.33) é maior que a pressão total de entrada do bocal (78.48), por isso retornou-se velocidade nula no bocal!!!\n",
      "WARNING: A pressão ambiente (101.33) é maior que a pressão total de entrada do bocal (78.51), por isso retornou-se velocidade nula no bocal!!!\n",
      "WARNING: A pressão ambiente (101.33) é maior que a pressão total de entrada do bocal (78.55), por isso retornou-se velocidade nula no bocal!!!\n",
      "WARNING: A pressão ambiente (101.33) é maior que a pressão total de entrada do bocal (78.58), por isso retornou-se velocidade nula no bocal!!!\n",
      "WARNING: A pressão ambiente (101.33) é maior que a pressão total de entrada do bocal (78.61), por isso retornou-se velocidade nula no bocal!!!\n",
      "WARNING: A pressão ambiente (101.33) é maior que a pressão total de entrada do bocal (78.65), por isso retornou-se velocidade nula no bocal!!!\n",
      "WARNING: A pressão ambiente (101.33) é maior que a pressão total de entrada do bocal (78.68), por isso retornou-se velocidade nula no bocal!!!\n",
      "WARNING: A pressão ambiente (101.33) é maior que a pressão total de entrada do bocal (78.71), por isso retornou-se velocidade nula no bocal!!!\n",
      "WARNING: A pressão ambiente (101.33) é maior que a pressão total de entrada do bocal (78.75), por isso retornou-se velocidade nula no bocal!!!\n",
      "WARNING: A pressão ambiente (101.33) é maior que a pressão total de entrada do bocal (78.78), por isso retornou-se velocidade nula no bocal!!!\n",
      "WARNING: A pressão ambiente (101.33) é maior que a pressão total de entrada do bocal (78.81), por isso retornou-se velocidade nula no bocal!!!\n",
      "WARNING: A pressão ambiente (101.33) é maior que a pressão total de entrada do bocal (78.85), por isso retornou-se velocidade nula no bocal!!!\n",
      "WARNING: A pressão ambiente (101.33) é maior que a pressão total de entrada do bocal (78.88), por isso retornou-se velocidade nula no bocal!!!\n",
      "WARNING: A pressão ambiente (101.33) é maior que a pressão total de entrada do bocal (78.91), por isso retornou-se velocidade nula no bocal!!!\n",
      "WARNING: A pressão ambiente (101.33) é maior que a pressão total de entrada do bocal (78.95), por isso retornou-se velocidade nula no bocal!!!\n",
      "WARNING: A pressão ambiente (101.33) é maior que a pressão total de entrada do bocal (78.98), por isso retornou-se velocidade nula no bocal!!!\n",
      "WARNING: A pressão ambiente (101.33) é maior que a pressão total de entrada do bocal (79.01), por isso retornou-se velocidade nula no bocal!!!\n",
      "WARNING: A pressão ambiente (101.33) é maior que a pressão total de entrada do bocal (79.05), por isso retornou-se velocidade nula no bocal!!!\n",
      "WARNING: A pressão ambiente (101.33) é maior que a pressão total de entrada do bocal (79.08), por isso retornou-se velocidade nula no bocal!!!\n",
      "WARNING: A pressão ambiente (101.33) é maior que a pressão total de entrada do bocal (79.12), por isso retornou-se velocidade nula no bocal!!!\n",
      "WARNING: A pressão ambiente (101.33) é maior que a pressão total de entrada do bocal (79.15), por isso retornou-se velocidade nula no bocal!!!\n",
      "WARNING: A pressão ambiente (101.33) é maior que a pressão total de entrada do bocal (79.18), por isso retornou-se velocidade nula no bocal!!!\n",
      "WARNING: A pressão ambiente (101.33) é maior que a pressão total de entrada do bocal (79.22), por isso retornou-se velocidade nula no bocal!!!\n",
      "WARNING: A pressão ambiente (101.33) é maior que a pressão total de entrada do bocal (79.25), por isso retornou-se velocidade nula no bocal!!!\n",
      "WARNING: A pressão ambiente (101.33) é maior que a pressão total de entrada do bocal (79.28), por isso retornou-se velocidade nula no bocal!!!\n",
      "WARNING: A pressão ambiente (101.33) é maior que a pressão total de entrada do bocal (79.32), por isso retornou-se velocidade nula no bocal!!!\n",
      "WARNING: A pressão ambiente (101.33) é maior que a pressão total de entrada do bocal (79.35), por isso retornou-se velocidade nula no bocal!!!\n",
      "WARNING: A pressão ambiente (101.33) é maior que a pressão total de entrada do bocal (79.38), por isso retornou-se velocidade nula no bocal!!!\n",
      "WARNING: A pressão ambiente (101.33) é maior que a pressão total de entrada do bocal (79.42), por isso retornou-se velocidade nula no bocal!!!\n",
      "WARNING: A pressão ambiente (101.33) é maior que a pressão total de entrada do bocal (79.45), por isso retornou-se velocidade nula no bocal!!!\n",
      "WARNING: A pressão ambiente (101.33) é maior que a pressão total de entrada do bocal (79.48), por isso retornou-se velocidade nula no bocal!!!\n",
      "WARNING: A pressão ambiente (101.33) é maior que a pressão total de entrada do bocal (79.52), por isso retornou-se velocidade nula no bocal!!!\n",
      "WARNING: A pressão ambiente (101.33) é maior que a pressão total de entrada do bocal (79.55), por isso retornou-se velocidade nula no bocal!!!\n",
      "WARNING: A pressão ambiente (101.33) é maior que a pressão total de entrada do bocal (79.58), por isso retornou-se velocidade nula no bocal!!!\n",
      "WARNING: A pressão ambiente (101.33) é maior que a pressão total de entrada do bocal (79.62), por isso retornou-se velocidade nula no bocal!!!\n",
      "WARNING: A pressão ambiente (101.33) é maior que a pressão total de entrada do bocal (79.65), por isso retornou-se velocidade nula no bocal!!!\n",
      "WARNING: A pressão ambiente (101.33) é maior que a pressão total de entrada do bocal (79.68), por isso retornou-se velocidade nula no bocal!!!\n",
      "WARNING: A pressão ambiente (101.33) é maior que a pressão total de entrada do bocal (79.72), por isso retornou-se velocidade nula no bocal!!!\n",
      "WARNING: A pressão ambiente (101.33) é maior que a pressão total de entrada do bocal (79.75), por isso retornou-se velocidade nula no bocal!!!\n",
      "WARNING: A pressão ambiente (101.33) é maior que a pressão total de entrada do bocal (79.79), por isso retornou-se velocidade nula no bocal!!!\n",
      "WARNING: A pressão ambiente (101.33) é maior que a pressão total de entrada do bocal (79.82), por isso retornou-se velocidade nula no bocal!!!\n",
      "WARNING: A pressão ambiente (101.33) é maior que a pressão total de entrada do bocal (79.85), por isso retornou-se velocidade nula no bocal!!!\n",
      "WARNING: A pressão ambiente (101.33) é maior que a pressão total de entrada do bocal (79.89), por isso retornou-se velocidade nula no bocal!!!\n",
      "WARNING: A pressão ambiente (101.33) é maior que a pressão total de entrada do bocal (79.92), por isso retornou-se velocidade nula no bocal!!!\n",
      "WARNING: A pressão ambiente (101.33) é maior que a pressão total de entrada do bocal (79.95), por isso retornou-se velocidade nula no bocal!!!\n",
      "WARNING: A pressão ambiente (101.33) é maior que a pressão total de entrada do bocal (79.99), por isso retornou-se velocidade nula no bocal!!!\n",
      "WARNING: A pressão ambiente (101.33) é maior que a pressão total de entrada do bocal (80.02), por isso retornou-se velocidade nula no bocal!!!\n",
      "WARNING: A pressão ambiente (101.33) é maior que a pressão total de entrada do bocal (80.05), por isso retornou-se velocidade nula no bocal!!!\n",
      "WARNING: A pressão ambiente (101.33) é maior que a pressão total de entrada do bocal (80.09), por isso retornou-se velocidade nula no bocal!!!\n",
      "WARNING: A pressão ambiente (101.33) é maior que a pressão total de entrada do bocal (80.12), por isso retornou-se velocidade nula no bocal!!!\n",
      "WARNING: A pressão ambiente (101.33) é maior que a pressão total de entrada do bocal (80.16), por isso retornou-se velocidade nula no bocal!!!\n",
      "WARNING: A pressão ambiente (101.33) é maior que a pressão total de entrada do bocal (80.19), por isso retornou-se velocidade nula no bocal!!!\n",
      "WARNING: A pressão ambiente (101.33) é maior que a pressão total de entrada do bocal (80.22), por isso retornou-se velocidade nula no bocal!!!\n",
      "WARNING: A pressão ambiente (101.33) é maior que a pressão total de entrada do bocal (80.26), por isso retornou-se velocidade nula no bocal!!!\n",
      "WARNING: A pressão ambiente (101.33) é maior que a pressão total de entrada do bocal (80.29), por isso retornou-se velocidade nula no bocal!!!\n",
      "WARNING: A pressão ambiente (101.33) é maior que a pressão total de entrada do bocal (80.32), por isso retornou-se velocidade nula no bocal!!!\n",
      "WARNING: A pressão ambiente (101.33) é maior que a pressão total de entrada do bocal (80.36), por isso retornou-se velocidade nula no bocal!!!\n",
      "WARNING: A pressão ambiente (101.33) é maior que a pressão total de entrada do bocal (80.39), por isso retornou-se velocidade nula no bocal!!!\n",
      "WARNING: A pressão ambiente (101.33) é maior que a pressão total de entrada do bocal (80.43), por isso retornou-se velocidade nula no bocal!!!\n",
      "WARNING: A pressão ambiente (101.33) é maior que a pressão total de entrada do bocal (80.46), por isso retornou-se velocidade nula no bocal!!!\n",
      "WARNING: A pressão ambiente (101.33) é maior que a pressão total de entrada do bocal (80.49), por isso retornou-se velocidade nula no bocal!!!\n",
      "WARNING: A pressão ambiente (101.33) é maior que a pressão total de entrada do bocal (80.53), por isso retornou-se velocidade nula no bocal!!!\n",
      "WARNING: A pressão ambiente (101.33) é maior que a pressão total de entrada do bocal (80.56), por isso retornou-se velocidade nula no bocal!!!\n",
      "WARNING: A pressão ambiente (101.33) é maior que a pressão total de entrada do bocal (80.59), por isso retornou-se velocidade nula no bocal!!!\n",
      "WARNING: A pressão ambiente (101.33) é maior que a pressão total de entrada do bocal (80.63), por isso retornou-se velocidade nula no bocal!!!\n",
      "WARNING: A pressão ambiente (101.33) é maior que a pressão total de entrada do bocal (80.66), por isso retornou-se velocidade nula no bocal!!!\n",
      "WARNING: A pressão ambiente (101.33) é maior que a pressão total de entrada do bocal (80.69), por isso retornou-se velocidade nula no bocal!!!\n",
      "WARNING: A pressão ambiente (101.33) é maior que a pressão total de entrada do bocal (80.73), por isso retornou-se velocidade nula no bocal!!!\n",
      "WARNING: A pressão ambiente (101.33) é maior que a pressão total de entrada do bocal (80.76), por isso retornou-se velocidade nula no bocal!!!\n",
      "WARNING: A pressão ambiente (101.33) é maior que a pressão total de entrada do bocal (80.80), por isso retornou-se velocidade nula no bocal!!!\n",
      "WARNING: A pressão ambiente (101.33) é maior que a pressão total de entrada do bocal (80.83), por isso retornou-se velocidade nula no bocal!!!\n",
      "WARNING: A pressão ambiente (101.33) é maior que a pressão total de entrada do bocal (80.86), por isso retornou-se velocidade nula no bocal!!!\n",
      "WARNING: A pressão ambiente (101.33) é maior que a pressão total de entrada do bocal (80.90), por isso retornou-se velocidade nula no bocal!!!\n",
      "WARNING: A pressão ambiente (101.33) é maior que a pressão total de entrada do bocal (80.93), por isso retornou-se velocidade nula no bocal!!!\n",
      "WARNING: A pressão ambiente (101.33) é maior que a pressão total de entrada do bocal (80.97), por isso retornou-se velocidade nula no bocal!!!\n",
      "WARNING: A pressão ambiente (101.33) é maior que a pressão total de entrada do bocal (81.00), por isso retornou-se velocidade nula no bocal!!!\n",
      "WARNING: A pressão ambiente (101.33) é maior que a pressão total de entrada do bocal (81.03), por isso retornou-se velocidade nula no bocal!!!\n",
      "WARNING: A pressão ambiente (101.33) é maior que a pressão total de entrada do bocal (81.07), por isso retornou-se velocidade nula no bocal!!!\n",
      "WARNING: A pressão ambiente (101.33) é maior que a pressão total de entrada do bocal (81.10), por isso retornou-se velocidade nula no bocal!!!\n",
      "WARNING: A pressão ambiente (101.33) é maior que a pressão total de entrada do bocal (81.13), por isso retornou-se velocidade nula no bocal!!!\n",
      "WARNING: A pressão ambiente (101.33) é maior que a pressão total de entrada do bocal (81.17), por isso retornou-se velocidade nula no bocal!!!\n",
      "WARNING: A pressão ambiente (101.33) é maior que a pressão total de entrada do bocal (81.20), por isso retornou-se velocidade nula no bocal!!!\n",
      "WARNING: A pressão ambiente (101.33) é maior que a pressão total de entrada do bocal (81.24), por isso retornou-se velocidade nula no bocal!!!\n",
      "WARNING: A pressão ambiente (101.33) é maior que a pressão total de entrada do bocal (81.27), por isso retornou-se velocidade nula no bocal!!!\n",
      "WARNING: A pressão ambiente (101.33) é maior que a pressão total de entrada do bocal (81.30), por isso retornou-se velocidade nula no bocal!!!\n",
      "WARNING: A pressão ambiente (101.33) é maior que a pressão total de entrada do bocal (81.34), por isso retornou-se velocidade nula no bocal!!!\n",
      "WARNING: A pressão ambiente (101.33) é maior que a pressão total de entrada do bocal (81.37), por isso retornou-se velocidade nula no bocal!!!\n",
      "WARNING: A pressão ambiente (101.33) é maior que a pressão total de entrada do bocal (81.40), por isso retornou-se velocidade nula no bocal!!!\n",
      "WARNING: A pressão ambiente (101.33) é maior que a pressão total de entrada do bocal (81.44), por isso retornou-se velocidade nula no bocal!!!\n",
      "WARNING: A pressão ambiente (101.33) é maior que a pressão total de entrada do bocal (81.47), por isso retornou-se velocidade nula no bocal!!!\n",
      "WARNING: A pressão ambiente (101.33) é maior que a pressão total de entrada do bocal (81.51), por isso retornou-se velocidade nula no bocal!!!\n",
      "WARNING: A pressão ambiente (101.33) é maior que a pressão total de entrada do bocal (81.54), por isso retornou-se velocidade nula no bocal!!!\n",
      "WARNING: A pressão ambiente (101.33) é maior que a pressão total de entrada do bocal (81.57), por isso retornou-se velocidade nula no bocal!!!\n",
      "WARNING: A pressão ambiente (101.33) é maior que a pressão total de entrada do bocal (81.61), por isso retornou-se velocidade nula no bocal!!!\n",
      "WARNING: A pressão ambiente (101.33) é maior que a pressão total de entrada do bocal (81.64), por isso retornou-se velocidade nula no bocal!!!\n",
      "WARNING: A pressão ambiente (101.33) é maior que a pressão total de entrada do bocal (81.68), por isso retornou-se velocidade nula no bocal!!!\n",
      "WARNING: A pressão ambiente (101.33) é maior que a pressão total de entrada do bocal (81.71), por isso retornou-se velocidade nula no bocal!!!\n",
      "WARNING: A pressão ambiente (101.33) é maior que a pressão total de entrada do bocal (81.74), por isso retornou-se velocidade nula no bocal!!!\n",
      "WARNING: A pressão ambiente (101.33) é maior que a pressão total de entrada do bocal (81.78), por isso retornou-se velocidade nula no bocal!!!\n",
      "WARNING: A pressão ambiente (101.33) é maior que a pressão total de entrada do bocal (81.81), por isso retornou-se velocidade nula no bocal!!!\n",
      "WARNING: A pressão ambiente (101.33) é maior que a pressão total de entrada do bocal (81.85), por isso retornou-se velocidade nula no bocal!!!\n",
      "WARNING: A pressão ambiente (101.33) é maior que a pressão total de entrada do bocal (81.88), por isso retornou-se velocidade nula no bocal!!!\n",
      "WARNING: A pressão ambiente (101.33) é maior que a pressão total de entrada do bocal (81.91), por isso retornou-se velocidade nula no bocal!!!\n",
      "WARNING: A pressão ambiente (101.33) é maior que a pressão total de entrada do bocal (81.95), por isso retornou-se velocidade nula no bocal!!!\n",
      "WARNING: A pressão ambiente (101.33) é maior que a pressão total de entrada do bocal (81.98), por isso retornou-se velocidade nula no bocal!!!\n",
      "WARNING: A pressão ambiente (101.33) é maior que a pressão total de entrada do bocal (82.02), por isso retornou-se velocidade nula no bocal!!!\n",
      "WARNING: A pressão ambiente (101.33) é maior que a pressão total de entrada do bocal (82.05), por isso retornou-se velocidade nula no bocal!!!\n",
      "WARNING: A pressão ambiente (101.33) é maior que a pressão total de entrada do bocal (82.08), por isso retornou-se velocidade nula no bocal!!!\n",
      "WARNING: A pressão ambiente (101.33) é maior que a pressão total de entrada do bocal (82.12), por isso retornou-se velocidade nula no bocal!!!\n",
      "WARNING: A pressão ambiente (101.33) é maior que a pressão total de entrada do bocal (82.15), por isso retornou-se velocidade nula no bocal!!!\n",
      "WARNING: A pressão ambiente (101.33) é maior que a pressão total de entrada do bocal (82.19), por isso retornou-se velocidade nula no bocal!!!\n",
      "WARNING: A pressão ambiente (101.33) é maior que a pressão total de entrada do bocal (82.22), por isso retornou-se velocidade nula no bocal!!!\n",
      "WARNING: A pressão ambiente (101.33) é maior que a pressão total de entrada do bocal (82.25), por isso retornou-se velocidade nula no bocal!!!\n",
      "WARNING: A pressão ambiente (101.33) é maior que a pressão total de entrada do bocal (82.29), por isso retornou-se velocidade nula no bocal!!!\n",
      "WARNING: A pressão ambiente (101.33) é maior que a pressão total de entrada do bocal (82.32), por isso retornou-se velocidade nula no bocal!!!\n",
      "WARNING: A pressão ambiente (101.33) é maior que a pressão total de entrada do bocal (82.36), por isso retornou-se velocidade nula no bocal!!!\n",
      "WARNING: A pressão ambiente (101.33) é maior que a pressão total de entrada do bocal (82.39), por isso retornou-se velocidade nula no bocal!!!\n",
      "WARNING: A pressão ambiente (101.33) é maior que a pressão total de entrada do bocal (82.42), por isso retornou-se velocidade nula no bocal!!!\n",
      "WARNING: A pressão ambiente (101.33) é maior que a pressão total de entrada do bocal (82.46), por isso retornou-se velocidade nula no bocal!!!\n",
      "WARNING: A pressão ambiente (101.33) é maior que a pressão total de entrada do bocal (82.49), por isso retornou-se velocidade nula no bocal!!!\n",
      "WARNING: A pressão ambiente (101.33) é maior que a pressão total de entrada do bocal (82.53), por isso retornou-se velocidade nula no bocal!!!\n",
      "WARNING: A pressão ambiente (101.33) é maior que a pressão total de entrada do bocal (82.56), por isso retornou-se velocidade nula no bocal!!!\n",
      "WARNING: A pressão ambiente (101.33) é maior que a pressão total de entrada do bocal (82.59), por isso retornou-se velocidade nula no bocal!!!\n",
      "WARNING: A pressão ambiente (101.33) é maior que a pressão total de entrada do bocal (82.63), por isso retornou-se velocidade nula no bocal!!!\n",
      "WARNING: A pressão ambiente (101.33) é maior que a pressão total de entrada do bocal (82.66), por isso retornou-se velocidade nula no bocal!!!\n",
      "WARNING: A pressão ambiente (101.33) é maior que a pressão total de entrada do bocal (82.70), por isso retornou-se velocidade nula no bocal!!!\n",
      "WARNING: A pressão ambiente (101.33) é maior que a pressão total de entrada do bocal (82.73), por isso retornou-se velocidade nula no bocal!!!\n",
      "WARNING: A pressão ambiente (101.33) é maior que a pressão total de entrada do bocal (82.76), por isso retornou-se velocidade nula no bocal!!!\n",
      "WARNING: A pressão ambiente (101.33) é maior que a pressão total de entrada do bocal (82.80), por isso retornou-se velocidade nula no bocal!!!\n",
      "WARNING: A pressão ambiente (101.33) é maior que a pressão total de entrada do bocal (82.83), por isso retornou-se velocidade nula no bocal!!!\n",
      "WARNING: A pressão ambiente (101.33) é maior que a pressão total de entrada do bocal (82.87), por isso retornou-se velocidade nula no bocal!!!\n",
      "WARNING: A pressão ambiente (101.33) é maior que a pressão total de entrada do bocal (82.90), por isso retornou-se velocidade nula no bocal!!!\n",
      "WARNING: A pressão ambiente (101.33) é maior que a pressão total de entrada do bocal (82.94), por isso retornou-se velocidade nula no bocal!!!\n",
      "WARNING: A pressão ambiente (101.33) é maior que a pressão total de entrada do bocal (82.97), por isso retornou-se velocidade nula no bocal!!!\n",
      "WARNING: A pressão ambiente (101.33) é maior que a pressão total de entrada do bocal (83.00), por isso retornou-se velocidade nula no bocal!!!\n",
      "WARNING: A pressão ambiente (101.33) é maior que a pressão total de entrada do bocal (83.04), por isso retornou-se velocidade nula no bocal!!!\n",
      "WARNING: A pressão ambiente (101.33) é maior que a pressão total de entrada do bocal (83.07), por isso retornou-se velocidade nula no bocal!!!\n",
      "WARNING: A pressão ambiente (101.33) é maior que a pressão total de entrada do bocal (83.11), por isso retornou-se velocidade nula no bocal!!!\n",
      "WARNING: A pressão ambiente (101.33) é maior que a pressão total de entrada do bocal (83.14), por isso retornou-se velocidade nula no bocal!!!\n",
      "WARNING: A pressão ambiente (101.33) é maior que a pressão total de entrada do bocal (83.17), por isso retornou-se velocidade nula no bocal!!!\n",
      "WARNING: A pressão ambiente (101.33) é maior que a pressão total de entrada do bocal (83.21), por isso retornou-se velocidade nula no bocal!!!\n",
      "WARNING: A pressão ambiente (101.33) é maior que a pressão total de entrada do bocal (83.24), por isso retornou-se velocidade nula no bocal!!!\n",
      "WARNING: A pressão ambiente (101.33) é maior que a pressão total de entrada do bocal (83.28), por isso retornou-se velocidade nula no bocal!!!\n",
      "WARNING: A pressão ambiente (101.33) é maior que a pressão total de entrada do bocal (83.31), por isso retornou-se velocidade nula no bocal!!!\n",
      "WARNING: A pressão ambiente (101.33) é maior que a pressão total de entrada do bocal (83.35), por isso retornou-se velocidade nula no bocal!!!\n",
      "WARNING: A pressão ambiente (101.33) é maior que a pressão total de entrada do bocal (83.38), por isso retornou-se velocidade nula no bocal!!!\n",
      "WARNING: A pressão ambiente (101.33) é maior que a pressão total de entrada do bocal (83.41), por isso retornou-se velocidade nula no bocal!!!\n",
      "WARNING: A pressão ambiente (101.33) é maior que a pressão total de entrada do bocal (83.45), por isso retornou-se velocidade nula no bocal!!!\n",
      "WARNING: A pressão ambiente (101.33) é maior que a pressão total de entrada do bocal (83.48), por isso retornou-se velocidade nula no bocal!!!\n",
      "WARNING: A pressão ambiente (101.33) é maior que a pressão total de entrada do bocal (83.52), por isso retornou-se velocidade nula no bocal!!!\n",
      "WARNING: A pressão ambiente (101.33) é maior que a pressão total de entrada do bocal (83.55), por isso retornou-se velocidade nula no bocal!!!\n",
      "WARNING: A pressão ambiente (101.33) é maior que a pressão total de entrada do bocal (83.58), por isso retornou-se velocidade nula no bocal!!!\n",
      "WARNING: A pressão ambiente (101.33) é maior que a pressão total de entrada do bocal (83.62), por isso retornou-se velocidade nula no bocal!!!\n",
      "WARNING: A pressão ambiente (101.33) é maior que a pressão total de entrada do bocal (83.65), por isso retornou-se velocidade nula no bocal!!!\n",
      "WARNING: A pressão ambiente (101.33) é maior que a pressão total de entrada do bocal (83.69), por isso retornou-se velocidade nula no bocal!!!\n",
      "WARNING: A pressão ambiente (101.33) é maior que a pressão total de entrada do bocal (83.72), por isso retornou-se velocidade nula no bocal!!!\n",
      "WARNING: A pressão ambiente (101.33) é maior que a pressão total de entrada do bocal (83.76), por isso retornou-se velocidade nula no bocal!!!\n",
      "WARNING: A pressão ambiente (101.33) é maior que a pressão total de entrada do bocal (83.79), por isso retornou-se velocidade nula no bocal!!!\n",
      "WARNING: A pressão ambiente (101.33) é maior que a pressão total de entrada do bocal (83.82), por isso retornou-se velocidade nula no bocal!!!\n",
      "WARNING: A pressão ambiente (101.33) é maior que a pressão total de entrada do bocal (83.86), por isso retornou-se velocidade nula no bocal!!!\n",
      "WARNING: A pressão ambiente (101.33) é maior que a pressão total de entrada do bocal (83.89), por isso retornou-se velocidade nula no bocal!!!\n",
      "WARNING: A pressão ambiente (101.33) é maior que a pressão total de entrada do bocal (83.93), por isso retornou-se velocidade nula no bocal!!!\n",
      "WARNING: A pressão ambiente (101.33) é maior que a pressão total de entrada do bocal (83.96), por isso retornou-se velocidade nula no bocal!!!\n",
      "WARNING: A pressão ambiente (101.33) é maior que a pressão total de entrada do bocal (84.00), por isso retornou-se velocidade nula no bocal!!!\n",
      "WARNING: A pressão ambiente (101.33) é maior que a pressão total de entrada do bocal (84.03), por isso retornou-se velocidade nula no bocal!!!\n",
      "WARNING: A pressão ambiente (101.33) é maior que a pressão total de entrada do bocal (84.06), por isso retornou-se velocidade nula no bocal!!!\n",
      "WARNING: A pressão ambiente (101.33) é maior que a pressão total de entrada do bocal (84.10), por isso retornou-se velocidade nula no bocal!!!\n",
      "WARNING: A pressão ambiente (101.33) é maior que a pressão total de entrada do bocal (84.13), por isso retornou-se velocidade nula no bocal!!!\n",
      "WARNING: A pressão ambiente (101.33) é maior que a pressão total de entrada do bocal (84.17), por isso retornou-se velocidade nula no bocal!!!\n",
      "WARNING: A pressão ambiente (101.33) é maior que a pressão total de entrada do bocal (84.20), por isso retornou-se velocidade nula no bocal!!!\n",
      "WARNING: A pressão ambiente (101.33) é maior que a pressão total de entrada do bocal (84.24), por isso retornou-se velocidade nula no bocal!!!\n",
      "WARNING: A pressão ambiente (101.33) é maior que a pressão total de entrada do bocal (84.27), por isso retornou-se velocidade nula no bocal!!!\n",
      "WARNING: A pressão ambiente (101.33) é maior que a pressão total de entrada do bocal (84.30), por isso retornou-se velocidade nula no bocal!!!\n",
      "WARNING: A pressão ambiente (101.33) é maior que a pressão total de entrada do bocal (84.34), por isso retornou-se velocidade nula no bocal!!!\n",
      "WARNING: A pressão ambiente (101.33) é maior que a pressão total de entrada do bocal (84.37), por isso retornou-se velocidade nula no bocal!!!\n",
      "WARNING: A pressão ambiente (101.33) é maior que a pressão total de entrada do bocal (84.41), por isso retornou-se velocidade nula no bocal!!!\n",
      "WARNING: A pressão ambiente (101.33) é maior que a pressão total de entrada do bocal (84.44), por isso retornou-se velocidade nula no bocal!!!\n",
      "WARNING: A pressão ambiente (101.33) é maior que a pressão total de entrada do bocal (84.48), por isso retornou-se velocidade nula no bocal!!!\n",
      "WARNING: A pressão ambiente (101.33) é maior que a pressão total de entrada do bocal (84.51), por isso retornou-se velocidade nula no bocal!!!\n",
      "WARNING: A pressão ambiente (101.33) é maior que a pressão total de entrada do bocal (84.55), por isso retornou-se velocidade nula no bocal!!!\n",
      "WARNING: A pressão ambiente (101.33) é maior que a pressão total de entrada do bocal (84.58), por isso retornou-se velocidade nula no bocal!!!\n",
      "WARNING: A pressão ambiente (101.33) é maior que a pressão total de entrada do bocal (84.61), por isso retornou-se velocidade nula no bocal!!!\n",
      "WARNING: A pressão ambiente (101.33) é maior que a pressão total de entrada do bocal (84.65), por isso retornou-se velocidade nula no bocal!!!\n",
      "WARNING: A pressão ambiente (101.33) é maior que a pressão total de entrada do bocal (84.68), por isso retornou-se velocidade nula no bocal!!!\n",
      "WARNING: A pressão ambiente (101.33) é maior que a pressão total de entrada do bocal (84.72), por isso retornou-se velocidade nula no bocal!!!\n",
      "WARNING: A pressão ambiente (101.33) é maior que a pressão total de entrada do bocal (84.75), por isso retornou-se velocidade nula no bocal!!!\n",
      "WARNING: A pressão ambiente (101.33) é maior que a pressão total de entrada do bocal (84.79), por isso retornou-se velocidade nula no bocal!!!\n",
      "WARNING: A pressão ambiente (101.33) é maior que a pressão total de entrada do bocal (84.82), por isso retornou-se velocidade nula no bocal!!!\n",
      "WARNING: A pressão ambiente (101.33) é maior que a pressão total de entrada do bocal (84.86), por isso retornou-se velocidade nula no bocal!!!\n",
      "WARNING: A pressão ambiente (101.33) é maior que a pressão total de entrada do bocal (84.89), por isso retornou-se velocidade nula no bocal!!!\n",
      "WARNING: A pressão ambiente (101.33) é maior que a pressão total de entrada do bocal (84.92), por isso retornou-se velocidade nula no bocal!!!\n",
      "WARNING: A pressão ambiente (101.33) é maior que a pressão total de entrada do bocal (84.96), por isso retornou-se velocidade nula no bocal!!!\n",
      "WARNING: A pressão ambiente (101.33) é maior que a pressão total de entrada do bocal (84.99), por isso retornou-se velocidade nula no bocal!!!\n",
      "WARNING: A pressão ambiente (101.33) é maior que a pressão total de entrada do bocal (85.03), por isso retornou-se velocidade nula no bocal!!!\n",
      "WARNING: A pressão ambiente (101.33) é maior que a pressão total de entrada do bocal (85.06), por isso retornou-se velocidade nula no bocal!!!\n",
      "WARNING: A pressão ambiente (101.33) é maior que a pressão total de entrada do bocal (85.10), por isso retornou-se velocidade nula no bocal!!!\n",
      "WARNING: A pressão ambiente (101.33) é maior que a pressão total de entrada do bocal (85.13), por isso retornou-se velocidade nula no bocal!!!\n",
      "WARNING: A pressão ambiente (101.33) é maior que a pressão total de entrada do bocal (85.17), por isso retornou-se velocidade nula no bocal!!!\n",
      "WARNING: A pressão ambiente (101.33) é maior que a pressão total de entrada do bocal (85.20), por isso retornou-se velocidade nula no bocal!!!\n",
      "WARNING: A pressão ambiente (101.33) é maior que a pressão total de entrada do bocal (85.23), por isso retornou-se velocidade nula no bocal!!!\n",
      "WARNING: A pressão ambiente (101.33) é maior que a pressão total de entrada do bocal (85.27), por isso retornou-se velocidade nula no bocal!!!\n",
      "WARNING: A pressão ambiente (101.33) é maior que a pressão total de entrada do bocal (85.30), por isso retornou-se velocidade nula no bocal!!!\n",
      "WARNING: A pressão ambiente (101.33) é maior que a pressão total de entrada do bocal (85.34), por isso retornou-se velocidade nula no bocal!!!\n",
      "WARNING: A pressão ambiente (101.33) é maior que a pressão total de entrada do bocal (85.37), por isso retornou-se velocidade nula no bocal!!!\n",
      "WARNING: A pressão ambiente (101.33) é maior que a pressão total de entrada do bocal (85.41), por isso retornou-se velocidade nula no bocal!!!\n",
      "WARNING: A pressão ambiente (101.33) é maior que a pressão total de entrada do bocal (85.44), por isso retornou-se velocidade nula no bocal!!!\n",
      "WARNING: A pressão ambiente (101.33) é maior que a pressão total de entrada do bocal (85.48), por isso retornou-se velocidade nula no bocal!!!\n",
      "WARNING: A pressão ambiente (101.33) é maior que a pressão total de entrada do bocal (85.51), por isso retornou-se velocidade nula no bocal!!!\n",
      "WARNING: A pressão ambiente (101.33) é maior que a pressão total de entrada do bocal (85.55), por isso retornou-se velocidade nula no bocal!!!\n",
      "WARNING: A pressão ambiente (101.33) é maior que a pressão total de entrada do bocal (85.58), por isso retornou-se velocidade nula no bocal!!!\n",
      "WARNING: A pressão ambiente (101.33) é maior que a pressão total de entrada do bocal (85.61), por isso retornou-se velocidade nula no bocal!!!\n",
      "WARNING: A pressão ambiente (101.33) é maior que a pressão total de entrada do bocal (85.65), por isso retornou-se velocidade nula no bocal!!!\n",
      "WARNING: A pressão ambiente (101.33) é maior que a pressão total de entrada do bocal (85.68), por isso retornou-se velocidade nula no bocal!!!\n",
      "WARNING: A pressão ambiente (101.33) é maior que a pressão total de entrada do bocal (85.72), por isso retornou-se velocidade nula no bocal!!!\n",
      "WARNING: A pressão ambiente (101.33) é maior que a pressão total de entrada do bocal (85.75), por isso retornou-se velocidade nula no bocal!!!\n",
      "WARNING: A pressão ambiente (101.33) é maior que a pressão total de entrada do bocal (85.79), por isso retornou-se velocidade nula no bocal!!!\n",
      "WARNING: A pressão ambiente (101.33) é maior que a pressão total de entrada do bocal (85.82), por isso retornou-se velocidade nula no bocal!!!\n",
      "WARNING: A pressão ambiente (101.33) é maior que a pressão total de entrada do bocal (85.86), por isso retornou-se velocidade nula no bocal!!!\n",
      "WARNING: A pressão ambiente (101.33) é maior que a pressão total de entrada do bocal (85.89), por isso retornou-se velocidade nula no bocal!!!\n",
      "WARNING: A pressão ambiente (101.33) é maior que a pressão total de entrada do bocal (85.93), por isso retornou-se velocidade nula no bocal!!!\n",
      "WARNING: A pressão ambiente (101.33) é maior que a pressão total de entrada do bocal (85.96), por isso retornou-se velocidade nula no bocal!!!\n",
      "WARNING: A pressão ambiente (101.33) é maior que a pressão total de entrada do bocal (86.00), por isso retornou-se velocidade nula no bocal!!!\n",
      "WARNING: A pressão ambiente (101.33) é maior que a pressão total de entrada do bocal (86.03), por isso retornou-se velocidade nula no bocal!!!\n",
      "WARNING: A pressão ambiente (101.33) é maior que a pressão total de entrada do bocal (86.06), por isso retornou-se velocidade nula no bocal!!!\n",
      "WARNING: A pressão ambiente (101.33) é maior que a pressão total de entrada do bocal (86.10), por isso retornou-se velocidade nula no bocal!!!\n",
      "WARNING: A pressão ambiente (101.33) é maior que a pressão total de entrada do bocal (86.13), por isso retornou-se velocidade nula no bocal!!!\n",
      "WARNING: A pressão ambiente (101.33) é maior que a pressão total de entrada do bocal (86.17), por isso retornou-se velocidade nula no bocal!!!\n",
      "WARNING: A pressão ambiente (101.33) é maior que a pressão total de entrada do bocal (86.20), por isso retornou-se velocidade nula no bocal!!!\n",
      "WARNING: A pressão ambiente (101.33) é maior que a pressão total de entrada do bocal (86.24), por isso retornou-se velocidade nula no bocal!!!\n",
      "WARNING: A pressão ambiente (101.33) é maior que a pressão total de entrada do bocal (86.27), por isso retornou-se velocidade nula no bocal!!!\n",
      "WARNING: A pressão ambiente (101.33) é maior que a pressão total de entrada do bocal (86.31), por isso retornou-se velocidade nula no bocal!!!\n",
      "WARNING: A pressão ambiente (101.33) é maior que a pressão total de entrada do bocal (86.34), por isso retornou-se velocidade nula no bocal!!!\n",
      "WARNING: A pressão ambiente (101.33) é maior que a pressão total de entrada do bocal (86.38), por isso retornou-se velocidade nula no bocal!!!\n",
      "WARNING: A pressão ambiente (101.33) é maior que a pressão total de entrada do bocal (86.41), por isso retornou-se velocidade nula no bocal!!!\n",
      "WARNING: A pressão ambiente (101.33) é maior que a pressão total de entrada do bocal (86.45), por isso retornou-se velocidade nula no bocal!!!\n",
      "WARNING: A pressão ambiente (101.33) é maior que a pressão total de entrada do bocal (86.48), por isso retornou-se velocidade nula no bocal!!!\n",
      "WARNING: A pressão ambiente (101.33) é maior que a pressão total de entrada do bocal (86.52), por isso retornou-se velocidade nula no bocal!!!\n",
      "WARNING: A pressão ambiente (101.33) é maior que a pressão total de entrada do bocal (86.55), por isso retornou-se velocidade nula no bocal!!!\n",
      "WARNING: A pressão ambiente (101.33) é maior que a pressão total de entrada do bocal (86.59), por isso retornou-se velocidade nula no bocal!!!\n",
      "WARNING: A pressão ambiente (101.33) é maior que a pressão total de entrada do bocal (86.62), por isso retornou-se velocidade nula no bocal!!!\n",
      "WARNING: A pressão ambiente (101.33) é maior que a pressão total de entrada do bocal (86.65), por isso retornou-se velocidade nula no bocal!!!\n",
      "WARNING: A pressão ambiente (101.33) é maior que a pressão total de entrada do bocal (86.69), por isso retornou-se velocidade nula no bocal!!!\n",
      "WARNING: A pressão ambiente (101.33) é maior que a pressão total de entrada do bocal (86.72), por isso retornou-se velocidade nula no bocal!!!\n",
      "WARNING: A pressão ambiente (101.33) é maior que a pressão total de entrada do bocal (86.76), por isso retornou-se velocidade nula no bocal!!!\n",
      "WARNING: A pressão ambiente (101.33) é maior que a pressão total de entrada do bocal (86.79), por isso retornou-se velocidade nula no bocal!!!\n",
      "WARNING: A pressão ambiente (101.33) é maior que a pressão total de entrada do bocal (86.83), por isso retornou-se velocidade nula no bocal!!!\n",
      "WARNING: A pressão ambiente (101.33) é maior que a pressão total de entrada do bocal (86.86), por isso retornou-se velocidade nula no bocal!!!\n",
      "WARNING: A pressão ambiente (101.33) é maior que a pressão total de entrada do bocal (86.90), por isso retornou-se velocidade nula no bocal!!!\n",
      "WARNING: A pressão ambiente (101.33) é maior que a pressão total de entrada do bocal (86.93), por isso retornou-se velocidade nula no bocal!!!\n",
      "WARNING: A pressão ambiente (101.33) é maior que a pressão total de entrada do bocal (86.97), por isso retornou-se velocidade nula no bocal!!!\n",
      "WARNING: A pressão ambiente (101.33) é maior que a pressão total de entrada do bocal (87.00), por isso retornou-se velocidade nula no bocal!!!\n",
      "WARNING: A pressão ambiente (101.33) é maior que a pressão total de entrada do bocal (87.04), por isso retornou-se velocidade nula no bocal!!!\n",
      "WARNING: A pressão ambiente (101.33) é maior que a pressão total de entrada do bocal (87.07), por isso retornou-se velocidade nula no bocal!!!\n",
      "WARNING: A pressão ambiente (101.33) é maior que a pressão total de entrada do bocal (87.11), por isso retornou-se velocidade nula no bocal!!!\n",
      "WARNING: A pressão ambiente (101.33) é maior que a pressão total de entrada do bocal (87.14), por isso retornou-se velocidade nula no bocal!!!\n",
      "WARNING: A pressão ambiente (101.33) é maior que a pressão total de entrada do bocal (87.18), por isso retornou-se velocidade nula no bocal!!!\n",
      "WARNING: A pressão ambiente (101.33) é maior que a pressão total de entrada do bocal (87.21), por isso retornou-se velocidade nula no bocal!!!\n",
      "WARNING: A pressão ambiente (101.33) é maior que a pressão total de entrada do bocal (87.25), por isso retornou-se velocidade nula no bocal!!!\n",
      "WARNING: A pressão ambiente (101.33) é maior que a pressão total de entrada do bocal (87.28), por isso retornou-se velocidade nula no bocal!!!\n",
      "WARNING: A pressão ambiente (101.33) é maior que a pressão total de entrada do bocal (87.32), por isso retornou-se velocidade nula no bocal!!!\n",
      "WARNING: A pressão ambiente (101.33) é maior que a pressão total de entrada do bocal (87.35), por isso retornou-se velocidade nula no bocal!!!\n",
      "WARNING: A pressão ambiente (101.33) é maior que a pressão total de entrada do bocal (87.39), por isso retornou-se velocidade nula no bocal!!!\n",
      "WARNING: A pressão ambiente (101.33) é maior que a pressão total de entrada do bocal (87.42), por isso retornou-se velocidade nula no bocal!!!\n",
      "WARNING: A pressão ambiente (101.33) é maior que a pressão total de entrada do bocal (87.46), por isso retornou-se velocidade nula no bocal!!!\n",
      "WARNING: A pressão ambiente (101.33) é maior que a pressão total de entrada do bocal (87.49), por isso retornou-se velocidade nula no bocal!!!\n",
      "WARNING: A pressão ambiente (101.33) é maior que a pressão total de entrada do bocal (87.52), por isso retornou-se velocidade nula no bocal!!!\n",
      "WARNING: A pressão ambiente (101.33) é maior que a pressão total de entrada do bocal (87.56), por isso retornou-se velocidade nula no bocal!!!\n",
      "WARNING: A pressão ambiente (101.33) é maior que a pressão total de entrada do bocal (87.59), por isso retornou-se velocidade nula no bocal!!!\n",
      "WARNING: A pressão ambiente (101.33) é maior que a pressão total de entrada do bocal (87.63), por isso retornou-se velocidade nula no bocal!!!\n",
      "WARNING: A pressão ambiente (101.33) é maior que a pressão total de entrada do bocal (87.66), por isso retornou-se velocidade nula no bocal!!!\n",
      "WARNING: A pressão ambiente (101.33) é maior que a pressão total de entrada do bocal (87.70), por isso retornou-se velocidade nula no bocal!!!\n",
      "WARNING: A pressão ambiente (101.33) é maior que a pressão total de entrada do bocal (87.73), por isso retornou-se velocidade nula no bocal!!!\n",
      "WARNING: A pressão ambiente (101.33) é maior que a pressão total de entrada do bocal (87.77), por isso retornou-se velocidade nula no bocal!!!\n",
      "WARNING: A pressão ambiente (101.33) é maior que a pressão total de entrada do bocal (87.80), por isso retornou-se velocidade nula no bocal!!!\n",
      "WARNING: A pressão ambiente (101.33) é maior que a pressão total de entrada do bocal (87.84), por isso retornou-se velocidade nula no bocal!!!\n",
      "WARNING: A pressão ambiente (101.33) é maior que a pressão total de entrada do bocal (87.87), por isso retornou-se velocidade nula no bocal!!!\n",
      "WARNING: A pressão ambiente (101.33) é maior que a pressão total de entrada do bocal (87.91), por isso retornou-se velocidade nula no bocal!!!\n",
      "WARNING: A pressão ambiente (101.33) é maior que a pressão total de entrada do bocal (87.94), por isso retornou-se velocidade nula no bocal!!!\n",
      "WARNING: A pressão ambiente (101.33) é maior que a pressão total de entrada do bocal (87.98), por isso retornou-se velocidade nula no bocal!!!\n",
      "WARNING: A pressão ambiente (101.33) é maior que a pressão total de entrada do bocal (88.01), por isso retornou-se velocidade nula no bocal!!!\n",
      "WARNING: A pressão ambiente (101.33) é maior que a pressão total de entrada do bocal (88.05), por isso retornou-se velocidade nula no bocal!!!\n",
      "WARNING: A pressão ambiente (101.33) é maior que a pressão total de entrada do bocal (88.08), por isso retornou-se velocidade nula no bocal!!!\n",
      "WARNING: A pressão ambiente (101.33) é maior que a pressão total de entrada do bocal (88.12), por isso retornou-se velocidade nula no bocal!!!\n",
      "WARNING: A pressão ambiente (101.33) é maior que a pressão total de entrada do bocal (88.15), por isso retornou-se velocidade nula no bocal!!!\n",
      "WARNING: A pressão ambiente (101.33) é maior que a pressão total de entrada do bocal (88.19), por isso retornou-se velocidade nula no bocal!!!\n",
      "WARNING: A pressão ambiente (101.33) é maior que a pressão total de entrada do bocal (88.22), por isso retornou-se velocidade nula no bocal!!!\n",
      "WARNING: A pressão ambiente (101.33) é maior que a pressão total de entrada do bocal (88.26), por isso retornou-se velocidade nula no bocal!!!\n",
      "WARNING: A pressão ambiente (101.33) é maior que a pressão total de entrada do bocal (88.29), por isso retornou-se velocidade nula no bocal!!!\n",
      "WARNING: A pressão ambiente (101.33) é maior que a pressão total de entrada do bocal (88.33), por isso retornou-se velocidade nula no bocal!!!\n",
      "WARNING: A pressão ambiente (101.33) é maior que a pressão total de entrada do bocal (88.36), por isso retornou-se velocidade nula no bocal!!!\n",
      "WARNING: A pressão ambiente (101.33) é maior que a pressão total de entrada do bocal (88.40), por isso retornou-se velocidade nula no bocal!!!\n",
      "WARNING: A pressão ambiente (101.33) é maior que a pressão total de entrada do bocal (88.43), por isso retornou-se velocidade nula no bocal!!!\n",
      "WARNING: A pressão ambiente (101.33) é maior que a pressão total de entrada do bocal (88.47), por isso retornou-se velocidade nula no bocal!!!\n",
      "WARNING: A pressão ambiente (101.33) é maior que a pressão total de entrada do bocal (88.50), por isso retornou-se velocidade nula no bocal!!!\n",
      "WARNING: A pressão ambiente (101.33) é maior que a pressão total de entrada do bocal (88.54), por isso retornou-se velocidade nula no bocal!!!\n",
      "WARNING: A pressão ambiente (101.33) é maior que a pressão total de entrada do bocal (88.57), por isso retornou-se velocidade nula no bocal!!!\n",
      "WARNING: A pressão ambiente (101.33) é maior que a pressão total de entrada do bocal (88.61), por isso retornou-se velocidade nula no bocal!!!\n",
      "WARNING: A pressão ambiente (101.33) é maior que a pressão total de entrada do bocal (88.64), por isso retornou-se velocidade nula no bocal!!!\n",
      "WARNING: A pressão ambiente (101.33) é maior que a pressão total de entrada do bocal (88.68), por isso retornou-se velocidade nula no bocal!!!\n",
      "WARNING: A pressão ambiente (101.33) é maior que a pressão total de entrada do bocal (88.71), por isso retornou-se velocidade nula no bocal!!!\n",
      "WARNING: A pressão ambiente (101.33) é maior que a pressão total de entrada do bocal (88.75), por isso retornou-se velocidade nula no bocal!!!\n",
      "WARNING: A pressão ambiente (101.33) é maior que a pressão total de entrada do bocal (88.78), por isso retornou-se velocidade nula no bocal!!!\n",
      "WARNING: A pressão ambiente (101.33) é maior que a pressão total de entrada do bocal (88.82), por isso retornou-se velocidade nula no bocal!!!\n",
      "WARNING: A pressão ambiente (101.33) é maior que a pressão total de entrada do bocal (88.85), por isso retornou-se velocidade nula no bocal!!!\n",
      "WARNING: A pressão ambiente (101.33) é maior que a pressão total de entrada do bocal (88.89), por isso retornou-se velocidade nula no bocal!!!\n",
      "WARNING: A pressão ambiente (101.33) é maior que a pressão total de entrada do bocal (88.92), por isso retornou-se velocidade nula no bocal!!!\n",
      "WARNING: A pressão ambiente (101.33) é maior que a pressão total de entrada do bocal (88.96), por isso retornou-se velocidade nula no bocal!!!\n",
      "WARNING: A pressão ambiente (101.33) é maior que a pressão total de entrada do bocal (88.99), por isso retornou-se velocidade nula no bocal!!!\n",
      "WARNING: A pressão ambiente (101.33) é maior que a pressão total de entrada do bocal (89.03), por isso retornou-se velocidade nula no bocal!!!\n",
      "WARNING: A pressão ambiente (101.33) é maior que a pressão total de entrada do bocal (89.07), por isso retornou-se velocidade nula no bocal!!!\n",
      "WARNING: A pressão ambiente (101.33) é maior que a pressão total de entrada do bocal (89.10), por isso retornou-se velocidade nula no bocal!!!\n",
      "WARNING: A pressão ambiente (101.33) é maior que a pressão total de entrada do bocal (89.14), por isso retornou-se velocidade nula no bocal!!!\n",
      "WARNING: A pressão ambiente (101.33) é maior que a pressão total de entrada do bocal (89.17), por isso retornou-se velocidade nula no bocal!!!\n",
      "WARNING: A pressão ambiente (101.33) é maior que a pressão total de entrada do bocal (89.21), por isso retornou-se velocidade nula no bocal!!!\n",
      "WARNING: A pressão ambiente (101.33) é maior que a pressão total de entrada do bocal (89.24), por isso retornou-se velocidade nula no bocal!!!\n",
      "WARNING: A pressão ambiente (101.33) é maior que a pressão total de entrada do bocal (89.28), por isso retornou-se velocidade nula no bocal!!!\n",
      "WARNING: A pressão ambiente (101.33) é maior que a pressão total de entrada do bocal (89.31), por isso retornou-se velocidade nula no bocal!!!\n",
      "WARNING: A pressão ambiente (101.33) é maior que a pressão total de entrada do bocal (89.35), por isso retornou-se velocidade nula no bocal!!!\n",
      "WARNING: A pressão ambiente (101.33) é maior que a pressão total de entrada do bocal (89.38), por isso retornou-se velocidade nula no bocal!!!\n",
      "WARNING: A pressão ambiente (101.33) é maior que a pressão total de entrada do bocal (89.42), por isso retornou-se velocidade nula no bocal!!!\n",
      "WARNING: A pressão ambiente (101.33) é maior que a pressão total de entrada do bocal (89.45), por isso retornou-se velocidade nula no bocal!!!\n",
      "WARNING: A pressão ambiente (101.33) é maior que a pressão total de entrada do bocal (89.49), por isso retornou-se velocidade nula no bocal!!!\n",
      "WARNING: A pressão ambiente (101.33) é maior que a pressão total de entrada do bocal (89.52), por isso retornou-se velocidade nula no bocal!!!\n",
      "WARNING: A pressão ambiente (101.33) é maior que a pressão total de entrada do bocal (89.56), por isso retornou-se velocidade nula no bocal!!!\n",
      "WARNING: A pressão ambiente (101.33) é maior que a pressão total de entrada do bocal (89.59), por isso retornou-se velocidade nula no bocal!!!\n",
      "WARNING: A pressão ambiente (101.33) é maior que a pressão total de entrada do bocal (89.63), por isso retornou-se velocidade nula no bocal!!!\n",
      "WARNING: A pressão ambiente (101.33) é maior que a pressão total de entrada do bocal (89.66), por isso retornou-se velocidade nula no bocal!!!\n",
      "WARNING: A pressão ambiente (101.33) é maior que a pressão total de entrada do bocal (89.70), por isso retornou-se velocidade nula no bocal!!!\n",
      "WARNING: A pressão ambiente (101.33) é maior que a pressão total de entrada do bocal (89.73), por isso retornou-se velocidade nula no bocal!!!\n",
      "WARNING: A pressão ambiente (101.33) é maior que a pressão total de entrada do bocal (89.77), por isso retornou-se velocidade nula no bocal!!!\n",
      "WARNING: A pressão ambiente (101.33) é maior que a pressão total de entrada do bocal (89.80), por isso retornou-se velocidade nula no bocal!!!\n",
      "WARNING: A pressão ambiente (101.33) é maior que a pressão total de entrada do bocal (89.84), por isso retornou-se velocidade nula no bocal!!!\n",
      "WARNING: A pressão ambiente (101.33) é maior que a pressão total de entrada do bocal (89.87), por isso retornou-se velocidade nula no bocal!!!\n",
      "WARNING: A pressão ambiente (101.33) é maior que a pressão total de entrada do bocal (89.91), por isso retornou-se velocidade nula no bocal!!!\n",
      "WARNING: A pressão ambiente (101.33) é maior que a pressão total de entrada do bocal (89.95), por isso retornou-se velocidade nula no bocal!!!\n",
      "WARNING: A pressão ambiente (101.33) é maior que a pressão total de entrada do bocal (89.98), por isso retornou-se velocidade nula no bocal!!!\n",
      "WARNING: A pressão ambiente (101.33) é maior que a pressão total de entrada do bocal (90.02), por isso retornou-se velocidade nula no bocal!!!\n",
      "WARNING: A pressão ambiente (101.33) é maior que a pressão total de entrada do bocal (90.05), por isso retornou-se velocidade nula no bocal!!!\n",
      "WARNING: A pressão ambiente (101.33) é maior que a pressão total de entrada do bocal (90.09), por isso retornou-se velocidade nula no bocal!!!\n",
      "WARNING: A pressão ambiente (101.33) é maior que a pressão total de entrada do bocal (90.12), por isso retornou-se velocidade nula no bocal!!!\n",
      "WARNING: A pressão ambiente (101.33) é maior que a pressão total de entrada do bocal (90.16), por isso retornou-se velocidade nula no bocal!!!\n",
      "WARNING: A pressão ambiente (101.33) é maior que a pressão total de entrada do bocal (90.19), por isso retornou-se velocidade nula no bocal!!!\n",
      "WARNING: A pressão ambiente (101.33) é maior que a pressão total de entrada do bocal (90.23), por isso retornou-se velocidade nula no bocal!!!\n",
      "WARNING: A pressão ambiente (101.33) é maior que a pressão total de entrada do bocal (90.26), por isso retornou-se velocidade nula no bocal!!!\n",
      "WARNING: A pressão ambiente (101.33) é maior que a pressão total de entrada do bocal (90.30), por isso retornou-se velocidade nula no bocal!!!\n",
      "WARNING: A pressão ambiente (101.33) é maior que a pressão total de entrada do bocal (90.33), por isso retornou-se velocidade nula no bocal!!!\n",
      "WARNING: A pressão ambiente (101.33) é maior que a pressão total de entrada do bocal (90.37), por isso retornou-se velocidade nula no bocal!!!\n",
      "WARNING: A pressão ambiente (101.33) é maior que a pressão total de entrada do bocal (90.40), por isso retornou-se velocidade nula no bocal!!!\n",
      "WARNING: A pressão ambiente (101.33) é maior que a pressão total de entrada do bocal (90.44), por isso retornou-se velocidade nula no bocal!!!\n",
      "WARNING: A pressão ambiente (101.33) é maior que a pressão total de entrada do bocal (90.47), por isso retornou-se velocidade nula no bocal!!!\n",
      "WARNING: A pressão ambiente (101.33) é maior que a pressão total de entrada do bocal (90.51), por isso retornou-se velocidade nula no bocal!!!\n",
      "WARNING: A pressão ambiente (101.33) é maior que a pressão total de entrada do bocal (90.55), por isso retornou-se velocidade nula no bocal!!!\n",
      "WARNING: A pressão ambiente (101.33) é maior que a pressão total de entrada do bocal (90.58), por isso retornou-se velocidade nula no bocal!!!\n",
      "WARNING: A pressão ambiente (101.33) é maior que a pressão total de entrada do bocal (90.62), por isso retornou-se velocidade nula no bocal!!!\n",
      "WARNING: A pressão ambiente (101.33) é maior que a pressão total de entrada do bocal (90.65), por isso retornou-se velocidade nula no bocal!!!\n",
      "WARNING: A pressão ambiente (101.33) é maior que a pressão total de entrada do bocal (90.69), por isso retornou-se velocidade nula no bocal!!!\n",
      "WARNING: A pressão ambiente (101.33) é maior que a pressão total de entrada do bocal (90.72), por isso retornou-se velocidade nula no bocal!!!\n",
      "WARNING: A pressão ambiente (101.33) é maior que a pressão total de entrada do bocal (90.76), por isso retornou-se velocidade nula no bocal!!!\n",
      "WARNING: A pressão ambiente (101.33) é maior que a pressão total de entrada do bocal (90.79), por isso retornou-se velocidade nula no bocal!!!\n",
      "WARNING: A pressão ambiente (101.33) é maior que a pressão total de entrada do bocal (90.83), por isso retornou-se velocidade nula no bocal!!!\n",
      "WARNING: A pressão ambiente (101.33) é maior que a pressão total de entrada do bocal (90.86), por isso retornou-se velocidade nula no bocal!!!\n",
      "WARNING: A pressão ambiente (101.33) é maior que a pressão total de entrada do bocal (90.90), por isso retornou-se velocidade nula no bocal!!!\n",
      "WARNING: A pressão ambiente (101.33) é maior que a pressão total de entrada do bocal (90.93), por isso retornou-se velocidade nula no bocal!!!\n",
      "WARNING: A pressão ambiente (101.33) é maior que a pressão total de entrada do bocal (90.97), por isso retornou-se velocidade nula no bocal!!!\n",
      "WARNING: A pressão ambiente (101.33) é maior que a pressão total de entrada do bocal (91.01), por isso retornou-se velocidade nula no bocal!!!\n",
      "WARNING: A pressão ambiente (101.33) é maior que a pressão total de entrada do bocal (91.04), por isso retornou-se velocidade nula no bocal!!!\n",
      "WARNING: A pressão ambiente (101.33) é maior que a pressão total de entrada do bocal (91.08), por isso retornou-se velocidade nula no bocal!!!\n",
      "WARNING: A pressão ambiente (101.33) é maior que a pressão total de entrada do bocal (91.11), por isso retornou-se velocidade nula no bocal!!!\n",
      "WARNING: A pressão ambiente (101.33) é maior que a pressão total de entrada do bocal (91.15), por isso retornou-se velocidade nula no bocal!!!\n",
      "WARNING: A pressão ambiente (101.33) é maior que a pressão total de entrada do bocal (91.18), por isso retornou-se velocidade nula no bocal!!!\n",
      "WARNING: A pressão ambiente (101.33) é maior que a pressão total de entrada do bocal (91.22), por isso retornou-se velocidade nula no bocal!!!\n",
      "WARNING: A pressão ambiente (101.33) é maior que a pressão total de entrada do bocal (91.25), por isso retornou-se velocidade nula no bocal!!!\n",
      "WARNING: A pressão ambiente (101.33) é maior que a pressão total de entrada do bocal (91.29), por isso retornou-se velocidade nula no bocal!!!\n",
      "WARNING: A pressão ambiente (101.33) é maior que a pressão total de entrada do bocal (91.32), por isso retornou-se velocidade nula no bocal!!!\n",
      "WARNING: A pressão ambiente (101.33) é maior que a pressão total de entrada do bocal (91.36), por isso retornou-se velocidade nula no bocal!!!\n",
      "WARNING: A pressão ambiente (101.33) é maior que a pressão total de entrada do bocal (91.40), por isso retornou-se velocidade nula no bocal!!!\n",
      "WARNING: A pressão ambiente (101.33) é maior que a pressão total de entrada do bocal (91.43), por isso retornou-se velocidade nula no bocal!!!\n",
      "WARNING: A pressão ambiente (101.33) é maior que a pressão total de entrada do bocal (91.47), por isso retornou-se velocidade nula no bocal!!!\n",
      "WARNING: A pressão ambiente (101.33) é maior que a pressão total de entrada do bocal (91.50), por isso retornou-se velocidade nula no bocal!!!\n",
      "WARNING: A pressão ambiente (101.33) é maior que a pressão total de entrada do bocal (91.54), por isso retornou-se velocidade nula no bocal!!!\n",
      "WARNING: A pressão ambiente (101.33) é maior que a pressão total de entrada do bocal (91.57), por isso retornou-se velocidade nula no bocal!!!\n",
      "WARNING: A pressão ambiente (101.33) é maior que a pressão total de entrada do bocal (91.61), por isso retornou-se velocidade nula no bocal!!!\n",
      "WARNING: A pressão ambiente (101.33) é maior que a pressão total de entrada do bocal (91.64), por isso retornou-se velocidade nula no bocal!!!\n",
      "WARNING: A pressão ambiente (101.33) é maior que a pressão total de entrada do bocal (91.68), por isso retornou-se velocidade nula no bocal!!!\n",
      "WARNING: A pressão ambiente (101.33) é maior que a pressão total de entrada do bocal (91.72), por isso retornou-se velocidade nula no bocal!!!\n",
      "WARNING: A pressão ambiente (101.33) é maior que a pressão total de entrada do bocal (91.75), por isso retornou-se velocidade nula no bocal!!!\n",
      "WARNING: A pressão ambiente (101.33) é maior que a pressão total de entrada do bocal (91.79), por isso retornou-se velocidade nula no bocal!!!\n",
      "WARNING: A pressão ambiente (101.33) é maior que a pressão total de entrada do bocal (91.82), por isso retornou-se velocidade nula no bocal!!!\n",
      "WARNING: A pressão ambiente (101.33) é maior que a pressão total de entrada do bocal (91.86), por isso retornou-se velocidade nula no bocal!!!\n",
      "WARNING: A pressão ambiente (101.33) é maior que a pressão total de entrada do bocal (91.89), por isso retornou-se velocidade nula no bocal!!!\n",
      "WARNING: A pressão ambiente (101.33) é maior que a pressão total de entrada do bocal (91.93), por isso retornou-se velocidade nula no bocal!!!\n",
      "WARNING: A pressão ambiente (101.33) é maior que a pressão total de entrada do bocal (91.96), por isso retornou-se velocidade nula no bocal!!!\n",
      "WARNING: A pressão ambiente (101.33) é maior que a pressão total de entrada do bocal (92.00), por isso retornou-se velocidade nula no bocal!!!\n",
      "WARNING: A pressão ambiente (101.33) é maior que a pressão total de entrada do bocal (92.04), por isso retornou-se velocidade nula no bocal!!!\n",
      "WARNING: A pressão ambiente (101.33) é maior que a pressão total de entrada do bocal (92.07), por isso retornou-se velocidade nula no bocal!!!\n",
      "WARNING: A pressão ambiente (101.33) é maior que a pressão total de entrada do bocal (92.11), por isso retornou-se velocidade nula no bocal!!!\n",
      "WARNING: A pressão ambiente (101.33) é maior que a pressão total de entrada do bocal (92.14), por isso retornou-se velocidade nula no bocal!!!\n",
      "WARNING: A pressão ambiente (101.33) é maior que a pressão total de entrada do bocal (92.18), por isso retornou-se velocidade nula no bocal!!!\n",
      "WARNING: A pressão ambiente (101.33) é maior que a pressão total de entrada do bocal (92.21), por isso retornou-se velocidade nula no bocal!!!\n",
      "WARNING: A pressão ambiente (101.33) é maior que a pressão total de entrada do bocal (92.25), por isso retornou-se velocidade nula no bocal!!!\n",
      "WARNING: A pressão ambiente (101.33) é maior que a pressão total de entrada do bocal (92.28), por isso retornou-se velocidade nula no bocal!!!\n",
      "WARNING: A pressão ambiente (101.33) é maior que a pressão total de entrada do bocal (92.32), por isso retornou-se velocidade nula no bocal!!!\n",
      "WARNING: A pressão ambiente (101.33) é maior que a pressão total de entrada do bocal (92.36), por isso retornou-se velocidade nula no bocal!!!\n",
      "WARNING: A pressão ambiente (101.33) é maior que a pressão total de entrada do bocal (92.39), por isso retornou-se velocidade nula no bocal!!!\n",
      "WARNING: A pressão ambiente (101.33) é maior que a pressão total de entrada do bocal (92.43), por isso retornou-se velocidade nula no bocal!!!\n",
      "WARNING: A pressão ambiente (101.33) é maior que a pressão total de entrada do bocal (92.46), por isso retornou-se velocidade nula no bocal!!!\n",
      "WARNING: A pressão ambiente (101.33) é maior que a pressão total de entrada do bocal (92.50), por isso retornou-se velocidade nula no bocal!!!\n",
      "WARNING: A pressão ambiente (101.33) é maior que a pressão total de entrada do bocal (92.53), por isso retornou-se velocidade nula no bocal!!!\n",
      "WARNING: A pressão ambiente (101.33) é maior que a pressão total de entrada do bocal (92.57), por isso retornou-se velocidade nula no bocal!!!\n",
      "WARNING: A pressão ambiente (101.33) é maior que a pressão total de entrada do bocal (92.61), por isso retornou-se velocidade nula no bocal!!!\n",
      "WARNING: A pressão ambiente (101.33) é maior que a pressão total de entrada do bocal (92.64), por isso retornou-se velocidade nula no bocal!!!\n",
      "WARNING: A pressão ambiente (101.33) é maior que a pressão total de entrada do bocal (92.68), por isso retornou-se velocidade nula no bocal!!!\n",
      "WARNING: A pressão ambiente (101.33) é maior que a pressão total de entrada do bocal (92.71), por isso retornou-se velocidade nula no bocal!!!\n",
      "WARNING: A pressão ambiente (101.33) é maior que a pressão total de entrada do bocal (92.75), por isso retornou-se velocidade nula no bocal!!!\n",
      "WARNING: A pressão ambiente (101.33) é maior que a pressão total de entrada do bocal (92.78), por isso retornou-se velocidade nula no bocal!!!\n",
      "WARNING: A pressão ambiente (101.33) é maior que a pressão total de entrada do bocal (92.82), por isso retornou-se velocidade nula no bocal!!!\n",
      "WARNING: A pressão ambiente (101.33) é maior que a pressão total de entrada do bocal (92.86), por isso retornou-se velocidade nula no bocal!!!\n",
      "WARNING: A pressão ambiente (101.33) é maior que a pressão total de entrada do bocal (92.89), por isso retornou-se velocidade nula no bocal!!!\n",
      "WARNING: A pressão ambiente (101.33) é maior que a pressão total de entrada do bocal (92.93), por isso retornou-se velocidade nula no bocal!!!\n",
      "WARNING: A pressão ambiente (101.33) é maior que a pressão total de entrada do bocal (92.96), por isso retornou-se velocidade nula no bocal!!!\n",
      "WARNING: A pressão ambiente (101.33) é maior que a pressão total de entrada do bocal (93.00), por isso retornou-se velocidade nula no bocal!!!\n",
      "WARNING: A pressão ambiente (101.33) é maior que a pressão total de entrada do bocal (93.03), por isso retornou-se velocidade nula no bocal!!!\n",
      "WARNING: A pressão ambiente (101.33) é maior que a pressão total de entrada do bocal (93.07), por isso retornou-se velocidade nula no bocal!!!\n",
      "WARNING: A pressão ambiente (101.33) é maior que a pressão total de entrada do bocal (93.11), por isso retornou-se velocidade nula no bocal!!!\n",
      "WARNING: A pressão ambiente (101.33) é maior que a pressão total de entrada do bocal (93.14), por isso retornou-se velocidade nula no bocal!!!\n",
      "WARNING: A pressão ambiente (101.33) é maior que a pressão total de entrada do bocal (93.18), por isso retornou-se velocidade nula no bocal!!!\n",
      "WARNING: A pressão ambiente (101.33) é maior que a pressão total de entrada do bocal (93.21), por isso retornou-se velocidade nula no bocal!!!\n",
      "WARNING: A pressão ambiente (101.33) é maior que a pressão total de entrada do bocal (93.25), por isso retornou-se velocidade nula no bocal!!!\n",
      "WARNING: A pressão ambiente (101.33) é maior que a pressão total de entrada do bocal (93.28), por isso retornou-se velocidade nula no bocal!!!\n",
      "WARNING: A pressão ambiente (101.33) é maior que a pressão total de entrada do bocal (93.32), por isso retornou-se velocidade nula no bocal!!!\n",
      "WARNING: A pressão ambiente (101.33) é maior que a pressão total de entrada do bocal (93.36), por isso retornou-se velocidade nula no bocal!!!\n",
      "WARNING: A pressão ambiente (101.33) é maior que a pressão total de entrada do bocal (93.39), por isso retornou-se velocidade nula no bocal!!!\n",
      "WARNING: A pressão ambiente (101.33) é maior que a pressão total de entrada do bocal (93.43), por isso retornou-se velocidade nula no bocal!!!\n",
      "WARNING: A pressão ambiente (101.33) é maior que a pressão total de entrada do bocal (93.46), por isso retornou-se velocidade nula no bocal!!!\n",
      "WARNING: A pressão ambiente (101.33) é maior que a pressão total de entrada do bocal (93.50), por isso retornou-se velocidade nula no bocal!!!\n",
      "WARNING: A pressão ambiente (101.33) é maior que a pressão total de entrada do bocal (93.53), por isso retornou-se velocidade nula no bocal!!!\n",
      "WARNING: A pressão ambiente (101.33) é maior que a pressão total de entrada do bocal (93.57), por isso retornou-se velocidade nula no bocal!!!\n",
      "WARNING: A pressão ambiente (101.33) é maior que a pressão total de entrada do bocal (93.61), por isso retornou-se velocidade nula no bocal!!!\n",
      "WARNING: A pressão ambiente (101.33) é maior que a pressão total de entrada do bocal (93.64), por isso retornou-se velocidade nula no bocal!!!\n",
      "WARNING: A pressão ambiente (101.33) é maior que a pressão total de entrada do bocal (93.68), por isso retornou-se velocidade nula no bocal!!!\n",
      "WARNING: A pressão ambiente (101.33) é maior que a pressão total de entrada do bocal (93.71), por isso retornou-se velocidade nula no bocal!!!\n",
      "WARNING: A pressão ambiente (101.33) é maior que a pressão total de entrada do bocal (93.75), por isso retornou-se velocidade nula no bocal!!!\n",
      "WARNING: A pressão ambiente (101.33) é maior que a pressão total de entrada do bocal (93.79), por isso retornou-se velocidade nula no bocal!!!\n",
      "WARNING: A pressão ambiente (101.33) é maior que a pressão total de entrada do bocal (93.82), por isso retornou-se velocidade nula no bocal!!!\n",
      "WARNING: A pressão ambiente (101.33) é maior que a pressão total de entrada do bocal (93.86), por isso retornou-se velocidade nula no bocal!!!\n",
      "WARNING: A pressão ambiente (101.33) é maior que a pressão total de entrada do bocal (93.89), por isso retornou-se velocidade nula no bocal!!!\n",
      "WARNING: A pressão ambiente (101.33) é maior que a pressão total de entrada do bocal (93.93), por isso retornou-se velocidade nula no bocal!!!\n",
      "WARNING: A pressão ambiente (101.33) é maior que a pressão total de entrada do bocal (93.96), por isso retornou-se velocidade nula no bocal!!!\n",
      "WARNING: A pressão ambiente (101.33) é maior que a pressão total de entrada do bocal (94.00), por isso retornou-se velocidade nula no bocal!!!\n",
      "WARNING: A pressão ambiente (101.33) é maior que a pressão total de entrada do bocal (94.04), por isso retornou-se velocidade nula no bocal!!!\n",
      "WARNING: A pressão ambiente (101.33) é maior que a pressão total de entrada do bocal (94.07), por isso retornou-se velocidade nula no bocal!!!\n",
      "WARNING: A pressão ambiente (101.33) é maior que a pressão total de entrada do bocal (94.11), por isso retornou-se velocidade nula no bocal!!!\n",
      "WARNING: A pressão ambiente (101.33) é maior que a pressão total de entrada do bocal (94.14), por isso retornou-se velocidade nula no bocal!!!\n",
      "WARNING: A pressão ambiente (101.33) é maior que a pressão total de entrada do bocal (94.18), por isso retornou-se velocidade nula no bocal!!!\n",
      "WARNING: A pressão ambiente (101.33) é maior que a pressão total de entrada do bocal (94.22), por isso retornou-se velocidade nula no bocal!!!\n",
      "WARNING: A pressão ambiente (101.33) é maior que a pressão total de entrada do bocal (94.25), por isso retornou-se velocidade nula no bocal!!!\n",
      "WARNING: A pressão ambiente (101.33) é maior que a pressão total de entrada do bocal (94.29), por isso retornou-se velocidade nula no bocal!!!\n",
      "WARNING: A pressão ambiente (101.33) é maior que a pressão total de entrada do bocal (94.32), por isso retornou-se velocidade nula no bocal!!!\n",
      "WARNING: A pressão ambiente (101.33) é maior que a pressão total de entrada do bocal (94.36), por isso retornou-se velocidade nula no bocal!!!\n",
      "WARNING: A pressão ambiente (101.33) é maior que a pressão total de entrada do bocal (94.40), por isso retornou-se velocidade nula no bocal!!!\n",
      "WARNING: A pressão ambiente (101.33) é maior que a pressão total de entrada do bocal (94.43), por isso retornou-se velocidade nula no bocal!!!\n",
      "WARNING: A pressão ambiente (101.33) é maior que a pressão total de entrada do bocal (94.47), por isso retornou-se velocidade nula no bocal!!!\n",
      "WARNING: A pressão ambiente (101.33) é maior que a pressão total de entrada do bocal (94.50), por isso retornou-se velocidade nula no bocal!!!\n",
      "WARNING: A pressão ambiente (101.33) é maior que a pressão total de entrada do bocal (94.54), por isso retornou-se velocidade nula no bocal!!!\n",
      "WARNING: A pressão ambiente (101.33) é maior que a pressão total de entrada do bocal (94.58), por isso retornou-se velocidade nula no bocal!!!\n",
      "WARNING: A pressão ambiente (101.33) é maior que a pressão total de entrada do bocal (94.61), por isso retornou-se velocidade nula no bocal!!!\n",
      "WARNING: A pressão ambiente (101.33) é maior que a pressão total de entrada do bocal (94.65), por isso retornou-se velocidade nula no bocal!!!\n",
      "WARNING: A pressão ambiente (101.33) é maior que a pressão total de entrada do bocal (94.68), por isso retornou-se velocidade nula no bocal!!!\n",
      "WARNING: A pressão ambiente (101.33) é maior que a pressão total de entrada do bocal (94.72), por isso retornou-se velocidade nula no bocal!!!\n",
      "WARNING: A pressão ambiente (101.33) é maior que a pressão total de entrada do bocal (94.76), por isso retornou-se velocidade nula no bocal!!!\n",
      "WARNING: A pressão ambiente (101.33) é maior que a pressão total de entrada do bocal (94.79), por isso retornou-se velocidade nula no bocal!!!\n",
      "WARNING: A pressão ambiente (101.33) é maior que a pressão total de entrada do bocal (94.83), por isso retornou-se velocidade nula no bocal!!!\n",
      "WARNING: A pressão ambiente (101.33) é maior que a pressão total de entrada do bocal (94.86), por isso retornou-se velocidade nula no bocal!!!\n",
      "WARNING: A pressão ambiente (101.33) é maior que a pressão total de entrada do bocal (94.90), por isso retornou-se velocidade nula no bocal!!!\n",
      "WARNING: A pressão ambiente (101.33) é maior que a pressão total de entrada do bocal (94.94), por isso retornou-se velocidade nula no bocal!!!\n",
      "WARNING: A pressão ambiente (101.33) é maior que a pressão total de entrada do bocal (94.97), por isso retornou-se velocidade nula no bocal!!!\n",
      "WARNING: A pressão ambiente (101.33) é maior que a pressão total de entrada do bocal (95.01), por isso retornou-se velocidade nula no bocal!!!\n",
      "WARNING: A pressão ambiente (101.33) é maior que a pressão total de entrada do bocal (95.04), por isso retornou-se velocidade nula no bocal!!!\n",
      "WARNING: A pressão ambiente (101.33) é maior que a pressão total de entrada do bocal (95.08), por isso retornou-se velocidade nula no bocal!!!\n",
      "WARNING: A pressão ambiente (101.33) é maior que a pressão total de entrada do bocal (95.12), por isso retornou-se velocidade nula no bocal!!!\n",
      "WARNING: A pressão ambiente (101.33) é maior que a pressão total de entrada do bocal (95.15), por isso retornou-se velocidade nula no bocal!!!\n",
      "WARNING: A pressão ambiente (101.33) é maior que a pressão total de entrada do bocal (95.19), por isso retornou-se velocidade nula no bocal!!!\n",
      "WARNING: A pressão ambiente (101.33) é maior que a pressão total de entrada do bocal (95.22), por isso retornou-se velocidade nula no bocal!!!\n",
      "WARNING: A pressão ambiente (101.33) é maior que a pressão total de entrada do bocal (95.26), por isso retornou-se velocidade nula no bocal!!!\n",
      "WARNING: A pressão ambiente (101.33) é maior que a pressão total de entrada do bocal (95.30), por isso retornou-se velocidade nula no bocal!!!\n",
      "WARNING: A pressão ambiente (101.33) é maior que a pressão total de entrada do bocal (95.33), por isso retornou-se velocidade nula no bocal!!!\n",
      "WARNING: A pressão ambiente (101.33) é maior que a pressão total de entrada do bocal (95.37), por isso retornou-se velocidade nula no bocal!!!\n",
      "WARNING: A pressão ambiente (101.33) é maior que a pressão total de entrada do bocal (95.40), por isso retornou-se velocidade nula no bocal!!!\n",
      "WARNING: A pressão ambiente (101.33) é maior que a pressão total de entrada do bocal (95.44), por isso retornou-se velocidade nula no bocal!!!\n",
      "WARNING: A pressão ambiente (101.33) é maior que a pressão total de entrada do bocal (95.48), por isso retornou-se velocidade nula no bocal!!!\n",
      "WARNING: A pressão ambiente (101.33) é maior que a pressão total de entrada do bocal (95.51), por isso retornou-se velocidade nula no bocal!!!\n",
      "WARNING: A pressão ambiente (101.33) é maior que a pressão total de entrada do bocal (95.55), por isso retornou-se velocidade nula no bocal!!!\n",
      "WARNING: A pressão ambiente (101.33) é maior que a pressão total de entrada do bocal (95.58), por isso retornou-se velocidade nula no bocal!!!\n",
      "WARNING: A pressão ambiente (101.33) é maior que a pressão total de entrada do bocal (95.62), por isso retornou-se velocidade nula no bocal!!!\n",
      "WARNING: A pressão ambiente (101.33) é maior que a pressão total de entrada do bocal (95.66), por isso retornou-se velocidade nula no bocal!!!\n",
      "WARNING: A pressão ambiente (101.33) é maior que a pressão total de entrada do bocal (95.69), por isso retornou-se velocidade nula no bocal!!!\n",
      "WARNING: A pressão ambiente (101.33) é maior que a pressão total de entrada do bocal (95.73), por isso retornou-se velocidade nula no bocal!!!\n",
      "WARNING: A pressão ambiente (101.33) é maior que a pressão total de entrada do bocal (95.77), por isso retornou-se velocidade nula no bocal!!!\n",
      "WARNING: A pressão ambiente (101.33) é maior que a pressão total de entrada do bocal (95.80), por isso retornou-se velocidade nula no bocal!!!\n",
      "WARNING: A pressão ambiente (101.33) é maior que a pressão total de entrada do bocal (95.84), por isso retornou-se velocidade nula no bocal!!!\n",
      "WARNING: A pressão ambiente (101.33) é maior que a pressão total de entrada do bocal (95.87), por isso retornou-se velocidade nula no bocal!!!\n",
      "WARNING: A pressão ambiente (101.33) é maior que a pressão total de entrada do bocal (95.91), por isso retornou-se velocidade nula no bocal!!!\n",
      "WARNING: A pressão ambiente (101.33) é maior que a pressão total de entrada do bocal (95.95), por isso retornou-se velocidade nula no bocal!!!\n",
      "WARNING: A pressão ambiente (101.33) é maior que a pressão total de entrada do bocal (95.98), por isso retornou-se velocidade nula no bocal!!!\n",
      "WARNING: A pressão ambiente (101.33) é maior que a pressão total de entrada do bocal (96.02), por isso retornou-se velocidade nula no bocal!!!\n",
      "WARNING: A pressão ambiente (101.33) é maior que a pressão total de entrada do bocal (96.05), por isso retornou-se velocidade nula no bocal!!!\n",
      "WARNING: A pressão ambiente (101.33) é maior que a pressão total de entrada do bocal (96.09), por isso retornou-se velocidade nula no bocal!!!\n",
      "WARNING: A pressão ambiente (101.33) é maior que a pressão total de entrada do bocal (96.13), por isso retornou-se velocidade nula no bocal!!!\n",
      "WARNING: A pressão ambiente (101.33) é maior que a pressão total de entrada do bocal (96.16), por isso retornou-se velocidade nula no bocal!!!\n",
      "WARNING: A pressão ambiente (101.33) é maior que a pressão total de entrada do bocal (96.20), por isso retornou-se velocidade nula no bocal!!!\n",
      "WARNING: A pressão ambiente (101.33) é maior que a pressão total de entrada do bocal (96.24), por isso retornou-se velocidade nula no bocal!!!\n",
      "WARNING: A pressão ambiente (101.33) é maior que a pressão total de entrada do bocal (96.27), por isso retornou-se velocidade nula no bocal!!!\n",
      "WARNING: A pressão ambiente (101.33) é maior que a pressão total de entrada do bocal (96.31), por isso retornou-se velocidade nula no bocal!!!\n",
      "WARNING: A pressão ambiente (101.33) é maior que a pressão total de entrada do bocal (96.34), por isso retornou-se velocidade nula no bocal!!!\n",
      "WARNING: A pressão ambiente (101.33) é maior que a pressão total de entrada do bocal (96.38), por isso retornou-se velocidade nula no bocal!!!\n",
      "WARNING: A pressão ambiente (101.33) é maior que a pressão total de entrada do bocal (96.42), por isso retornou-se velocidade nula no bocal!!!\n",
      "WARNING: A pressão ambiente (101.33) é maior que a pressão total de entrada do bocal (96.45), por isso retornou-se velocidade nula no bocal!!!\n",
      "WARNING: A pressão ambiente (101.33) é maior que a pressão total de entrada do bocal (96.49), por isso retornou-se velocidade nula no bocal!!!\n",
      "WARNING: A pressão ambiente (101.33) é maior que a pressão total de entrada do bocal (96.53), por isso retornou-se velocidade nula no bocal!!!\n",
      "WARNING: A pressão ambiente (101.33) é maior que a pressão total de entrada do bocal (96.56), por isso retornou-se velocidade nula no bocal!!!\n",
      "WARNING: A pressão ambiente (101.33) é maior que a pressão total de entrada do bocal (96.60), por isso retornou-se velocidade nula no bocal!!!\n",
      "WARNING: A pressão ambiente (101.33) é maior que a pressão total de entrada do bocal (96.63), por isso retornou-se velocidade nula no bocal!!!\n",
      "WARNING: A pressão ambiente (101.33) é maior que a pressão total de entrada do bocal (96.67), por isso retornou-se velocidade nula no bocal!!!\n",
      "WARNING: A pressão ambiente (101.33) é maior que a pressão total de entrada do bocal (96.71), por isso retornou-se velocidade nula no bocal!!!\n",
      "WARNING: A pressão ambiente (101.33) é maior que a pressão total de entrada do bocal (96.74), por isso retornou-se velocidade nula no bocal!!!\n",
      "WARNING: A pressão ambiente (101.33) é maior que a pressão total de entrada do bocal (96.78), por isso retornou-se velocidade nula no bocal!!!\n",
      "WARNING: A pressão ambiente (101.33) é maior que a pressão total de entrada do bocal (96.82), por isso retornou-se velocidade nula no bocal!!!\n",
      "WARNING: A pressão ambiente (101.33) é maior que a pressão total de entrada do bocal (96.85), por isso retornou-se velocidade nula no bocal!!!\n",
      "WARNING: A pressão ambiente (101.33) é maior que a pressão total de entrada do bocal (96.89), por isso retornou-se velocidade nula no bocal!!!\n",
      "WARNING: A pressão ambiente (101.33) é maior que a pressão total de entrada do bocal (96.92), por isso retornou-se velocidade nula no bocal!!!\n",
      "WARNING: A pressão ambiente (101.33) é maior que a pressão total de entrada do bocal (96.96), por isso retornou-se velocidade nula no bocal!!!\n",
      "WARNING: A pressão ambiente (101.33) é maior que a pressão total de entrada do bocal (97.00), por isso retornou-se velocidade nula no bocal!!!\n",
      "WARNING: A pressão ambiente (101.33) é maior que a pressão total de entrada do bocal (97.03), por isso retornou-se velocidade nula no bocal!!!\n",
      "WARNING: A pressão ambiente (101.33) é maior que a pressão total de entrada do bocal (97.07), por isso retornou-se velocidade nula no bocal!!!\n",
      "WARNING: A pressão ambiente (101.33) é maior que a pressão total de entrada do bocal (97.11), por isso retornou-se velocidade nula no bocal!!!\n",
      "WARNING: A pressão ambiente (101.33) é maior que a pressão total de entrada do bocal (97.14), por isso retornou-se velocidade nula no bocal!!!\n",
      "WARNING: A pressão ambiente (101.33) é maior que a pressão total de entrada do bocal (97.18), por isso retornou-se velocidade nula no bocal!!!\n",
      "WARNING: A pressão ambiente (101.33) é maior que a pressão total de entrada do bocal (97.21), por isso retornou-se velocidade nula no bocal!!!\n",
      "WARNING: A pressão ambiente (101.33) é maior que a pressão total de entrada do bocal (97.25), por isso retornou-se velocidade nula no bocal!!!\n",
      "WARNING: A pressão ambiente (101.33) é maior que a pressão total de entrada do bocal (97.29), por isso retornou-se velocidade nula no bocal!!!\n",
      "WARNING: A pressão ambiente (101.33) é maior que a pressão total de entrada do bocal (97.32), por isso retornou-se velocidade nula no bocal!!!\n",
      "WARNING: A pressão ambiente (101.33) é maior que a pressão total de entrada do bocal (97.36), por isso retornou-se velocidade nula no bocal!!!\n",
      "WARNING: A pressão ambiente (101.33) é maior que a pressão total de entrada do bocal (97.40), por isso retornou-se velocidade nula no bocal!!!\n",
      "WARNING: A pressão ambiente (101.33) é maior que a pressão total de entrada do bocal (97.43), por isso retornou-se velocidade nula no bocal!!!\n",
      "WARNING: A pressão ambiente (101.33) é maior que a pressão total de entrada do bocal (97.47), por isso retornou-se velocidade nula no bocal!!!\n",
      "WARNING: A pressão ambiente (101.33) é maior que a pressão total de entrada do bocal (97.51), por isso retornou-se velocidade nula no bocal!!!\n",
      "WARNING: A pressão ambiente (101.33) é maior que a pressão total de entrada do bocal (97.54), por isso retornou-se velocidade nula no bocal!!!\n",
      "WARNING: A pressão ambiente (101.33) é maior que a pressão total de entrada do bocal (97.58), por isso retornou-se velocidade nula no bocal!!!\n",
      "WARNING: A pressão ambiente (101.33) é maior que a pressão total de entrada do bocal (97.62), por isso retornou-se velocidade nula no bocal!!!\n",
      "WARNING: A pressão ambiente (101.33) é maior que a pressão total de entrada do bocal (97.65), por isso retornou-se velocidade nula no bocal!!!\n",
      "WARNING: A pressão ambiente (101.33) é maior que a pressão total de entrada do bocal (97.69), por isso retornou-se velocidade nula no bocal!!!\n",
      "WARNING: A pressão ambiente (101.33) é maior que a pressão total de entrada do bocal (97.72), por isso retornou-se velocidade nula no bocal!!!\n",
      "WARNING: A pressão ambiente (101.33) é maior que a pressão total de entrada do bocal (97.76), por isso retornou-se velocidade nula no bocal!!!\n",
      "WARNING: A pressão ambiente (101.33) é maior que a pressão total de entrada do bocal (97.80), por isso retornou-se velocidade nula no bocal!!!\n",
      "WARNING: A pressão ambiente (101.33) é maior que a pressão total de entrada do bocal (97.83), por isso retornou-se velocidade nula no bocal!!!\n",
      "WARNING: A pressão ambiente (101.33) é maior que a pressão total de entrada do bocal (97.87), por isso retornou-se velocidade nula no bocal!!!\n",
      "WARNING: A pressão ambiente (101.33) é maior que a pressão total de entrada do bocal (97.91), por isso retornou-se velocidade nula no bocal!!!\n",
      "WARNING: A pressão ambiente (101.33) é maior que a pressão total de entrada do bocal (97.94), por isso retornou-se velocidade nula no bocal!!!\n",
      "WARNING: A pressão ambiente (101.33) é maior que a pressão total de entrada do bocal (97.98), por isso retornou-se velocidade nula no bocal!!!\n",
      "WARNING: A pressão ambiente (101.33) é maior que a pressão total de entrada do bocal (98.02), por isso retornou-se velocidade nula no bocal!!!\n",
      "WARNING: A pressão ambiente (101.33) é maior que a pressão total de entrada do bocal (98.05), por isso retornou-se velocidade nula no bocal!!!\n",
      "WARNING: A pressão ambiente (101.33) é maior que a pressão total de entrada do bocal (98.09), por isso retornou-se velocidade nula no bocal!!!\n",
      "WARNING: A pressão ambiente (101.33) é maior que a pressão total de entrada do bocal (98.13), por isso retornou-se velocidade nula no bocal!!!\n",
      "WARNING: A pressão ambiente (101.33) é maior que a pressão total de entrada do bocal (98.16), por isso retornou-se velocidade nula no bocal!!!\n",
      "WARNING: A pressão ambiente (101.33) é maior que a pressão total de entrada do bocal (98.20), por isso retornou-se velocidade nula no bocal!!!\n",
      "WARNING: A pressão ambiente (101.33) é maior que a pressão total de entrada do bocal (98.23), por isso retornou-se velocidade nula no bocal!!!\n",
      "WARNING: A pressão ambiente (101.33) é maior que a pressão total de entrada do bocal (98.27), por isso retornou-se velocidade nula no bocal!!!\n",
      "WARNING: A pressão ambiente (101.33) é maior que a pressão total de entrada do bocal (98.31), por isso retornou-se velocidade nula no bocal!!!\n",
      "WARNING: A pressão ambiente (101.33) é maior que a pressão total de entrada do bocal (98.34), por isso retornou-se velocidade nula no bocal!!!\n",
      "WARNING: A pressão ambiente (101.33) é maior que a pressão total de entrada do bocal (98.38), por isso retornou-se velocidade nula no bocal!!!\n",
      "WARNING: A pressão ambiente (101.33) é maior que a pressão total de entrada do bocal (98.42), por isso retornou-se velocidade nula no bocal!!!\n",
      "WARNING: A pressão ambiente (101.33) é maior que a pressão total de entrada do bocal (98.45), por isso retornou-se velocidade nula no bocal!!!\n",
      "WARNING: A pressão ambiente (101.33) é maior que a pressão total de entrada do bocal (98.49), por isso retornou-se velocidade nula no bocal!!!\n",
      "WARNING: A pressão ambiente (101.33) é maior que a pressão total de entrada do bocal (98.53), por isso retornou-se velocidade nula no bocal!!!\n",
      "WARNING: A pressão ambiente (101.33) é maior que a pressão total de entrada do bocal (98.56), por isso retornou-se velocidade nula no bocal!!!\n",
      "WARNING: A pressão ambiente (101.33) é maior que a pressão total de entrada do bocal (98.60), por isso retornou-se velocidade nula no bocal!!!\n",
      "WARNING: A pressão ambiente (101.33) é maior que a pressão total de entrada do bocal (98.64), por isso retornou-se velocidade nula no bocal!!!\n",
      "WARNING: A pressão ambiente (101.33) é maior que a pressão total de entrada do bocal (98.67), por isso retornou-se velocidade nula no bocal!!!\n",
      "WARNING: A pressão ambiente (101.33) é maior que a pressão total de entrada do bocal (98.71), por isso retornou-se velocidade nula no bocal!!!\n",
      "WARNING: A pressão ambiente (101.33) é maior que a pressão total de entrada do bocal (98.75), por isso retornou-se velocidade nula no bocal!!!\n",
      "WARNING: A pressão ambiente (101.33) é maior que a pressão total de entrada do bocal (98.78), por isso retornou-se velocidade nula no bocal!!!\n",
      "WARNING: A pressão ambiente (101.33) é maior que a pressão total de entrada do bocal (98.82), por isso retornou-se velocidade nula no bocal!!!\n",
      "WARNING: A pressão ambiente (101.33) é maior que a pressão total de entrada do bocal (98.86), por isso retornou-se velocidade nula no bocal!!!\n",
      "WARNING: A pressão ambiente (101.33) é maior que a pressão total de entrada do bocal (98.89), por isso retornou-se velocidade nula no bocal!!!\n",
      "WARNING: A pressão ambiente (101.33) é maior que a pressão total de entrada do bocal (98.93), por isso retornou-se velocidade nula no bocal!!!\n",
      "WARNING: A pressão ambiente (101.33) é maior que a pressão total de entrada do bocal (98.97), por isso retornou-se velocidade nula no bocal!!!\n",
      "WARNING: A pressão ambiente (101.33) é maior que a pressão total de entrada do bocal (99.00), por isso retornou-se velocidade nula no bocal!!!\n",
      "WARNING: A pressão ambiente (101.33) é maior que a pressão total de entrada do bocal (99.04), por isso retornou-se velocidade nula no bocal!!!\n",
      "WARNING: A pressão ambiente (101.33) é maior que a pressão total de entrada do bocal (99.08), por isso retornou-se velocidade nula no bocal!!!\n",
      "WARNING: A pressão ambiente (101.33) é maior que a pressão total de entrada do bocal (99.11), por isso retornou-se velocidade nula no bocal!!!\n",
      "WARNING: A pressão ambiente (101.33) é maior que a pressão total de entrada do bocal (99.15), por isso retornou-se velocidade nula no bocal!!!\n",
      "WARNING: A pressão ambiente (101.33) é maior que a pressão total de entrada do bocal (99.19), por isso retornou-se velocidade nula no bocal!!!\n",
      "WARNING: A pressão ambiente (101.33) é maior que a pressão total de entrada do bocal (99.22), por isso retornou-se velocidade nula no bocal!!!\n",
      "WARNING: A pressão ambiente (101.33) é maior que a pressão total de entrada do bocal (99.26), por isso retornou-se velocidade nula no bocal!!!\n",
      "WARNING: A pressão ambiente (101.33) é maior que a pressão total de entrada do bocal (99.30), por isso retornou-se velocidade nula no bocal!!!\n",
      "WARNING: A pressão ambiente (101.33) é maior que a pressão total de entrada do bocal (99.33), por isso retornou-se velocidade nula no bocal!!!\n",
      "WARNING: A pressão ambiente (101.33) é maior que a pressão total de entrada do bocal (99.37), por isso retornou-se velocidade nula no bocal!!!\n",
      "WARNING: A pressão ambiente (101.33) é maior que a pressão total de entrada do bocal (99.41), por isso retornou-se velocidade nula no bocal!!!\n",
      "WARNING: A pressão ambiente (101.33) é maior que a pressão total de entrada do bocal (99.44), por isso retornou-se velocidade nula no bocal!!!\n",
      "WARNING: A pressão ambiente (101.33) é maior que a pressão total de entrada do bocal (99.48), por isso retornou-se velocidade nula no bocal!!!\n",
      "WARNING: A pressão ambiente (101.33) é maior que a pressão total de entrada do bocal (99.52), por isso retornou-se velocidade nula no bocal!!!\n",
      "WARNING: A pressão ambiente (101.33) é maior que a pressão total de entrada do bocal (99.55), por isso retornou-se velocidade nula no bocal!!!\n",
      "WARNING: A pressão ambiente (101.33) é maior que a pressão total de entrada do bocal (99.59), por isso retornou-se velocidade nula no bocal!!!\n",
      "WARNING: A pressão ambiente (101.33) é maior que a pressão total de entrada do bocal (99.63), por isso retornou-se velocidade nula no bocal!!!\n",
      "WARNING: A pressão ambiente (101.33) é maior que a pressão total de entrada do bocal (99.66), por isso retornou-se velocidade nula no bocal!!!\n",
      "WARNING: A pressão ambiente (101.33) é maior que a pressão total de entrada do bocal (99.70), por isso retornou-se velocidade nula no bocal!!!\n",
      "WARNING: A pressão ambiente (101.33) é maior que a pressão total de entrada do bocal (99.74), por isso retornou-se velocidade nula no bocal!!!\n",
      "WARNING: A pressão ambiente (101.33) é maior que a pressão total de entrada do bocal (99.77), por isso retornou-se velocidade nula no bocal!!!\n",
      "WARNING: A pressão ambiente (101.33) é maior que a pressão total de entrada do bocal (99.81), por isso retornou-se velocidade nula no bocal!!!\n",
      "WARNING: A pressão ambiente (101.33) é maior que a pressão total de entrada do bocal (99.85), por isso retornou-se velocidade nula no bocal!!!\n",
      "WARNING: A pressão ambiente (101.33) é maior que a pressão total de entrada do bocal (99.88), por isso retornou-se velocidade nula no bocal!!!\n",
      "WARNING: A pressão ambiente (101.33) é maior que a pressão total de entrada do bocal (99.92), por isso retornou-se velocidade nula no bocal!!!\n",
      "WARNING: A pressão ambiente (101.33) é maior que a pressão total de entrada do bocal (99.96), por isso retornou-se velocidade nula no bocal!!!\n",
      "WARNING: A pressão ambiente (101.33) é maior que a pressão total de entrada do bocal (99.99), por isso retornou-se velocidade nula no bocal!!!\n",
      "WARNING: A pressão ambiente (101.33) é maior que a pressão total de entrada do bocal (100.03), por isso retornou-se velocidade nula no bocal!!!\n",
      "WARNING: A pressão ambiente (101.33) é maior que a pressão total de entrada do bocal (100.07), por isso retornou-se velocidade nula no bocal!!!\n",
      "WARNING: A pressão ambiente (101.33) é maior que a pressão total de entrada do bocal (100.10), por isso retornou-se velocidade nula no bocal!!!\n",
      "WARNING: A pressão ambiente (101.33) é maior que a pressão total de entrada do bocal (100.14), por isso retornou-se velocidade nula no bocal!!!\n",
      "WARNING: A pressão ambiente (101.33) é maior que a pressão total de entrada do bocal (100.18), por isso retornou-se velocidade nula no bocal!!!\n",
      "WARNING: A pressão ambiente (101.33) é maior que a pressão total de entrada do bocal (100.21), por isso retornou-se velocidade nula no bocal!!!\n",
      "WARNING: A pressão ambiente (101.33) é maior que a pressão total de entrada do bocal (100.25), por isso retornou-se velocidade nula no bocal!!!\n",
      "WARNING: A pressão ambiente (101.33) é maior que a pressão total de entrada do bocal (100.29), por isso retornou-se velocidade nula no bocal!!!\n",
      "WARNING: A pressão ambiente (101.33) é maior que a pressão total de entrada do bocal (100.32), por isso retornou-se velocidade nula no bocal!!!\n",
      "WARNING: A pressão ambiente (101.33) é maior que a pressão total de entrada do bocal (100.36), por isso retornou-se velocidade nula no bocal!!!\n",
      "WARNING: A pressão ambiente (101.33) é maior que a pressão total de entrada do bocal (100.40), por isso retornou-se velocidade nula no bocal!!!\n",
      "WARNING: A pressão ambiente (101.33) é maior que a pressão total de entrada do bocal (100.43), por isso retornou-se velocidade nula no bocal!!!\n",
      "WARNING: A pressão ambiente (101.33) é maior que a pressão total de entrada do bocal (100.47), por isso retornou-se velocidade nula no bocal!!!\n",
      "WARNING: A pressão ambiente (101.33) é maior que a pressão total de entrada do bocal (100.51), por isso retornou-se velocidade nula no bocal!!!\n",
      "WARNING: A pressão ambiente (101.33) é maior que a pressão total de entrada do bocal (100.54), por isso retornou-se velocidade nula no bocal!!!\n",
      "WARNING: A pressão ambiente (101.33) é maior que a pressão total de entrada do bocal (100.58), por isso retornou-se velocidade nula no bocal!!!\n",
      "WARNING: A pressão ambiente (101.33) é maior que a pressão total de entrada do bocal (100.62), por isso retornou-se velocidade nula no bocal!!!\n",
      "WARNING: A pressão ambiente (101.33) é maior que a pressão total de entrada do bocal (100.65), por isso retornou-se velocidade nula no bocal!!!\n",
      "WARNING: A pressão ambiente (101.33) é maior que a pressão total de entrada do bocal (100.69), por isso retornou-se velocidade nula no bocal!!!\n",
      "WARNING: A pressão ambiente (101.33) é maior que a pressão total de entrada do bocal (100.73), por isso retornou-se velocidade nula no bocal!!!\n",
      "WARNING: A pressão ambiente (101.33) é maior que a pressão total de entrada do bocal (100.77), por isso retornou-se velocidade nula no bocal!!!\n",
      "WARNING: A pressão ambiente (101.33) é maior que a pressão total de entrada do bocal (100.80), por isso retornou-se velocidade nula no bocal!!!\n",
      "WARNING: A pressão ambiente (101.33) é maior que a pressão total de entrada do bocal (100.84), por isso retornou-se velocidade nula no bocal!!!\n",
      "WARNING: A pressão ambiente (101.33) é maior que a pressão total de entrada do bocal (100.88), por isso retornou-se velocidade nula no bocal!!!\n",
      "WARNING: A pressão ambiente (101.33) é maior que a pressão total de entrada do bocal (100.91), por isso retornou-se velocidade nula no bocal!!!\n",
      "WARNING: A pressão ambiente (101.33) é maior que a pressão total de entrada do bocal (100.95), por isso retornou-se velocidade nula no bocal!!!\n",
      "WARNING: A pressão ambiente (101.33) é maior que a pressão total de entrada do bocal (100.99), por isso retornou-se velocidade nula no bocal!!!\n",
      "WARNING: A pressão ambiente (101.33) é maior que a pressão total de entrada do bocal (101.02), por isso retornou-se velocidade nula no bocal!!!\n",
      "WARNING: A pressão ambiente (101.33) é maior que a pressão total de entrada do bocal (101.06), por isso retornou-se velocidade nula no bocal!!!\n",
      "WARNING: A pressão ambiente (101.33) é maior que a pressão total de entrada do bocal (101.10), por isso retornou-se velocidade nula no bocal!!!\n",
      "WARNING: A pressão ambiente (101.33) é maior que a pressão total de entrada do bocal (101.13), por isso retornou-se velocidade nula no bocal!!!\n",
      "WARNING: A pressão ambiente (101.33) é maior que a pressão total de entrada do bocal (101.17), por isso retornou-se velocidade nula no bocal!!!\n",
      "WARNING: A pressão ambiente (101.33) é maior que a pressão total de entrada do bocal (101.21), por isso retornou-se velocidade nula no bocal!!!\n",
      "WARNING: A pressão ambiente (101.33) é maior que a pressão total de entrada do bocal (101.24), por isso retornou-se velocidade nula no bocal!!!\n",
      "WARNING: A pressão ambiente (101.33) é maior que a pressão total de entrada do bocal (101.28), por isso retornou-se velocidade nula no bocal!!!\n",
      "WARNING: A pressão ambiente (101.33) é maior que a pressão total de entrada do bocal (101.32), por isso retornou-se velocidade nula no bocal!!!\n"
     ]
    },
    {
     "data": {
      "application/vnd.plotly.v1+json": {
       "data": [
        {
         "hovertemplate": "T04 (K)=%{x}<br>TSFC (kg/s/kN)=%{y}<extra></extra>",
         "legendgroup": "",
         "line": {
          "color": "#636efa",
          "dash": "solid"
         },
         "marker": {
          "symbol": "circle"
         },
         "mode": "lines",
         "name": "",
         "showlegend": false,
         "x": {
          "dtype": "f8",
          "bdata": "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"
         },
         "xaxis": "x",
         "y": {
          "dtype": "f8",
          "bdata": "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"
         },
         "yaxis": "y",
         "type": "scattergl"
        }
       ],
       "layout": {
        "template": {
         "data": {
          "histogram2dcontour": [
           {
            "type": "histogram2dcontour",
            "colorbar": {
             "outlinewidth": 0,
             "ticks": ""
            },
            "colorscale": [
             [
              0.0,
              "#0d0887"
             ],
             [
              0.1111111111111111,
              "#46039f"
             ],
             [
              0.2222222222222222,
              "#7201a8"
             ],
             [
              0.3333333333333333,
              "#9c179e"
             ],
             [
              0.4444444444444444,
              "#bd3786"
             ],
             [
              0.5555555555555556,
              "#d8576b"
             ],
             [
              0.6666666666666666,
              "#ed7953"
             ],
             [
              0.7777777777777778,
              "#fb9f3a"
             ],
             [
              0.8888888888888888,
              "#fdca26"
             ],
             [
              1.0,
              "#f0f921"
             ]
            ]
           }
          ],
          "choropleth": [
           {
            "type": "choropleth",
            "colorbar": {
             "outlinewidth": 0,
             "ticks": ""
            }
           }
          ],
          "histogram2d": [
           {
            "type": "histogram2d",
            "colorbar": {
             "outlinewidth": 0,
             "ticks": ""
            },
            "colorscale": [
             [
              0.0,
              "#0d0887"
             ],
             [
              0.1111111111111111,
              "#46039f"
             ],
             [
              0.2222222222222222,
              "#7201a8"
             ],
             [
              0.3333333333333333,
              "#9c179e"
             ],
             [
              0.4444444444444444,
              "#bd3786"
             ],
             [
              0.5555555555555556,
              "#d8576b"
             ],
             [
              0.6666666666666666,
              "#ed7953"
             ],
             [
              0.7777777777777778,
              "#fb9f3a"
             ],
             [
              0.8888888888888888,
              "#fdca26"
             ],
             [
              1.0,
              "#f0f921"
             ]
            ]
           }
          ],
          "heatmap": [
           {
            "type": "heatmap",
            "colorbar": {
             "outlinewidth": 0,
             "ticks": ""
            },
            "colorscale": [
             [
              0.0,
              "#0d0887"
             ],
             [
              0.1111111111111111,
              "#46039f"
             ],
             [
              0.2222222222222222,
              "#7201a8"
             ],
             [
              0.3333333333333333,
              "#9c179e"
             ],
             [
              0.4444444444444444,
              "#bd3786"
             ],
             [
              0.5555555555555556,
              "#d8576b"
             ],
             [
              0.6666666666666666,
              "#ed7953"
             ],
             [
              0.7777777777777778,
              "#fb9f3a"
             ],
             [
              0.8888888888888888,
              "#fdca26"
             ],
             [
              1.0,
              "#f0f921"
             ]
            ]
           }
          ],
          "contourcarpet": [
           {
            "type": "contourcarpet",
            "colorbar": {
             "outlinewidth": 0,
             "ticks": ""
            }
           }
          ],
          "contour": [
           {
            "type": "contour",
            "colorbar": {
             "outlinewidth": 0,
             "ticks": ""
            },
            "colorscale": [
             [
              0.0,
              "#0d0887"
             ],
             [
              0.1111111111111111,
              "#46039f"
             ],
             [
              0.2222222222222222,
              "#7201a8"
             ],
             [
              0.3333333333333333,
              "#9c179e"
             ],
             [
              0.4444444444444444,
              "#bd3786"
             ],
             [
              0.5555555555555556,
              "#d8576b"
             ],
             [
              0.6666666666666666,
              "#ed7953"
             ],
             [
              0.7777777777777778,
              "#fb9f3a"
             ],
             [
              0.8888888888888888,
              "#fdca26"
             ],
             [
              1.0,
              "#f0f921"
             ]
            ]
           }
          ],
          "surface": [
           {
            "type": "surface",
            "colorbar": {
             "outlinewidth": 0,
             "ticks": ""
            },
            "colorscale": [
             [
              0.0,
              "#0d0887"
             ],
             [
              0.1111111111111111,
              "#46039f"
             ],
             [
              0.2222222222222222,
              "#7201a8"
             ],
             [
              0.3333333333333333,
              "#9c179e"
             ],
             [
              0.4444444444444444,
              "#bd3786"
             ],
             [
              0.5555555555555556,
              "#d8576b"
             ],
             [
              0.6666666666666666,
              "#ed7953"
             ],
             [
              0.7777777777777778,
              "#fb9f3a"
             ],
             [
              0.8888888888888888,
              "#fdca26"
             ],
             [
              1.0,
              "#f0f921"
             ]
            ]
           }
          ],
          "mesh3d": [
           {
            "type": "mesh3d",
            "colorbar": {
             "outlinewidth": 0,
             "ticks": ""
            }
           }
          ],
          "scatter": [
           {
            "fillpattern": {
             "fillmode": "overlay",
             "size": 10,
             "solidity": 0.2
            },
            "type": "scatter"
           }
          ],
          "parcoords": [
           {
            "type": "parcoords",
            "line": {
             "colorbar": {
              "outlinewidth": 0,
              "ticks": ""
             }
            }
           }
          ],
          "scatterpolargl": [
           {
            "type": "scatterpolargl",
            "marker": {
             "colorbar": {
              "outlinewidth": 0,
              "ticks": ""
             }
            }
           }
          ],
          "bar": [
           {
            "error_x": {
             "color": "#2a3f5f"
            },
            "error_y": {
             "color": "#2a3f5f"
            },
            "marker": {
             "line": {
              "color": "#E5ECF6",
              "width": 0.5
             },
             "pattern": {
              "fillmode": "overlay",
              "size": 10,
              "solidity": 0.2
             }
            },
            "type": "bar"
           }
          ],
          "scattergeo": [
           {
            "type": "scattergeo",
            "marker": {
             "colorbar": {
              "outlinewidth": 0,
              "ticks": ""
             }
            }
           }
          ],
          "scatterpolar": [
           {
            "type": "scatterpolar",
            "marker": {
             "colorbar": {
              "outlinewidth": 0,
              "ticks": ""
             }
            }
           }
          ],
          "histogram": [
           {
            "marker": {
             "pattern": {
              "fillmode": "overlay",
              "size": 10,
              "solidity": 0.2
             }
            },
            "type": "histogram"
           }
          ],
          "scattergl": [
           {
            "type": "scattergl",
            "marker": {
             "colorbar": {
              "outlinewidth": 0,
              "ticks": ""
             }
            }
           }
          ],
          "scatter3d": [
           {
            "type": "scatter3d",
            "line": {
             "colorbar": {
              "outlinewidth": 0,
              "ticks": ""
             }
            },
            "marker": {
             "colorbar": {
              "outlinewidth": 0,
              "ticks": ""
             }
            }
           }
          ],
          "scattermap": [
           {
            "type": "scattermap",
            "marker": {
             "colorbar": {
              "outlinewidth": 0,
              "ticks": ""
             }
            }
           }
          ],
          "scattermapbox": [
           {
            "type": "scattermapbox",
            "marker": {
             "colorbar": {
              "outlinewidth": 0,
              "ticks": ""
             }
            }
           }
          ],
          "scatterternary": [
           {
            "type": "scatterternary",
            "marker": {
             "colorbar": {
              "outlinewidth": 0,
              "ticks": ""
             }
            }
           }
          ],
          "scattercarpet": [
           {
            "type": "scattercarpet",
            "marker": {
             "colorbar": {
              "outlinewidth": 0,
              "ticks": ""
             }
            }
           }
          ],
          "carpet": [
           {
            "aaxis": {
             "endlinecolor": "#2a3f5f",
             "gridcolor": "white",
             "linecolor": "white",
             "minorgridcolor": "white",
             "startlinecolor": "#2a3f5f"
            },
            "baxis": {
             "endlinecolor": "#2a3f5f",
             "gridcolor": "white",
             "linecolor": "white",
             "minorgridcolor": "white",
             "startlinecolor": "#2a3f5f"
            },
            "type": "carpet"
           }
          ],
          "table": [
           {
            "cells": {
             "fill": {
              "color": "#EBF0F8"
             },
             "line": {
              "color": "white"
             }
            },
            "header": {
             "fill": {
              "color": "#C8D4E3"
             },
             "line": {
              "color": "white"
             }
            },
            "type": "table"
           }
          ],
          "barpolar": [
           {
            "marker": {
             "line": {
              "color": "#E5ECF6",
              "width": 0.5
             },
             "pattern": {
              "fillmode": "overlay",
              "size": 10,
              "solidity": 0.2
             }
            },
            "type": "barpolar"
           }
          ],
          "pie": [
           {
            "automargin": true,
            "type": "pie"
           }
          ]
         },
         "layout": {
          "autotypenumbers": "strict",
          "colorway": [
           "#636efa",
           "#EF553B",
           "#00cc96",
           "#ab63fa",
           "#FFA15A",
           "#19d3f3",
           "#FF6692",
           "#B6E880",
           "#FF97FF",
           "#FECB52"
          ],
          "font": {
           "color": "#2a3f5f"
          },
          "hovermode": "closest",
          "hoverlabel": {
           "align": "left"
          },
          "paper_bgcolor": "white",
          "plot_bgcolor": "#E5ECF6",
          "polar": {
           "bgcolor": "#E5ECF6",
           "angularaxis": {
            "gridcolor": "white",
            "linecolor": "white",
            "ticks": ""
           },
           "radialaxis": {
            "gridcolor": "white",
            "linecolor": "white",
            "ticks": ""
           }
          },
          "ternary": {
           "bgcolor": "#E5ECF6",
           "aaxis": {
            "gridcolor": "white",
            "linecolor": "white",
            "ticks": ""
           },
           "baxis": {
            "gridcolor": "white",
            "linecolor": "white",
            "ticks": ""
           },
           "caxis": {
            "gridcolor": "white",
            "linecolor": "white",
            "ticks": ""
           }
          },
          "coloraxis": {
           "colorbar": {
            "outlinewidth": 0,
            "ticks": ""
           }
          },
          "colorscale": {
           "sequential": [
            [
             0.0,
             "#0d0887"
            ],
            [
             0.1111111111111111,
             "#46039f"
            ],
            [
             0.2222222222222222,
             "#7201a8"
            ],
            [
             0.3333333333333333,
             "#9c179e"
            ],
            [
             0.4444444444444444,
             "#bd3786"
            ],
            [
             0.5555555555555556,
             "#d8576b"
            ],
            [
             0.6666666666666666,
             "#ed7953"
            ],
            [
             0.7777777777777778,
             "#fb9f3a"
            ],
            [
             0.8888888888888888,
             "#fdca26"
            ],
            [
             1.0,
             "#f0f921"
            ]
           ],
           "sequentialminus": [
            [
             0.0,
             "#0d0887"
            ],
            [
             0.1111111111111111,
             "#46039f"
            ],
            [
             0.2222222222222222,
             "#7201a8"
            ],
            [
             0.3333333333333333,
             "#9c179e"
            ],
            [
             0.4444444444444444,
             "#bd3786"
            ],
            [
             0.5555555555555556,
             "#d8576b"
            ],
            [
             0.6666666666666666,
             "#ed7953"
            ],
            [
             0.7777777777777778,
             "#fb9f3a"
            ],
            [
             0.8888888888888888,
             "#fdca26"
            ],
            [
             1.0,
             "#f0f921"
            ]
           ],
           "diverging": [
            [
             0,
             "#8e0152"
            ],
            [
             0.1,
             "#c51b7d"
            ],
            [
             0.2,
             "#de77ae"
            ],
            [
             0.3,
             "#f1b6da"
            ],
            [
             0.4,
             "#fde0ef"
            ],
            [
             0.5,
             "#f7f7f7"
            ],
            [
             0.6,
             "#e6f5d0"
            ],
            [
             0.7,
             "#b8e186"
            ],
            [
             0.8,
             "#7fbc41"
            ],
            [
             0.9,
             "#4d9221"
            ],
            [
             1,
             "#276419"
            ]
           ]
          },
          "xaxis": {
           "gridcolor": "white",
           "linecolor": "white",
           "ticks": "",
           "title": {
            "standoff": 15
           },
           "zerolinecolor": "white",
           "automargin": true,
           "zerolinewidth": 2
          },
          "yaxis": {
           "gridcolor": "white",
           "linecolor": "white",
           "ticks": "",
           "title": {
            "standoff": 15
           },
           "zerolinecolor": "white",
           "automargin": true,
           "zerolinewidth": 2
          },
          "scene": {
           "xaxis": {
            "backgroundcolor": "#E5ECF6",
            "gridcolor": "white",
            "linecolor": "white",
            "showbackground": true,
            "ticks": "",
            "zerolinecolor": "white",
            "gridwidth": 2
           },
           "yaxis": {
            "backgroundcolor": "#E5ECF6",
            "gridcolor": "white",
            "linecolor": "white",
            "showbackground": true,
            "ticks": "",
            "zerolinecolor": "white",
            "gridwidth": 2
           },
           "zaxis": {
            "backgroundcolor": "#E5ECF6",
            "gridcolor": "white",
            "linecolor": "white",
            "showbackground": true,
            "ticks": "",
            "zerolinecolor": "white",
            "gridwidth": 2
           }
          },
          "shapedefaults": {
           "line": {
            "color": "#2a3f5f"
           }
          },
          "annotationdefaults": {
           "arrowcolor": "#2a3f5f",
           "arrowhead": 0,
           "arrowwidth": 1
          },
          "geo": {
           "bgcolor": "white",
           "landcolor": "#E5ECF6",
           "subunitcolor": "white",
           "showland": true,
           "showlakes": true,
           "lakecolor": "white"
          },
          "title": {
           "x": 0.05
          },
          "mapbox": {
           "style": "light"
          }
         }
        },
        "xaxis": {
         "anchor": "y",
         "domain": [
          0.0,
          1.0
         ],
         "title": {
          "text": "Temperatura de Entrada da Turbina (T04)"
         }
        },
        "yaxis": {
         "anchor": "x",
         "domain": [
          0.0,
          1.0
         ],
         "title": {
          "text": "Consumo Específico (TSFC)"
         }
        },
        "legend": {
         "tracegroupgap": 0
        },
        "title": {
         "text": "Análise da Relação TSFC vs. T04"
        },
        "shapes": [
         {
          "line": {
           "dash": "dash"
          },
          "type": "line",
          "x0": 0,
          "x1": 1,
          "xref": "x domain",
          "y0": 0.010650741350906094,
          "y1": 0.010650741350906094,
          "yref": "y"
         }
        ],
        "annotations": [
         {
          "showarrow": false,
          "text": "TSFC Alvo",
          "x": 1,
          "xanchor": "right",
          "xref": "x domain",
          "y": 0.010650741350906094,
          "yanchor": "top",
          "yref": "y"
         }
        ]
       },
       "config": {
        "plotlyServerURL": "https://plot.ly"
       }
      }
     },
     "metadata": {},
     "output_type": "display_data"
    },
    {
     "data": {
      "text/plain": [
       "{'success': True,\n",
       " 'stage_sequence': ['tsfc_then_thrust'],\n",
       " 'message_t04': 'Solution found.',\n",
       " 'message_mdot': 'Solution found.',\n",
       " 'optimal_t04': 1556.359,\n",
       " 'optimal_mass_flow_rate': 401.035,\n",
       " 'final_thrust_kN': 121.4,\n",
       " 'final_tsfc': 0.01065}"
      ]
     },
     "execution_count": 41,
     "metadata": {},
     "output_type": "execute_result"
    }
   ],
   "execution_count": 41
  },
  {
   "metadata": {
    "ExecuteTime": {
     "end_time": "2025-10-13T01:46:06.560628Z",
     "start_time": "2025-10-13T01:46:06.553176Z"
    }
   },
   "cell_type": "code",
   "source": "turbofan.update_environment(mach=0.0, percentage_of_rated_thrust=1.0)",
   "id": "c531d39690c9c571",
   "outputs": [
    {
     "name": "stdout",
     "output_type": "stream",
     "text": [
      "WARNING: A pressão ambiente (101.33) é maior que a pressão total de entrada do bocal (90.59), por isso retornou-se velocidade nula no bocal!!!\n",
      "Aviso: A otimização de N2 não convergiu suficientemente. Erro final: 0.0000\n",
      "Voltando N2 para 100% do valor de projeto.\n"
     ]
    }
   ],
   "execution_count": 53
  },
  {
   "metadata": {
    "ExecuteTime": {
     "end_time": "2025-10-13T01:46:07.741663Z",
     "start_time": "2025-10-13T01:46:07.736882Z"
    }
   },
   "cell_type": "code",
   "source": "turbofan.print_outputs()",
   "id": "a3c2eb7dcb3b337e",
   "outputs": [
    {
     "name": "stdout",
     "output_type": "stream",
     "text": [
      "--- Resultados da Simulação do Motor ---\n",
      "\n",
      "[ Estações do Motor ]\n",
      "Estação         | Temp. Total (K)      | Pressão Total (kPa) \n",
      "-------------------------------------------------------------\n",
      "2 (Inlet)       | 288.150              | 101.330             \n",
      "8 (Fan)         | 329.787              | 151.995             \n",
      "3 (Compressor)  | 802.213              | 2901.083            \n",
      "4 (Câmara)      | 1556.359             | 2901.083            \n",
      "5 (Turbina Comp.) | 1083.934             | 552.695             \n",
      "6 (Turbina Fan) | 834.109              | 167.756             \n",
      "\n",
      "[ Velocidades de Saída ]\n",
      "Velocidade de Voo (u_0)         : 0.000 m/s\n",
      "Velocidade Bocal Quente (u_core): 471.633 m/s\n",
      "Velocidade Bocal Frio (u_fan)   : 267.108 m/s\n",
      "\n",
      "[ Performance Geral ]\n",
      "Razão Combustível/Ar (f)        : 0.01934\n",
      "Empuxo Específico               : 1.81630 kN.s/kg\n",
      "Consumo Específico (TSFC)       : 0.01065 kg/(kN.s)\n",
      "N2                                 : 0.992\n",
      "N1                                 : 1.000\n",
      "Empuxo Total                    : 121.400 kN\n",
      "Consumo de Combustível          : 1.293 kg/s\n",
      "\n",
      "-------------------------------------------------------------\n"
     ]
    }
   ],
   "execution_count": 54
  },
  {
   "metadata": {
    "ExecuteTime": {
     "end_time": "2025-10-13T01:46:02.421754Z",
     "start_time": "2025-10-13T01:46:02.414265Z"
    }
   },
   "cell_type": "code",
   "source": "turbofan.N2_ratio",
   "id": "a6a48de9e68181c4",
   "outputs": [
    {
     "data": {
      "text/plain": [
       "0.9922637694848851"
      ]
     },
     "execution_count": 52,
     "metadata": {},
     "output_type": "execute_result"
    }
   ],
   "execution_count": 52
  },
  {
   "metadata": {},
   "cell_type": "markdown",
   "source": "### Turbofan fora do ponto de projeto",
   "id": "fa771276a2625511"
  },
  {
   "metadata": {
    "ExecuteTime": {
     "end_time": "2025-08-30T21:29:28.455638Z",
     "start_time": "2025-08-30T21:29:28.453086Z"
    }
   },
   "cell_type": "markdown",
   "source": "Agora vamos validar como o meta-modelo atua fora do ponto de projeto, confrontando os dados da simulação com os dados reais do motor, obtidos via ICAO.",
   "id": "d199b9ad7f4d24fb"
  },
  {
   "metadata": {
    "ExecuteTime": {
     "end_time": "2025-10-13T01:35:46.249660Z",
     "start_time": "2025-10-13T01:35:46.246229Z"
    }
   },
   "cell_type": "code",
   "source": [
    "turbofan = Turbofan(config_ex23)\n",
    "turbofan.set_sea_level_air_flow(756)\n",
    "# turbofan.print_outputs()"
   ],
   "id": "74c018aeebb0e56e",
   "outputs": [],
   "execution_count": 9
  },
  {
   "metadata": {
    "ExecuteTime": {
     "end_time": "2025-10-13T01:35:46.279051Z",
     "start_time": "2025-10-13T01:35:46.274781Z"
    }
   },
   "cell_type": "code",
   "source": [
    "turbofan.save_design_point()\n",
    "turbofan.update_from_N2(0.8)\n",
    "# turbofan.print_config()\n",
    "turbofan.print_outputs()"
   ],
   "id": "8c34c2fd25f7efbc",
   "outputs": [
    {
     "name": "stdout",
     "output_type": "stream",
     "text": [
      "Salvando ponto de projeto...\n",
      "--- Resultados da Simulação do Motor ---\n",
      "\n",
      "[ Estações do Motor ]\n",
      "Estação         | Temp. Total (K)      | Pressão Total (kPa) \n",
      "-------------------------------------------------------------\n",
      "2 (Inlet)       | 290.000              | 101.630             \n",
      "8 (Fan)         | 320.210              | 140.796             \n",
      "3 (Compressor)  | 646.831              | 1535.262            \n",
      "4 (Câmara)      | 1166.823             | 1458.499            \n",
      "5 (Turbina Comp.) | 840.202              | 341.086             \n",
      "6 (Turbina Fan) | 666.524              | 118.687             \n",
      "\n",
      "[ Velocidades de Saída ]\n",
      "Velocidade de Voo (u_0)         : 0.000 m/s\n",
      "Velocidade Bocal Quente (u_core): 239.269 m/s\n",
      "Velocidade Bocal Frio (u_fan)   : 237.314 m/s\n",
      "\n",
      "[ Performance Geral ]\n",
      "Razão Combustível/Ar (f)        : 0.01325\n",
      "Empuxo Específico               : 1.67076 kN.s/kg\n",
      "Consumo Específico (TSFC)       : 0.00793 kg/(kN.s)\n",
      "N2                                 : 0.800\n",
      "N1                                 : 0.729\n",
      "Empuxo Total                    : 105.391 kN\n",
      "Consumo de Combustível          : 0.836 kg/s\n",
      "\n",
      "-------------------------------------------------------------\n"
     ]
    }
   ],
   "execution_count": 10
  },
  {
   "metadata": {
    "ExecuteTime": {
     "end_time": "2025-10-13T01:35:46.795087Z",
     "start_time": "2025-10-13T01:35:46.295108Z"
    }
   },
   "cell_type": "code",
   "source": [
    "var_and_unit = {\n",
    "    \"N1\": \"\",\n",
    "    \"thrust\": \"kN\",\n",
    "    \"tsfc\": \"kg/(kN.s)\",\n",
    "    \"prf\": \"\",\n",
    "    \"prc\": \"\",\n",
    "    \"pr\": \"\",\n",
    "    \"hot_air_flow\": \"kg/s\",\n",
    "    \"u_core\": \"m/s\",\n",
    "    \"t04\": \"K\",\n",
    "    \"fuel_consumption\": \"kg/s\",\n",
    "    \"bpr\": \"\",\n",
    "}\n",
    "for variable, unit in var_and_unit.items():\n",
    "    if variable in [\"prf\", \"bpr\"]:\n",
    "        param = \"N1\"\n",
    "        range_x = [0.2, 1.0]\n",
    "    else:\n",
    "        param = \"N2\"\n",
    "        range_x = [0.4, 1.0]\n",
    "    df = turbofan.get_values_by_changing_param(variable, param)\n",
    "    px.line(\n",
    "        df,\n",
    "        x=param,\n",
    "        y=variable,\n",
    "        title=f\"{variable} vs {param}\",\n",
    "        labels={param: f\"{param} (%)\", variable: unit},\n",
    "        range_x=range_x,\n",
    "        width=800,\n",
    "        height=400,\n",
    "    ).show()\n",
    "    print(round(df.loc[5, variable] / df.loc[0, variable],2))"
   ],
   "id": "f806fd37d8281666",
   "outputs": [
    {
     "name": "stdout",
     "output_type": "stream",
     "text": [
      "WARNING: A pressão ambiente (101.63) é maior que a pressão total de entrada do bocal (87.99), por isso retornou-se velocidade nula no bocal!!!\n",
      "WARNING: A pressão ambiente (101.63) é maior que a pressão total de entrada do bocal (97.43), por isso retornou-se velocidade nula no bocal!!!\n"
     ]
    },
    {
     "data": {
      "application/vnd.plotly.v1+json": {
       "data": [
        {
         "hovertemplate": "N2 (%)=%{x}<br>=%{y}<extra></extra>",
         "legendgroup": "",
         "line": {
          "color": "#636efa",
          "dash": "solid"
         },
         "marker": {
          "symbol": "circle"
         },
         "mode": "lines",
         "name": "",
         "orientation": "v",
         "showlegend": false,
         "x": {
          "dtype": "f8",
          "bdata": "AAAAAAAA4D8zMzMzMzPjP2ZmZmZmZuY/mpmZmZmZ6T/NzMzMzMzsPwAAAAAAAPA/"
         },
         "xaxis": "x",
         "y": {
          "dtype": "f8",
          "bdata": "BoGVQ4ts0z8DeAskKH7cP55eKcsQx+I/HVpkO99P5z+bVZ+rrdjrPwAAAAAAAPA/"
         },
         "yaxis": "y",
         "type": "scatter"
        }
       ],
       "layout": {
        "template": {
         "data": {
          "histogram2dcontour": [
           {
            "type": "histogram2dcontour",
            "colorbar": {
             "outlinewidth": 0,
             "ticks": ""
            },
            "colorscale": [
             [
              0.0,
              "#0d0887"
             ],
             [
              0.1111111111111111,
              "#46039f"
             ],
             [
              0.2222222222222222,
              "#7201a8"
             ],
             [
              0.3333333333333333,
              "#9c179e"
             ],
             [
              0.4444444444444444,
              "#bd3786"
             ],
             [
              0.5555555555555556,
              "#d8576b"
             ],
             [
              0.6666666666666666,
              "#ed7953"
             ],
             [
              0.7777777777777778,
              "#fb9f3a"
             ],
             [
              0.8888888888888888,
              "#fdca26"
             ],
             [
              1.0,
              "#f0f921"
             ]
            ]
           }
          ],
          "choropleth": [
           {
            "type": "choropleth",
            "colorbar": {
             "outlinewidth": 0,
             "ticks": ""
            }
           }
          ],
          "histogram2d": [
           {
            "type": "histogram2d",
            "colorbar": {
             "outlinewidth": 0,
             "ticks": ""
            },
            "colorscale": [
             [
              0.0,
              "#0d0887"
             ],
             [
              0.1111111111111111,
              "#46039f"
             ],
             [
              0.2222222222222222,
              "#7201a8"
             ],
             [
              0.3333333333333333,
              "#9c179e"
             ],
             [
              0.4444444444444444,
              "#bd3786"
             ],
             [
              0.5555555555555556,
              "#d8576b"
             ],
             [
              0.6666666666666666,
              "#ed7953"
             ],
             [
              0.7777777777777778,
              "#fb9f3a"
             ],
             [
              0.8888888888888888,
              "#fdca26"
             ],
             [
              1.0,
              "#f0f921"
             ]
            ]
           }
          ],
          "heatmap": [
           {
            "type": "heatmap",
            "colorbar": {
             "outlinewidth": 0,
             "ticks": ""
            },
            "colorscale": [
             [
              0.0,
              "#0d0887"
             ],
             [
              0.1111111111111111,
              "#46039f"
             ],
             [
              0.2222222222222222,
              "#7201a8"
             ],
             [
              0.3333333333333333,
              "#9c179e"
             ],
             [
              0.4444444444444444,
              "#bd3786"
             ],
             [
              0.5555555555555556,
              "#d8576b"
             ],
             [
              0.6666666666666666,
              "#ed7953"
             ],
             [
              0.7777777777777778,
              "#fb9f3a"
             ],
             [
              0.8888888888888888,
              "#fdca26"
             ],
             [
              1.0,
              "#f0f921"
             ]
            ]
           }
          ],
          "contourcarpet": [
           {
            "type": "contourcarpet",
            "colorbar": {
             "outlinewidth": 0,
             "ticks": ""
            }
           }
          ],
          "contour": [
           {
            "type": "contour",
            "colorbar": {
             "outlinewidth": 0,
             "ticks": ""
            },
            "colorscale": [
             [
              0.0,
              "#0d0887"
             ],
             [
              0.1111111111111111,
              "#46039f"
             ],
             [
              0.2222222222222222,
              "#7201a8"
             ],
             [
              0.3333333333333333,
              "#9c179e"
             ],
             [
              0.4444444444444444,
              "#bd3786"
             ],
             [
              0.5555555555555556,
              "#d8576b"
             ],
             [
              0.6666666666666666,
              "#ed7953"
             ],
             [
              0.7777777777777778,
              "#fb9f3a"
             ],
             [
              0.8888888888888888,
              "#fdca26"
             ],
             [
              1.0,
              "#f0f921"
             ]
            ]
           }
          ],
          "surface": [
           {
            "type": "surface",
            "colorbar": {
             "outlinewidth": 0,
             "ticks": ""
            },
            "colorscale": [
             [
              0.0,
              "#0d0887"
             ],
             [
              0.1111111111111111,
              "#46039f"
             ],
             [
              0.2222222222222222,
              "#7201a8"
             ],
             [
              0.3333333333333333,
              "#9c179e"
             ],
             [
              0.4444444444444444,
              "#bd3786"
             ],
             [
              0.5555555555555556,
              "#d8576b"
             ],
             [
              0.6666666666666666,
              "#ed7953"
             ],
             [
              0.7777777777777778,
              "#fb9f3a"
             ],
             [
              0.8888888888888888,
              "#fdca26"
             ],
             [
              1.0,
              "#f0f921"
             ]
            ]
           }
          ],
          "mesh3d": [
           {
            "type": "mesh3d",
            "colorbar": {
             "outlinewidth": 0,
             "ticks": ""
            }
           }
          ],
          "scatter": [
           {
            "fillpattern": {
             "fillmode": "overlay",
             "size": 10,
             "solidity": 0.2
            },
            "type": "scatter"
           }
          ],
          "parcoords": [
           {
            "type": "parcoords",
            "line": {
             "colorbar": {
              "outlinewidth": 0,
              "ticks": ""
             }
            }
           }
          ],
          "scatterpolargl": [
           {
            "type": "scatterpolargl",
            "marker": {
             "colorbar": {
              "outlinewidth": 0,
              "ticks": ""
             }
            }
           }
          ],
          "bar": [
           {
            "error_x": {
             "color": "#2a3f5f"
            },
            "error_y": {
             "color": "#2a3f5f"
            },
            "marker": {
             "line": {
              "color": "#E5ECF6",
              "width": 0.5
             },
             "pattern": {
              "fillmode": "overlay",
              "size": 10,
              "solidity": 0.2
             }
            },
            "type": "bar"
           }
          ],
          "scattergeo": [
           {
            "type": "scattergeo",
            "marker": {
             "colorbar": {
              "outlinewidth": 0,
              "ticks": ""
             }
            }
           }
          ],
          "scatterpolar": [
           {
            "type": "scatterpolar",
            "marker": {
             "colorbar": {
              "outlinewidth": 0,
              "ticks": ""
             }
            }
           }
          ],
          "histogram": [
           {
            "marker": {
             "pattern": {
              "fillmode": "overlay",
              "size": 10,
              "solidity": 0.2
             }
            },
            "type": "histogram"
           }
          ],
          "scattergl": [
           {
            "type": "scattergl",
            "marker": {
             "colorbar": {
              "outlinewidth": 0,
              "ticks": ""
             }
            }
           }
          ],
          "scatter3d": [
           {
            "type": "scatter3d",
            "line": {
             "colorbar": {
              "outlinewidth": 0,
              "ticks": ""
             }
            },
            "marker": {
             "colorbar": {
              "outlinewidth": 0,
              "ticks": ""
             }
            }
           }
          ],
          "scattermap": [
           {
            "type": "scattermap",
            "marker": {
             "colorbar": {
              "outlinewidth": 0,
              "ticks": ""
             }
            }
           }
          ],
          "scattermapbox": [
           {
            "type": "scattermapbox",
            "marker": {
             "colorbar": {
              "outlinewidth": 0,
              "ticks": ""
             }
            }
           }
          ],
          "scatterternary": [
           {
            "type": "scatterternary",
            "marker": {
             "colorbar": {
              "outlinewidth": 0,
              "ticks": ""
             }
            }
           }
          ],
          "scattercarpet": [
           {
            "type": "scattercarpet",
            "marker": {
             "colorbar": {
              "outlinewidth": 0,
              "ticks": ""
             }
            }
           }
          ],
          "carpet": [
           {
            "aaxis": {
             "endlinecolor": "#2a3f5f",
             "gridcolor": "white",
             "linecolor": "white",
             "minorgridcolor": "white",
             "startlinecolor": "#2a3f5f"
            },
            "baxis": {
             "endlinecolor": "#2a3f5f",
             "gridcolor": "white",
             "linecolor": "white",
             "minorgridcolor": "white",
             "startlinecolor": "#2a3f5f"
            },
            "type": "carpet"
           }
          ],
          "table": [
           {
            "cells": {
             "fill": {
              "color": "#EBF0F8"
             },
             "line": {
              "color": "white"
             }
            },
            "header": {
             "fill": {
              "color": "#C8D4E3"
             },
             "line": {
              "color": "white"
             }
            },
            "type": "table"
           }
          ],
          "barpolar": [
           {
            "marker": {
             "line": {
              "color": "#E5ECF6",
              "width": 0.5
             },
             "pattern": {
              "fillmode": "overlay",
              "size": 10,
              "solidity": 0.2
             }
            },
            "type": "barpolar"
           }
          ],
          "pie": [
           {
            "automargin": true,
            "type": "pie"
           }
          ]
         },
         "layout": {
          "autotypenumbers": "strict",
          "colorway": [
           "#636efa",
           "#EF553B",
           "#00cc96",
           "#ab63fa",
           "#FFA15A",
           "#19d3f3",
           "#FF6692",
           "#B6E880",
           "#FF97FF",
           "#FECB52"
          ],
          "font": {
           "color": "#2a3f5f"
          },
          "hovermode": "closest",
          "hoverlabel": {
           "align": "left"
          },
          "paper_bgcolor": "white",
          "plot_bgcolor": "#E5ECF6",
          "polar": {
           "bgcolor": "#E5ECF6",
           "angularaxis": {
            "gridcolor": "white",
            "linecolor": "white",
            "ticks": ""
           },
           "radialaxis": {
            "gridcolor": "white",
            "linecolor": "white",
            "ticks": ""
           }
          },
          "ternary": {
           "bgcolor": "#E5ECF6",
           "aaxis": {
            "gridcolor": "white",
            "linecolor": "white",
            "ticks": ""
           },
           "baxis": {
            "gridcolor": "white",
            "linecolor": "white",
            "ticks": ""
           },
           "caxis": {
            "gridcolor": "white",
            "linecolor": "white",
            "ticks": ""
           }
          },
          "coloraxis": {
           "colorbar": {
            "outlinewidth": 0,
            "ticks": ""
           }
          },
          "colorscale": {
           "sequential": [
            [
             0.0,
             "#0d0887"
            ],
            [
             0.1111111111111111,
             "#46039f"
            ],
            [
             0.2222222222222222,
             "#7201a8"
            ],
            [
             0.3333333333333333,
             "#9c179e"
            ],
            [
             0.4444444444444444,
             "#bd3786"
            ],
            [
             0.5555555555555556,
             "#d8576b"
            ],
            [
             0.6666666666666666,
             "#ed7953"
            ],
            [
             0.7777777777777778,
             "#fb9f3a"
            ],
            [
             0.8888888888888888,
             "#fdca26"
            ],
            [
             1.0,
             "#f0f921"
            ]
           ],
           "sequentialminus": [
            [
             0.0,
             "#0d0887"
            ],
            [
             0.1111111111111111,
             "#46039f"
            ],
            [
             0.2222222222222222,
             "#7201a8"
            ],
            [
             0.3333333333333333,
             "#9c179e"
            ],
            [
             0.4444444444444444,
             "#bd3786"
            ],
            [
             0.5555555555555556,
             "#d8576b"
            ],
            [
             0.6666666666666666,
             "#ed7953"
            ],
            [
             0.7777777777777778,
             "#fb9f3a"
            ],
            [
             0.8888888888888888,
             "#fdca26"
            ],
            [
             1.0,
             "#f0f921"
            ]
           ],
           "diverging": [
            [
             0,
             "#8e0152"
            ],
            [
             0.1,
             "#c51b7d"
            ],
            [
             0.2,
             "#de77ae"
            ],
            [
             0.3,
             "#f1b6da"
            ],
            [
             0.4,
             "#fde0ef"
            ],
            [
             0.5,
             "#f7f7f7"
            ],
            [
             0.6,
             "#e6f5d0"
            ],
            [
             0.7,
             "#b8e186"
            ],
            [
             0.8,
             "#7fbc41"
            ],
            [
             0.9,
             "#4d9221"
            ],
            [
             1,
             "#276419"
            ]
           ]
          },
          "xaxis": {
           "gridcolor": "white",
           "linecolor": "white",
           "ticks": "",
           "title": {
            "standoff": 15
           },
           "zerolinecolor": "white",
           "automargin": true,
           "zerolinewidth": 2
          },
          "yaxis": {
           "gridcolor": "white",
           "linecolor": "white",
           "ticks": "",
           "title": {
            "standoff": 15
           },
           "zerolinecolor": "white",
           "automargin": true,
           "zerolinewidth": 2
          },
          "scene": {
           "xaxis": {
            "backgroundcolor": "#E5ECF6",
            "gridcolor": "white",
            "linecolor": "white",
            "showbackground": true,
            "ticks": "",
            "zerolinecolor": "white",
            "gridwidth": 2
           },
           "yaxis": {
            "backgroundcolor": "#E5ECF6",
            "gridcolor": "white",
            "linecolor": "white",
            "showbackground": true,
            "ticks": "",
            "zerolinecolor": "white",
            "gridwidth": 2
           },
           "zaxis": {
            "backgroundcolor": "#E5ECF6",
            "gridcolor": "white",
            "linecolor": "white",
            "showbackground": true,
            "ticks": "",
            "zerolinecolor": "white",
            "gridwidth": 2
           }
          },
          "shapedefaults": {
           "line": {
            "color": "#2a3f5f"
           }
          },
          "annotationdefaults": {
           "arrowcolor": "#2a3f5f",
           "arrowhead": 0,
           "arrowwidth": 1
          },
          "geo": {
           "bgcolor": "white",
           "landcolor": "#E5ECF6",
           "subunitcolor": "white",
           "showland": true,
           "showlakes": true,
           "lakecolor": "white"
          },
          "title": {
           "x": 0.05
          },
          "mapbox": {
           "style": "light"
          }
         }
        },
        "xaxis": {
         "anchor": "y",
         "domain": [
          0.0,
          1.0
         ],
         "title": {
          "text": "N2 (%)"
         },
         "range": [
          0.4,
          1.0
         ]
        },
        "yaxis": {
         "anchor": "x",
         "domain": [
          0.0,
          1.0
         ],
         "title": {
          "text": ""
         }
        },
        "legend": {
         "tracegroupgap": 0
        },
        "title": {
         "text": "N1 vs N2"
        },
        "height": 400,
        "width": 800
       },
       "config": {
        "plotlyServerURL": "https://plot.ly"
       }
      }
     },
     "metadata": {},
     "output_type": "display_data"
    },
    {
     "name": "stdout",
     "output_type": "stream",
     "text": [
      "3.29\n",
      "WARNING: A pressão ambiente (101.63) é maior que a pressão total de entrada do bocal (87.99), por isso retornou-se velocidade nula no bocal!!!\n",
      "WARNING: A pressão ambiente (101.63) é maior que a pressão total de entrada do bocal (97.43), por isso retornou-se velocidade nula no bocal!!!\n"
     ]
    },
    {
     "data": {
      "application/vnd.plotly.v1+json": {
       "data": [
        {
         "hovertemplate": "N2 (%)=%{x}<br>kN=%{y}<extra></extra>",
         "legendgroup": "",
         "line": {
          "color": "#636efa",
          "dash": "solid"
         },
         "marker": {
          "symbol": "circle"
         },
         "mode": "lines",
         "name": "",
         "orientation": "v",
         "showlegend": false,
         "x": {
          "dtype": "f8",
          "bdata": "AAAAAAAA4D8zMzMzMzPjP2ZmZmZmZuY/mpmZmZmZ6T/NzMzMzMzsPwAAAAAAAPA/"
         },
         "xaxis": "x",
         "y": {
          "dtype": "f8",
          "bdata": "WYY41sUNKEAKaCJseNo2QHWTGARWPkpAaQBvgQRZWkAgQfFjzF1mQKkT0ETYsG9A"
         },
         "yaxis": "y",
         "type": "scatter"
        }
       ],
       "layout": {
        "template": {
         "data": {
          "histogram2dcontour": [
           {
            "type": "histogram2dcontour",
            "colorbar": {
             "outlinewidth": 0,
             "ticks": ""
            },
            "colorscale": [
             [
              0.0,
              "#0d0887"
             ],
             [
              0.1111111111111111,
              "#46039f"
             ],
             [
              0.2222222222222222,
              "#7201a8"
             ],
             [
              0.3333333333333333,
              "#9c179e"
             ],
             [
              0.4444444444444444,
              "#bd3786"
             ],
             [
              0.5555555555555556,
              "#d8576b"
             ],
             [
              0.6666666666666666,
              "#ed7953"
             ],
             [
              0.7777777777777778,
              "#fb9f3a"
             ],
             [
              0.8888888888888888,
              "#fdca26"
             ],
             [
              1.0,
              "#f0f921"
             ]
            ]
           }
          ],
          "choropleth": [
           {
            "type": "choropleth",
            "colorbar": {
             "outlinewidth": 0,
             "ticks": ""
            }
           }
          ],
          "histogram2d": [
           {
            "type": "histogram2d",
            "colorbar": {
             "outlinewidth": 0,
             "ticks": ""
            },
            "colorscale": [
             [
              0.0,
              "#0d0887"
             ],
             [
              0.1111111111111111,
              "#46039f"
             ],
             [
              0.2222222222222222,
              "#7201a8"
             ],
             [
              0.3333333333333333,
              "#9c179e"
             ],
             [
              0.4444444444444444,
              "#bd3786"
             ],
             [
              0.5555555555555556,
              "#d8576b"
             ],
             [
              0.6666666666666666,
              "#ed7953"
             ],
             [
              0.7777777777777778,
              "#fb9f3a"
             ],
             [
              0.8888888888888888,
              "#fdca26"
             ],
             [
              1.0,
              "#f0f921"
             ]
            ]
           }
          ],
          "heatmap": [
           {
            "type": "heatmap",
            "colorbar": {
             "outlinewidth": 0,
             "ticks": ""
            },
            "colorscale": [
             [
              0.0,
              "#0d0887"
             ],
             [
              0.1111111111111111,
              "#46039f"
             ],
             [
              0.2222222222222222,
              "#7201a8"
             ],
             [
              0.3333333333333333,
              "#9c179e"
             ],
             [
              0.4444444444444444,
              "#bd3786"
             ],
             [
              0.5555555555555556,
              "#d8576b"
             ],
             [
              0.6666666666666666,
              "#ed7953"
             ],
             [
              0.7777777777777778,
              "#fb9f3a"
             ],
             [
              0.8888888888888888,
              "#fdca26"
             ],
             [
              1.0,
              "#f0f921"
             ]
            ]
           }
          ],
          "contourcarpet": [
           {
            "type": "contourcarpet",
            "colorbar": {
             "outlinewidth": 0,
             "ticks": ""
            }
           }
          ],
          "contour": [
           {
            "type": "contour",
            "colorbar": {
             "outlinewidth": 0,
             "ticks": ""
            },
            "colorscale": [
             [
              0.0,
              "#0d0887"
             ],
             [
              0.1111111111111111,
              "#46039f"
             ],
             [
              0.2222222222222222,
              "#7201a8"
             ],
             [
              0.3333333333333333,
              "#9c179e"
             ],
             [
              0.4444444444444444,
              "#bd3786"
             ],
             [
              0.5555555555555556,
              "#d8576b"
             ],
             [
              0.6666666666666666,
              "#ed7953"
             ],
             [
              0.7777777777777778,
              "#fb9f3a"
             ],
             [
              0.8888888888888888,
              "#fdca26"
             ],
             [
              1.0,
              "#f0f921"
             ]
            ]
           }
          ],
          "surface": [
           {
            "type": "surface",
            "colorbar": {
             "outlinewidth": 0,
             "ticks": ""
            },
            "colorscale": [
             [
              0.0,
              "#0d0887"
             ],
             [
              0.1111111111111111,
              "#46039f"
             ],
             [
              0.2222222222222222,
              "#7201a8"
             ],
             [
              0.3333333333333333,
              "#9c179e"
             ],
             [
              0.4444444444444444,
              "#bd3786"
             ],
             [
              0.5555555555555556,
              "#d8576b"
             ],
             [
              0.6666666666666666,
              "#ed7953"
             ],
             [
              0.7777777777777778,
              "#fb9f3a"
             ],
             [
              0.8888888888888888,
              "#fdca26"
             ],
             [
              1.0,
              "#f0f921"
             ]
            ]
           }
          ],
          "mesh3d": [
           {
            "type": "mesh3d",
            "colorbar": {
             "outlinewidth": 0,
             "ticks": ""
            }
           }
          ],
          "scatter": [
           {
            "fillpattern": {
             "fillmode": "overlay",
             "size": 10,
             "solidity": 0.2
            },
            "type": "scatter"
           }
          ],
          "parcoords": [
           {
            "type": "parcoords",
            "line": {
             "colorbar": {
              "outlinewidth": 0,
              "ticks": ""
             }
            }
           }
          ],
          "scatterpolargl": [
           {
            "type": "scatterpolargl",
            "marker": {
             "colorbar": {
              "outlinewidth": 0,
              "ticks": ""
             }
            }
           }
          ],
          "bar": [
           {
            "error_x": {
             "color": "#2a3f5f"
            },
            "error_y": {
             "color": "#2a3f5f"
            },
            "marker": {
             "line": {
              "color": "#E5ECF6",
              "width": 0.5
             },
             "pattern": {
              "fillmode": "overlay",
              "size": 10,
              "solidity": 0.2
             }
            },
            "type": "bar"
           }
          ],
          "scattergeo": [
           {
            "type": "scattergeo",
            "marker": {
             "colorbar": {
              "outlinewidth": 0,
              "ticks": ""
             }
            }
           }
          ],
          "scatterpolar": [
           {
            "type": "scatterpolar",
            "marker": {
             "colorbar": {
              "outlinewidth": 0,
              "ticks": ""
             }
            }
           }
          ],
          "histogram": [
           {
            "marker": {
             "pattern": {
              "fillmode": "overlay",
              "size": 10,
              "solidity": 0.2
             }
            },
            "type": "histogram"
           }
          ],
          "scattergl": [
           {
            "type": "scattergl",
            "marker": {
             "colorbar": {
              "outlinewidth": 0,
              "ticks": ""
             }
            }
           }
          ],
          "scatter3d": [
           {
            "type": "scatter3d",
            "line": {
             "colorbar": {
              "outlinewidth": 0,
              "ticks": ""
             }
            },
            "marker": {
             "colorbar": {
              "outlinewidth": 0,
              "ticks": ""
             }
            }
           }
          ],
          "scattermap": [
           {
            "type": "scattermap",
            "marker": {
             "colorbar": {
              "outlinewidth": 0,
              "ticks": ""
             }
            }
           }
          ],
          "scattermapbox": [
           {
            "type": "scattermapbox",
            "marker": {
             "colorbar": {
              "outlinewidth": 0,
              "ticks": ""
             }
            }
           }
          ],
          "scatterternary": [
           {
            "type": "scatterternary",
            "marker": {
             "colorbar": {
              "outlinewidth": 0,
              "ticks": ""
             }
            }
           }
          ],
          "scattercarpet": [
           {
            "type": "scattercarpet",
            "marker": {
             "colorbar": {
              "outlinewidth": 0,
              "ticks": ""
             }
            }
           }
          ],
          "carpet": [
           {
            "aaxis": {
             "endlinecolor": "#2a3f5f",
             "gridcolor": "white",
             "linecolor": "white",
             "minorgridcolor": "white",
             "startlinecolor": "#2a3f5f"
            },
            "baxis": {
             "endlinecolor": "#2a3f5f",
             "gridcolor": "white",
             "linecolor": "white",
             "minorgridcolor": "white",
             "startlinecolor": "#2a3f5f"
            },
            "type": "carpet"
           }
          ],
          "table": [
           {
            "cells": {
             "fill": {
              "color": "#EBF0F8"
             },
             "line": {
              "color": "white"
             }
            },
            "header": {
             "fill": {
              "color": "#C8D4E3"
             },
             "line": {
              "color": "white"
             }
            },
            "type": "table"
           }
          ],
          "barpolar": [
           {
            "marker": {
             "line": {
              "color": "#E5ECF6",
              "width": 0.5
             },
             "pattern": {
              "fillmode": "overlay",
              "size": 10,
              "solidity": 0.2
             }
            },
            "type": "barpolar"
           }
          ],
          "pie": [
           {
            "automargin": true,
            "type": "pie"
           }
          ]
         },
         "layout": {
          "autotypenumbers": "strict",
          "colorway": [
           "#636efa",
           "#EF553B",
           "#00cc96",
           "#ab63fa",
           "#FFA15A",
           "#19d3f3",
           "#FF6692",
           "#B6E880",
           "#FF97FF",
           "#FECB52"
          ],
          "font": {
           "color": "#2a3f5f"
          },
          "hovermode": "closest",
          "hoverlabel": {
           "align": "left"
          },
          "paper_bgcolor": "white",
          "plot_bgcolor": "#E5ECF6",
          "polar": {
           "bgcolor": "#E5ECF6",
           "angularaxis": {
            "gridcolor": "white",
            "linecolor": "white",
            "ticks": ""
           },
           "radialaxis": {
            "gridcolor": "white",
            "linecolor": "white",
            "ticks": ""
           }
          },
          "ternary": {
           "bgcolor": "#E5ECF6",
           "aaxis": {
            "gridcolor": "white",
            "linecolor": "white",
            "ticks": ""
           },
           "baxis": {
            "gridcolor": "white",
            "linecolor": "white",
            "ticks": ""
           },
           "caxis": {
            "gridcolor": "white",
            "linecolor": "white",
            "ticks": ""
           }
          },
          "coloraxis": {
           "colorbar": {
            "outlinewidth": 0,
            "ticks": ""
           }
          },
          "colorscale": {
           "sequential": [
            [
             0.0,
             "#0d0887"
            ],
            [
             0.1111111111111111,
             "#46039f"
            ],
            [
             0.2222222222222222,
             "#7201a8"
            ],
            [
             0.3333333333333333,
             "#9c179e"
            ],
            [
             0.4444444444444444,
             "#bd3786"
            ],
            [
             0.5555555555555556,
             "#d8576b"
            ],
            [
             0.6666666666666666,
             "#ed7953"
            ],
            [
             0.7777777777777778,
             "#fb9f3a"
            ],
            [
             0.8888888888888888,
             "#fdca26"
            ],
            [
             1.0,
             "#f0f921"
            ]
           ],
           "sequentialminus": [
            [
             0.0,
             "#0d0887"
            ],
            [
             0.1111111111111111,
             "#46039f"
            ],
            [
             0.2222222222222222,
             "#7201a8"
            ],
            [
             0.3333333333333333,
             "#9c179e"
            ],
            [
             0.4444444444444444,
             "#bd3786"
            ],
            [
             0.5555555555555556,
             "#d8576b"
            ],
            [
             0.6666666666666666,
             "#ed7953"
            ],
            [
             0.7777777777777778,
             "#fb9f3a"
            ],
            [
             0.8888888888888888,
             "#fdca26"
            ],
            [
             1.0,
             "#f0f921"
            ]
           ],
           "diverging": [
            [
             0,
             "#8e0152"
            ],
            [
             0.1,
             "#c51b7d"
            ],
            [
             0.2,
             "#de77ae"
            ],
            [
             0.3,
             "#f1b6da"
            ],
            [
             0.4,
             "#fde0ef"
            ],
            [
             0.5,
             "#f7f7f7"
            ],
            [
             0.6,
             "#e6f5d0"
            ],
            [
             0.7,
             "#b8e186"
            ],
            [
             0.8,
             "#7fbc41"
            ],
            [
             0.9,
             "#4d9221"
            ],
            [
             1,
             "#276419"
            ]
           ]
          },
          "xaxis": {
           "gridcolor": "white",
           "linecolor": "white",
           "ticks": "",
           "title": {
            "standoff": 15
           },
           "zerolinecolor": "white",
           "automargin": true,
           "zerolinewidth": 2
          },
          "yaxis": {
           "gridcolor": "white",
           "linecolor": "white",
           "ticks": "",
           "title": {
            "standoff": 15
           },
           "zerolinecolor": "white",
           "automargin": true,
           "zerolinewidth": 2
          },
          "scene": {
           "xaxis": {
            "backgroundcolor": "#E5ECF6",
            "gridcolor": "white",
            "linecolor": "white",
            "showbackground": true,
            "ticks": "",
            "zerolinecolor": "white",
            "gridwidth": 2
           },
           "yaxis": {
            "backgroundcolor": "#E5ECF6",
            "gridcolor": "white",
            "linecolor": "white",
            "showbackground": true,
            "ticks": "",
            "zerolinecolor": "white",
            "gridwidth": 2
           },
           "zaxis": {
            "backgroundcolor": "#E5ECF6",
            "gridcolor": "white",
            "linecolor": "white",
            "showbackground": true,
            "ticks": "",
            "zerolinecolor": "white",
            "gridwidth": 2
           }
          },
          "shapedefaults": {
           "line": {
            "color": "#2a3f5f"
           }
          },
          "annotationdefaults": {
           "arrowcolor": "#2a3f5f",
           "arrowhead": 0,
           "arrowwidth": 1
          },
          "geo": {
           "bgcolor": "white",
           "landcolor": "#E5ECF6",
           "subunitcolor": "white",
           "showland": true,
           "showlakes": true,
           "lakecolor": "white"
          },
          "title": {
           "x": 0.05
          },
          "mapbox": {
           "style": "light"
          }
         }
        },
        "xaxis": {
         "anchor": "y",
         "domain": [
          0.0,
          1.0
         ],
         "title": {
          "text": "N2 (%)"
         },
         "range": [
          0.4,
          1.0
         ]
        },
        "yaxis": {
         "anchor": "x",
         "domain": [
          0.0,
          1.0
         ],
         "title": {
          "text": "kN"
         }
        },
        "legend": {
         "tracegroupgap": 0
        },
        "title": {
         "text": "thrust vs N2"
        },
        "height": 400,
        "width": 800
       },
       "config": {
        "plotlyServerURL": "https://plot.ly"
       }
      }
     },
     "metadata": {},
     "output_type": "display_data"
    },
    {
     "name": "stdout",
     "output_type": "stream",
     "text": [
      "21.08\n",
      "WARNING: A pressão ambiente (101.63) é maior que a pressão total de entrada do bocal (87.99), por isso retornou-se velocidade nula no bocal!!!\n",
      "WARNING: A pressão ambiente (101.63) é maior que a pressão total de entrada do bocal (97.43), por isso retornou-se velocidade nula no bocal!!!\n"
     ]
    },
    {
     "data": {
      "application/vnd.plotly.v1+json": {
       "data": [
        {
         "hovertemplate": "N2 (%)=%{x}<br>kg/(kN.s)=%{y}<extra></extra>",
         "legendgroup": "",
         "line": {
          "color": "#636efa",
          "dash": "solid"
         },
         "marker": {
          "symbol": "circle"
         },
         "mode": "lines",
         "name": "",
         "orientation": "v",
         "showlegend": false,
         "x": {
          "dtype": "f8",
          "bdata": "AAAAAAAA4D8zMzMzMzPjP2ZmZmZmZuY/mpmZmZmZ6T/NzMzMzMzsPwAAAAAAAPA/"
         },
         "xaxis": "x",
         "y": {
          "dtype": "f8",
          "bdata": "RiV1ApoIiz8BTYQNT6+EP49TdCSX/4A/dnEbDeAtgD8i/fZ14JyBP3sUrkfheoQ/"
         },
         "yaxis": "y",
         "type": "scatter"
        }
       ],
       "layout": {
        "template": {
         "data": {
          "histogram2dcontour": [
           {
            "type": "histogram2dcontour",
            "colorbar": {
             "outlinewidth": 0,
             "ticks": ""
            },
            "colorscale": [
             [
              0.0,
              "#0d0887"
             ],
             [
              0.1111111111111111,
              "#46039f"
             ],
             [
              0.2222222222222222,
              "#7201a8"
             ],
             [
              0.3333333333333333,
              "#9c179e"
             ],
             [
              0.4444444444444444,
              "#bd3786"
             ],
             [
              0.5555555555555556,
              "#d8576b"
             ],
             [
              0.6666666666666666,
              "#ed7953"
             ],
             [
              0.7777777777777778,
              "#fb9f3a"
             ],
             [
              0.8888888888888888,
              "#fdca26"
             ],
             [
              1.0,
              "#f0f921"
             ]
            ]
           }
          ],
          "choropleth": [
           {
            "type": "choropleth",
            "colorbar": {
             "outlinewidth": 0,
             "ticks": ""
            }
           }
          ],
          "histogram2d": [
           {
            "type": "histogram2d",
            "colorbar": {
             "outlinewidth": 0,
             "ticks": ""
            },
            "colorscale": [
             [
              0.0,
              "#0d0887"
             ],
             [
              0.1111111111111111,
              "#46039f"
             ],
             [
              0.2222222222222222,
              "#7201a8"
             ],
             [
              0.3333333333333333,
              "#9c179e"
             ],
             [
              0.4444444444444444,
              "#bd3786"
             ],
             [
              0.5555555555555556,
              "#d8576b"
             ],
             [
              0.6666666666666666,
              "#ed7953"
             ],
             [
              0.7777777777777778,
              "#fb9f3a"
             ],
             [
              0.8888888888888888,
              "#fdca26"
             ],
             [
              1.0,
              "#f0f921"
             ]
            ]
           }
          ],
          "heatmap": [
           {
            "type": "heatmap",
            "colorbar": {
             "outlinewidth": 0,
             "ticks": ""
            },
            "colorscale": [
             [
              0.0,
              "#0d0887"
             ],
             [
              0.1111111111111111,
              "#46039f"
             ],
             [
              0.2222222222222222,
              "#7201a8"
             ],
             [
              0.3333333333333333,
              "#9c179e"
             ],
             [
              0.4444444444444444,
              "#bd3786"
             ],
             [
              0.5555555555555556,
              "#d8576b"
             ],
             [
              0.6666666666666666,
              "#ed7953"
             ],
             [
              0.7777777777777778,
              "#fb9f3a"
             ],
             [
              0.8888888888888888,
              "#fdca26"
             ],
             [
              1.0,
              "#f0f921"
             ]
            ]
           }
          ],
          "contourcarpet": [
           {
            "type": "contourcarpet",
            "colorbar": {
             "outlinewidth": 0,
             "ticks": ""
            }
           }
          ],
          "contour": [
           {
            "type": "contour",
            "colorbar": {
             "outlinewidth": 0,
             "ticks": ""
            },
            "colorscale": [
             [
              0.0,
              "#0d0887"
             ],
             [
              0.1111111111111111,
              "#46039f"
             ],
             [
              0.2222222222222222,
              "#7201a8"
             ],
             [
              0.3333333333333333,
              "#9c179e"
             ],
             [
              0.4444444444444444,
              "#bd3786"
             ],
             [
              0.5555555555555556,
              "#d8576b"
             ],
             [
              0.6666666666666666,
              "#ed7953"
             ],
             [
              0.7777777777777778,
              "#fb9f3a"
             ],
             [
              0.8888888888888888,
              "#fdca26"
             ],
             [
              1.0,
              "#f0f921"
             ]
            ]
           }
          ],
          "surface": [
           {
            "type": "surface",
            "colorbar": {
             "outlinewidth": 0,
             "ticks": ""
            },
            "colorscale": [
             [
              0.0,
              "#0d0887"
             ],
             [
              0.1111111111111111,
              "#46039f"
             ],
             [
              0.2222222222222222,
              "#7201a8"
             ],
             [
              0.3333333333333333,
              "#9c179e"
             ],
             [
              0.4444444444444444,
              "#bd3786"
             ],
             [
              0.5555555555555556,
              "#d8576b"
             ],
             [
              0.6666666666666666,
              "#ed7953"
             ],
             [
              0.7777777777777778,
              "#fb9f3a"
             ],
             [
              0.8888888888888888,
              "#fdca26"
             ],
             [
              1.0,
              "#f0f921"
             ]
            ]
           }
          ],
          "mesh3d": [
           {
            "type": "mesh3d",
            "colorbar": {
             "outlinewidth": 0,
             "ticks": ""
            }
           }
          ],
          "scatter": [
           {
            "fillpattern": {
             "fillmode": "overlay",
             "size": 10,
             "solidity": 0.2
            },
            "type": "scatter"
           }
          ],
          "parcoords": [
           {
            "type": "parcoords",
            "line": {
             "colorbar": {
              "outlinewidth": 0,
              "ticks": ""
             }
            }
           }
          ],
          "scatterpolargl": [
           {
            "type": "scatterpolargl",
            "marker": {
             "colorbar": {
              "outlinewidth": 0,
              "ticks": ""
             }
            }
           }
          ],
          "bar": [
           {
            "error_x": {
             "color": "#2a3f5f"
            },
            "error_y": {
             "color": "#2a3f5f"
            },
            "marker": {
             "line": {
              "color": "#E5ECF6",
              "width": 0.5
             },
             "pattern": {
              "fillmode": "overlay",
              "size": 10,
              "solidity": 0.2
             }
            },
            "type": "bar"
           }
          ],
          "scattergeo": [
           {
            "type": "scattergeo",
            "marker": {
             "colorbar": {
              "outlinewidth": 0,
              "ticks": ""
             }
            }
           }
          ],
          "scatterpolar": [
           {
            "type": "scatterpolar",
            "marker": {
             "colorbar": {
              "outlinewidth": 0,
              "ticks": ""
             }
            }
           }
          ],
          "histogram": [
           {
            "marker": {
             "pattern": {
              "fillmode": "overlay",
              "size": 10,
              "solidity": 0.2
             }
            },
            "type": "histogram"
           }
          ],
          "scattergl": [
           {
            "type": "scattergl",
            "marker": {
             "colorbar": {
              "outlinewidth": 0,
              "ticks": ""
             }
            }
           }
          ],
          "scatter3d": [
           {
            "type": "scatter3d",
            "line": {
             "colorbar": {
              "outlinewidth": 0,
              "ticks": ""
             }
            },
            "marker": {
             "colorbar": {
              "outlinewidth": 0,
              "ticks": ""
             }
            }
           }
          ],
          "scattermap": [
           {
            "type": "scattermap",
            "marker": {
             "colorbar": {
              "outlinewidth": 0,
              "ticks": ""
             }
            }
           }
          ],
          "scattermapbox": [
           {
            "type": "scattermapbox",
            "marker": {
             "colorbar": {
              "outlinewidth": 0,
              "ticks": ""
             }
            }
           }
          ],
          "scatterternary": [
           {
            "type": "scatterternary",
            "marker": {
             "colorbar": {
              "outlinewidth": 0,
              "ticks": ""
             }
            }
           }
          ],
          "scattercarpet": [
           {
            "type": "scattercarpet",
            "marker": {
             "colorbar": {
              "outlinewidth": 0,
              "ticks": ""
             }
            }
           }
          ],
          "carpet": [
           {
            "aaxis": {
             "endlinecolor": "#2a3f5f",
             "gridcolor": "white",
             "linecolor": "white",
             "minorgridcolor": "white",
             "startlinecolor": "#2a3f5f"
            },
            "baxis": {
             "endlinecolor": "#2a3f5f",
             "gridcolor": "white",
             "linecolor": "white",
             "minorgridcolor": "white",
             "startlinecolor": "#2a3f5f"
            },
            "type": "carpet"
           }
          ],
          "table": [
           {
            "cells": {
             "fill": {
              "color": "#EBF0F8"
             },
             "line": {
              "color": "white"
             }
            },
            "header": {
             "fill": {
              "color": "#C8D4E3"
             },
             "line": {
              "color": "white"
             }
            },
            "type": "table"
           }
          ],
          "barpolar": [
           {
            "marker": {
             "line": {
              "color": "#E5ECF6",
              "width": 0.5
             },
             "pattern": {
              "fillmode": "overlay",
              "size": 10,
              "solidity": 0.2
             }
            },
            "type": "barpolar"
           }
          ],
          "pie": [
           {
            "automargin": true,
            "type": "pie"
           }
          ]
         },
         "layout": {
          "autotypenumbers": "strict",
          "colorway": [
           "#636efa",
           "#EF553B",
           "#00cc96",
           "#ab63fa",
           "#FFA15A",
           "#19d3f3",
           "#FF6692",
           "#B6E880",
           "#FF97FF",
           "#FECB52"
          ],
          "font": {
           "color": "#2a3f5f"
          },
          "hovermode": "closest",
          "hoverlabel": {
           "align": "left"
          },
          "paper_bgcolor": "white",
          "plot_bgcolor": "#E5ECF6",
          "polar": {
           "bgcolor": "#E5ECF6",
           "angularaxis": {
            "gridcolor": "white",
            "linecolor": "white",
            "ticks": ""
           },
           "radialaxis": {
            "gridcolor": "white",
            "linecolor": "white",
            "ticks": ""
           }
          },
          "ternary": {
           "bgcolor": "#E5ECF6",
           "aaxis": {
            "gridcolor": "white",
            "linecolor": "white",
            "ticks": ""
           },
           "baxis": {
            "gridcolor": "white",
            "linecolor": "white",
            "ticks": ""
           },
           "caxis": {
            "gridcolor": "white",
            "linecolor": "white",
            "ticks": ""
           }
          },
          "coloraxis": {
           "colorbar": {
            "outlinewidth": 0,
            "ticks": ""
           }
          },
          "colorscale": {
           "sequential": [
            [
             0.0,
             "#0d0887"
            ],
            [
             0.1111111111111111,
             "#46039f"
            ],
            [
             0.2222222222222222,
             "#7201a8"
            ],
            [
             0.3333333333333333,
             "#9c179e"
            ],
            [
             0.4444444444444444,
             "#bd3786"
            ],
            [
             0.5555555555555556,
             "#d8576b"
            ],
            [
             0.6666666666666666,
             "#ed7953"
            ],
            [
             0.7777777777777778,
             "#fb9f3a"
            ],
            [
             0.8888888888888888,
             "#fdca26"
            ],
            [
             1.0,
             "#f0f921"
            ]
           ],
           "sequentialminus": [
            [
             0.0,
             "#0d0887"
            ],
            [
             0.1111111111111111,
             "#46039f"
            ],
            [
             0.2222222222222222,
             "#7201a8"
            ],
            [
             0.3333333333333333,
             "#9c179e"
            ],
            [
             0.4444444444444444,
             "#bd3786"
            ],
            [
             0.5555555555555556,
             "#d8576b"
            ],
            [
             0.6666666666666666,
             "#ed7953"
            ],
            [
             0.7777777777777778,
             "#fb9f3a"
            ],
            [
             0.8888888888888888,
             "#fdca26"
            ],
            [
             1.0,
             "#f0f921"
            ]
           ],
           "diverging": [
            [
             0,
             "#8e0152"
            ],
            [
             0.1,
             "#c51b7d"
            ],
            [
             0.2,
             "#de77ae"
            ],
            [
             0.3,
             "#f1b6da"
            ],
            [
             0.4,
             "#fde0ef"
            ],
            [
             0.5,
             "#f7f7f7"
            ],
            [
             0.6,
             "#e6f5d0"
            ],
            [
             0.7,
             "#b8e186"
            ],
            [
             0.8,
             "#7fbc41"
            ],
            [
             0.9,
             "#4d9221"
            ],
            [
             1,
             "#276419"
            ]
           ]
          },
          "xaxis": {
           "gridcolor": "white",
           "linecolor": "white",
           "ticks": "",
           "title": {
            "standoff": 15
           },
           "zerolinecolor": "white",
           "automargin": true,
           "zerolinewidth": 2
          },
          "yaxis": {
           "gridcolor": "white",
           "linecolor": "white",
           "ticks": "",
           "title": {
            "standoff": 15
           },
           "zerolinecolor": "white",
           "automargin": true,
           "zerolinewidth": 2
          },
          "scene": {
           "xaxis": {
            "backgroundcolor": "#E5ECF6",
            "gridcolor": "white",
            "linecolor": "white",
            "showbackground": true,
            "ticks": "",
            "zerolinecolor": "white",
            "gridwidth": 2
           },
           "yaxis": {
            "backgroundcolor": "#E5ECF6",
            "gridcolor": "white",
            "linecolor": "white",
            "showbackground": true,
            "ticks": "",
            "zerolinecolor": "white",
            "gridwidth": 2
           },
           "zaxis": {
            "backgroundcolor": "#E5ECF6",
            "gridcolor": "white",
            "linecolor": "white",
            "showbackground": true,
            "ticks": "",
            "zerolinecolor": "white",
            "gridwidth": 2
           }
          },
          "shapedefaults": {
           "line": {
            "color": "#2a3f5f"
           }
          },
          "annotationdefaults": {
           "arrowcolor": "#2a3f5f",
           "arrowhead": 0,
           "arrowwidth": 1
          },
          "geo": {
           "bgcolor": "white",
           "landcolor": "#E5ECF6",
           "subunitcolor": "white",
           "showland": true,
           "showlakes": true,
           "lakecolor": "white"
          },
          "title": {
           "x": 0.05
          },
          "mapbox": {
           "style": "light"
          }
         }
        },
        "xaxis": {
         "anchor": "y",
         "domain": [
          0.0,
          1.0
         ],
         "title": {
          "text": "N2 (%)"
         },
         "range": [
          0.4,
          1.0
         ]
        },
        "yaxis": {
         "anchor": "x",
         "domain": [
          0.0,
          1.0
         ],
         "title": {
          "text": "kg/(kN.s)"
         }
        },
        "legend": {
         "tracegroupgap": 0
        },
        "title": {
         "text": "tsfc vs N2"
        },
        "height": 400,
        "width": 800
       },
       "config": {
        "plotlyServerURL": "https://plot.ly"
       }
      }
     },
     "metadata": {},
     "output_type": "display_data"
    },
    {
     "name": "stdout",
     "output_type": "stream",
     "text": [
      "0.76\n",
      "WARNING: A pressão ambiente (101.63) é maior que a pressão total de entrada do bocal (87.99), por isso retornou-se velocidade nula no bocal!!!\n",
      "WARNING: A pressão ambiente (101.63) é maior que a pressão total de entrada do bocal (97.43), por isso retornou-se velocidade nula no bocal!!!\n"
     ]
    },
    {
     "data": {
      "application/vnd.plotly.v1+json": {
       "data": [
        {
         "hovertemplate": "N1 (%)=%{x}<br>=%{y}<extra></extra>",
         "legendgroup": "",
         "line": {
          "color": "#636efa",
          "dash": "solid"
         },
         "marker": {
          "symbol": "circle"
         },
         "mode": "lines",
         "name": "",
         "orientation": "v",
         "showlegend": false,
         "x": {
          "dtype": "f8",
          "bdata": "BoGVQ4ts0z8DeAskKH7cP55eKcsQx+I/HVpkO99P5z+bVZ+rrdjrPwAAAAAAAPA/"
         },
         "xaxis": "x",
         "y": {
          "dtype": "f8",
          "bdata": "3pOHhVrT8D/fT42XbhLyP+5aQj7o2fM/7Q2+MJkq9j/5D+m3rwP5PwrXo3A9Cvs/"
         },
         "yaxis": "y",
         "type": "scatter"
        }
       ],
       "layout": {
        "template": {
         "data": {
          "histogram2dcontour": [
           {
            "type": "histogram2dcontour",
            "colorbar": {
             "outlinewidth": 0,
             "ticks": ""
            },
            "colorscale": [
             [
              0.0,
              "#0d0887"
             ],
             [
              0.1111111111111111,
              "#46039f"
             ],
             [
              0.2222222222222222,
              "#7201a8"
             ],
             [
              0.3333333333333333,
              "#9c179e"
             ],
             [
              0.4444444444444444,
              "#bd3786"
             ],
             [
              0.5555555555555556,
              "#d8576b"
             ],
             [
              0.6666666666666666,
              "#ed7953"
             ],
             [
              0.7777777777777778,
              "#fb9f3a"
             ],
             [
              0.8888888888888888,
              "#fdca26"
             ],
             [
              1.0,
              "#f0f921"
             ]
            ]
           }
          ],
          "choropleth": [
           {
            "type": "choropleth",
            "colorbar": {
             "outlinewidth": 0,
             "ticks": ""
            }
           }
          ],
          "histogram2d": [
           {
            "type": "histogram2d",
            "colorbar": {
             "outlinewidth": 0,
             "ticks": ""
            },
            "colorscale": [
             [
              0.0,
              "#0d0887"
             ],
             [
              0.1111111111111111,
              "#46039f"
             ],
             [
              0.2222222222222222,
              "#7201a8"
             ],
             [
              0.3333333333333333,
              "#9c179e"
             ],
             [
              0.4444444444444444,
              "#bd3786"
             ],
             [
              0.5555555555555556,
              "#d8576b"
             ],
             [
              0.6666666666666666,
              "#ed7953"
             ],
             [
              0.7777777777777778,
              "#fb9f3a"
             ],
             [
              0.8888888888888888,
              "#fdca26"
             ],
             [
              1.0,
              "#f0f921"
             ]
            ]
           }
          ],
          "heatmap": [
           {
            "type": "heatmap",
            "colorbar": {
             "outlinewidth": 0,
             "ticks": ""
            },
            "colorscale": [
             [
              0.0,
              "#0d0887"
             ],
             [
              0.1111111111111111,
              "#46039f"
             ],
             [
              0.2222222222222222,
              "#7201a8"
             ],
             [
              0.3333333333333333,
              "#9c179e"
             ],
             [
              0.4444444444444444,
              "#bd3786"
             ],
             [
              0.5555555555555556,
              "#d8576b"
             ],
             [
              0.6666666666666666,
              "#ed7953"
             ],
             [
              0.7777777777777778,
              "#fb9f3a"
             ],
             [
              0.8888888888888888,
              "#fdca26"
             ],
             [
              1.0,
              "#f0f921"
             ]
            ]
           }
          ],
          "contourcarpet": [
           {
            "type": "contourcarpet",
            "colorbar": {
             "outlinewidth": 0,
             "ticks": ""
            }
           }
          ],
          "contour": [
           {
            "type": "contour",
            "colorbar": {
             "outlinewidth": 0,
             "ticks": ""
            },
            "colorscale": [
             [
              0.0,
              "#0d0887"
             ],
             [
              0.1111111111111111,
              "#46039f"
             ],
             [
              0.2222222222222222,
              "#7201a8"
             ],
             [
              0.3333333333333333,
              "#9c179e"
             ],
             [
              0.4444444444444444,
              "#bd3786"
             ],
             [
              0.5555555555555556,
              "#d8576b"
             ],
             [
              0.6666666666666666,
              "#ed7953"
             ],
             [
              0.7777777777777778,
              "#fb9f3a"
             ],
             [
              0.8888888888888888,
              "#fdca26"
             ],
             [
              1.0,
              "#f0f921"
             ]
            ]
           }
          ],
          "surface": [
           {
            "type": "surface",
            "colorbar": {
             "outlinewidth": 0,
             "ticks": ""
            },
            "colorscale": [
             [
              0.0,
              "#0d0887"
             ],
             [
              0.1111111111111111,
              "#46039f"
             ],
             [
              0.2222222222222222,
              "#7201a8"
             ],
             [
              0.3333333333333333,
              "#9c179e"
             ],
             [
              0.4444444444444444,
              "#bd3786"
             ],
             [
              0.5555555555555556,
              "#d8576b"
             ],
             [
              0.6666666666666666,
              "#ed7953"
             ],
             [
              0.7777777777777778,
              "#fb9f3a"
             ],
             [
              0.8888888888888888,
              "#fdca26"
             ],
             [
              1.0,
              "#f0f921"
             ]
            ]
           }
          ],
          "mesh3d": [
           {
            "type": "mesh3d",
            "colorbar": {
             "outlinewidth": 0,
             "ticks": ""
            }
           }
          ],
          "scatter": [
           {
            "fillpattern": {
             "fillmode": "overlay",
             "size": 10,
             "solidity": 0.2
            },
            "type": "scatter"
           }
          ],
          "parcoords": [
           {
            "type": "parcoords",
            "line": {
             "colorbar": {
              "outlinewidth": 0,
              "ticks": ""
             }
            }
           }
          ],
          "scatterpolargl": [
           {
            "type": "scatterpolargl",
            "marker": {
             "colorbar": {
              "outlinewidth": 0,
              "ticks": ""
             }
            }
           }
          ],
          "bar": [
           {
            "error_x": {
             "color": "#2a3f5f"
            },
            "error_y": {
             "color": "#2a3f5f"
            },
            "marker": {
             "line": {
              "color": "#E5ECF6",
              "width": 0.5
             },
             "pattern": {
              "fillmode": "overlay",
              "size": 10,
              "solidity": 0.2
             }
            },
            "type": "bar"
           }
          ],
          "scattergeo": [
           {
            "type": "scattergeo",
            "marker": {
             "colorbar": {
              "outlinewidth": 0,
              "ticks": ""
             }
            }
           }
          ],
          "scatterpolar": [
           {
            "type": "scatterpolar",
            "marker": {
             "colorbar": {
              "outlinewidth": 0,
              "ticks": ""
             }
            }
           }
          ],
          "histogram": [
           {
            "marker": {
             "pattern": {
              "fillmode": "overlay",
              "size": 10,
              "solidity": 0.2
             }
            },
            "type": "histogram"
           }
          ],
          "scattergl": [
           {
            "type": "scattergl",
            "marker": {
             "colorbar": {
              "outlinewidth": 0,
              "ticks": ""
             }
            }
           }
          ],
          "scatter3d": [
           {
            "type": "scatter3d",
            "line": {
             "colorbar": {
              "outlinewidth": 0,
              "ticks": ""
             }
            },
            "marker": {
             "colorbar": {
              "outlinewidth": 0,
              "ticks": ""
             }
            }
           }
          ],
          "scattermap": [
           {
            "type": "scattermap",
            "marker": {
             "colorbar": {
              "outlinewidth": 0,
              "ticks": ""
             }
            }
           }
          ],
          "scattermapbox": [
           {
            "type": "scattermapbox",
            "marker": {
             "colorbar": {
              "outlinewidth": 0,
              "ticks": ""
             }
            }
           }
          ],
          "scatterternary": [
           {
            "type": "scatterternary",
            "marker": {
             "colorbar": {
              "outlinewidth": 0,
              "ticks": ""
             }
            }
           }
          ],
          "scattercarpet": [
           {
            "type": "scattercarpet",
            "marker": {
             "colorbar": {
              "outlinewidth": 0,
              "ticks": ""
             }
            }
           }
          ],
          "carpet": [
           {
            "aaxis": {
             "endlinecolor": "#2a3f5f",
             "gridcolor": "white",
             "linecolor": "white",
             "minorgridcolor": "white",
             "startlinecolor": "#2a3f5f"
            },
            "baxis": {
             "endlinecolor": "#2a3f5f",
             "gridcolor": "white",
             "linecolor": "white",
             "minorgridcolor": "white",
             "startlinecolor": "#2a3f5f"
            },
            "type": "carpet"
           }
          ],
          "table": [
           {
            "cells": {
             "fill": {
              "color": "#EBF0F8"
             },
             "line": {
              "color": "white"
             }
            },
            "header": {
             "fill": {
              "color": "#C8D4E3"
             },
             "line": {
              "color": "white"
             }
            },
            "type": "table"
           }
          ],
          "barpolar": [
           {
            "marker": {
             "line": {
              "color": "#E5ECF6",
              "width": 0.5
             },
             "pattern": {
              "fillmode": "overlay",
              "size": 10,
              "solidity": 0.2
             }
            },
            "type": "barpolar"
           }
          ],
          "pie": [
           {
            "automargin": true,
            "type": "pie"
           }
          ]
         },
         "layout": {
          "autotypenumbers": "strict",
          "colorway": [
           "#636efa",
           "#EF553B",
           "#00cc96",
           "#ab63fa",
           "#FFA15A",
           "#19d3f3",
           "#FF6692",
           "#B6E880",
           "#FF97FF",
           "#FECB52"
          ],
          "font": {
           "color": "#2a3f5f"
          },
          "hovermode": "closest",
          "hoverlabel": {
           "align": "left"
          },
          "paper_bgcolor": "white",
          "plot_bgcolor": "#E5ECF6",
          "polar": {
           "bgcolor": "#E5ECF6",
           "angularaxis": {
            "gridcolor": "white",
            "linecolor": "white",
            "ticks": ""
           },
           "radialaxis": {
            "gridcolor": "white",
            "linecolor": "white",
            "ticks": ""
           }
          },
          "ternary": {
           "bgcolor": "#E5ECF6",
           "aaxis": {
            "gridcolor": "white",
            "linecolor": "white",
            "ticks": ""
           },
           "baxis": {
            "gridcolor": "white",
            "linecolor": "white",
            "ticks": ""
           },
           "caxis": {
            "gridcolor": "white",
            "linecolor": "white",
            "ticks": ""
           }
          },
          "coloraxis": {
           "colorbar": {
            "outlinewidth": 0,
            "ticks": ""
           }
          },
          "colorscale": {
           "sequential": [
            [
             0.0,
             "#0d0887"
            ],
            [
             0.1111111111111111,
             "#46039f"
            ],
            [
             0.2222222222222222,
             "#7201a8"
            ],
            [
             0.3333333333333333,
             "#9c179e"
            ],
            [
             0.4444444444444444,
             "#bd3786"
            ],
            [
             0.5555555555555556,
             "#d8576b"
            ],
            [
             0.6666666666666666,
             "#ed7953"
            ],
            [
             0.7777777777777778,
             "#fb9f3a"
            ],
            [
             0.8888888888888888,
             "#fdca26"
            ],
            [
             1.0,
             "#f0f921"
            ]
           ],
           "sequentialminus": [
            [
             0.0,
             "#0d0887"
            ],
            [
             0.1111111111111111,
             "#46039f"
            ],
            [
             0.2222222222222222,
             "#7201a8"
            ],
            [
             0.3333333333333333,
             "#9c179e"
            ],
            [
             0.4444444444444444,
             "#bd3786"
            ],
            [
             0.5555555555555556,
             "#d8576b"
            ],
            [
             0.6666666666666666,
             "#ed7953"
            ],
            [
             0.7777777777777778,
             "#fb9f3a"
            ],
            [
             0.8888888888888888,
             "#fdca26"
            ],
            [
             1.0,
             "#f0f921"
            ]
           ],
           "diverging": [
            [
             0,
             "#8e0152"
            ],
            [
             0.1,
             "#c51b7d"
            ],
            [
             0.2,
             "#de77ae"
            ],
            [
             0.3,
             "#f1b6da"
            ],
            [
             0.4,
             "#fde0ef"
            ],
            [
             0.5,
             "#f7f7f7"
            ],
            [
             0.6,
             "#e6f5d0"
            ],
            [
             0.7,
             "#b8e186"
            ],
            [
             0.8,
             "#7fbc41"
            ],
            [
             0.9,
             "#4d9221"
            ],
            [
             1,
             "#276419"
            ]
           ]
          },
          "xaxis": {
           "gridcolor": "white",
           "linecolor": "white",
           "ticks": "",
           "title": {
            "standoff": 15
           },
           "zerolinecolor": "white",
           "automargin": true,
           "zerolinewidth": 2
          },
          "yaxis": {
           "gridcolor": "white",
           "linecolor": "white",
           "ticks": "",
           "title": {
            "standoff": 15
           },
           "zerolinecolor": "white",
           "automargin": true,
           "zerolinewidth": 2
          },
          "scene": {
           "xaxis": {
            "backgroundcolor": "#E5ECF6",
            "gridcolor": "white",
            "linecolor": "white",
            "showbackground": true,
            "ticks": "",
            "zerolinecolor": "white",
            "gridwidth": 2
           },
           "yaxis": {
            "backgroundcolor": "#E5ECF6",
            "gridcolor": "white",
            "linecolor": "white",
            "showbackground": true,
            "ticks": "",
            "zerolinecolor": "white",
            "gridwidth": 2
           },
           "zaxis": {
            "backgroundcolor": "#E5ECF6",
            "gridcolor": "white",
            "linecolor": "white",
            "showbackground": true,
            "ticks": "",
            "zerolinecolor": "white",
            "gridwidth": 2
           }
          },
          "shapedefaults": {
           "line": {
            "color": "#2a3f5f"
           }
          },
          "annotationdefaults": {
           "arrowcolor": "#2a3f5f",
           "arrowhead": 0,
           "arrowwidth": 1
          },
          "geo": {
           "bgcolor": "white",
           "landcolor": "#E5ECF6",
           "subunitcolor": "white",
           "showland": true,
           "showlakes": true,
           "lakecolor": "white"
          },
          "title": {
           "x": 0.05
          },
          "mapbox": {
           "style": "light"
          }
         }
        },
        "xaxis": {
         "anchor": "y",
         "domain": [
          0.0,
          1.0
         ],
         "title": {
          "text": "N1 (%)"
         },
         "range": [
          0.2,
          1.0
         ]
        },
        "yaxis": {
         "anchor": "x",
         "domain": [
          0.0,
          1.0
         ],
         "title": {
          "text": ""
         }
        },
        "legend": {
         "tracegroupgap": 0
        },
        "title": {
         "text": "prf vs N1"
        },
        "height": 400,
        "width": 800
       },
       "config": {
        "plotlyServerURL": "https://plot.ly"
       }
      }
     },
     "metadata": {},
     "output_type": "display_data"
    },
    {
     "name": "stdout",
     "output_type": "stream",
     "text": [
      "1.61\n",
      "WARNING: A pressão ambiente (101.63) é maior que a pressão total de entrada do bocal (87.99), por isso retornou-se velocidade nula no bocal!!!\n",
      "WARNING: A pressão ambiente (101.63) é maior que a pressão total de entrada do bocal (97.43), por isso retornou-se velocidade nula no bocal!!!\n"
     ]
    },
    {
     "data": {
      "application/vnd.plotly.v1+json": {
       "data": [
        {
         "hovertemplate": "N2 (%)=%{x}<br>=%{y}<extra></extra>",
         "legendgroup": "",
         "line": {
          "color": "#636efa",
          "dash": "solid"
         },
         "marker": {
          "symbol": "circle"
         },
         "mode": "lines",
         "name": "",
         "orientation": "v",
         "showlegend": false,
         "x": {
          "dtype": "f8",
          "bdata": "AAAAAAAA4D8zMzMzMzPjP2ZmZmZmZuY/mpmZmZmZ6T/NzMzMzMzsPwAAAAAAAPA/"
         },
         "xaxis": "x",
         "y": {
          "dtype": "f8",
          "bdata": "AiuHFtnODUCFfNCzWfUTQK+UZYhjXR5AHhZqTfPOJUAKaCJseJosQDMzMzMzMzFA"
         },
         "yaxis": "y",
         "type": "scatter"
        }
       ],
       "layout": {
        "template": {
         "data": {
          "histogram2dcontour": [
           {
            "type": "histogram2dcontour",
            "colorbar": {
             "outlinewidth": 0,
             "ticks": ""
            },
            "colorscale": [
             [
              0.0,
              "#0d0887"
             ],
             [
              0.1111111111111111,
              "#46039f"
             ],
             [
              0.2222222222222222,
              "#7201a8"
             ],
             [
              0.3333333333333333,
              "#9c179e"
             ],
             [
              0.4444444444444444,
              "#bd3786"
             ],
             [
              0.5555555555555556,
              "#d8576b"
             ],
             [
              0.6666666666666666,
              "#ed7953"
             ],
             [
              0.7777777777777778,
              "#fb9f3a"
             ],
             [
              0.8888888888888888,
              "#fdca26"
             ],
             [
              1.0,
              "#f0f921"
             ]
            ]
           }
          ],
          "choropleth": [
           {
            "type": "choropleth",
            "colorbar": {
             "outlinewidth": 0,
             "ticks": ""
            }
           }
          ],
          "histogram2d": [
           {
            "type": "histogram2d",
            "colorbar": {
             "outlinewidth": 0,
             "ticks": ""
            },
            "colorscale": [
             [
              0.0,
              "#0d0887"
             ],
             [
              0.1111111111111111,
              "#46039f"
             ],
             [
              0.2222222222222222,
              "#7201a8"
             ],
             [
              0.3333333333333333,
              "#9c179e"
             ],
             [
              0.4444444444444444,
              "#bd3786"
             ],
             [
              0.5555555555555556,
              "#d8576b"
             ],
             [
              0.6666666666666666,
              "#ed7953"
             ],
             [
              0.7777777777777778,
              "#fb9f3a"
             ],
             [
              0.8888888888888888,
              "#fdca26"
             ],
             [
              1.0,
              "#f0f921"
             ]
            ]
           }
          ],
          "heatmap": [
           {
            "type": "heatmap",
            "colorbar": {
             "outlinewidth": 0,
             "ticks": ""
            },
            "colorscale": [
             [
              0.0,
              "#0d0887"
             ],
             [
              0.1111111111111111,
              "#46039f"
             ],
             [
              0.2222222222222222,
              "#7201a8"
             ],
             [
              0.3333333333333333,
              "#9c179e"
             ],
             [
              0.4444444444444444,
              "#bd3786"
             ],
             [
              0.5555555555555556,
              "#d8576b"
             ],
             [
              0.6666666666666666,
              "#ed7953"
             ],
             [
              0.7777777777777778,
              "#fb9f3a"
             ],
             [
              0.8888888888888888,
              "#fdca26"
             ],
             [
              1.0,
              "#f0f921"
             ]
            ]
           }
          ],
          "contourcarpet": [
           {
            "type": "contourcarpet",
            "colorbar": {
             "outlinewidth": 0,
             "ticks": ""
            }
           }
          ],
          "contour": [
           {
            "type": "contour",
            "colorbar": {
             "outlinewidth": 0,
             "ticks": ""
            },
            "colorscale": [
             [
              0.0,
              "#0d0887"
             ],
             [
              0.1111111111111111,
              "#46039f"
             ],
             [
              0.2222222222222222,
              "#7201a8"
             ],
             [
              0.3333333333333333,
              "#9c179e"
             ],
             [
              0.4444444444444444,
              "#bd3786"
             ],
             [
              0.5555555555555556,
              "#d8576b"
             ],
             [
              0.6666666666666666,
              "#ed7953"
             ],
             [
              0.7777777777777778,
              "#fb9f3a"
             ],
             [
              0.8888888888888888,
              "#fdca26"
             ],
             [
              1.0,
              "#f0f921"
             ]
            ]
           }
          ],
          "surface": [
           {
            "type": "surface",
            "colorbar": {
             "outlinewidth": 0,
             "ticks": ""
            },
            "colorscale": [
             [
              0.0,
              "#0d0887"
             ],
             [
              0.1111111111111111,
              "#46039f"
             ],
             [
              0.2222222222222222,
              "#7201a8"
             ],
             [
              0.3333333333333333,
              "#9c179e"
             ],
             [
              0.4444444444444444,
              "#bd3786"
             ],
             [
              0.5555555555555556,
              "#d8576b"
             ],
             [
              0.6666666666666666,
              "#ed7953"
             ],
             [
              0.7777777777777778,
              "#fb9f3a"
             ],
             [
              0.8888888888888888,
              "#fdca26"
             ],
             [
              1.0,
              "#f0f921"
             ]
            ]
           }
          ],
          "mesh3d": [
           {
            "type": "mesh3d",
            "colorbar": {
             "outlinewidth": 0,
             "ticks": ""
            }
           }
          ],
          "scatter": [
           {
            "fillpattern": {
             "fillmode": "overlay",
             "size": 10,
             "solidity": 0.2
            },
            "type": "scatter"
           }
          ],
          "parcoords": [
           {
            "type": "parcoords",
            "line": {
             "colorbar": {
              "outlinewidth": 0,
              "ticks": ""
             }
            }
           }
          ],
          "scatterpolargl": [
           {
            "type": "scatterpolargl",
            "marker": {
             "colorbar": {
              "outlinewidth": 0,
              "ticks": ""
             }
            }
           }
          ],
          "bar": [
           {
            "error_x": {
             "color": "#2a3f5f"
            },
            "error_y": {
             "color": "#2a3f5f"
            },
            "marker": {
             "line": {
              "color": "#E5ECF6",
              "width": 0.5
             },
             "pattern": {
              "fillmode": "overlay",
              "size": 10,
              "solidity": 0.2
             }
            },
            "type": "bar"
           }
          ],
          "scattergeo": [
           {
            "type": "scattergeo",
            "marker": {
             "colorbar": {
              "outlinewidth": 0,
              "ticks": ""
             }
            }
           }
          ],
          "scatterpolar": [
           {
            "type": "scatterpolar",
            "marker": {
             "colorbar": {
              "outlinewidth": 0,
              "ticks": ""
             }
            }
           }
          ],
          "histogram": [
           {
            "marker": {
             "pattern": {
              "fillmode": "overlay",
              "size": 10,
              "solidity": 0.2
             }
            },
            "type": "histogram"
           }
          ],
          "scattergl": [
           {
            "type": "scattergl",
            "marker": {
             "colorbar": {
              "outlinewidth": 0,
              "ticks": ""
             }
            }
           }
          ],
          "scatter3d": [
           {
            "type": "scatter3d",
            "line": {
             "colorbar": {
              "outlinewidth": 0,
              "ticks": ""
             }
            },
            "marker": {
             "colorbar": {
              "outlinewidth": 0,
              "ticks": ""
             }
            }
           }
          ],
          "scattermap": [
           {
            "type": "scattermap",
            "marker": {
             "colorbar": {
              "outlinewidth": 0,
              "ticks": ""
             }
            }
           }
          ],
          "scattermapbox": [
           {
            "type": "scattermapbox",
            "marker": {
             "colorbar": {
              "outlinewidth": 0,
              "ticks": ""
             }
            }
           }
          ],
          "scatterternary": [
           {
            "type": "scatterternary",
            "marker": {
             "colorbar": {
              "outlinewidth": 0,
              "ticks": ""
             }
            }
           }
          ],
          "scattercarpet": [
           {
            "type": "scattercarpet",
            "marker": {
             "colorbar": {
              "outlinewidth": 0,
              "ticks": ""
             }
            }
           }
          ],
          "carpet": [
           {
            "aaxis": {
             "endlinecolor": "#2a3f5f",
             "gridcolor": "white",
             "linecolor": "white",
             "minorgridcolor": "white",
             "startlinecolor": "#2a3f5f"
            },
            "baxis": {
             "endlinecolor": "#2a3f5f",
             "gridcolor": "white",
             "linecolor": "white",
             "minorgridcolor": "white",
             "startlinecolor": "#2a3f5f"
            },
            "type": "carpet"
           }
          ],
          "table": [
           {
            "cells": {
             "fill": {
              "color": "#EBF0F8"
             },
             "line": {
              "color": "white"
             }
            },
            "header": {
             "fill": {
              "color": "#C8D4E3"
             },
             "line": {
              "color": "white"
             }
            },
            "type": "table"
           }
          ],
          "barpolar": [
           {
            "marker": {
             "line": {
              "color": "#E5ECF6",
              "width": 0.5
             },
             "pattern": {
              "fillmode": "overlay",
              "size": 10,
              "solidity": 0.2
             }
            },
            "type": "barpolar"
           }
          ],
          "pie": [
           {
            "automargin": true,
            "type": "pie"
           }
          ]
         },
         "layout": {
          "autotypenumbers": "strict",
          "colorway": [
           "#636efa",
           "#EF553B",
           "#00cc96",
           "#ab63fa",
           "#FFA15A",
           "#19d3f3",
           "#FF6692",
           "#B6E880",
           "#FF97FF",
           "#FECB52"
          ],
          "font": {
           "color": "#2a3f5f"
          },
          "hovermode": "closest",
          "hoverlabel": {
           "align": "left"
          },
          "paper_bgcolor": "white",
          "plot_bgcolor": "#E5ECF6",
          "polar": {
           "bgcolor": "#E5ECF6",
           "angularaxis": {
            "gridcolor": "white",
            "linecolor": "white",
            "ticks": ""
           },
           "radialaxis": {
            "gridcolor": "white",
            "linecolor": "white",
            "ticks": ""
           }
          },
          "ternary": {
           "bgcolor": "#E5ECF6",
           "aaxis": {
            "gridcolor": "white",
            "linecolor": "white",
            "ticks": ""
           },
           "baxis": {
            "gridcolor": "white",
            "linecolor": "white",
            "ticks": ""
           },
           "caxis": {
            "gridcolor": "white",
            "linecolor": "white",
            "ticks": ""
           }
          },
          "coloraxis": {
           "colorbar": {
            "outlinewidth": 0,
            "ticks": ""
           }
          },
          "colorscale": {
           "sequential": [
            [
             0.0,
             "#0d0887"
            ],
            [
             0.1111111111111111,
             "#46039f"
            ],
            [
             0.2222222222222222,
             "#7201a8"
            ],
            [
             0.3333333333333333,
             "#9c179e"
            ],
            [
             0.4444444444444444,
             "#bd3786"
            ],
            [
             0.5555555555555556,
             "#d8576b"
            ],
            [
             0.6666666666666666,
             "#ed7953"
            ],
            [
             0.7777777777777778,
             "#fb9f3a"
            ],
            [
             0.8888888888888888,
             "#fdca26"
            ],
            [
             1.0,
             "#f0f921"
            ]
           ],
           "sequentialminus": [
            [
             0.0,
             "#0d0887"
            ],
            [
             0.1111111111111111,
             "#46039f"
            ],
            [
             0.2222222222222222,
             "#7201a8"
            ],
            [
             0.3333333333333333,
             "#9c179e"
            ],
            [
             0.4444444444444444,
             "#bd3786"
            ],
            [
             0.5555555555555556,
             "#d8576b"
            ],
            [
             0.6666666666666666,
             "#ed7953"
            ],
            [
             0.7777777777777778,
             "#fb9f3a"
            ],
            [
             0.8888888888888888,
             "#fdca26"
            ],
            [
             1.0,
             "#f0f921"
            ]
           ],
           "diverging": [
            [
             0,
             "#8e0152"
            ],
            [
             0.1,
             "#c51b7d"
            ],
            [
             0.2,
             "#de77ae"
            ],
            [
             0.3,
             "#f1b6da"
            ],
            [
             0.4,
             "#fde0ef"
            ],
            [
             0.5,
             "#f7f7f7"
            ],
            [
             0.6,
             "#e6f5d0"
            ],
            [
             0.7,
             "#b8e186"
            ],
            [
             0.8,
             "#7fbc41"
            ],
            [
             0.9,
             "#4d9221"
            ],
            [
             1,
             "#276419"
            ]
           ]
          },
          "xaxis": {
           "gridcolor": "white",
           "linecolor": "white",
           "ticks": "",
           "title": {
            "standoff": 15
           },
           "zerolinecolor": "white",
           "automargin": true,
           "zerolinewidth": 2
          },
          "yaxis": {
           "gridcolor": "white",
           "linecolor": "white",
           "ticks": "",
           "title": {
            "standoff": 15
           },
           "zerolinecolor": "white",
           "automargin": true,
           "zerolinewidth": 2
          },
          "scene": {
           "xaxis": {
            "backgroundcolor": "#E5ECF6",
            "gridcolor": "white",
            "linecolor": "white",
            "showbackground": true,
            "ticks": "",
            "zerolinecolor": "white",
            "gridwidth": 2
           },
           "yaxis": {
            "backgroundcolor": "#E5ECF6",
            "gridcolor": "white",
            "linecolor": "white",
            "showbackground": true,
            "ticks": "",
            "zerolinecolor": "white",
            "gridwidth": 2
           },
           "zaxis": {
            "backgroundcolor": "#E5ECF6",
            "gridcolor": "white",
            "linecolor": "white",
            "showbackground": true,
            "ticks": "",
            "zerolinecolor": "white",
            "gridwidth": 2
           }
          },
          "shapedefaults": {
           "line": {
            "color": "#2a3f5f"
           }
          },
          "annotationdefaults": {
           "arrowcolor": "#2a3f5f",
           "arrowhead": 0,
           "arrowwidth": 1
          },
          "geo": {
           "bgcolor": "white",
           "landcolor": "#E5ECF6",
           "subunitcolor": "white",
           "showland": true,
           "showlakes": true,
           "lakecolor": "white"
          },
          "title": {
           "x": 0.05
          },
          "mapbox": {
           "style": "light"
          }
         }
        },
        "xaxis": {
         "anchor": "y",
         "domain": [
          0.0,
          1.0
         ],
         "title": {
          "text": "N2 (%)"
         },
         "range": [
          0.4,
          1.0
         ]
        },
        "yaxis": {
         "anchor": "x",
         "domain": [
          0.0,
          1.0
         ],
         "title": {
          "text": ""
         }
        },
        "legend": {
         "tracegroupgap": 0
        },
        "title": {
         "text": "prc vs N2"
        },
        "height": 400,
        "width": 800
       },
       "config": {
        "plotlyServerURL": "https://plot.ly"
       }
      }
     },
     "metadata": {},
     "output_type": "display_data"
    },
    {
     "name": "stdout",
     "output_type": "stream",
     "text": [
      "4.62\n",
      "WARNING: A pressão ambiente (101.63) é maior que a pressão total de entrada do bocal (87.99), por isso retornou-se velocidade nula no bocal!!!\n",
      "WARNING: A pressão ambiente (101.63) é maior que a pressão total de entrada do bocal (97.43), por isso retornou-se velocidade nula no bocal!!!\n"
     ]
    },
    {
     "data": {
      "application/vnd.plotly.v1+json": {
       "data": [
        {
         "hovertemplate": "N2 (%)=%{x}<br>=%{y}<extra></extra>",
         "legendgroup": "",
         "line": {
          "color": "#636efa",
          "dash": "solid"
         },
         "marker": {
          "symbol": "circle"
         },
         "mode": "lines",
         "name": "",
         "orientation": "v",
         "showlegend": false,
         "x": {
          "dtype": "f8",
          "bdata": "AAAAAAAA4D8zMzMzMzPjP2ZmZmZmZuY/mpmZmZmZ6T/NzMzMzMzsPwAAAAAAAPA/"
         },
         "xaxis": "x",
         "y": {
          "dtype": "f8",
          "bdata": "m1Wfq61YD0C0WfW52ooWQJ+rrdhf1iJAvJaQD3o2LkDrc7UV+1s2QMUgsHJoET1A"
         },
         "yaxis": "y",
         "type": "scatter"
        }
       ],
       "layout": {
        "template": {
         "data": {
          "histogram2dcontour": [
           {
            "type": "histogram2dcontour",
            "colorbar": {
             "outlinewidth": 0,
             "ticks": ""
            },
            "colorscale": [
             [
              0.0,
              "#0d0887"
             ],
             [
              0.1111111111111111,
              "#46039f"
             ],
             [
              0.2222222222222222,
              "#7201a8"
             ],
             [
              0.3333333333333333,
              "#9c179e"
             ],
             [
              0.4444444444444444,
              "#bd3786"
             ],
             [
              0.5555555555555556,
              "#d8576b"
             ],
             [
              0.6666666666666666,
              "#ed7953"
             ],
             [
              0.7777777777777778,
              "#fb9f3a"
             ],
             [
              0.8888888888888888,
              "#fdca26"
             ],
             [
              1.0,
              "#f0f921"
             ]
            ]
           }
          ],
          "choropleth": [
           {
            "type": "choropleth",
            "colorbar": {
             "outlinewidth": 0,
             "ticks": ""
            }
           }
          ],
          "histogram2d": [
           {
            "type": "histogram2d",
            "colorbar": {
             "outlinewidth": 0,
             "ticks": ""
            },
            "colorscale": [
             [
              0.0,
              "#0d0887"
             ],
             [
              0.1111111111111111,
              "#46039f"
             ],
             [
              0.2222222222222222,
              "#7201a8"
             ],
             [
              0.3333333333333333,
              "#9c179e"
             ],
             [
              0.4444444444444444,
              "#bd3786"
             ],
             [
              0.5555555555555556,
              "#d8576b"
             ],
             [
              0.6666666666666666,
              "#ed7953"
             ],
             [
              0.7777777777777778,
              "#fb9f3a"
             ],
             [
              0.8888888888888888,
              "#fdca26"
             ],
             [
              1.0,
              "#f0f921"
             ]
            ]
           }
          ],
          "heatmap": [
           {
            "type": "heatmap",
            "colorbar": {
             "outlinewidth": 0,
             "ticks": ""
            },
            "colorscale": [
             [
              0.0,
              "#0d0887"
             ],
             [
              0.1111111111111111,
              "#46039f"
             ],
             [
              0.2222222222222222,
              "#7201a8"
             ],
             [
              0.3333333333333333,
              "#9c179e"
             ],
             [
              0.4444444444444444,
              "#bd3786"
             ],
             [
              0.5555555555555556,
              "#d8576b"
             ],
             [
              0.6666666666666666,
              "#ed7953"
             ],
             [
              0.7777777777777778,
              "#fb9f3a"
             ],
             [
              0.8888888888888888,
              "#fdca26"
             ],
             [
              1.0,
              "#f0f921"
             ]
            ]
           }
          ],
          "contourcarpet": [
           {
            "type": "contourcarpet",
            "colorbar": {
             "outlinewidth": 0,
             "ticks": ""
            }
           }
          ],
          "contour": [
           {
            "type": "contour",
            "colorbar": {
             "outlinewidth": 0,
             "ticks": ""
            },
            "colorscale": [
             [
              0.0,
              "#0d0887"
             ],
             [
              0.1111111111111111,
              "#46039f"
             ],
             [
              0.2222222222222222,
              "#7201a8"
             ],
             [
              0.3333333333333333,
              "#9c179e"
             ],
             [
              0.4444444444444444,
              "#bd3786"
             ],
             [
              0.5555555555555556,
              "#d8576b"
             ],
             [
              0.6666666666666666,
              "#ed7953"
             ],
             [
              0.7777777777777778,
              "#fb9f3a"
             ],
             [
              0.8888888888888888,
              "#fdca26"
             ],
             [
              1.0,
              "#f0f921"
             ]
            ]
           }
          ],
          "surface": [
           {
            "type": "surface",
            "colorbar": {
             "outlinewidth": 0,
             "ticks": ""
            },
            "colorscale": [
             [
              0.0,
              "#0d0887"
             ],
             [
              0.1111111111111111,
              "#46039f"
             ],
             [
              0.2222222222222222,
              "#7201a8"
             ],
             [
              0.3333333333333333,
              "#9c179e"
             ],
             [
              0.4444444444444444,
              "#bd3786"
             ],
             [
              0.5555555555555556,
              "#d8576b"
             ],
             [
              0.6666666666666666,
              "#ed7953"
             ],
             [
              0.7777777777777778,
              "#fb9f3a"
             ],
             [
              0.8888888888888888,
              "#fdca26"
             ],
             [
              1.0,
              "#f0f921"
             ]
            ]
           }
          ],
          "mesh3d": [
           {
            "type": "mesh3d",
            "colorbar": {
             "outlinewidth": 0,
             "ticks": ""
            }
           }
          ],
          "scatter": [
           {
            "fillpattern": {
             "fillmode": "overlay",
             "size": 10,
             "solidity": 0.2
            },
            "type": "scatter"
           }
          ],
          "parcoords": [
           {
            "type": "parcoords",
            "line": {
             "colorbar": {
              "outlinewidth": 0,
              "ticks": ""
             }
            }
           }
          ],
          "scatterpolargl": [
           {
            "type": "scatterpolargl",
            "marker": {
             "colorbar": {
              "outlinewidth": 0,
              "ticks": ""
             }
            }
           }
          ],
          "bar": [
           {
            "error_x": {
             "color": "#2a3f5f"
            },
            "error_y": {
             "color": "#2a3f5f"
            },
            "marker": {
             "line": {
              "color": "#E5ECF6",
              "width": 0.5
             },
             "pattern": {
              "fillmode": "overlay",
              "size": 10,
              "solidity": 0.2
             }
            },
            "type": "bar"
           }
          ],
          "scattergeo": [
           {
            "type": "scattergeo",
            "marker": {
             "colorbar": {
              "outlinewidth": 0,
              "ticks": ""
             }
            }
           }
          ],
          "scatterpolar": [
           {
            "type": "scatterpolar",
            "marker": {
             "colorbar": {
              "outlinewidth": 0,
              "ticks": ""
             }
            }
           }
          ],
          "histogram": [
           {
            "marker": {
             "pattern": {
              "fillmode": "overlay",
              "size": 10,
              "solidity": 0.2
             }
            },
            "type": "histogram"
           }
          ],
          "scattergl": [
           {
            "type": "scattergl",
            "marker": {
             "colorbar": {
              "outlinewidth": 0,
              "ticks": ""
             }
            }
           }
          ],
          "scatter3d": [
           {
            "type": "scatter3d",
            "line": {
             "colorbar": {
              "outlinewidth": 0,
              "ticks": ""
             }
            },
            "marker": {
             "colorbar": {
              "outlinewidth": 0,
              "ticks": ""
             }
            }
           }
          ],
          "scattermap": [
           {
            "type": "scattermap",
            "marker": {
             "colorbar": {
              "outlinewidth": 0,
              "ticks": ""
             }
            }
           }
          ],
          "scattermapbox": [
           {
            "type": "scattermapbox",
            "marker": {
             "colorbar": {
              "outlinewidth": 0,
              "ticks": ""
             }
            }
           }
          ],
          "scatterternary": [
           {
            "type": "scatterternary",
            "marker": {
             "colorbar": {
              "outlinewidth": 0,
              "ticks": ""
             }
            }
           }
          ],
          "scattercarpet": [
           {
            "type": "scattercarpet",
            "marker": {
             "colorbar": {
              "outlinewidth": 0,
              "ticks": ""
             }
            }
           }
          ],
          "carpet": [
           {
            "aaxis": {
             "endlinecolor": "#2a3f5f",
             "gridcolor": "white",
             "linecolor": "white",
             "minorgridcolor": "white",
             "startlinecolor": "#2a3f5f"
            },
            "baxis": {
             "endlinecolor": "#2a3f5f",
             "gridcolor": "white",
             "linecolor": "white",
             "minorgridcolor": "white",
             "startlinecolor": "#2a3f5f"
            },
            "type": "carpet"
           }
          ],
          "table": [
           {
            "cells": {
             "fill": {
              "color": "#EBF0F8"
             },
             "line": {
              "color": "white"
             }
            },
            "header": {
             "fill": {
              "color": "#C8D4E3"
             },
             "line": {
              "color": "white"
             }
            },
            "type": "table"
           }
          ],
          "barpolar": [
           {
            "marker": {
             "line": {
              "color": "#E5ECF6",
              "width": 0.5
             },
             "pattern": {
              "fillmode": "overlay",
              "size": 10,
              "solidity": 0.2
             }
            },
            "type": "barpolar"
           }
          ],
          "pie": [
           {
            "automargin": true,
            "type": "pie"
           }
          ]
         },
         "layout": {
          "autotypenumbers": "strict",
          "colorway": [
           "#636efa",
           "#EF553B",
           "#00cc96",
           "#ab63fa",
           "#FFA15A",
           "#19d3f3",
           "#FF6692",
           "#B6E880",
           "#FF97FF",
           "#FECB52"
          ],
          "font": {
           "color": "#2a3f5f"
          },
          "hovermode": "closest",
          "hoverlabel": {
           "align": "left"
          },
          "paper_bgcolor": "white",
          "plot_bgcolor": "#E5ECF6",
          "polar": {
           "bgcolor": "#E5ECF6",
           "angularaxis": {
            "gridcolor": "white",
            "linecolor": "white",
            "ticks": ""
           },
           "radialaxis": {
            "gridcolor": "white",
            "linecolor": "white",
            "ticks": ""
           }
          },
          "ternary": {
           "bgcolor": "#E5ECF6",
           "aaxis": {
            "gridcolor": "white",
            "linecolor": "white",
            "ticks": ""
           },
           "baxis": {
            "gridcolor": "white",
            "linecolor": "white",
            "ticks": ""
           },
           "caxis": {
            "gridcolor": "white",
            "linecolor": "white",
            "ticks": ""
           }
          },
          "coloraxis": {
           "colorbar": {
            "outlinewidth": 0,
            "ticks": ""
           }
          },
          "colorscale": {
           "sequential": [
            [
             0.0,
             "#0d0887"
            ],
            [
             0.1111111111111111,
             "#46039f"
            ],
            [
             0.2222222222222222,
             "#7201a8"
            ],
            [
             0.3333333333333333,
             "#9c179e"
            ],
            [
             0.4444444444444444,
             "#bd3786"
            ],
            [
             0.5555555555555556,
             "#d8576b"
            ],
            [
             0.6666666666666666,
             "#ed7953"
            ],
            [
             0.7777777777777778,
             "#fb9f3a"
            ],
            [
             0.8888888888888888,
             "#fdca26"
            ],
            [
             1.0,
             "#f0f921"
            ]
           ],
           "sequentialminus": [
            [
             0.0,
             "#0d0887"
            ],
            [
             0.1111111111111111,
             "#46039f"
            ],
            [
             0.2222222222222222,
             "#7201a8"
            ],
            [
             0.3333333333333333,
             "#9c179e"
            ],
            [
             0.4444444444444444,
             "#bd3786"
            ],
            [
             0.5555555555555556,
             "#d8576b"
            ],
            [
             0.6666666666666666,
             "#ed7953"
            ],
            [
             0.7777777777777778,
             "#fb9f3a"
            ],
            [
             0.8888888888888888,
             "#fdca26"
            ],
            [
             1.0,
             "#f0f921"
            ]
           ],
           "diverging": [
            [
             0,
             "#8e0152"
            ],
            [
             0.1,
             "#c51b7d"
            ],
            [
             0.2,
             "#de77ae"
            ],
            [
             0.3,
             "#f1b6da"
            ],
            [
             0.4,
             "#fde0ef"
            ],
            [
             0.5,
             "#f7f7f7"
            ],
            [
             0.6,
             "#e6f5d0"
            ],
            [
             0.7,
             "#b8e186"
            ],
            [
             0.8,
             "#7fbc41"
            ],
            [
             0.9,
             "#4d9221"
            ],
            [
             1,
             "#276419"
            ]
           ]
          },
          "xaxis": {
           "gridcolor": "white",
           "linecolor": "white",
           "ticks": "",
           "title": {
            "standoff": 15
           },
           "zerolinecolor": "white",
           "automargin": true,
           "zerolinewidth": 2
          },
          "yaxis": {
           "gridcolor": "white",
           "linecolor": "white",
           "ticks": "",
           "title": {
            "standoff": 15
           },
           "zerolinecolor": "white",
           "automargin": true,
           "zerolinewidth": 2
          },
          "scene": {
           "xaxis": {
            "backgroundcolor": "#E5ECF6",
            "gridcolor": "white",
            "linecolor": "white",
            "showbackground": true,
            "ticks": "",
            "zerolinecolor": "white",
            "gridwidth": 2
           },
           "yaxis": {
            "backgroundcolor": "#E5ECF6",
            "gridcolor": "white",
            "linecolor": "white",
            "showbackground": true,
            "ticks": "",
            "zerolinecolor": "white",
            "gridwidth": 2
           },
           "zaxis": {
            "backgroundcolor": "#E5ECF6",
            "gridcolor": "white",
            "linecolor": "white",
            "showbackground": true,
            "ticks": "",
            "zerolinecolor": "white",
            "gridwidth": 2
           }
          },
          "shapedefaults": {
           "line": {
            "color": "#2a3f5f"
           }
          },
          "annotationdefaults": {
           "arrowcolor": "#2a3f5f",
           "arrowhead": 0,
           "arrowwidth": 1
          },
          "geo": {
           "bgcolor": "white",
           "landcolor": "#E5ECF6",
           "subunitcolor": "white",
           "showland": true,
           "showlakes": true,
           "lakecolor": "white"
          },
          "title": {
           "x": 0.05
          },
          "mapbox": {
           "style": "light"
          }
         }
        },
        "xaxis": {
         "anchor": "y",
         "domain": [
          0.0,
          1.0
         ],
         "title": {
          "text": "N2 (%)"
         },
         "range": [
          0.4,
          1.0
         ]
        },
        "yaxis": {
         "anchor": "x",
         "domain": [
          0.0,
          1.0
         ],
         "title": {
          "text": ""
         }
        },
        "legend": {
         "tracegroupgap": 0
        },
        "title": {
         "text": "pr vs N2"
        },
        "height": 400,
        "width": 800
       },
       "config": {
        "plotlyServerURL": "https://plot.ly"
       }
      }
     },
     "metadata": {},
     "output_type": "display_data"
    },
    {
     "name": "stdout",
     "output_type": "stream",
     "text": [
      "7.42\n",
      "WARNING: A pressão ambiente (101.63) é maior que a pressão total de entrada do bocal (87.99), por isso retornou-se velocidade nula no bocal!!!\n",
      "WARNING: A pressão ambiente (101.63) é maior que a pressão total de entrada do bocal (97.43), por isso retornou-se velocidade nula no bocal!!!\n"
     ]
    },
    {
     "data": {
      "application/vnd.plotly.v1+json": {
       "data": [
        {
         "hovertemplate": "N2 (%)=%{x}<br>kg/s=%{y}<extra></extra>",
         "legendgroup": "",
         "line": {
          "color": "#636efa",
          "dash": "solid"
         },
         "marker": {
          "symbol": "circle"
         },
         "mode": "lines",
         "name": "",
         "orientation": "v",
         "showlegend": false,
         "x": {
          "dtype": "f8",
          "bdata": "AAAAAAAA4D8zMzMzMzPjP2ZmZmZmZuY/mpmZmZmZ6T/NzMzMzMzsPwAAAAAAAPA/"
         },
         "xaxis": "x",
         "y": {
          "dtype": "f8",
          "bdata": "9ihcj8LlMkDKVMGopH43QCcxCKwcakNAGQRWDi2KT0DzH9JvX9NXQDAqqRPQYmBA"
         },
         "yaxis": "y",
         "type": "scatter"
        }
       ],
       "layout": {
        "template": {
         "data": {
          "histogram2dcontour": [
           {
            "type": "histogram2dcontour",
            "colorbar": {
             "outlinewidth": 0,
             "ticks": ""
            },
            "colorscale": [
             [
              0.0,
              "#0d0887"
             ],
             [
              0.1111111111111111,
              "#46039f"
             ],
             [
              0.2222222222222222,
              "#7201a8"
             ],
             [
              0.3333333333333333,
              "#9c179e"
             ],
             [
              0.4444444444444444,
              "#bd3786"
             ],
             [
              0.5555555555555556,
              "#d8576b"
             ],
             [
              0.6666666666666666,
              "#ed7953"
             ],
             [
              0.7777777777777778,
              "#fb9f3a"
             ],
             [
              0.8888888888888888,
              "#fdca26"
             ],
             [
              1.0,
              "#f0f921"
             ]
            ]
           }
          ],
          "choropleth": [
           {
            "type": "choropleth",
            "colorbar": {
             "outlinewidth": 0,
             "ticks": ""
            }
           }
          ],
          "histogram2d": [
           {
            "type": "histogram2d",
            "colorbar": {
             "outlinewidth": 0,
             "ticks": ""
            },
            "colorscale": [
             [
              0.0,
              "#0d0887"
             ],
             [
              0.1111111111111111,
              "#46039f"
             ],
             [
              0.2222222222222222,
              "#7201a8"
             ],
             [
              0.3333333333333333,
              "#9c179e"
             ],
             [
              0.4444444444444444,
              "#bd3786"
             ],
             [
              0.5555555555555556,
              "#d8576b"
             ],
             [
              0.6666666666666666,
              "#ed7953"
             ],
             [
              0.7777777777777778,
              "#fb9f3a"
             ],
             [
              0.8888888888888888,
              "#fdca26"
             ],
             [
              1.0,
              "#f0f921"
             ]
            ]
           }
          ],
          "heatmap": [
           {
            "type": "heatmap",
            "colorbar": {
             "outlinewidth": 0,
             "ticks": ""
            },
            "colorscale": [
             [
              0.0,
              "#0d0887"
             ],
             [
              0.1111111111111111,
              "#46039f"
             ],
             [
              0.2222222222222222,
              "#7201a8"
             ],
             [
              0.3333333333333333,
              "#9c179e"
             ],
             [
              0.4444444444444444,
              "#bd3786"
             ],
             [
              0.5555555555555556,
              "#d8576b"
             ],
             [
              0.6666666666666666,
              "#ed7953"
             ],
             [
              0.7777777777777778,
              "#fb9f3a"
             ],
             [
              0.8888888888888888,
              "#fdca26"
             ],
             [
              1.0,
              "#f0f921"
             ]
            ]
           }
          ],
          "contourcarpet": [
           {
            "type": "contourcarpet",
            "colorbar": {
             "outlinewidth": 0,
             "ticks": ""
            }
           }
          ],
          "contour": [
           {
            "type": "contour",
            "colorbar": {
             "outlinewidth": 0,
             "ticks": ""
            },
            "colorscale": [
             [
              0.0,
              "#0d0887"
             ],
             [
              0.1111111111111111,
              "#46039f"
             ],
             [
              0.2222222222222222,
              "#7201a8"
             ],
             [
              0.3333333333333333,
              "#9c179e"
             ],
             [
              0.4444444444444444,
              "#bd3786"
             ],
             [
              0.5555555555555556,
              "#d8576b"
             ],
             [
              0.6666666666666666,
              "#ed7953"
             ],
             [
              0.7777777777777778,
              "#fb9f3a"
             ],
             [
              0.8888888888888888,
              "#fdca26"
             ],
             [
              1.0,
              "#f0f921"
             ]
            ]
           }
          ],
          "surface": [
           {
            "type": "surface",
            "colorbar": {
             "outlinewidth": 0,
             "ticks": ""
            },
            "colorscale": [
             [
              0.0,
              "#0d0887"
             ],
             [
              0.1111111111111111,
              "#46039f"
             ],
             [
              0.2222222222222222,
              "#7201a8"
             ],
             [
              0.3333333333333333,
              "#9c179e"
             ],
             [
              0.4444444444444444,
              "#bd3786"
             ],
             [
              0.5555555555555556,
              "#d8576b"
             ],
             [
              0.6666666666666666,
              "#ed7953"
             ],
             [
              0.7777777777777778,
              "#fb9f3a"
             ],
             [
              0.8888888888888888,
              "#fdca26"
             ],
             [
              1.0,
              "#f0f921"
             ]
            ]
           }
          ],
          "mesh3d": [
           {
            "type": "mesh3d",
            "colorbar": {
             "outlinewidth": 0,
             "ticks": ""
            }
           }
          ],
          "scatter": [
           {
            "fillpattern": {
             "fillmode": "overlay",
             "size": 10,
             "solidity": 0.2
            },
            "type": "scatter"
           }
          ],
          "parcoords": [
           {
            "type": "parcoords",
            "line": {
             "colorbar": {
              "outlinewidth": 0,
              "ticks": ""
             }
            }
           }
          ],
          "scatterpolargl": [
           {
            "type": "scatterpolargl",
            "marker": {
             "colorbar": {
              "outlinewidth": 0,
              "ticks": ""
             }
            }
           }
          ],
          "bar": [
           {
            "error_x": {
             "color": "#2a3f5f"
            },
            "error_y": {
             "color": "#2a3f5f"
            },
            "marker": {
             "line": {
              "color": "#E5ECF6",
              "width": 0.5
             },
             "pattern": {
              "fillmode": "overlay",
              "size": 10,
              "solidity": 0.2
             }
            },
            "type": "bar"
           }
          ],
          "scattergeo": [
           {
            "type": "scattergeo",
            "marker": {
             "colorbar": {
              "outlinewidth": 0,
              "ticks": ""
             }
            }
           }
          ],
          "scatterpolar": [
           {
            "type": "scatterpolar",
            "marker": {
             "colorbar": {
              "outlinewidth": 0,
              "ticks": ""
             }
            }
           }
          ],
          "histogram": [
           {
            "marker": {
             "pattern": {
              "fillmode": "overlay",
              "size": 10,
              "solidity": 0.2
             }
            },
            "type": "histogram"
           }
          ],
          "scattergl": [
           {
            "type": "scattergl",
            "marker": {
             "colorbar": {
              "outlinewidth": 0,
              "ticks": ""
             }
            }
           }
          ],
          "scatter3d": [
           {
            "type": "scatter3d",
            "line": {
             "colorbar": {
              "outlinewidth": 0,
              "ticks": ""
             }
            },
            "marker": {
             "colorbar": {
              "outlinewidth": 0,
              "ticks": ""
             }
            }
           }
          ],
          "scattermap": [
           {
            "type": "scattermap",
            "marker": {
             "colorbar": {
              "outlinewidth": 0,
              "ticks": ""
             }
            }
           }
          ],
          "scattermapbox": [
           {
            "type": "scattermapbox",
            "marker": {
             "colorbar": {
              "outlinewidth": 0,
              "ticks": ""
             }
            }
           }
          ],
          "scatterternary": [
           {
            "type": "scatterternary",
            "marker": {
             "colorbar": {
              "outlinewidth": 0,
              "ticks": ""
             }
            }
           }
          ],
          "scattercarpet": [
           {
            "type": "scattercarpet",
            "marker": {
             "colorbar": {
              "outlinewidth": 0,
              "ticks": ""
             }
            }
           }
          ],
          "carpet": [
           {
            "aaxis": {
             "endlinecolor": "#2a3f5f",
             "gridcolor": "white",
             "linecolor": "white",
             "minorgridcolor": "white",
             "startlinecolor": "#2a3f5f"
            },
            "baxis": {
             "endlinecolor": "#2a3f5f",
             "gridcolor": "white",
             "linecolor": "white",
             "minorgridcolor": "white",
             "startlinecolor": "#2a3f5f"
            },
            "type": "carpet"
           }
          ],
          "table": [
           {
            "cells": {
             "fill": {
              "color": "#EBF0F8"
             },
             "line": {
              "color": "white"
             }
            },
            "header": {
             "fill": {
              "color": "#C8D4E3"
             },
             "line": {
              "color": "white"
             }
            },
            "type": "table"
           }
          ],
          "barpolar": [
           {
            "marker": {
             "line": {
              "color": "#E5ECF6",
              "width": 0.5
             },
             "pattern": {
              "fillmode": "overlay",
              "size": 10,
              "solidity": 0.2
             }
            },
            "type": "barpolar"
           }
          ],
          "pie": [
           {
            "automargin": true,
            "type": "pie"
           }
          ]
         },
         "layout": {
          "autotypenumbers": "strict",
          "colorway": [
           "#636efa",
           "#EF553B",
           "#00cc96",
           "#ab63fa",
           "#FFA15A",
           "#19d3f3",
           "#FF6692",
           "#B6E880",
           "#FF97FF",
           "#FECB52"
          ],
          "font": {
           "color": "#2a3f5f"
          },
          "hovermode": "closest",
          "hoverlabel": {
           "align": "left"
          },
          "paper_bgcolor": "white",
          "plot_bgcolor": "#E5ECF6",
          "polar": {
           "bgcolor": "#E5ECF6",
           "angularaxis": {
            "gridcolor": "white",
            "linecolor": "white",
            "ticks": ""
           },
           "radialaxis": {
            "gridcolor": "white",
            "linecolor": "white",
            "ticks": ""
           }
          },
          "ternary": {
           "bgcolor": "#E5ECF6",
           "aaxis": {
            "gridcolor": "white",
            "linecolor": "white",
            "ticks": ""
           },
           "baxis": {
            "gridcolor": "white",
            "linecolor": "white",
            "ticks": ""
           },
           "caxis": {
            "gridcolor": "white",
            "linecolor": "white",
            "ticks": ""
           }
          },
          "coloraxis": {
           "colorbar": {
            "outlinewidth": 0,
            "ticks": ""
           }
          },
          "colorscale": {
           "sequential": [
            [
             0.0,
             "#0d0887"
            ],
            [
             0.1111111111111111,
             "#46039f"
            ],
            [
             0.2222222222222222,
             "#7201a8"
            ],
            [
             0.3333333333333333,
             "#9c179e"
            ],
            [
             0.4444444444444444,
             "#bd3786"
            ],
            [
             0.5555555555555556,
             "#d8576b"
            ],
            [
             0.6666666666666666,
             "#ed7953"
            ],
            [
             0.7777777777777778,
             "#fb9f3a"
            ],
            [
             0.8888888888888888,
             "#fdca26"
            ],
            [
             1.0,
             "#f0f921"
            ]
           ],
           "sequentialminus": [
            [
             0.0,
             "#0d0887"
            ],
            [
             0.1111111111111111,
             "#46039f"
            ],
            [
             0.2222222222222222,
             "#7201a8"
            ],
            [
             0.3333333333333333,
             "#9c179e"
            ],
            [
             0.4444444444444444,
             "#bd3786"
            ],
            [
             0.5555555555555556,
             "#d8576b"
            ],
            [
             0.6666666666666666,
             "#ed7953"
            ],
            [
             0.7777777777777778,
             "#fb9f3a"
            ],
            [
             0.8888888888888888,
             "#fdca26"
            ],
            [
             1.0,
             "#f0f921"
            ]
           ],
           "diverging": [
            [
             0,
             "#8e0152"
            ],
            [
             0.1,
             "#c51b7d"
            ],
            [
             0.2,
             "#de77ae"
            ],
            [
             0.3,
             "#f1b6da"
            ],
            [
             0.4,
             "#fde0ef"
            ],
            [
             0.5,
             "#f7f7f7"
            ],
            [
             0.6,
             "#e6f5d0"
            ],
            [
             0.7,
             "#b8e186"
            ],
            [
             0.8,
             "#7fbc41"
            ],
            [
             0.9,
             "#4d9221"
            ],
            [
             1,
             "#276419"
            ]
           ]
          },
          "xaxis": {
           "gridcolor": "white",
           "linecolor": "white",
           "ticks": "",
           "title": {
            "standoff": 15
           },
           "zerolinecolor": "white",
           "automargin": true,
           "zerolinewidth": 2
          },
          "yaxis": {
           "gridcolor": "white",
           "linecolor": "white",
           "ticks": "",
           "title": {
            "standoff": 15
           },
           "zerolinecolor": "white",
           "automargin": true,
           "zerolinewidth": 2
          },
          "scene": {
           "xaxis": {
            "backgroundcolor": "#E5ECF6",
            "gridcolor": "white",
            "linecolor": "white",
            "showbackground": true,
            "ticks": "",
            "zerolinecolor": "white",
            "gridwidth": 2
           },
           "yaxis": {
            "backgroundcolor": "#E5ECF6",
            "gridcolor": "white",
            "linecolor": "white",
            "showbackground": true,
            "ticks": "",
            "zerolinecolor": "white",
            "gridwidth": 2
           },
           "zaxis": {
            "backgroundcolor": "#E5ECF6",
            "gridcolor": "white",
            "linecolor": "white",
            "showbackground": true,
            "ticks": "",
            "zerolinecolor": "white",
            "gridwidth": 2
           }
          },
          "shapedefaults": {
           "line": {
            "color": "#2a3f5f"
           }
          },
          "annotationdefaults": {
           "arrowcolor": "#2a3f5f",
           "arrowhead": 0,
           "arrowwidth": 1
          },
          "geo": {
           "bgcolor": "white",
           "landcolor": "#E5ECF6",
           "subunitcolor": "white",
           "showland": true,
           "showlakes": true,
           "lakecolor": "white"
          },
          "title": {
           "x": 0.05
          },
          "mapbox": {
           "style": "light"
          }
         }
        },
        "xaxis": {
         "anchor": "y",
         "domain": [
          0.0,
          1.0
         ],
         "title": {
          "text": "N2 (%)"
         },
         "range": [
          0.4,
          1.0
         ]
        },
        "yaxis": {
         "anchor": "x",
         "domain": [
          0.0,
          1.0
         ],
         "title": {
          "text": "kg/s"
         }
        },
        "legend": {
         "tracegroupgap": 0
        },
        "title": {
         "text": "hot_air_flow vs N2"
        },
        "height": 400,
        "width": 800
       },
       "config": {
        "plotlyServerURL": "https://plot.ly"
       }
      }
     },
     "metadata": {},
     "output_type": "display_data"
    },
    {
     "name": "stdout",
     "output_type": "stream",
     "text": [
      "6.94\n",
      "WARNING: A pressão ambiente (101.63) é maior que a pressão total de entrada do bocal (87.99), por isso retornou-se velocidade nula no bocal!!!\n",
      "WARNING: A pressão ambiente (101.63) é maior que a pressão total de entrada do bocal (97.43), por isso retornou-se velocidade nula no bocal!!!\n"
     ]
    },
    {
     "data": {
      "application/vnd.plotly.v1+json": {
       "data": [
        {
         "hovertemplate": "N2 (%)=%{x}<br>m/s=%{y}<extra></extra>",
         "legendgroup": "",
         "line": {
          "color": "#636efa",
          "dash": "solid"
         },
         "marker": {
          "symbol": "circle"
         },
         "mode": "lines",
         "name": "",
         "orientation": "v",
         "showlegend": false,
         "x": {
          "dtype": "f8",
          "bdata": "AAAAAAAA4D8zMzMzMzPjP2ZmZmZmZuY/mpmZmZmZ6T/NzMzMzMzsPwAAAAAAAPA/"
         },
         "xaxis": "x",
         "y": {
          "dtype": "f8",
          "bdata": "AAAAAAAAAAAAAAAAAAAAAKfoSC7/vVpAnzws1JrobUAr9pfdk7F2QPLSTWIQb31A"
         },
         "yaxis": "y",
         "type": "scatter"
        }
       ],
       "layout": {
        "template": {
         "data": {
          "histogram2dcontour": [
           {
            "type": "histogram2dcontour",
            "colorbar": {
             "outlinewidth": 0,
             "ticks": ""
            },
            "colorscale": [
             [
              0.0,
              "#0d0887"
             ],
             [
              0.1111111111111111,
              "#46039f"
             ],
             [
              0.2222222222222222,
              "#7201a8"
             ],
             [
              0.3333333333333333,
              "#9c179e"
             ],
             [
              0.4444444444444444,
              "#bd3786"
             ],
             [
              0.5555555555555556,
              "#d8576b"
             ],
             [
              0.6666666666666666,
              "#ed7953"
             ],
             [
              0.7777777777777778,
              "#fb9f3a"
             ],
             [
              0.8888888888888888,
              "#fdca26"
             ],
             [
              1.0,
              "#f0f921"
             ]
            ]
           }
          ],
          "choropleth": [
           {
            "type": "choropleth",
            "colorbar": {
             "outlinewidth": 0,
             "ticks": ""
            }
           }
          ],
          "histogram2d": [
           {
            "type": "histogram2d",
            "colorbar": {
             "outlinewidth": 0,
             "ticks": ""
            },
            "colorscale": [
             [
              0.0,
              "#0d0887"
             ],
             [
              0.1111111111111111,
              "#46039f"
             ],
             [
              0.2222222222222222,
              "#7201a8"
             ],
             [
              0.3333333333333333,
              "#9c179e"
             ],
             [
              0.4444444444444444,
              "#bd3786"
             ],
             [
              0.5555555555555556,
              "#d8576b"
             ],
             [
              0.6666666666666666,
              "#ed7953"
             ],
             [
              0.7777777777777778,
              "#fb9f3a"
             ],
             [
              0.8888888888888888,
              "#fdca26"
             ],
             [
              1.0,
              "#f0f921"
             ]
            ]
           }
          ],
          "heatmap": [
           {
            "type": "heatmap",
            "colorbar": {
             "outlinewidth": 0,
             "ticks": ""
            },
            "colorscale": [
             [
              0.0,
              "#0d0887"
             ],
             [
              0.1111111111111111,
              "#46039f"
             ],
             [
              0.2222222222222222,
              "#7201a8"
             ],
             [
              0.3333333333333333,
              "#9c179e"
             ],
             [
              0.4444444444444444,
              "#bd3786"
             ],
             [
              0.5555555555555556,
              "#d8576b"
             ],
             [
              0.6666666666666666,
              "#ed7953"
             ],
             [
              0.7777777777777778,
              "#fb9f3a"
             ],
             [
              0.8888888888888888,
              "#fdca26"
             ],
             [
              1.0,
              "#f0f921"
             ]
            ]
           }
          ],
          "contourcarpet": [
           {
            "type": "contourcarpet",
            "colorbar": {
             "outlinewidth": 0,
             "ticks": ""
            }
           }
          ],
          "contour": [
           {
            "type": "contour",
            "colorbar": {
             "outlinewidth": 0,
             "ticks": ""
            },
            "colorscale": [
             [
              0.0,
              "#0d0887"
             ],
             [
              0.1111111111111111,
              "#46039f"
             ],
             [
              0.2222222222222222,
              "#7201a8"
             ],
             [
              0.3333333333333333,
              "#9c179e"
             ],
             [
              0.4444444444444444,
              "#bd3786"
             ],
             [
              0.5555555555555556,
              "#d8576b"
             ],
             [
              0.6666666666666666,
              "#ed7953"
             ],
             [
              0.7777777777777778,
              "#fb9f3a"
             ],
             [
              0.8888888888888888,
              "#fdca26"
             ],
             [
              1.0,
              "#f0f921"
             ]
            ]
           }
          ],
          "surface": [
           {
            "type": "surface",
            "colorbar": {
             "outlinewidth": 0,
             "ticks": ""
            },
            "colorscale": [
             [
              0.0,
              "#0d0887"
             ],
             [
              0.1111111111111111,
              "#46039f"
             ],
             [
              0.2222222222222222,
              "#7201a8"
             ],
             [
              0.3333333333333333,
              "#9c179e"
             ],
             [
              0.4444444444444444,
              "#bd3786"
             ],
             [
              0.5555555555555556,
              "#d8576b"
             ],
             [
              0.6666666666666666,
              "#ed7953"
             ],
             [
              0.7777777777777778,
              "#fb9f3a"
             ],
             [
              0.8888888888888888,
              "#fdca26"
             ],
             [
              1.0,
              "#f0f921"
             ]
            ]
           }
          ],
          "mesh3d": [
           {
            "type": "mesh3d",
            "colorbar": {
             "outlinewidth": 0,
             "ticks": ""
            }
           }
          ],
          "scatter": [
           {
            "fillpattern": {
             "fillmode": "overlay",
             "size": 10,
             "solidity": 0.2
            },
            "type": "scatter"
           }
          ],
          "parcoords": [
           {
            "type": "parcoords",
            "line": {
             "colorbar": {
              "outlinewidth": 0,
              "ticks": ""
             }
            }
           }
          ],
          "scatterpolargl": [
           {
            "type": "scatterpolargl",
            "marker": {
             "colorbar": {
              "outlinewidth": 0,
              "ticks": ""
             }
            }
           }
          ],
          "bar": [
           {
            "error_x": {
             "color": "#2a3f5f"
            },
            "error_y": {
             "color": "#2a3f5f"
            },
            "marker": {
             "line": {
              "color": "#E5ECF6",
              "width": 0.5
             },
             "pattern": {
              "fillmode": "overlay",
              "size": 10,
              "solidity": 0.2
             }
            },
            "type": "bar"
           }
          ],
          "scattergeo": [
           {
            "type": "scattergeo",
            "marker": {
             "colorbar": {
              "outlinewidth": 0,
              "ticks": ""
             }
            }
           }
          ],
          "scatterpolar": [
           {
            "type": "scatterpolar",
            "marker": {
             "colorbar": {
              "outlinewidth": 0,
              "ticks": ""
             }
            }
           }
          ],
          "histogram": [
           {
            "marker": {
             "pattern": {
              "fillmode": "overlay",
              "size": 10,
              "solidity": 0.2
             }
            },
            "type": "histogram"
           }
          ],
          "scattergl": [
           {
            "type": "scattergl",
            "marker": {
             "colorbar": {
              "outlinewidth": 0,
              "ticks": ""
             }
            }
           }
          ],
          "scatter3d": [
           {
            "type": "scatter3d",
            "line": {
             "colorbar": {
              "outlinewidth": 0,
              "ticks": ""
             }
            },
            "marker": {
             "colorbar": {
              "outlinewidth": 0,
              "ticks": ""
             }
            }
           }
          ],
          "scattermap": [
           {
            "type": "scattermap",
            "marker": {
             "colorbar": {
              "outlinewidth": 0,
              "ticks": ""
             }
            }
           }
          ],
          "scattermapbox": [
           {
            "type": "scattermapbox",
            "marker": {
             "colorbar": {
              "outlinewidth": 0,
              "ticks": ""
             }
            }
           }
          ],
          "scatterternary": [
           {
            "type": "scatterternary",
            "marker": {
             "colorbar": {
              "outlinewidth": 0,
              "ticks": ""
             }
            }
           }
          ],
          "scattercarpet": [
           {
            "type": "scattercarpet",
            "marker": {
             "colorbar": {
              "outlinewidth": 0,
              "ticks": ""
             }
            }
           }
          ],
          "carpet": [
           {
            "aaxis": {
             "endlinecolor": "#2a3f5f",
             "gridcolor": "white",
             "linecolor": "white",
             "minorgridcolor": "white",
             "startlinecolor": "#2a3f5f"
            },
            "baxis": {
             "endlinecolor": "#2a3f5f",
             "gridcolor": "white",
             "linecolor": "white",
             "minorgridcolor": "white",
             "startlinecolor": "#2a3f5f"
            },
            "type": "carpet"
           }
          ],
          "table": [
           {
            "cells": {
             "fill": {
              "color": "#EBF0F8"
             },
             "line": {
              "color": "white"
             }
            },
            "header": {
             "fill": {
              "color": "#C8D4E3"
             },
             "line": {
              "color": "white"
             }
            },
            "type": "table"
           }
          ],
          "barpolar": [
           {
            "marker": {
             "line": {
              "color": "#E5ECF6",
              "width": 0.5
             },
             "pattern": {
              "fillmode": "overlay",
              "size": 10,
              "solidity": 0.2
             }
            },
            "type": "barpolar"
           }
          ],
          "pie": [
           {
            "automargin": true,
            "type": "pie"
           }
          ]
         },
         "layout": {
          "autotypenumbers": "strict",
          "colorway": [
           "#636efa",
           "#EF553B",
           "#00cc96",
           "#ab63fa",
           "#FFA15A",
           "#19d3f3",
           "#FF6692",
           "#B6E880",
           "#FF97FF",
           "#FECB52"
          ],
          "font": {
           "color": "#2a3f5f"
          },
          "hovermode": "closest",
          "hoverlabel": {
           "align": "left"
          },
          "paper_bgcolor": "white",
          "plot_bgcolor": "#E5ECF6",
          "polar": {
           "bgcolor": "#E5ECF6",
           "angularaxis": {
            "gridcolor": "white",
            "linecolor": "white",
            "ticks": ""
           },
           "radialaxis": {
            "gridcolor": "white",
            "linecolor": "white",
            "ticks": ""
           }
          },
          "ternary": {
           "bgcolor": "#E5ECF6",
           "aaxis": {
            "gridcolor": "white",
            "linecolor": "white",
            "ticks": ""
           },
           "baxis": {
            "gridcolor": "white",
            "linecolor": "white",
            "ticks": ""
           },
           "caxis": {
            "gridcolor": "white",
            "linecolor": "white",
            "ticks": ""
           }
          },
          "coloraxis": {
           "colorbar": {
            "outlinewidth": 0,
            "ticks": ""
           }
          },
          "colorscale": {
           "sequential": [
            [
             0.0,
             "#0d0887"
            ],
            [
             0.1111111111111111,
             "#46039f"
            ],
            [
             0.2222222222222222,
             "#7201a8"
            ],
            [
             0.3333333333333333,
             "#9c179e"
            ],
            [
             0.4444444444444444,
             "#bd3786"
            ],
            [
             0.5555555555555556,
             "#d8576b"
            ],
            [
             0.6666666666666666,
             "#ed7953"
            ],
            [
             0.7777777777777778,
             "#fb9f3a"
            ],
            [
             0.8888888888888888,
             "#fdca26"
            ],
            [
             1.0,
             "#f0f921"
            ]
           ],
           "sequentialminus": [
            [
             0.0,
             "#0d0887"
            ],
            [
             0.1111111111111111,
             "#46039f"
            ],
            [
             0.2222222222222222,
             "#7201a8"
            ],
            [
             0.3333333333333333,
             "#9c179e"
            ],
            [
             0.4444444444444444,
             "#bd3786"
            ],
            [
             0.5555555555555556,
             "#d8576b"
            ],
            [
             0.6666666666666666,
             "#ed7953"
            ],
            [
             0.7777777777777778,
             "#fb9f3a"
            ],
            [
             0.8888888888888888,
             "#fdca26"
            ],
            [
             1.0,
             "#f0f921"
            ]
           ],
           "diverging": [
            [
             0,
             "#8e0152"
            ],
            [
             0.1,
             "#c51b7d"
            ],
            [
             0.2,
             "#de77ae"
            ],
            [
             0.3,
             "#f1b6da"
            ],
            [
             0.4,
             "#fde0ef"
            ],
            [
             0.5,
             "#f7f7f7"
            ],
            [
             0.6,
             "#e6f5d0"
            ],
            [
             0.7,
             "#b8e186"
            ],
            [
             0.8,
             "#7fbc41"
            ],
            [
             0.9,
             "#4d9221"
            ],
            [
             1,
             "#276419"
            ]
           ]
          },
          "xaxis": {
           "gridcolor": "white",
           "linecolor": "white",
           "ticks": "",
           "title": {
            "standoff": 15
           },
           "zerolinecolor": "white",
           "automargin": true,
           "zerolinewidth": 2
          },
          "yaxis": {
           "gridcolor": "white",
           "linecolor": "white",
           "ticks": "",
           "title": {
            "standoff": 15
           },
           "zerolinecolor": "white",
           "automargin": true,
           "zerolinewidth": 2
          },
          "scene": {
           "xaxis": {
            "backgroundcolor": "#E5ECF6",
            "gridcolor": "white",
            "linecolor": "white",
            "showbackground": true,
            "ticks": "",
            "zerolinecolor": "white",
            "gridwidth": 2
           },
           "yaxis": {
            "backgroundcolor": "#E5ECF6",
            "gridcolor": "white",
            "linecolor": "white",
            "showbackground": true,
            "ticks": "",
            "zerolinecolor": "white",
            "gridwidth": 2
           },
           "zaxis": {
            "backgroundcolor": "#E5ECF6",
            "gridcolor": "white",
            "linecolor": "white",
            "showbackground": true,
            "ticks": "",
            "zerolinecolor": "white",
            "gridwidth": 2
           }
          },
          "shapedefaults": {
           "line": {
            "color": "#2a3f5f"
           }
          },
          "annotationdefaults": {
           "arrowcolor": "#2a3f5f",
           "arrowhead": 0,
           "arrowwidth": 1
          },
          "geo": {
           "bgcolor": "white",
           "landcolor": "#E5ECF6",
           "subunitcolor": "white",
           "showland": true,
           "showlakes": true,
           "lakecolor": "white"
          },
          "title": {
           "x": 0.05
          },
          "mapbox": {
           "style": "light"
          }
         }
        },
        "xaxis": {
         "anchor": "y",
         "domain": [
          0.0,
          1.0
         ],
         "title": {
          "text": "N2 (%)"
         },
         "range": [
          0.4,
          1.0
         ]
        },
        "yaxis": {
         "anchor": "x",
         "domain": [
          0.0,
          1.0
         ],
         "title": {
          "text": "m/s"
         }
        },
        "legend": {
         "tracegroupgap": 0
        },
        "title": {
         "text": "u_core vs N2"
        },
        "height": 400,
        "width": 800
       },
       "config": {
        "plotlyServerURL": "https://plot.ly"
       }
      }
     },
     "metadata": {},
     "output_type": "display_data"
    },
    {
     "name": "stdout",
     "output_type": "stream",
     "text": [
      "inf\n",
      "WARNING: A pressão ambiente (101.63) é maior que a pressão total de entrada do bocal (87.99), por isso retornou-se velocidade nula no bocal!!!\n",
      "WARNING: A pressão ambiente (101.63) é maior que a pressão total de entrada do bocal (97.43), por isso retornou-se velocidade nula no bocal!!!\n"
     ]
    },
    {
     "name": "stderr",
     "output_type": "stream",
     "text": [
      "C:\\Users\\andre\\AppData\\Local\\Temp\\ipykernel_1168\\3802718258.py:32: RuntimeWarning:\n",
      "\n",
      "divide by zero encountered in scalar divide\n",
      "\n"
     ]
    },
    {
     "data": {
      "application/vnd.plotly.v1+json": {
       "data": [
        {
         "hovertemplate": "N2 (%)=%{x}<br>K=%{y}<extra></extra>",
         "legendgroup": "",
         "line": {
          "color": "#636efa",
          "dash": "solid"
         },
         "marker": {
          "symbol": "circle"
         },
         "mode": "lines",
         "name": "",
         "orientation": "v",
         "showlegend": false,
         "x": {
          "dtype": "f8",
          "bdata": "AAAAAAAA4D8zMzMzMzPjP2ZmZmZmZuY/mpmZmZmZ6T/NzMzMzMzsPwAAAAAAAPA/"
         },
         "xaxis": "x",
         "y": {
          "dtype": "f8",
          "bdata": "dLUV+0tsiEAf9GxWfaeLQM9m1efqqo9AwoanV0o7kkAf9GxWPQWVQFafq60Y5pdA"
         },
         "yaxis": "y",
         "type": "scatter"
        }
       ],
       "layout": {
        "template": {
         "data": {
          "histogram2dcontour": [
           {
            "type": "histogram2dcontour",
            "colorbar": {
             "outlinewidth": 0,
             "ticks": ""
            },
            "colorscale": [
             [
              0.0,
              "#0d0887"
             ],
             [
              0.1111111111111111,
              "#46039f"
             ],
             [
              0.2222222222222222,
              "#7201a8"
             ],
             [
              0.3333333333333333,
              "#9c179e"
             ],
             [
              0.4444444444444444,
              "#bd3786"
             ],
             [
              0.5555555555555556,
              "#d8576b"
             ],
             [
              0.6666666666666666,
              "#ed7953"
             ],
             [
              0.7777777777777778,
              "#fb9f3a"
             ],
             [
              0.8888888888888888,
              "#fdca26"
             ],
             [
              1.0,
              "#f0f921"
             ]
            ]
           }
          ],
          "choropleth": [
           {
            "type": "choropleth",
            "colorbar": {
             "outlinewidth": 0,
             "ticks": ""
            }
           }
          ],
          "histogram2d": [
           {
            "type": "histogram2d",
            "colorbar": {
             "outlinewidth": 0,
             "ticks": ""
            },
            "colorscale": [
             [
              0.0,
              "#0d0887"
             ],
             [
              0.1111111111111111,
              "#46039f"
             ],
             [
              0.2222222222222222,
              "#7201a8"
             ],
             [
              0.3333333333333333,
              "#9c179e"
             ],
             [
              0.4444444444444444,
              "#bd3786"
             ],
             [
              0.5555555555555556,
              "#d8576b"
             ],
             [
              0.6666666666666666,
              "#ed7953"
             ],
             [
              0.7777777777777778,
              "#fb9f3a"
             ],
             [
              0.8888888888888888,
              "#fdca26"
             ],
             [
              1.0,
              "#f0f921"
             ]
            ]
           }
          ],
          "heatmap": [
           {
            "type": "heatmap",
            "colorbar": {
             "outlinewidth": 0,
             "ticks": ""
            },
            "colorscale": [
             [
              0.0,
              "#0d0887"
             ],
             [
              0.1111111111111111,
              "#46039f"
             ],
             [
              0.2222222222222222,
              "#7201a8"
             ],
             [
              0.3333333333333333,
              "#9c179e"
             ],
             [
              0.4444444444444444,
              "#bd3786"
             ],
             [
              0.5555555555555556,
              "#d8576b"
             ],
             [
              0.6666666666666666,
              "#ed7953"
             ],
             [
              0.7777777777777778,
              "#fb9f3a"
             ],
             [
              0.8888888888888888,
              "#fdca26"
             ],
             [
              1.0,
              "#f0f921"
             ]
            ]
           }
          ],
          "contourcarpet": [
           {
            "type": "contourcarpet",
            "colorbar": {
             "outlinewidth": 0,
             "ticks": ""
            }
           }
          ],
          "contour": [
           {
            "type": "contour",
            "colorbar": {
             "outlinewidth": 0,
             "ticks": ""
            },
            "colorscale": [
             [
              0.0,
              "#0d0887"
             ],
             [
              0.1111111111111111,
              "#46039f"
             ],
             [
              0.2222222222222222,
              "#7201a8"
             ],
             [
              0.3333333333333333,
              "#9c179e"
             ],
             [
              0.4444444444444444,
              "#bd3786"
             ],
             [
              0.5555555555555556,
              "#d8576b"
             ],
             [
              0.6666666666666666,
              "#ed7953"
             ],
             [
              0.7777777777777778,
              "#fb9f3a"
             ],
             [
              0.8888888888888888,
              "#fdca26"
             ],
             [
              1.0,
              "#f0f921"
             ]
            ]
           }
          ],
          "surface": [
           {
            "type": "surface",
            "colorbar": {
             "outlinewidth": 0,
             "ticks": ""
            },
            "colorscale": [
             [
              0.0,
              "#0d0887"
             ],
             [
              0.1111111111111111,
              "#46039f"
             ],
             [
              0.2222222222222222,
              "#7201a8"
             ],
             [
              0.3333333333333333,
              "#9c179e"
             ],
             [
              0.4444444444444444,
              "#bd3786"
             ],
             [
              0.5555555555555556,
              "#d8576b"
             ],
             [
              0.6666666666666666,
              "#ed7953"
             ],
             [
              0.7777777777777778,
              "#fb9f3a"
             ],
             [
              0.8888888888888888,
              "#fdca26"
             ],
             [
              1.0,
              "#f0f921"
             ]
            ]
           }
          ],
          "mesh3d": [
           {
            "type": "mesh3d",
            "colorbar": {
             "outlinewidth": 0,
             "ticks": ""
            }
           }
          ],
          "scatter": [
           {
            "fillpattern": {
             "fillmode": "overlay",
             "size": 10,
             "solidity": 0.2
            },
            "type": "scatter"
           }
          ],
          "parcoords": [
           {
            "type": "parcoords",
            "line": {
             "colorbar": {
              "outlinewidth": 0,
              "ticks": ""
             }
            }
           }
          ],
          "scatterpolargl": [
           {
            "type": "scatterpolargl",
            "marker": {
             "colorbar": {
              "outlinewidth": 0,
              "ticks": ""
             }
            }
           }
          ],
          "bar": [
           {
            "error_x": {
             "color": "#2a3f5f"
            },
            "error_y": {
             "color": "#2a3f5f"
            },
            "marker": {
             "line": {
              "color": "#E5ECF6",
              "width": 0.5
             },
             "pattern": {
              "fillmode": "overlay",
              "size": 10,
              "solidity": 0.2
             }
            },
            "type": "bar"
           }
          ],
          "scattergeo": [
           {
            "type": "scattergeo",
            "marker": {
             "colorbar": {
              "outlinewidth": 0,
              "ticks": ""
             }
            }
           }
          ],
          "scatterpolar": [
           {
            "type": "scatterpolar",
            "marker": {
             "colorbar": {
              "outlinewidth": 0,
              "ticks": ""
             }
            }
           }
          ],
          "histogram": [
           {
            "marker": {
             "pattern": {
              "fillmode": "overlay",
              "size": 10,
              "solidity": 0.2
             }
            },
            "type": "histogram"
           }
          ],
          "scattergl": [
           {
            "type": "scattergl",
            "marker": {
             "colorbar": {
              "outlinewidth": 0,
              "ticks": ""
             }
            }
           }
          ],
          "scatter3d": [
           {
            "type": "scatter3d",
            "line": {
             "colorbar": {
              "outlinewidth": 0,
              "ticks": ""
             }
            },
            "marker": {
             "colorbar": {
              "outlinewidth": 0,
              "ticks": ""
             }
            }
           }
          ],
          "scattermap": [
           {
            "type": "scattermap",
            "marker": {
             "colorbar": {
              "outlinewidth": 0,
              "ticks": ""
             }
            }
           }
          ],
          "scattermapbox": [
           {
            "type": "scattermapbox",
            "marker": {
             "colorbar": {
              "outlinewidth": 0,
              "ticks": ""
             }
            }
           }
          ],
          "scatterternary": [
           {
            "type": "scatterternary",
            "marker": {
             "colorbar": {
              "outlinewidth": 0,
              "ticks": ""
             }
            }
           }
          ],
          "scattercarpet": [
           {
            "type": "scattercarpet",
            "marker": {
             "colorbar": {
              "outlinewidth": 0,
              "ticks": ""
             }
            }
           }
          ],
          "carpet": [
           {
            "aaxis": {
             "endlinecolor": "#2a3f5f",
             "gridcolor": "white",
             "linecolor": "white",
             "minorgridcolor": "white",
             "startlinecolor": "#2a3f5f"
            },
            "baxis": {
             "endlinecolor": "#2a3f5f",
             "gridcolor": "white",
             "linecolor": "white",
             "minorgridcolor": "white",
             "startlinecolor": "#2a3f5f"
            },
            "type": "carpet"
           }
          ],
          "table": [
           {
            "cells": {
             "fill": {
              "color": "#EBF0F8"
             },
             "line": {
              "color": "white"
             }
            },
            "header": {
             "fill": {
              "color": "#C8D4E3"
             },
             "line": {
              "color": "white"
             }
            },
            "type": "table"
           }
          ],
          "barpolar": [
           {
            "marker": {
             "line": {
              "color": "#E5ECF6",
              "width": 0.5
             },
             "pattern": {
              "fillmode": "overlay",
              "size": 10,
              "solidity": 0.2
             }
            },
            "type": "barpolar"
           }
          ],
          "pie": [
           {
            "automargin": true,
            "type": "pie"
           }
          ]
         },
         "layout": {
          "autotypenumbers": "strict",
          "colorway": [
           "#636efa",
           "#EF553B",
           "#00cc96",
           "#ab63fa",
           "#FFA15A",
           "#19d3f3",
           "#FF6692",
           "#B6E880",
           "#FF97FF",
           "#FECB52"
          ],
          "font": {
           "color": "#2a3f5f"
          },
          "hovermode": "closest",
          "hoverlabel": {
           "align": "left"
          },
          "paper_bgcolor": "white",
          "plot_bgcolor": "#E5ECF6",
          "polar": {
           "bgcolor": "#E5ECF6",
           "angularaxis": {
            "gridcolor": "white",
            "linecolor": "white",
            "ticks": ""
           },
           "radialaxis": {
            "gridcolor": "white",
            "linecolor": "white",
            "ticks": ""
           }
          },
          "ternary": {
           "bgcolor": "#E5ECF6",
           "aaxis": {
            "gridcolor": "white",
            "linecolor": "white",
            "ticks": ""
           },
           "baxis": {
            "gridcolor": "white",
            "linecolor": "white",
            "ticks": ""
           },
           "caxis": {
            "gridcolor": "white",
            "linecolor": "white",
            "ticks": ""
           }
          },
          "coloraxis": {
           "colorbar": {
            "outlinewidth": 0,
            "ticks": ""
           }
          },
          "colorscale": {
           "sequential": [
            [
             0.0,
             "#0d0887"
            ],
            [
             0.1111111111111111,
             "#46039f"
            ],
            [
             0.2222222222222222,
             "#7201a8"
            ],
            [
             0.3333333333333333,
             "#9c179e"
            ],
            [
             0.4444444444444444,
             "#bd3786"
            ],
            [
             0.5555555555555556,
             "#d8576b"
            ],
            [
             0.6666666666666666,
             "#ed7953"
            ],
            [
             0.7777777777777778,
             "#fb9f3a"
            ],
            [
             0.8888888888888888,
             "#fdca26"
            ],
            [
             1.0,
             "#f0f921"
            ]
           ],
           "sequentialminus": [
            [
             0.0,
             "#0d0887"
            ],
            [
             0.1111111111111111,
             "#46039f"
            ],
            [
             0.2222222222222222,
             "#7201a8"
            ],
            [
             0.3333333333333333,
             "#9c179e"
            ],
            [
             0.4444444444444444,
             "#bd3786"
            ],
            [
             0.5555555555555556,
             "#d8576b"
            ],
            [
             0.6666666666666666,
             "#ed7953"
            ],
            [
             0.7777777777777778,
             "#fb9f3a"
            ],
            [
             0.8888888888888888,
             "#fdca26"
            ],
            [
             1.0,
             "#f0f921"
            ]
           ],
           "diverging": [
            [
             0,
             "#8e0152"
            ],
            [
             0.1,
             "#c51b7d"
            ],
            [
             0.2,
             "#de77ae"
            ],
            [
             0.3,
             "#f1b6da"
            ],
            [
             0.4,
             "#fde0ef"
            ],
            [
             0.5,
             "#f7f7f7"
            ],
            [
             0.6,
             "#e6f5d0"
            ],
            [
             0.7,
             "#b8e186"
            ],
            [
             0.8,
             "#7fbc41"
            ],
            [
             0.9,
             "#4d9221"
            ],
            [
             1,
             "#276419"
            ]
           ]
          },
          "xaxis": {
           "gridcolor": "white",
           "linecolor": "white",
           "ticks": "",
           "title": {
            "standoff": 15
           },
           "zerolinecolor": "white",
           "automargin": true,
           "zerolinewidth": 2
          },
          "yaxis": {
           "gridcolor": "white",
           "linecolor": "white",
           "ticks": "",
           "title": {
            "standoff": 15
           },
           "zerolinecolor": "white",
           "automargin": true,
           "zerolinewidth": 2
          },
          "scene": {
           "xaxis": {
            "backgroundcolor": "#E5ECF6",
            "gridcolor": "white",
            "linecolor": "white",
            "showbackground": true,
            "ticks": "",
            "zerolinecolor": "white",
            "gridwidth": 2
           },
           "yaxis": {
            "backgroundcolor": "#E5ECF6",
            "gridcolor": "white",
            "linecolor": "white",
            "showbackground": true,
            "ticks": "",
            "zerolinecolor": "white",
            "gridwidth": 2
           },
           "zaxis": {
            "backgroundcolor": "#E5ECF6",
            "gridcolor": "white",
            "linecolor": "white",
            "showbackground": true,
            "ticks": "",
            "zerolinecolor": "white",
            "gridwidth": 2
           }
          },
          "shapedefaults": {
           "line": {
            "color": "#2a3f5f"
           }
          },
          "annotationdefaults": {
           "arrowcolor": "#2a3f5f",
           "arrowhead": 0,
           "arrowwidth": 1
          },
          "geo": {
           "bgcolor": "white",
           "landcolor": "#E5ECF6",
           "subunitcolor": "white",
           "showland": true,
           "showlakes": true,
           "lakecolor": "white"
          },
          "title": {
           "x": 0.05
          },
          "mapbox": {
           "style": "light"
          }
         }
        },
        "xaxis": {
         "anchor": "y",
         "domain": [
          0.0,
          1.0
         ],
         "title": {
          "text": "N2 (%)"
         },
         "range": [
          0.4,
          1.0
         ]
        },
        "yaxis": {
         "anchor": "x",
         "domain": [
          0.0,
          1.0
         ],
         "title": {
          "text": "K"
         }
        },
        "legend": {
         "tracegroupgap": 0
        },
        "title": {
         "text": "t04 vs N2"
        },
        "height": 400,
        "width": 800
       },
       "config": {
        "plotlyServerURL": "https://plot.ly"
       }
      }
     },
     "metadata": {},
     "output_type": "display_data"
    },
    {
     "name": "stdout",
     "output_type": "stream",
     "text": [
      "1.96\n",
      "WARNING: A pressão ambiente (101.63) é maior que a pressão total de entrada do bocal (87.99), por isso retornou-se velocidade nula no bocal!!!\n",
      "WARNING: A pressão ambiente (101.63) é maior que a pressão total de entrada do bocal (97.43), por isso retornou-se velocidade nula no bocal!!!\n"
     ]
    },
    {
     "data": {
      "application/vnd.plotly.v1+json": {
       "data": [
        {
         "hovertemplate": "N2 (%)=%{x}<br>kg/s=%{y}<extra></extra>",
         "legendgroup": "",
         "line": {
          "color": "#636efa",
          "dash": "solid"
         },
         "marker": {
          "symbol": "circle"
         },
         "mode": "lines",
         "name": "",
         "orientation": "v",
         "showlegend": false,
         "x": {
          "dtype": "f8",
          "bdata": "AAAAAAAA4D8zMzMzMzPjP2ZmZmZmZuY/mpmZmZmZ6T/NzMzMzMzsPwAAAAAAAPA/"
         },
         "xaxis": "x",
         "y": {
          "dtype": "f8",
          "bdata": "9dvXgXNGxD9xPQrXo3DNP/FjzF1LyNs/qz5XW7G/6j/6fmq8dJP4P4BIv30dOARA"
         },
         "yaxis": "y",
         "type": "scatter"
        }
       ],
       "layout": {
        "template": {
         "data": {
          "histogram2dcontour": [
           {
            "type": "histogram2dcontour",
            "colorbar": {
             "outlinewidth": 0,
             "ticks": ""
            },
            "colorscale": [
             [
              0.0,
              "#0d0887"
             ],
             [
              0.1111111111111111,
              "#46039f"
             ],
             [
              0.2222222222222222,
              "#7201a8"
             ],
             [
              0.3333333333333333,
              "#9c179e"
             ],
             [
              0.4444444444444444,
              "#bd3786"
             ],
             [
              0.5555555555555556,
              "#d8576b"
             ],
             [
              0.6666666666666666,
              "#ed7953"
             ],
             [
              0.7777777777777778,
              "#fb9f3a"
             ],
             [
              0.8888888888888888,
              "#fdca26"
             ],
             [
              1.0,
              "#f0f921"
             ]
            ]
           }
          ],
          "choropleth": [
           {
            "type": "choropleth",
            "colorbar": {
             "outlinewidth": 0,
             "ticks": ""
            }
           }
          ],
          "histogram2d": [
           {
            "type": "histogram2d",
            "colorbar": {
             "outlinewidth": 0,
             "ticks": ""
            },
            "colorscale": [
             [
              0.0,
              "#0d0887"
             ],
             [
              0.1111111111111111,
              "#46039f"
             ],
             [
              0.2222222222222222,
              "#7201a8"
             ],
             [
              0.3333333333333333,
              "#9c179e"
             ],
             [
              0.4444444444444444,
              "#bd3786"
             ],
             [
              0.5555555555555556,
              "#d8576b"
             ],
             [
              0.6666666666666666,
              "#ed7953"
             ],
             [
              0.7777777777777778,
              "#fb9f3a"
             ],
             [
              0.8888888888888888,
              "#fdca26"
             ],
             [
              1.0,
              "#f0f921"
             ]
            ]
           }
          ],
          "heatmap": [
           {
            "type": "heatmap",
            "colorbar": {
             "outlinewidth": 0,
             "ticks": ""
            },
            "colorscale": [
             [
              0.0,
              "#0d0887"
             ],
             [
              0.1111111111111111,
              "#46039f"
             ],
             [
              0.2222222222222222,
              "#7201a8"
             ],
             [
              0.3333333333333333,
              "#9c179e"
             ],
             [
              0.4444444444444444,
              "#bd3786"
             ],
             [
              0.5555555555555556,
              "#d8576b"
             ],
             [
              0.6666666666666666,
              "#ed7953"
             ],
             [
              0.7777777777777778,
              "#fb9f3a"
             ],
             [
              0.8888888888888888,
              "#fdca26"
             ],
             [
              1.0,
              "#f0f921"
             ]
            ]
           }
          ],
          "contourcarpet": [
           {
            "type": "contourcarpet",
            "colorbar": {
             "outlinewidth": 0,
             "ticks": ""
            }
           }
          ],
          "contour": [
           {
            "type": "contour",
            "colorbar": {
             "outlinewidth": 0,
             "ticks": ""
            },
            "colorscale": [
             [
              0.0,
              "#0d0887"
             ],
             [
              0.1111111111111111,
              "#46039f"
             ],
             [
              0.2222222222222222,
              "#7201a8"
             ],
             [
              0.3333333333333333,
              "#9c179e"
             ],
             [
              0.4444444444444444,
              "#bd3786"
             ],
             [
              0.5555555555555556,
              "#d8576b"
             ],
             [
              0.6666666666666666,
              "#ed7953"
             ],
             [
              0.7777777777777778,
              "#fb9f3a"
             ],
             [
              0.8888888888888888,
              "#fdca26"
             ],
             [
              1.0,
              "#f0f921"
             ]
            ]
           }
          ],
          "surface": [
           {
            "type": "surface",
            "colorbar": {
             "outlinewidth": 0,
             "ticks": ""
            },
            "colorscale": [
             [
              0.0,
              "#0d0887"
             ],
             [
              0.1111111111111111,
              "#46039f"
             ],
             [
              0.2222222222222222,
              "#7201a8"
             ],
             [
              0.3333333333333333,
              "#9c179e"
             ],
             [
              0.4444444444444444,
              "#bd3786"
             ],
             [
              0.5555555555555556,
              "#d8576b"
             ],
             [
              0.6666666666666666,
              "#ed7953"
             ],
             [
              0.7777777777777778,
              "#fb9f3a"
             ],
             [
              0.8888888888888888,
              "#fdca26"
             ],
             [
              1.0,
              "#f0f921"
             ]
            ]
           }
          ],
          "mesh3d": [
           {
            "type": "mesh3d",
            "colorbar": {
             "outlinewidth": 0,
             "ticks": ""
            }
           }
          ],
          "scatter": [
           {
            "fillpattern": {
             "fillmode": "overlay",
             "size": 10,
             "solidity": 0.2
            },
            "type": "scatter"
           }
          ],
          "parcoords": [
           {
            "type": "parcoords",
            "line": {
             "colorbar": {
              "outlinewidth": 0,
              "ticks": ""
             }
            }
           }
          ],
          "scatterpolargl": [
           {
            "type": "scatterpolargl",
            "marker": {
             "colorbar": {
              "outlinewidth": 0,
              "ticks": ""
             }
            }
           }
          ],
          "bar": [
           {
            "error_x": {
             "color": "#2a3f5f"
            },
            "error_y": {
             "color": "#2a3f5f"
            },
            "marker": {
             "line": {
              "color": "#E5ECF6",
              "width": 0.5
             },
             "pattern": {
              "fillmode": "overlay",
              "size": 10,
              "solidity": 0.2
             }
            },
            "type": "bar"
           }
          ],
          "scattergeo": [
           {
            "type": "scattergeo",
            "marker": {
             "colorbar": {
              "outlinewidth": 0,
              "ticks": ""
             }
            }
           }
          ],
          "scatterpolar": [
           {
            "type": "scatterpolar",
            "marker": {
             "colorbar": {
              "outlinewidth": 0,
              "ticks": ""
             }
            }
           }
          ],
          "histogram": [
           {
            "marker": {
             "pattern": {
              "fillmode": "overlay",
              "size": 10,
              "solidity": 0.2
             }
            },
            "type": "histogram"
           }
          ],
          "scattergl": [
           {
            "type": "scattergl",
            "marker": {
             "colorbar": {
              "outlinewidth": 0,
              "ticks": ""
             }
            }
           }
          ],
          "scatter3d": [
           {
            "type": "scatter3d",
            "line": {
             "colorbar": {
              "outlinewidth": 0,
              "ticks": ""
             }
            },
            "marker": {
             "colorbar": {
              "outlinewidth": 0,
              "ticks": ""
             }
            }
           }
          ],
          "scattermap": [
           {
            "type": "scattermap",
            "marker": {
             "colorbar": {
              "outlinewidth": 0,
              "ticks": ""
             }
            }
           }
          ],
          "scattermapbox": [
           {
            "type": "scattermapbox",
            "marker": {
             "colorbar": {
              "outlinewidth": 0,
              "ticks": ""
             }
            }
           }
          ],
          "scatterternary": [
           {
            "type": "scatterternary",
            "marker": {
             "colorbar": {
              "outlinewidth": 0,
              "ticks": ""
             }
            }
           }
          ],
          "scattercarpet": [
           {
            "type": "scattercarpet",
            "marker": {
             "colorbar": {
              "outlinewidth": 0,
              "ticks": ""
             }
            }
           }
          ],
          "carpet": [
           {
            "aaxis": {
             "endlinecolor": "#2a3f5f",
             "gridcolor": "white",
             "linecolor": "white",
             "minorgridcolor": "white",
             "startlinecolor": "#2a3f5f"
            },
            "baxis": {
             "endlinecolor": "#2a3f5f",
             "gridcolor": "white",
             "linecolor": "white",
             "minorgridcolor": "white",
             "startlinecolor": "#2a3f5f"
            },
            "type": "carpet"
           }
          ],
          "table": [
           {
            "cells": {
             "fill": {
              "color": "#EBF0F8"
             },
             "line": {
              "color": "white"
             }
            },
            "header": {
             "fill": {
              "color": "#C8D4E3"
             },
             "line": {
              "color": "white"
             }
            },
            "type": "table"
           }
          ],
          "barpolar": [
           {
            "marker": {
             "line": {
              "color": "#E5ECF6",
              "width": 0.5
             },
             "pattern": {
              "fillmode": "overlay",
              "size": 10,
              "solidity": 0.2
             }
            },
            "type": "barpolar"
           }
          ],
          "pie": [
           {
            "automargin": true,
            "type": "pie"
           }
          ]
         },
         "layout": {
          "autotypenumbers": "strict",
          "colorway": [
           "#636efa",
           "#EF553B",
           "#00cc96",
           "#ab63fa",
           "#FFA15A",
           "#19d3f3",
           "#FF6692",
           "#B6E880",
           "#FF97FF",
           "#FECB52"
          ],
          "font": {
           "color": "#2a3f5f"
          },
          "hovermode": "closest",
          "hoverlabel": {
           "align": "left"
          },
          "paper_bgcolor": "white",
          "plot_bgcolor": "#E5ECF6",
          "polar": {
           "bgcolor": "#E5ECF6",
           "angularaxis": {
            "gridcolor": "white",
            "linecolor": "white",
            "ticks": ""
           },
           "radialaxis": {
            "gridcolor": "white",
            "linecolor": "white",
            "ticks": ""
           }
          },
          "ternary": {
           "bgcolor": "#E5ECF6",
           "aaxis": {
            "gridcolor": "white",
            "linecolor": "white",
            "ticks": ""
           },
           "baxis": {
            "gridcolor": "white",
            "linecolor": "white",
            "ticks": ""
           },
           "caxis": {
            "gridcolor": "white",
            "linecolor": "white",
            "ticks": ""
           }
          },
          "coloraxis": {
           "colorbar": {
            "outlinewidth": 0,
            "ticks": ""
           }
          },
          "colorscale": {
           "sequential": [
            [
             0.0,
             "#0d0887"
            ],
            [
             0.1111111111111111,
             "#46039f"
            ],
            [
             0.2222222222222222,
             "#7201a8"
            ],
            [
             0.3333333333333333,
             "#9c179e"
            ],
            [
             0.4444444444444444,
             "#bd3786"
            ],
            [
             0.5555555555555556,
             "#d8576b"
            ],
            [
             0.6666666666666666,
             "#ed7953"
            ],
            [
             0.7777777777777778,
             "#fb9f3a"
            ],
            [
             0.8888888888888888,
             "#fdca26"
            ],
            [
             1.0,
             "#f0f921"
            ]
           ],
           "sequentialminus": [
            [
             0.0,
             "#0d0887"
            ],
            [
             0.1111111111111111,
             "#46039f"
            ],
            [
             0.2222222222222222,
             "#7201a8"
            ],
            [
             0.3333333333333333,
             "#9c179e"
            ],
            [
             0.4444444444444444,
             "#bd3786"
            ],
            [
             0.5555555555555556,
             "#d8576b"
            ],
            [
             0.6666666666666666,
             "#ed7953"
            ],
            [
             0.7777777777777778,
             "#fb9f3a"
            ],
            [
             0.8888888888888888,
             "#fdca26"
            ],
            [
             1.0,
             "#f0f921"
            ]
           ],
           "diverging": [
            [
             0,
             "#8e0152"
            ],
            [
             0.1,
             "#c51b7d"
            ],
            [
             0.2,
             "#de77ae"
            ],
            [
             0.3,
             "#f1b6da"
            ],
            [
             0.4,
             "#fde0ef"
            ],
            [
             0.5,
             "#f7f7f7"
            ],
            [
             0.6,
             "#e6f5d0"
            ],
            [
             0.7,
             "#b8e186"
            ],
            [
             0.8,
             "#7fbc41"
            ],
            [
             0.9,
             "#4d9221"
            ],
            [
             1,
             "#276419"
            ]
           ]
          },
          "xaxis": {
           "gridcolor": "white",
           "linecolor": "white",
           "ticks": "",
           "title": {
            "standoff": 15
           },
           "zerolinecolor": "white",
           "automargin": true,
           "zerolinewidth": 2
          },
          "yaxis": {
           "gridcolor": "white",
           "linecolor": "white",
           "ticks": "",
           "title": {
            "standoff": 15
           },
           "zerolinecolor": "white",
           "automargin": true,
           "zerolinewidth": 2
          },
          "scene": {
           "xaxis": {
            "backgroundcolor": "#E5ECF6",
            "gridcolor": "white",
            "linecolor": "white",
            "showbackground": true,
            "ticks": "",
            "zerolinecolor": "white",
            "gridwidth": 2
           },
           "yaxis": {
            "backgroundcolor": "#E5ECF6",
            "gridcolor": "white",
            "linecolor": "white",
            "showbackground": true,
            "ticks": "",
            "zerolinecolor": "white",
            "gridwidth": 2
           },
           "zaxis": {
            "backgroundcolor": "#E5ECF6",
            "gridcolor": "white",
            "linecolor": "white",
            "showbackground": true,
            "ticks": "",
            "zerolinecolor": "white",
            "gridwidth": 2
           }
          },
          "shapedefaults": {
           "line": {
            "color": "#2a3f5f"
           }
          },
          "annotationdefaults": {
           "arrowcolor": "#2a3f5f",
           "arrowhead": 0,
           "arrowwidth": 1
          },
          "geo": {
           "bgcolor": "white",
           "landcolor": "#E5ECF6",
           "subunitcolor": "white",
           "showland": true,
           "showlakes": true,
           "lakecolor": "white"
          },
          "title": {
           "x": 0.05
          },
          "mapbox": {
           "style": "light"
          }
         }
        },
        "xaxis": {
         "anchor": "y",
         "domain": [
          0.0,
          1.0
         ],
         "title": {
          "text": "N2 (%)"
         },
         "range": [
          0.4,
          1.0
         ]
        },
        "yaxis": {
         "anchor": "x",
         "domain": [
          0.0,
          1.0
         ],
         "title": {
          "text": "kg/s"
         }
        },
        "legend": {
         "tracegroupgap": 0
        },
        "title": {
         "text": "fuel_consumption vs N2"
        },
        "height": 400,
        "width": 800
       },
       "config": {
        "plotlyServerURL": "https://plot.ly"
       }
      }
     },
     "metadata": {},
     "output_type": "display_data"
    },
    {
     "name": "stdout",
     "output_type": "stream",
     "text": [
      "15.96\n",
      "WARNING: A pressão ambiente (101.63) é maior que a pressão total de entrada do bocal (87.99), por isso retornou-se velocidade nula no bocal!!!\n",
      "WARNING: A pressão ambiente (101.63) é maior que a pressão total de entrada do bocal (97.43), por isso retornou-se velocidade nula no bocal!!!\n"
     ]
    },
    {
     "data": {
      "application/vnd.plotly.v1+json": {
       "data": [
        {
         "hovertemplate": "N1 (%)=%{x}<br>=%{y}<extra></extra>",
         "legendgroup": "",
         "line": {
          "color": "#636efa",
          "dash": "solid"
         },
         "marker": {
          "symbol": "circle"
         },
         "mode": "lines",
         "name": "",
         "orientation": "v",
         "showlegend": false,
         "x": {
          "dtype": "f8",
          "bdata": "BoGVQ4ts0z8DeAskKH7cP55eKcsQx+I/HVpkO99P5z+bVZ+rrdjrPwAAAAAAAPA/"
         },
         "xaxis": "x",
         "y": {
          "dtype": "f8",
          "bdata": "qmBUUifgG0A8TtGRXD4bQH3Qs1n1+RlApb3BFyYTGECZKhiV1IkVQOXQItv5/hJA"
         },
         "yaxis": "y",
         "type": "scatter"
        }
       ],
       "layout": {
        "template": {
         "data": {
          "histogram2dcontour": [
           {
            "type": "histogram2dcontour",
            "colorbar": {
             "outlinewidth": 0,
             "ticks": ""
            },
            "colorscale": [
             [
              0.0,
              "#0d0887"
             ],
             [
              0.1111111111111111,
              "#46039f"
             ],
             [
              0.2222222222222222,
              "#7201a8"
             ],
             [
              0.3333333333333333,
              "#9c179e"
             ],
             [
              0.4444444444444444,
              "#bd3786"
             ],
             [
              0.5555555555555556,
              "#d8576b"
             ],
             [
              0.6666666666666666,
              "#ed7953"
             ],
             [
              0.7777777777777778,
              "#fb9f3a"
             ],
             [
              0.8888888888888888,
              "#fdca26"
             ],
             [
              1.0,
              "#f0f921"
             ]
            ]
           }
          ],
          "choropleth": [
           {
            "type": "choropleth",
            "colorbar": {
             "outlinewidth": 0,
             "ticks": ""
            }
           }
          ],
          "histogram2d": [
           {
            "type": "histogram2d",
            "colorbar": {
             "outlinewidth": 0,
             "ticks": ""
            },
            "colorscale": [
             [
              0.0,
              "#0d0887"
             ],
             [
              0.1111111111111111,
              "#46039f"
             ],
             [
              0.2222222222222222,
              "#7201a8"
             ],
             [
              0.3333333333333333,
              "#9c179e"
             ],
             [
              0.4444444444444444,
              "#bd3786"
             ],
             [
              0.5555555555555556,
              "#d8576b"
             ],
             [
              0.6666666666666666,
              "#ed7953"
             ],
             [
              0.7777777777777778,
              "#fb9f3a"
             ],
             [
              0.8888888888888888,
              "#fdca26"
             ],
             [
              1.0,
              "#f0f921"
             ]
            ]
           }
          ],
          "heatmap": [
           {
            "type": "heatmap",
            "colorbar": {
             "outlinewidth": 0,
             "ticks": ""
            },
            "colorscale": [
             [
              0.0,
              "#0d0887"
             ],
             [
              0.1111111111111111,
              "#46039f"
             ],
             [
              0.2222222222222222,
              "#7201a8"
             ],
             [
              0.3333333333333333,
              "#9c179e"
             ],
             [
              0.4444444444444444,
              "#bd3786"
             ],
             [
              0.5555555555555556,
              "#d8576b"
             ],
             [
              0.6666666666666666,
              "#ed7953"
             ],
             [
              0.7777777777777778,
              "#fb9f3a"
             ],
             [
              0.8888888888888888,
              "#fdca26"
             ],
             [
              1.0,
              "#f0f921"
             ]
            ]
           }
          ],
          "contourcarpet": [
           {
            "type": "contourcarpet",
            "colorbar": {
             "outlinewidth": 0,
             "ticks": ""
            }
           }
          ],
          "contour": [
           {
            "type": "contour",
            "colorbar": {
             "outlinewidth": 0,
             "ticks": ""
            },
            "colorscale": [
             [
              0.0,
              "#0d0887"
             ],
             [
              0.1111111111111111,
              "#46039f"
             ],
             [
              0.2222222222222222,
              "#7201a8"
             ],
             [
              0.3333333333333333,
              "#9c179e"
             ],
             [
              0.4444444444444444,
              "#bd3786"
             ],
             [
              0.5555555555555556,
              "#d8576b"
             ],
             [
              0.6666666666666666,
              "#ed7953"
             ],
             [
              0.7777777777777778,
              "#fb9f3a"
             ],
             [
              0.8888888888888888,
              "#fdca26"
             ],
             [
              1.0,
              "#f0f921"
             ]
            ]
           }
          ],
          "surface": [
           {
            "type": "surface",
            "colorbar": {
             "outlinewidth": 0,
             "ticks": ""
            },
            "colorscale": [
             [
              0.0,
              "#0d0887"
             ],
             [
              0.1111111111111111,
              "#46039f"
             ],
             [
              0.2222222222222222,
              "#7201a8"
             ],
             [
              0.3333333333333333,
              "#9c179e"
             ],
             [
              0.4444444444444444,
              "#bd3786"
             ],
             [
              0.5555555555555556,
              "#d8576b"
             ],
             [
              0.6666666666666666,
              "#ed7953"
             ],
             [
              0.7777777777777778,
              "#fb9f3a"
             ],
             [
              0.8888888888888888,
              "#fdca26"
             ],
             [
              1.0,
              "#f0f921"
             ]
            ]
           }
          ],
          "mesh3d": [
           {
            "type": "mesh3d",
            "colorbar": {
             "outlinewidth": 0,
             "ticks": ""
            }
           }
          ],
          "scatter": [
           {
            "fillpattern": {
             "fillmode": "overlay",
             "size": 10,
             "solidity": 0.2
            },
            "type": "scatter"
           }
          ],
          "parcoords": [
           {
            "type": "parcoords",
            "line": {
             "colorbar": {
              "outlinewidth": 0,
              "ticks": ""
             }
            }
           }
          ],
          "scatterpolargl": [
           {
            "type": "scatterpolargl",
            "marker": {
             "colorbar": {
              "outlinewidth": 0,
              "ticks": ""
             }
            }
           }
          ],
          "bar": [
           {
            "error_x": {
             "color": "#2a3f5f"
            },
            "error_y": {
             "color": "#2a3f5f"
            },
            "marker": {
             "line": {
              "color": "#E5ECF6",
              "width": 0.5
             },
             "pattern": {
              "fillmode": "overlay",
              "size": 10,
              "solidity": 0.2
             }
            },
            "type": "bar"
           }
          ],
          "scattergeo": [
           {
            "type": "scattergeo",
            "marker": {
             "colorbar": {
              "outlinewidth": 0,
              "ticks": ""
             }
            }
           }
          ],
          "scatterpolar": [
           {
            "type": "scatterpolar",
            "marker": {
             "colorbar": {
              "outlinewidth": 0,
              "ticks": ""
             }
            }
           }
          ],
          "histogram": [
           {
            "marker": {
             "pattern": {
              "fillmode": "overlay",
              "size": 10,
              "solidity": 0.2
             }
            },
            "type": "histogram"
           }
          ],
          "scattergl": [
           {
            "type": "scattergl",
            "marker": {
             "colorbar": {
              "outlinewidth": 0,
              "ticks": ""
             }
            }
           }
          ],
          "scatter3d": [
           {
            "type": "scatter3d",
            "line": {
             "colorbar": {
              "outlinewidth": 0,
              "ticks": ""
             }
            },
            "marker": {
             "colorbar": {
              "outlinewidth": 0,
              "ticks": ""
             }
            }
           }
          ],
          "scattermap": [
           {
            "type": "scattermap",
            "marker": {
             "colorbar": {
              "outlinewidth": 0,
              "ticks": ""
             }
            }
           }
          ],
          "scattermapbox": [
           {
            "type": "scattermapbox",
            "marker": {
             "colorbar": {
              "outlinewidth": 0,
              "ticks": ""
             }
            }
           }
          ],
          "scatterternary": [
           {
            "type": "scatterternary",
            "marker": {
             "colorbar": {
              "outlinewidth": 0,
              "ticks": ""
             }
            }
           }
          ],
          "scattercarpet": [
           {
            "type": "scattercarpet",
            "marker": {
             "colorbar": {
              "outlinewidth": 0,
              "ticks": ""
             }
            }
           }
          ],
          "carpet": [
           {
            "aaxis": {
             "endlinecolor": "#2a3f5f",
             "gridcolor": "white",
             "linecolor": "white",
             "minorgridcolor": "white",
             "startlinecolor": "#2a3f5f"
            },
            "baxis": {
             "endlinecolor": "#2a3f5f",
             "gridcolor": "white",
             "linecolor": "white",
             "minorgridcolor": "white",
             "startlinecolor": "#2a3f5f"
            },
            "type": "carpet"
           }
          ],
          "table": [
           {
            "cells": {
             "fill": {
              "color": "#EBF0F8"
             },
             "line": {
              "color": "white"
             }
            },
            "header": {
             "fill": {
              "color": "#C8D4E3"
             },
             "line": {
              "color": "white"
             }
            },
            "type": "table"
           }
          ],
          "barpolar": [
           {
            "marker": {
             "line": {
              "color": "#E5ECF6",
              "width": 0.5
             },
             "pattern": {
              "fillmode": "overlay",
              "size": 10,
              "solidity": 0.2
             }
            },
            "type": "barpolar"
           }
          ],
          "pie": [
           {
            "automargin": true,
            "type": "pie"
           }
          ]
         },
         "layout": {
          "autotypenumbers": "strict",
          "colorway": [
           "#636efa",
           "#EF553B",
           "#00cc96",
           "#ab63fa",
           "#FFA15A",
           "#19d3f3",
           "#FF6692",
           "#B6E880",
           "#FF97FF",
           "#FECB52"
          ],
          "font": {
           "color": "#2a3f5f"
          },
          "hovermode": "closest",
          "hoverlabel": {
           "align": "left"
          },
          "paper_bgcolor": "white",
          "plot_bgcolor": "#E5ECF6",
          "polar": {
           "bgcolor": "#E5ECF6",
           "angularaxis": {
            "gridcolor": "white",
            "linecolor": "white",
            "ticks": ""
           },
           "radialaxis": {
            "gridcolor": "white",
            "linecolor": "white",
            "ticks": ""
           }
          },
          "ternary": {
           "bgcolor": "#E5ECF6",
           "aaxis": {
            "gridcolor": "white",
            "linecolor": "white",
            "ticks": ""
           },
           "baxis": {
            "gridcolor": "white",
            "linecolor": "white",
            "ticks": ""
           },
           "caxis": {
            "gridcolor": "white",
            "linecolor": "white",
            "ticks": ""
           }
          },
          "coloraxis": {
           "colorbar": {
            "outlinewidth": 0,
            "ticks": ""
           }
          },
          "colorscale": {
           "sequential": [
            [
             0.0,
             "#0d0887"
            ],
            [
             0.1111111111111111,
             "#46039f"
            ],
            [
             0.2222222222222222,
             "#7201a8"
            ],
            [
             0.3333333333333333,
             "#9c179e"
            ],
            [
             0.4444444444444444,
             "#bd3786"
            ],
            [
             0.5555555555555556,
             "#d8576b"
            ],
            [
             0.6666666666666666,
             "#ed7953"
            ],
            [
             0.7777777777777778,
             "#fb9f3a"
            ],
            [
             0.8888888888888888,
             "#fdca26"
            ],
            [
             1.0,
             "#f0f921"
            ]
           ],
           "sequentialminus": [
            [
             0.0,
             "#0d0887"
            ],
            [
             0.1111111111111111,
             "#46039f"
            ],
            [
             0.2222222222222222,
             "#7201a8"
            ],
            [
             0.3333333333333333,
             "#9c179e"
            ],
            [
             0.4444444444444444,
             "#bd3786"
            ],
            [
             0.5555555555555556,
             "#d8576b"
            ],
            [
             0.6666666666666666,
             "#ed7953"
            ],
            [
             0.7777777777777778,
             "#fb9f3a"
            ],
            [
             0.8888888888888888,
             "#fdca26"
            ],
            [
             1.0,
             "#f0f921"
            ]
           ],
           "diverging": [
            [
             0,
             "#8e0152"
            ],
            [
             0.1,
             "#c51b7d"
            ],
            [
             0.2,
             "#de77ae"
            ],
            [
             0.3,
             "#f1b6da"
            ],
            [
             0.4,
             "#fde0ef"
            ],
            [
             0.5,
             "#f7f7f7"
            ],
            [
             0.6,
             "#e6f5d0"
            ],
            [
             0.7,
             "#b8e186"
            ],
            [
             0.8,
             "#7fbc41"
            ],
            [
             0.9,
             "#4d9221"
            ],
            [
             1,
             "#276419"
            ]
           ]
          },
          "xaxis": {
           "gridcolor": "white",
           "linecolor": "white",
           "ticks": "",
           "title": {
            "standoff": 15
           },
           "zerolinecolor": "white",
           "automargin": true,
           "zerolinewidth": 2
          },
          "yaxis": {
           "gridcolor": "white",
           "linecolor": "white",
           "ticks": "",
           "title": {
            "standoff": 15
           },
           "zerolinecolor": "white",
           "automargin": true,
           "zerolinewidth": 2
          },
          "scene": {
           "xaxis": {
            "backgroundcolor": "#E5ECF6",
            "gridcolor": "white",
            "linecolor": "white",
            "showbackground": true,
            "ticks": "",
            "zerolinecolor": "white",
            "gridwidth": 2
           },
           "yaxis": {
            "backgroundcolor": "#E5ECF6",
            "gridcolor": "white",
            "linecolor": "white",
            "showbackground": true,
            "ticks": "",
            "zerolinecolor": "white",
            "gridwidth": 2
           },
           "zaxis": {
            "backgroundcolor": "#E5ECF6",
            "gridcolor": "white",
            "linecolor": "white",
            "showbackground": true,
            "ticks": "",
            "zerolinecolor": "white",
            "gridwidth": 2
           }
          },
          "shapedefaults": {
           "line": {
            "color": "#2a3f5f"
           }
          },
          "annotationdefaults": {
           "arrowcolor": "#2a3f5f",
           "arrowhead": 0,
           "arrowwidth": 1
          },
          "geo": {
           "bgcolor": "white",
           "landcolor": "#E5ECF6",
           "subunitcolor": "white",
           "showland": true,
           "showlakes": true,
           "lakecolor": "white"
          },
          "title": {
           "x": 0.05
          },
          "mapbox": {
           "style": "light"
          }
         }
        },
        "xaxis": {
         "anchor": "y",
         "domain": [
          0.0,
          1.0
         ],
         "title": {
          "text": "N1 (%)"
         },
         "range": [
          0.2,
          1.0
         ]
        },
        "yaxis": {
         "anchor": "x",
         "domain": [
          0.0,
          1.0
         ],
         "title": {
          "text": ""
         }
        },
        "legend": {
         "tracegroupgap": 0
        },
        "title": {
         "text": "bpr vs N1"
        },
        "height": 400,
        "width": 800
       },
       "config": {
        "plotlyServerURL": "https://plot.ly"
       }
      }
     },
     "metadata": {},
     "output_type": "display_data"
    },
    {
     "name": "stdout",
     "output_type": "stream",
     "text": [
      "0.68\n"
     ]
    }
   ],
   "execution_count": 11
  }
 ],
 "metadata": {
  "kernelspec": {
   "display_name": "Python 3",
   "language": "python",
   "name": "python3"
  },
  "language_info": {
   "codemirror_mode": {
    "name": "ipython",
    "version": 3
   },
   "file_extension": ".py",
   "mimetype": "text/x-python",
   "name": "python",
   "nbconvert_exporter": "python",
   "pygments_lexer": "ipython3",
   "version": "3.11.3"
  }
 },
 "nbformat": 4,
 "nbformat_minor": 5
}
