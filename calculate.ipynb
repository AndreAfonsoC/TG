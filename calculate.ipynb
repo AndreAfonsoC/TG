{
 "cells": [
  {
   "metadata": {
    "ExecuteTime": {
     "end_time": "2025-09-13T20:47:45.010626Z",
     "start_time": "2025-09-13T20:47:44.992947Z"
    }
   },
   "cell_type": "code",
   "source": [
    "import numpy as np\n",
    "\n",
    "from src.turbofan import Turbofan\n",
    "\n",
    "import plotly.express as px\n",
    "\n",
    "config_ex22 = {\n",
    "    \"mach\": 0.85,\n",
    "    \"t_a\": 216.7,\n",
    "    \"p_a\": 18.75,\n",
    "\n",
    "    # Eficiências e Gammas\n",
    "    \"eta_inlet\": 0.97,\n",
    "    \"gamma_inlet\": 1.4,\n",
    "    \"eta_fan\": 0.85,\n",
    "    \"gamma_fan\": 1.4,\n",
    "    \"eta_compressor\": 0.85,\n",
    "    \"gamma_compressor\": 1.37,\n",
    "    \"eta_camara\": 1,\n",
    "    \"gamma_camara\": 1.35,\n",
    "    \"eta_turbina_compressor\": 0.9,\n",
    "    \"gamma_turbina_compressor\": 1.33,\n",
    "    \"eta_turbina_fan\": 0.9,\n",
    "    \"gamma_turbina_fan\": 1.33,\n",
    "    \"eta_bocal_quente\": 0.98,\n",
    "    \"gamma_bocal_quente\": 1.36,\n",
    "    \"eta_bocal_fan\": 0.98,\n",
    "    \"gamma_bocal_fan\": 1.4,\n",
    "\n",
    "    # Dados operacionais\n",
    "    \"bpr\": 5,\n",
    "    \"prf\": 1.5,\n",
    "    \"prc\": 20,\n",
    "    \"hydrogen_fraction\": 0.0,\n",
    "    \"pressure_loss_factor\": 1.0,\n",
    "    \"kerosene_PCI\": 45e3,  # kJ/kg\n",
    "    \"hydrogen_PCI\": 120e3,  # kJ/kg\n",
    "    \"mean_R_air\": 288.3,  # (m^2 / (s^2*K))\n",
    "    \"Cp\": 1.11,  # (kJ / (kg*K))\n",
    "    \"T04\": 1600,  # (K)\n",
    "}\n",
    "\n",
    "config_andre = {\n",
    "    \"mach\": 0.0,\n",
    "    \"altitude\": 0.0,\n",
    "    \"t_a\": 288.15,\n",
    "    \"p_a\": 101.33,\n",
    "\n",
    "    # Eficiências e Gammas\n",
    "    \"eta_inlet\": 0.97,\n",
    "    \"gamma_inlet\": 1.4,\n",
    "    \"eta_fan\": 0.85,\n",
    "    \"gamma_fan\": 1.4,\n",
    "    \"eta_compressor\": 0.85,\n",
    "    \"gamma_compressor\": 1.37,\n",
    "    \"eta_camara\": 1,\n",
    "    \"gamma_camara\": 1.35,\n",
    "    \"eta_turbina_compressor\": 0.9,\n",
    "    \"gamma_turbina_compressor\": 1.33,\n",
    "    \"eta_turbina_fan\": 0.9,\n",
    "    \"gamma_turbina_fan\": 1.33,\n",
    "    \"eta_bocal_quente\": 0.98,\n",
    "    \"gamma_bocal_quente\": 1.36,\n",
    "    \"eta_bocal_fan\": 0.98,\n",
    "    \"gamma_bocal_fan\": 1.4,\n",
    "\n",
    "    # Dados operacionais\n",
    "    \"bpr\": 5.0,\n",
    "    \"prf\": 1.5,\n",
    "    \"prc\": 19.0867,\n",
    "    \"hydrogen_fraction\": 0.0,\n",
    "    \"pressure_loss_factor\": 1.0,\n",
    "    \"kerosene_PCI\": 45e3,  # kJ/kg\n",
    "    \"hydrogen_PCI\": 120e3,  # kJ/kg\n",
    "    \"mean_R_air\": 288.3,  # (m^2 / (s^2*K))\n",
    "    \"Cp\": 1.11,  # (kJ / (kg*K))\n",
    "    \"T04\": 1750,  # (K)\n",
    "}\n",
    "\n",
    "config_teste1 = {\n",
    "    \"mach\": 0.0,\n",
    "    \"t_a\": 288.15,\n",
    "    \"p_a\": 101.63,\n",
    "\n",
    "    # Eficiências e Gammas\n",
    "    \"eta_inlet\": 0.97,\n",
    "    \"gamma_inlet\": 1.4,\n",
    "    \"eta_fan\": 0.92,\n",
    "    \"gamma_fan\": 1.4,\n",
    "    \"eta_compressor\": 0.9,\n",
    "    \"gamma_compressor\": 1.37,\n",
    "    \"eta_camara\": 1,\n",
    "    \"gamma_camara\": 1.35,\n",
    "    \"eta_turbina_compressor\": 0.93,\n",
    "    \"gamma_turbina_compressor\": 1.33,\n",
    "    \"eta_turbina_fan\": 0.93,\n",
    "    \"gamma_turbina_fan\": 1.33,\n",
    "    \"eta_bocal_quente\": 0.98,\n",
    "    \"gamma_bocal_quente\": 1.36,\n",
    "    \"eta_bocal_fan\": 0.98,\n",
    "    \"gamma_bocal_fan\": 1.4,\n",
    "\n",
    "    # Dados operacionais\n",
    "    \"bpr\": 10.5,\n",
    "    \"prf\": 1.5,\n",
    "    \"prc\": 25.5,\n",
    "    \"hydrogen_fraction\": 0.0,\n",
    "    \"pressure_loss_factor\": 1.0,\n",
    "    \"kerosene_PCI\": 45e3,  # kJ/kg\n",
    "    \"hydrogen_PCI\": 120e3,  # kJ/kg\n",
    "    \"mean_R_air\": 288.3,  # (m^2 / (s^2*K))\n",
    "    \"Cp\": 1.11,  # (kJ / (kg*K))\n",
    "    \"T04\": 1750,  # (K)\n",
    "}\n",
    "\n",
    "config_ex23 = {\n",
    "    \"mach\": 0.0,\n",
    "    \"t_a\": 290.0,\n",
    "    \"p_a\": 101.63,\n",
    "    \"bpr\": 4.749,\n",
    "    \"prf\": 1.69,\n",
    "    \"prc\": 17.2,\n",
    "    \"pressure_loss_factor\": 0.95,\n",
    "    \"T04\": 1550,  # (K)\n",
    "\n",
    "    # Eficiências e Gammas\n",
    "    \"eta_inlet\": 0.97,\n",
    "    \"eta_fan\": 0.93,\n",
    "    \"eta_compressor\": 0.9,\n",
    "    \"eta_camara\": 0.9995,\n",
    "    \"eta_turbina_compressor\": 0.95,\n",
    "    \"eta_turbina_fan\": 0.932,\n",
    "    \"eta_bocal_quente\": 0.98,\n",
    "    \"eta_bocal_fan\": 0.98,\n",
    "    \"gamma_inlet\": 1.4,\n",
    "    \"gamma_fan\": 1.4,\n",
    "    \"gamma_compressor\": 1.37,\n",
    "    \"gamma_camara\": 1.35,\n",
    "    \"gamma_turbina_compressor\": 1.33,\n",
    "    \"gamma_turbina_fan\": 1.33,\n",
    "    \"gamma_bocal_quente\": 1.36,\n",
    "    \"gamma_bocal_fan\": 1.4,\n",
    "\n",
    "    # Dados operacionais\n",
    "    \"hydrogen_fraction\": 0.0,\n",
    "    \"kerosene_PCI\": 45e3,  # kJ/kg\n",
    "    \"hydrogen_PCI\": 120e3,  # kJ/kg\n",
    "    \"mean_R_air\": 288.3,  # (m^2 / (s^2*K))\n",
    "    \"Cp\": 1.11,  # (kJ / (kg*K))\n",
    "}\n",
    "\n",
    "config_teste2 = {\n",
    "    \"mach\": 0.0,\n",
    "    \"t_a\": 288.2,\n",
    "    \"p_a\": 101.63,\n",
    "\n",
    "    # Eficiências e Gammas\n",
    "    \"eta_inlet\": 0.97,\n",
    "    \"gamma_inlet\": 1.4,\n",
    "    \"eta_fan\": 1,\n",
    "    \"gamma_fan\": 1.4,\n",
    "    \"eta_compressor\": 1,\n",
    "    \"gamma_compressor\": 1.37,\n",
    "    \"eta_camara\": 1,\n",
    "    \"gamma_camara\": 1.35,\n",
    "    \"eta_turbina_compressor\": 1,\n",
    "    \"gamma_turbina_compressor\": 1.33,\n",
    "    \"eta_turbina_fan\": 1,\n",
    "    \"gamma_turbina_fan\": 1.33,\n",
    "    \"eta_bocal_quente\": 0.98,\n",
    "    \"gamma_bocal_quente\": 1.36,\n",
    "    \"eta_bocal_fan\": 0.98,\n",
    "    \"gamma_bocal_fan\": 1.4,\n",
    "\n",
    "    # Dados operacionais\n",
    "    \"bpr\": 5,\n",
    "    \"prf\": 1.5,\n",
    "    \"prc\": 10,\n",
    "    \"hydrogen_fraction\": 0.0,\n",
    "    \"pressure_loss_factor\": 1.0,\n",
    "    \"kerosene_PCI\": 45e3,  # kJ/kg\n",
    "    \"hydrogen_PCI\": 120e3,  # kJ/kg\n",
    "    \"mean_R_air\": 288.3,  # (m^2 / (s^2*K))\n",
    "    \"Cp\": 1.11,  # (kJ / (kg*K))\n",
    "    \"T04\": 1500,  # (K)\n",
    "}"
   ],
   "id": "2988f25fb091c5c5",
   "outputs": [],
   "execution_count": 15
  },
  {
   "metadata": {},
   "cell_type": "markdown",
   "source": "### Validação 1: Exemplo 2.2",
   "id": "90a17f4a6e1c6d3b"
  },
  {
   "metadata": {
    "ExecuteTime": {
     "end_time": "2025-09-13T20:47:45.806357Z",
     "start_time": "2025-09-13T20:47:45.801404Z"
    }
   },
   "cell_type": "code",
   "source": [
    "# turbofan = Turbofan(config_ex22)\n",
    "# turbofan.set_air_flow(533)\n",
    "# turbofan.print_outputs()"
   ],
   "id": "2dc678b7456b8eea",
   "outputs": [],
   "execution_count": 16
  },
  {
   "metadata": {},
   "cell_type": "markdown",
   "source": "### Teste 1 de PRP-38",
   "id": "743d75be05e84819"
  },
  {
   "metadata": {
    "ExecuteTime": {
     "end_time": "2025-09-13T20:47:46.230002Z",
     "start_time": "2025-09-13T20:47:46.215049Z"
    }
   },
   "cell_type": "code",
   "source": [
    "# turbofan = Turbofan(config_teste1)\n",
    "# turbofan.set_air_flow(533)\n",
    "# turbofan.print_outputs()"
   ],
   "id": "2d0fa9f33e4ccb33",
   "outputs": [],
   "execution_count": 17
  },
  {
   "metadata": {},
   "cell_type": "markdown",
   "source": "### TG: CFM56-7B27",
   "id": "5f381b547efaf96"
  },
  {
   "metadata": {
    "ExecuteTime": {
     "end_time": "2025-09-13T20:47:46.671423Z",
     "start_time": "2025-09-13T20:47:46.658792Z"
    }
   },
   "cell_type": "code",
   "source": [
    "# turbofan = Turbofan(config_andre)\n",
    "# turbofan.set_air_flow(100)\n",
    "# rated_thrust = 121.4  # kN\n",
    "# fuel_flow = 1.293  # kg/s\n",
    "# optimization_status = turbofan.calibrate_turbofan(rated_thrust, fuel_flow)\n",
    "# turbofan.print_config()\n",
    "# turbofan.plot_calibration_result(fuel_flow / rated_thrust, np.arange(1200,2000, 0.1))\n",
    "# optimization_status"
   ],
   "id": "ec4a46427e370e6d",
   "outputs": [],
   "execution_count": 18
  },
  {
   "metadata": {},
   "cell_type": "markdown",
   "source": "### Turbofan fora do ponto de projeto",
   "id": "fa771276a2625511"
  },
  {
   "metadata": {
    "ExecuteTime": {
     "end_time": "2025-08-30T21:29:28.455638Z",
     "start_time": "2025-08-30T21:29:28.453086Z"
    }
   },
   "cell_type": "markdown",
   "source": "Agora vamos validar como o meta-modelo atua fora do ponto de projeto, confrontando os dados da simulação com os dados reais do motor, obtidos via ICAO.",
   "id": "d199b9ad7f4d24fb"
  },
  {
   "metadata": {
    "ExecuteTime": {
     "end_time": "2025-09-13T20:57:49.013735Z",
     "start_time": "2025-09-13T20:57:49.007210Z"
    }
   },
   "cell_type": "code",
   "source": [
    "turbofan = Turbofan(config_ex23)\n",
    "turbofan.set_sea_level_air_flow(756)\n",
    "turbofan.save_design_point()\n",
    "turbofan.get_config()"
   ],
   "id": "74c018aeebb0e56e",
   "outputs": [
    {
     "data": {
      "text/plain": [
       "{'mach': 0.0,\n",
       " 'altitude': 0.0,\n",
       " 't_a': 290.0,\n",
       " 'p_a': 101.63,\n",
       " 'eta_inlet': 0.97,\n",
       " 'gamma_inlet': 1.4,\n",
       " 'eta_fan': 0.93,\n",
       " 'gamma_fan': 1.4,\n",
       " 'eta_compressor': 0.9,\n",
       " 'gamma_compressor': 1.37,\n",
       " 'eta_camara': 0.9995,\n",
       " 'gamma_camara': 1.35,\n",
       " 'eta_turbina_compressor': 0.95,\n",
       " 'gamma_turbina_compressor': 1.33,\n",
       " 'eta_turbina_fan': 0.932,\n",
       " 'gamma_turbina_fan': 1.33,\n",
       " 'eta_bocal_quente': 0.98,\n",
       " 'gamma_bocal_quente': 1.36,\n",
       " 'eta_bocal_fan': 0.98,\n",
       " 'gamma_bocal_fan': 1.4,\n",
       " 'bpr': 4.7,\n",
       " 'prf': 1.69,\n",
       " 'pr_bst': None,\n",
       " 'prc': 17.34,\n",
       " 'hydrogen_fraction': 0.0,\n",
       " 'pressure_loss_factor': 0.95,\n",
       " 'kerosene_PCI': 45000.0,\n",
       " 'hydrogen_PCI': 120000.0,\n",
       " 'mean_R_air': 288.3,\n",
       " 'Cp': 1.11,\n",
       " 'T04': 1550,\n",
       " 'air_flow': 753.6243143275351}"
      ]
     },
     "execution_count": 22,
     "metadata": {},
     "output_type": "execute_result"
    }
   ],
   "execution_count": 22
  },
  {
   "metadata": {
    "ExecuteTime": {
     "end_time": "2025-09-13T20:57:52.343480Z",
     "start_time": "2025-09-13T20:57:52.336448Z"
    }
   },
   "cell_type": "code",
   "source": [
    "N2_range = np.arange(0.5, 1.05, 0.1)\n",
    "thrust_values = []\n",
    "for N2 in N2_range:\n",
    "    turbofan.update_from_N2(N2=N2)\n",
    "    thrust_values.append(turbofan.get_thrust())"
   ],
   "id": "c6df0907c321c436",
   "outputs": [
    {
     "name": "stdout",
     "output_type": "stream",
     "text": [
      "Parâmetros atualizados para N2/N2_design = 0.5000\n",
      "Parâmetros atualizados para N2/N2_design = 0.6000\n",
      "Parâmetros atualizados para N2/N2_design = 0.7000\n",
      "Parâmetros atualizados para N2/N2_design = 0.8000\n",
      "Parâmetros atualizados para N2/N2_design = 0.9000\n",
      "Parâmetros atualizados para N2/N2_design = 1.0000\n"
     ]
    }
   ],
   "execution_count": 23
  },
  {
   "metadata": {
    "ExecuteTime": {
     "end_time": "2025-09-13T20:57:53.032619Z",
     "start_time": "2025-09-13T20:57:52.993329Z"
    }
   },
   "cell_type": "code",
   "source": [
    "px.line(\n",
    "    x=N2_range,\n",
    "    y=thrust_values,\n",
    "    labels={\"x\": \"N2\", \"y\": \"Tração (kN)\"},\n",
    "    title=\"Tração vs N2\",\n",
    "    range_x=[0.4, 1.0],\n",
    "    range_y=[0, 300],\n",
    "    width=800,\n",
    "    height=400,\n",
    ")"
   ],
   "id": "2be171c7971267e7",
   "outputs": [
    {
     "data": {
      "application/vnd.plotly.v1+json": {
       "data": [
        {
         "hovertemplate": "N2=%{x}<br>Tração (kN)=%{y}<extra></extra>",
         "legendgroup": "",
         "line": {
          "color": "#636efa",
          "dash": "solid"
         },
         "marker": {
          "symbol": "circle"
         },
         "mode": "lines",
         "name": "",
         "orientation": "v",
         "showlegend": false,
         "x": {
          "dtype": "f8",
          "bdata": "AAAAAAAA4D8zMzMzMzPjP2ZmZmZmZuY/mZmZmZmZ6T/MzMzMzMzsP////////+8/"
         },
         "xaxis": "x",
         "y": {
          "dtype": "f8",
          "bdata": "BUOmxsB8NUB7yXsyAARBQJ0aB7sbQVBAKBEIulq9W0Dd26G/IQtoQLPGDzRORHBA"
         },
         "yaxis": "y",
         "type": "scatter"
        }
       ],
       "layout": {
        "template": {
         "data": {
          "histogram2dcontour": [
           {
            "type": "histogram2dcontour",
            "colorbar": {
             "outlinewidth": 0,
             "ticks": ""
            },
            "colorscale": [
             [
              0.0,
              "#0d0887"
             ],
             [
              0.1111111111111111,
              "#46039f"
             ],
             [
              0.2222222222222222,
              "#7201a8"
             ],
             [
              0.3333333333333333,
              "#9c179e"
             ],
             [
              0.4444444444444444,
              "#bd3786"
             ],
             [
              0.5555555555555556,
              "#d8576b"
             ],
             [
              0.6666666666666666,
              "#ed7953"
             ],
             [
              0.7777777777777778,
              "#fb9f3a"
             ],
             [
              0.8888888888888888,
              "#fdca26"
             ],
             [
              1.0,
              "#f0f921"
             ]
            ]
           }
          ],
          "choropleth": [
           {
            "type": "choropleth",
            "colorbar": {
             "outlinewidth": 0,
             "ticks": ""
            }
           }
          ],
          "histogram2d": [
           {
            "type": "histogram2d",
            "colorbar": {
             "outlinewidth": 0,
             "ticks": ""
            },
            "colorscale": [
             [
              0.0,
              "#0d0887"
             ],
             [
              0.1111111111111111,
              "#46039f"
             ],
             [
              0.2222222222222222,
              "#7201a8"
             ],
             [
              0.3333333333333333,
              "#9c179e"
             ],
             [
              0.4444444444444444,
              "#bd3786"
             ],
             [
              0.5555555555555556,
              "#d8576b"
             ],
             [
              0.6666666666666666,
              "#ed7953"
             ],
             [
              0.7777777777777778,
              "#fb9f3a"
             ],
             [
              0.8888888888888888,
              "#fdca26"
             ],
             [
              1.0,
              "#f0f921"
             ]
            ]
           }
          ],
          "heatmap": [
           {
            "type": "heatmap",
            "colorbar": {
             "outlinewidth": 0,
             "ticks": ""
            },
            "colorscale": [
             [
              0.0,
              "#0d0887"
             ],
             [
              0.1111111111111111,
              "#46039f"
             ],
             [
              0.2222222222222222,
              "#7201a8"
             ],
             [
              0.3333333333333333,
              "#9c179e"
             ],
             [
              0.4444444444444444,
              "#bd3786"
             ],
             [
              0.5555555555555556,
              "#d8576b"
             ],
             [
              0.6666666666666666,
              "#ed7953"
             ],
             [
              0.7777777777777778,
              "#fb9f3a"
             ],
             [
              0.8888888888888888,
              "#fdca26"
             ],
             [
              1.0,
              "#f0f921"
             ]
            ]
           }
          ],
          "contourcarpet": [
           {
            "type": "contourcarpet",
            "colorbar": {
             "outlinewidth": 0,
             "ticks": ""
            }
           }
          ],
          "contour": [
           {
            "type": "contour",
            "colorbar": {
             "outlinewidth": 0,
             "ticks": ""
            },
            "colorscale": [
             [
              0.0,
              "#0d0887"
             ],
             [
              0.1111111111111111,
              "#46039f"
             ],
             [
              0.2222222222222222,
              "#7201a8"
             ],
             [
              0.3333333333333333,
              "#9c179e"
             ],
             [
              0.4444444444444444,
              "#bd3786"
             ],
             [
              0.5555555555555556,
              "#d8576b"
             ],
             [
              0.6666666666666666,
              "#ed7953"
             ],
             [
              0.7777777777777778,
              "#fb9f3a"
             ],
             [
              0.8888888888888888,
              "#fdca26"
             ],
             [
              1.0,
              "#f0f921"
             ]
            ]
           }
          ],
          "surface": [
           {
            "type": "surface",
            "colorbar": {
             "outlinewidth": 0,
             "ticks": ""
            },
            "colorscale": [
             [
              0.0,
              "#0d0887"
             ],
             [
              0.1111111111111111,
              "#46039f"
             ],
             [
              0.2222222222222222,
              "#7201a8"
             ],
             [
              0.3333333333333333,
              "#9c179e"
             ],
             [
              0.4444444444444444,
              "#bd3786"
             ],
             [
              0.5555555555555556,
              "#d8576b"
             ],
             [
              0.6666666666666666,
              "#ed7953"
             ],
             [
              0.7777777777777778,
              "#fb9f3a"
             ],
             [
              0.8888888888888888,
              "#fdca26"
             ],
             [
              1.0,
              "#f0f921"
             ]
            ]
           }
          ],
          "mesh3d": [
           {
            "type": "mesh3d",
            "colorbar": {
             "outlinewidth": 0,
             "ticks": ""
            }
           }
          ],
          "scatter": [
           {
            "marker": {
             "line": {
              "color": "#283442"
             }
            },
            "type": "scatter"
           }
          ],
          "parcoords": [
           {
            "type": "parcoords",
            "line": {
             "colorbar": {
              "outlinewidth": 0,
              "ticks": ""
             }
            }
           }
          ],
          "scatterpolargl": [
           {
            "type": "scatterpolargl",
            "marker": {
             "colorbar": {
              "outlinewidth": 0,
              "ticks": ""
             }
            }
           }
          ],
          "bar": [
           {
            "error_x": {
             "color": "#f2f5fa"
            },
            "error_y": {
             "color": "#f2f5fa"
            },
            "marker": {
             "line": {
              "color": "rgb(17,17,17)",
              "width": 0.5
             },
             "pattern": {
              "fillmode": "overlay",
              "size": 10,
              "solidity": 0.2
             }
            },
            "type": "bar"
           }
          ],
          "scattergeo": [
           {
            "type": "scattergeo",
            "marker": {
             "colorbar": {
              "outlinewidth": 0,
              "ticks": ""
             }
            }
           }
          ],
          "scatterpolar": [
           {
            "type": "scatterpolar",
            "marker": {
             "colorbar": {
              "outlinewidth": 0,
              "ticks": ""
             }
            }
           }
          ],
          "histogram": [
           {
            "marker": {
             "pattern": {
              "fillmode": "overlay",
              "size": 10,
              "solidity": 0.2
             }
            },
            "type": "histogram"
           }
          ],
          "scattergl": [
           {
            "marker": {
             "line": {
              "color": "#283442"
             }
            },
            "type": "scattergl"
           }
          ],
          "scatter3d": [
           {
            "type": "scatter3d",
            "line": {
             "colorbar": {
              "outlinewidth": 0,
              "ticks": ""
             }
            },
            "marker": {
             "colorbar": {
              "outlinewidth": 0,
              "ticks": ""
             }
            }
           }
          ],
          "scattermap": [
           {
            "type": "scattermap",
            "marker": {
             "colorbar": {
              "outlinewidth": 0,
              "ticks": ""
             }
            }
           }
          ],
          "scattermapbox": [
           {
            "type": "scattermapbox",
            "marker": {
             "colorbar": {
              "outlinewidth": 0,
              "ticks": ""
             }
            }
           }
          ],
          "scatterternary": [
           {
            "type": "scatterternary",
            "marker": {
             "colorbar": {
              "outlinewidth": 0,
              "ticks": ""
             }
            }
           }
          ],
          "scattercarpet": [
           {
            "type": "scattercarpet",
            "marker": {
             "colorbar": {
              "outlinewidth": 0,
              "ticks": ""
             }
            }
           }
          ],
          "carpet": [
           {
            "aaxis": {
             "endlinecolor": "#A2B1C6",
             "gridcolor": "#506784",
             "linecolor": "#506784",
             "minorgridcolor": "#506784",
             "startlinecolor": "#A2B1C6"
            },
            "baxis": {
             "endlinecolor": "#A2B1C6",
             "gridcolor": "#506784",
             "linecolor": "#506784",
             "minorgridcolor": "#506784",
             "startlinecolor": "#A2B1C6"
            },
            "type": "carpet"
           }
          ],
          "table": [
           {
            "cells": {
             "fill": {
              "color": "#506784"
             },
             "line": {
              "color": "rgb(17,17,17)"
             }
            },
            "header": {
             "fill": {
              "color": "#2a3f5f"
             },
             "line": {
              "color": "rgb(17,17,17)"
             }
            },
            "type": "table"
           }
          ],
          "barpolar": [
           {
            "marker": {
             "line": {
              "color": "rgb(17,17,17)",
              "width": 0.5
             },
             "pattern": {
              "fillmode": "overlay",
              "size": 10,
              "solidity": 0.2
             }
            },
            "type": "barpolar"
           }
          ],
          "pie": [
           {
            "automargin": true,
            "type": "pie"
           }
          ]
         },
         "layout": {
          "autotypenumbers": "strict",
          "colorway": [
           "#636efa",
           "#EF553B",
           "#00cc96",
           "#ab63fa",
           "#FFA15A",
           "#19d3f3",
           "#FF6692",
           "#B6E880",
           "#FF97FF",
           "#FECB52"
          ],
          "font": {
           "color": "#f2f5fa"
          },
          "hovermode": "closest",
          "hoverlabel": {
           "align": "left"
          },
          "paper_bgcolor": "rgb(17,17,17)",
          "plot_bgcolor": "rgb(17,17,17)",
          "polar": {
           "bgcolor": "rgb(17,17,17)",
           "angularaxis": {
            "gridcolor": "#506784",
            "linecolor": "#506784",
            "ticks": ""
           },
           "radialaxis": {
            "gridcolor": "#506784",
            "linecolor": "#506784",
            "ticks": ""
           }
          },
          "ternary": {
           "bgcolor": "rgb(17,17,17)",
           "aaxis": {
            "gridcolor": "#506784",
            "linecolor": "#506784",
            "ticks": ""
           },
           "baxis": {
            "gridcolor": "#506784",
            "linecolor": "#506784",
            "ticks": ""
           },
           "caxis": {
            "gridcolor": "#506784",
            "linecolor": "#506784",
            "ticks": ""
           }
          },
          "coloraxis": {
           "colorbar": {
            "outlinewidth": 0,
            "ticks": ""
           }
          },
          "colorscale": {
           "sequential": [
            [
             0.0,
             "#0d0887"
            ],
            [
             0.1111111111111111,
             "#46039f"
            ],
            [
             0.2222222222222222,
             "#7201a8"
            ],
            [
             0.3333333333333333,
             "#9c179e"
            ],
            [
             0.4444444444444444,
             "#bd3786"
            ],
            [
             0.5555555555555556,
             "#d8576b"
            ],
            [
             0.6666666666666666,
             "#ed7953"
            ],
            [
             0.7777777777777778,
             "#fb9f3a"
            ],
            [
             0.8888888888888888,
             "#fdca26"
            ],
            [
             1.0,
             "#f0f921"
            ]
           ],
           "sequentialminus": [
            [
             0.0,
             "#0d0887"
            ],
            [
             0.1111111111111111,
             "#46039f"
            ],
            [
             0.2222222222222222,
             "#7201a8"
            ],
            [
             0.3333333333333333,
             "#9c179e"
            ],
            [
             0.4444444444444444,
             "#bd3786"
            ],
            [
             0.5555555555555556,
             "#d8576b"
            ],
            [
             0.6666666666666666,
             "#ed7953"
            ],
            [
             0.7777777777777778,
             "#fb9f3a"
            ],
            [
             0.8888888888888888,
             "#fdca26"
            ],
            [
             1.0,
             "#f0f921"
            ]
           ],
           "diverging": [
            [
             0,
             "#8e0152"
            ],
            [
             0.1,
             "#c51b7d"
            ],
            [
             0.2,
             "#de77ae"
            ],
            [
             0.3,
             "#f1b6da"
            ],
            [
             0.4,
             "#fde0ef"
            ],
            [
             0.5,
             "#f7f7f7"
            ],
            [
             0.6,
             "#e6f5d0"
            ],
            [
             0.7,
             "#b8e186"
            ],
            [
             0.8,
             "#7fbc41"
            ],
            [
             0.9,
             "#4d9221"
            ],
            [
             1,
             "#276419"
            ]
           ]
          },
          "xaxis": {
           "gridcolor": "#283442",
           "linecolor": "#506784",
           "ticks": "",
           "title": {
            "standoff": 15
           },
           "zerolinecolor": "#283442",
           "automargin": true,
           "zerolinewidth": 2
          },
          "yaxis": {
           "gridcolor": "#283442",
           "linecolor": "#506784",
           "ticks": "",
           "title": {
            "standoff": 15
           },
           "zerolinecolor": "#283442",
           "automargin": true,
           "zerolinewidth": 2
          },
          "scene": {
           "xaxis": {
            "backgroundcolor": "rgb(17,17,17)",
            "gridcolor": "#506784",
            "linecolor": "#506784",
            "showbackground": true,
            "ticks": "",
            "zerolinecolor": "#C8D4E3",
            "gridwidth": 2
           },
           "yaxis": {
            "backgroundcolor": "rgb(17,17,17)",
            "gridcolor": "#506784",
            "linecolor": "#506784",
            "showbackground": true,
            "ticks": "",
            "zerolinecolor": "#C8D4E3",
            "gridwidth": 2
           },
           "zaxis": {
            "backgroundcolor": "rgb(17,17,17)",
            "gridcolor": "#506784",
            "linecolor": "#506784",
            "showbackground": true,
            "ticks": "",
            "zerolinecolor": "#C8D4E3",
            "gridwidth": 2
           }
          },
          "shapedefaults": {
           "line": {
            "color": "#f2f5fa"
           }
          },
          "annotationdefaults": {
           "arrowcolor": "#f2f5fa",
           "arrowhead": 0,
           "arrowwidth": 1
          },
          "geo": {
           "bgcolor": "rgb(17,17,17)",
           "landcolor": "rgb(17,17,17)",
           "subunitcolor": "#506784",
           "showland": true,
           "showlakes": true,
           "lakecolor": "rgb(17,17,17)"
          },
          "title": {
           "x": 0.05
          },
          "updatemenudefaults": {
           "bgcolor": "#506784",
           "borderwidth": 0
          },
          "sliderdefaults": {
           "bgcolor": "#C8D4E3",
           "borderwidth": 1,
           "bordercolor": "rgb(17,17,17)",
           "tickwidth": 0
          },
          "mapbox": {
           "style": "dark"
          }
         }
        },
        "xaxis": {
         "anchor": "y",
         "domain": [
          0.0,
          1.0
         ],
         "title": {
          "text": "N2"
         },
         "range": [
          0.4,
          1.0
         ]
        },
        "yaxis": {
         "anchor": "x",
         "domain": [
          0.0,
          1.0
         ],
         "title": {
          "text": "Tração (kN)"
         },
         "range": [
          0,
          300
         ]
        },
        "legend": {
         "tracegroupgap": 0
        },
        "title": {
         "text": "Tração vs N2"
        },
        "height": 400,
        "width": 800
       },
       "config": {
        "plotlyServerURL": "https://plot.ly"
       }
      }
     },
     "metadata": {},
     "output_type": "display_data"
    }
   ],
   "execution_count": 24
  }
 ],
 "metadata": {
  "kernelspec": {
   "display_name": "Python 3",
   "language": "python",
   "name": "python3"
  },
  "language_info": {
   "codemirror_mode": {
    "name": "ipython",
    "version": 3
   },
   "file_extension": ".py",
   "mimetype": "text/x-python",
   "name": "python",
   "nbconvert_exporter": "python",
   "pygments_lexer": "ipython3",
   "version": "3.11.3"
  }
 },
 "nbformat": 4,
 "nbformat_minor": 5
}
